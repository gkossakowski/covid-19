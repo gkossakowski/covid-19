{
 "cells": [
  {
   "cell_type": "markdown",
   "metadata": {},
   "source": [
    "# Estimating COVID-19's $R_t$ with Rainier (ported from PYMC)"
   ]
  },
  {
   "cell_type": "markdown",
   "metadata": {},
   "source": [
    "Grzegorz Kossakowski & Maciek Zdanowicz - May 5 (beta)\n",
    "\n",
    "Model originally built by [Kevin Systrom](https://twitter.com/kevin) in `Realtime Rt mcmc.ipynb` notebook, ported to [Rainier](https://rainier.fit) with lots of help from [Avi Bryant](https://twitter.com/avibryant). Model comparison for European countries is in `Realtime Rt plots only.ipynb`.\n",
    "\n",
    "This notebook requires [Almond](https://almond.sh) to run.\n",
    "\n",
    "It's a work in progress."
   ]
  },
  {
   "cell_type": "code",
   "execution_count": 1,
   "metadata": {
    "scrolled": true
   },
   "outputs": [
    {
     "data": {
      "text/plain": [
       "\u001b[32mimport \u001b[39m\u001b[36m$ivy.$                               \n",
       "\u001b[39m\n",
       "\u001b[32mimport \u001b[39m\u001b[36m$ivy.$                                   \u001b[39m"
      ]
     },
     "execution_count": 1,
     "metadata": {},
     "output_type": "execute_result"
    }
   ],
   "source": [
    "import $ivy.`com.stripe::rainier-core:0.3.3`\n",
    "import $ivy.`com.stripe::rainier-notebook:0.3.3`"
   ]
  },
  {
   "cell_type": "code",
   "execution_count": 2,
   "metadata": {},
   "outputs": [
    {
     "data": {
      "text/plain": [
       "\u001b[32mimport \u001b[39m\u001b[36mcom.stripe.rainier.compute._\n",
       "\u001b[39m\n",
       "\u001b[32mimport \u001b[39m\u001b[36mcom.stripe.rainier.core._\n",
       "\u001b[39m\n",
       "\u001b[32mimport \u001b[39m\u001b[36mcom.stripe.rainier.sampler._\n",
       "\u001b[39m\n",
       "\u001b[32mimport \u001b[39m\u001b[36mcom.stripe.rainier.notebook._\u001b[39m"
      ]
     },
     "execution_count": 2,
     "metadata": {},
     "output_type": "execute_result"
    }
   ],
   "source": [
    "import com.stripe.rainier.compute._\n",
    "import com.stripe.rainier.core._\n",
    "import com.stripe.rainier.sampler._\n",
    "import com.stripe.rainier.notebook._"
   ]
  },
  {
   "cell_type": "code",
   "execution_count": 3,
   "metadata": {},
   "outputs": [],
   "source": [
    "PPrint.register(repl)"
   ]
  },
  {
   "cell_type": "code",
   "execution_count": 4,
   "metadata": {
    "scrolled": true
   },
   "outputs": [
    {
     "data": {
      "text/plain": [
       "\u001b[32mimport \u001b[39m\u001b[36m$ivy.$                                      \n",
       "\u001b[39m\n",
       "\u001b[32mimport \u001b[39m\u001b[36mcom.github.tototoshi.csv._\n",
       "\u001b[39m\n",
       "\u001b[32mimport \u001b[39m\u001b[36mjava.io.File\u001b[39m"
      ]
     },
     "execution_count": 4,
     "metadata": {},
     "output_type": "execute_result"
    }
   ],
   "source": [
    "import $ivy.`com.github.tototoshi::scala-csv:1.3.6`\n",
    "import com.github.tototoshi.csv._\n",
    "import java.io.File"
   ]
  },
  {
   "cell_type": "code",
   "execution_count": 5,
   "metadata": {},
   "outputs": [
    {
     "data": {
      "text/plain": [
       "defined \u001b[32mfunction\u001b[39m \u001b[36mtime\u001b[39m"
      ]
     },
     "execution_count": 5,
     "metadata": {},
     "output_type": "execute_result"
    }
   ],
   "source": [
    "def time[R](block: => R): R = {\n",
    "    val t0 = System.nanoTime()\n",
    "    val result = block    // call-by-name\n",
    "    val t1 = System.nanoTime()\n",
    "    val timeMilis = ((t1 - t0) / 1e6).toInt\n",
    "    println(s\"Elapsed time: $timeMilis ms\")\n",
    "    result\n",
    "}"
   ]
  },
  {
   "cell_type": "code",
   "execution_count": 6,
   "metadata": {},
   "outputs": [
    {
     "data": {
      "text/plain": [
       "\u001b[36mcountriesOnsetData\u001b[39m: \u001b[32mList\u001b[39m[\u001b[32mMap\u001b[39m[\u001b[32mString\u001b[39m, \u001b[32mString\u001b[39m]] = \u001b[33mList\u001b[39m(\n",
       "  \u001b[33mMap\u001b[39m(\n",
       "    \u001b[32m\"country\"\u001b[39m -> \u001b[32m\"Austria\"\u001b[39m,\n",
       "    \u001b[32m\"date\"\u001b[39m -> \u001b[32m\"2020-02-16\"\u001b[39m,\n",
       "    \u001b[32m\"Onset\"\u001b[39m -> \u001b[32m\"1.1298377028714106\"\u001b[39m\n",
       "  ),\n",
       "  \u001b[33mMap\u001b[39m(\n",
       "    \u001b[32m\"country\"\u001b[39m -> \u001b[32m\"Austria\"\u001b[39m,\n",
       "    \u001b[32m\"date\"\u001b[39m -> \u001b[32m\"2020-02-17\"\u001b[39m,\n",
       "    \u001b[32m\"Onset\"\u001b[39m -> \u001b[32m\"1.5410736579275905\"\u001b[39m\n",
       "  ),\n",
       "  \u001b[33mMap\u001b[39m(\n",
       "    \u001b[32m\"country\"\u001b[39m -> \u001b[32m\"Austria\"\u001b[39m,\n",
       "    \u001b[32m\"date\"\u001b[39m -> \u001b[32m\"2020-02-18\"\u001b[39m,\n",
       "    \u001b[32m\"Onset\"\u001b[39m -> \u001b[32m\"1.911111111111111\"\u001b[39m\n",
       "  ),\n",
       "  \u001b[33mMap\u001b[39m(\n",
       "    \u001b[32m\"country\"\u001b[39m -> \u001b[32m\"Austria\"\u001b[39m,\n",
       "    \u001b[32m\"date\"\u001b[39m -> \u001b[32m\"2020-02-19\"\u001b[39m,\n",
       "    \u001b[32m\"Onset\"\u001b[39m -> \u001b[32m\"2.7540574282147317\"\u001b[39m\n",
       "  ),\n",
       "  \u001b[33mMap\u001b[39m(\n",
       "    \u001b[32m\"country\"\u001b[39m -> \u001b[32m\"Austria\"\u001b[39m,\n",
       "    \u001b[32m\"date\"\u001b[39m -> \u001b[32m\"2020-02-20\"\u001b[39m,\n",
       "    \u001b[32m\"Onset\"\u001b[39m -> \u001b[32m\"3.717103620474407\"\u001b[39m\n",
       "  ),\n",
       "  \u001b[33mMap\u001b[39m(\n",
       "    \u001b[32m\"country\"\u001b[39m -> \u001b[32m\"Austria\"\u001b[39m,\n",
       "    \u001b[32m\"date\"\u001b[39m -> \u001b[32m\"2020-02-21\"\u001b[39m,\n",
       "    \u001b[32m\"Onset\"\u001b[39m -> \u001b[32m\"4.886142322097378\"\u001b[39m\n",
       "  ),\n",
       "  \u001b[33mMap\u001b[39m(\n",
       "    \u001b[32m\"country\"\u001b[39m -> \u001b[32m\"Austria\"\u001b[39m,\n",
       "    \u001b[32m\"date\"\u001b[39m -> \u001b[32m\"2020-02-22\"\u001b[39m,\n",
       "    \u001b[32m\"Onset\"\u001b[39m -> \u001b[32m\"6.9827715355805235\"\u001b[39m\n",
       "  ),\n",
       "  \u001b[33mMap\u001b[39m(\n",
       "    \u001b[32m\"country\"\u001b[39m -> \u001b[32m\"Austria\"\u001b[39m,\n",
       "    \u001b[32m\"date\"\u001b[39m -> \u001b[32m\"2020-02-23\"\u001b[39m,\n",
       "..."
      ]
     },
     "execution_count": 6,
     "metadata": {},
     "output_type": "execute_result"
    }
   ],
   "source": [
    "val countriesOnsetData = {\n",
    "    val csvReader = CSVReader.open(new File(\"data/onset.csv\"))\n",
    "    val xs = csvReader.allWithHeaders()\n",
    "    csvReader.close()\n",
    "    xs\n",
    "}"
   ]
  },
  {
   "cell_type": "code",
   "execution_count": 7,
   "metadata": {},
   "outputs": [
    {
     "data": {
      "text/plain": [
       "\u001b[32mimport \u001b[39m\u001b[36mjava.time.LocalDate\n",
       "\u001b[39m\n",
       "\u001b[32mimport \u001b[39m\u001b[36mjava.time.chrono.ChronoLocalDate\n",
       "// so comparisons work like max()\n",
       "\u001b[39m\n",
       "\u001b[32mimport \u001b[39m\u001b[36mscala.math.Ordering.Implicits._\n",
       "\n",
       "\u001b[39m\n",
       "defined \u001b[32mfunction\u001b[39m \u001b[36mtoDate\u001b[39m\n",
       "\u001b[36mres6_4\u001b[39m: \u001b[32mLocalDate\u001b[39m = 2020-05-26"
      ]
     },
     "execution_count": 7,
     "metadata": {},
     "output_type": "execute_result"
    }
   ],
   "source": [
    "import java.time.LocalDate\n",
    "import java.time.chrono.ChronoLocalDate\n",
    "// so comparisons work like max()\n",
    "import scala.math.Ordering.Implicits._\n",
    "\n",
    "def toDate(s: String): LocalDate =\n",
    "    LocalDate.parse(s)\n",
    "\n",
    "// we need to specify type parameter ChronoLocalDate (a super type of LocalDate) because\n",
    "// that's what the comparison is defined for\n",
    "countriesOnsetData.map(entry => toDate(entry(\"date\"))).max[ChronoLocalDate]"
   ]
  },
  {
   "cell_type": "code",
   "execution_count": 8,
   "metadata": {
    "scrolled": true
   },
   "outputs": [
    {
     "data": {
      "text/plain": [
       "\u001b[36mpdelayData\u001b[39m: \u001b[32mList\u001b[39m[\u001b[32mMap\u001b[39m[\u001b[32mString\u001b[39m, \u001b[32mString\u001b[39m]] = \u001b[33mList\u001b[39m(\n",
       "  \u001b[33mMap\u001b[39m(\u001b[32m\"index\"\u001b[39m -> \u001b[32m\"0\"\u001b[39m, \u001b[32m\"pdelay\"\u001b[39m -> \u001b[32m\"0.007240948813982522\"\u001b[39m),\n",
       "  \u001b[33mMap\u001b[39m(\u001b[32m\"index\"\u001b[39m -> \u001b[32m\"1\"\u001b[39m, \u001b[32m\"pdelay\"\u001b[39m -> \u001b[32m\"0.04344569288389513\"\u001b[39m),\n",
       "  \u001b[33mMap\u001b[39m(\u001b[32m\"index\"\u001b[39m -> \u001b[32m\"2\"\u001b[39m, \u001b[32m\"pdelay\"\u001b[39m -> \u001b[32m\"0.0599250936329588\"\u001b[39m),\n",
       "  \u001b[33mMap\u001b[39m(\u001b[32m\"index\"\u001b[39m -> \u001b[32m\"3\"\u001b[39m, \u001b[32m\"pdelay\"\u001b[39m -> \u001b[32m\"0.07265917602996255\"\u001b[39m),\n",
       "  \u001b[33mMap\u001b[39m(\u001b[32m\"index\"\u001b[39m -> \u001b[32m\"4\"\u001b[39m, \u001b[32m\"pdelay\"\u001b[39m -> \u001b[32m\"0.07390761548064918\"\u001b[39m),\n",
       "  \u001b[33mMap\u001b[39m(\u001b[32m\"index\"\u001b[39m -> \u001b[32m\"5\"\u001b[39m, \u001b[32m\"pdelay\"\u001b[39m -> \u001b[32m\"0.08863920099875156\"\u001b[39m),\n",
       "  \u001b[33mMap\u001b[39m(\u001b[32m\"index\"\u001b[39m -> \u001b[32m\"6\"\u001b[39m, \u001b[32m\"pdelay\"\u001b[39m -> \u001b[32m\"0.0818976279650437\"\u001b[39m),\n",
       "  \u001b[33mMap\u001b[39m(\u001b[32m\"index\"\u001b[39m -> \u001b[32m\"7\"\u001b[39m, \u001b[32m\"pdelay\"\u001b[39m -> \u001b[32m\"0.07740324594257178\"\u001b[39m),\n",
       "  \u001b[33mMap\u001b[39m(\u001b[32m\"index\"\u001b[39m -> \u001b[32m\"8\"\u001b[39m, \u001b[32m\"pdelay\"\u001b[39m -> \u001b[32m\"0.07940074906367041\"\u001b[39m),\n",
       "  \u001b[33mMap\u001b[39m(\u001b[32m\"index\"\u001b[39m -> \u001b[32m\"9\"\u001b[39m, \u001b[32m\"pdelay\"\u001b[39m -> \u001b[32m\"0.08164794007490636\"\u001b[39m),\n",
       "  \u001b[33mMap\u001b[39m(\u001b[32m\"index\"\u001b[39m -> \u001b[32m\"10\"\u001b[39m, \u001b[32m\"pdelay\"\u001b[39m -> \u001b[32m\"0.06491885143570537\"\u001b[39m),\n",
       "  \u001b[33mMap\u001b[39m(\u001b[32m\"index\"\u001b[39m -> \u001b[32m\"11\"\u001b[39m, \u001b[32m\"pdelay\"\u001b[39m -> \u001b[32m\"0.05318352059925094\"\u001b[39m),\n",
       "  \u001b[33mMap\u001b[39m(\u001b[32m\"index\"\u001b[39m -> \u001b[32m\"12\"\u001b[39m, \u001b[32m\"pdelay\"\u001b[39m -> \u001b[32m\"0.046192259675405745\"\u001b[39m),\n",
       "  \u001b[33mMap\u001b[39m(\u001b[32m\"index\"\u001b[39m -> \u001b[32m\"13\"\u001b[39m, \u001b[32m\"pdelay\"\u001b[39m -> \u001b[32m\"0.039700374531835204\"\u001b[39m),\n",
       "  \u001b[33mMap\u001b[39m(\u001b[32m\"index\"\u001b[39m -> \u001b[32m\"14\"\u001b[39m, \u001b[32m\"pdelay\"\u001b[39m -> \u001b[32m\"0.02971285892634207\"\u001b[39m),\n",
       "  \u001b[33mMap\u001b[39m(\u001b[32m\"index\"\u001b[39m -> \u001b[32m\"15\"\u001b[39m, \u001b[32m\"pdelay\"\u001b[39m -> \u001b[32m\"0.027215980024968788\"\u001b[39m),\n",
       "  \u001b[33mMap\u001b[39m(\u001b[32m\"index\"\u001b[39m -> \u001b[32m\"16\"\u001b[39m, \u001b[32m\"pdelay\"\u001b[39m -> \u001b[32m\"0.01972534332084894\"\u001b[39m),\n",
       "  \u001b[33mMap\u001b[39m(\u001b[32m\"index\"\u001b[39m -> \u001b[32m\"17\"\u001b[39m, \u001b[32m\"pdelay\"\u001b[39m -> \u001b[32m\"0.02122347066167291\"\u001b[39m),\n",
       "  \u001b[33mMap\u001b[39m(\u001b[32m\"index\"\u001b[39m -> \u001b[32m\"18\"\u001b[39m, \u001b[32m\"pdelay\"\u001b[39m -> \u001b[32m\"0.01223470661672909\"\u001b[39m),\n",
       "  \u001b[33mMap\u001b[39m(\u001b[32m\"index\"\u001b[39m -> \u001b[32m\"19\"\u001b[39m, \u001b[32m\"pdelay\"\u001b[39m -> \u001b[32m\"0.009737827715355805\"\u001b[39m),\n",
       "  \u001b[33mMap\u001b[39m(\u001b[32m\"index\"\u001b[39m -> \u001b[32m\"20\"\u001b[39m, \u001b[32m\"pdelay\"\u001b[39m -> \u001b[32m\"0.009987515605493134\"\u001b[39m)\n",
       ")"
      ]
     },
     "execution_count": 8,
     "metadata": {},
     "output_type": "execute_result"
    }
   ],
   "source": [
    "val pdelayData = {\n",
    "    val csvReader = CSVReader.open(new File(\"data/pdelay.csv\"))\n",
    "    val xs = csvReader.allWithHeaders()\n",
    "    csvReader.close()\n",
    "    xs\n",
    "}"
   ]
  },
  {
   "cell_type": "code",
   "execution_count": 9,
   "metadata": {
    "scrolled": true
   },
   "outputs": [
    {
     "data": {
      "text/plain": [
       "\u001b[36mpdelay\u001b[39m: \u001b[32mList\u001b[39m[\u001b[32mDouble\u001b[39m] = \u001b[33mList\u001b[39m(\n",
       "  \u001b[32m0.007240948813982522\u001b[39m,\n",
       "  \u001b[32m0.04344569288389513\u001b[39m,\n",
       "  \u001b[32m0.0599250936329588\u001b[39m,\n",
       "  \u001b[32m0.07265917602996255\u001b[39m,\n",
       "  \u001b[32m0.07390761548064918\u001b[39m,\n",
       "  \u001b[32m0.08863920099875156\u001b[39m,\n",
       "  \u001b[32m0.0818976279650437\u001b[39m,\n",
       "  \u001b[32m0.07740324594257178\u001b[39m,\n",
       "  \u001b[32m0.07940074906367041\u001b[39m,\n",
       "  \u001b[32m0.08164794007490636\u001b[39m,\n",
       "  \u001b[32m0.06491885143570537\u001b[39m,\n",
       "  \u001b[32m0.05318352059925094\u001b[39m,\n",
       "  \u001b[32m0.046192259675405745\u001b[39m,\n",
       "  \u001b[32m0.039700374531835204\u001b[39m,\n",
       "  \u001b[32m0.02971285892634207\u001b[39m,\n",
       "  \u001b[32m0.027215980024968788\u001b[39m,\n",
       "  \u001b[32m0.01972534332084894\u001b[39m,\n",
       "  \u001b[32m0.02122347066167291\u001b[39m,\n",
       "  \u001b[32m0.01223470661672909\u001b[39m,\n",
       "  \u001b[32m0.009737827715355805\u001b[39m,\n",
       "  \u001b[32m0.009987515605493134\u001b[39m\n",
       ")"
      ]
     },
     "execution_count": 9,
     "metadata": {},
     "output_type": "execute_result"
    }
   ],
   "source": [
    "val pdelay = pdelayData.collect { case m => m(\"pdelay\").toDouble }"
   ]
  },
  {
   "cell_type": "code",
   "execution_count": 10,
   "metadata": {},
   "outputs": [
    {
     "data": {
      "text/plain": [
       "defined \u001b[32mfunction\u001b[39m \u001b[36mprepareDataForModel\u001b[39m"
      ]
     },
     "execution_count": 10,
     "metadata": {},
     "output_type": "execute_result"
    }
   ],
   "source": [
    "def prepareDataForModel(xs: List[Long], pd: List[Double]): List[(Long,Double)] = {\n",
    "    val cpd = pd.scanLeft(0.0)(_+_).tail\n",
    "    val cpdPadded = List.fill(xs.size - pd.size)(1.0) ++ cpd.reverse\n",
    "    // ensure that case numbers are always at least 1 so we avoid numerical issues involving 0\n",
    "    // adding 1 across all counts doesn't change inputs in any material way\n",
    "    // see the comment of `predictRt` method for the rationale\n",
    "    xs.zip(cpdPadded)\n",
    "}"
   ]
  },
  {
   "cell_type": "markdown",
   "metadata": {},
   "source": [
    "Preparation of the other model"
   ]
  },
  {
   "cell_type": "code",
   "execution_count": 11,
   "metadata": {},
   "outputs": [
    {
     "data": {
      "text/plain": [
       "\u001b[36msamplerConfig\u001b[39m: \u001b[32mDefaultConfig\u001b[39m{def massMatrixTuner(): com.stripe.rainier.sampler.IdentityMassMatrixTuner;def sampler(): com.stripe.rainier.sampler.HMCSampler} = ammonite.$sess.cmd10$Helper$$anon$1@65e11eec"
      ]
     },
     "execution_count": 11,
     "metadata": {},
     "output_type": "execute_result"
    }
   ],
   "source": [
    "val samplerConfig = new DefaultConfig {\n",
    "    override def massMatrixTuner() = new IdentityMassMatrixTuner\n",
    "    override def sampler() = new HMCSampler(100)\n",
    "    override val iterations = 1000\n",
    "}"
   ]
  },
  {
   "cell_type": "markdown",
   "metadata": {},
   "source": [
    "Define a function that we'll use to retry the call to Rainier's `predict` that fails occassionally. Fortunately, the failure can be easily detected and 1-2 retries solves the issue."
   ]
  },
  {
   "cell_type": "code",
   "execution_count": 12,
   "metadata": {},
   "outputs": [
    {
     "data": {
      "text/plain": [
       "defined \u001b[32mfunction\u001b[39m \u001b[36mretry\u001b[39m"
      ]
     },
     "execution_count": 12,
     "metadata": {},
     "output_type": "execute_result"
    }
   ],
   "source": [
    "def retry[T](maxAttempts: Int, isSuccessful: T => Boolean)(f: => T): T = {\n",
    "    var i = 0\n",
    "    \n",
    "    do {\n",
    "        val res = f\n",
    "        i = i + 1\n",
    "        if (isSuccessful(res))\n",
    "            return res\n",
    "        println(s\"WARN: Attempt[$i] failed. Retrying...\")\n",
    "    } while (i < maxAttempts)\n",
    "    sys.error(\"Exceeded maximum number of retries\")\n",
    "}"
   ]
  },
  {
   "cell_type": "markdown",
   "metadata": {},
   "source": [
    "Fixed the parameters for all distributions"
   ]
  },
  {
   "cell_type": "code",
   "execution_count": 13,
   "metadata": {},
   "outputs": [
    {
     "data": {
      "text/plain": [
       "defined \u001b[32mclass\u001b[39m \u001b[36mRtModelEstimates\u001b[39m"
      ]
     },
     "execution_count": 13,
     "metadata": {},
     "output_type": "execute_result"
    }
   ],
   "source": [
    "case class RtModelEstimates(rts: Vec[Real], \n",
    "                            rtsEstimates: List[Seq[Double]], \n",
    "                            serialInterval: Real, \n",
    "                            serialIntervalEstimates: Seq[Double])"
   ]
  },
  {
   "cell_type": "code",
   "execution_count": 14,
   "metadata": {},
   "outputs": [
    {
     "data": {
      "text/plain": [
       "defined \u001b[32mfunction\u001b[39m \u001b[36mpredictRtOnsetLogProcess\u001b[39m"
      ]
     },
     "execution_count": 14,
     "metadata": {},
     "output_type": "execute_result"
    }
   ],
   "source": [
    "def predictRtOnsetLogProcess(onsetNumbers: List[Long], pdelay: List[Double]): (Vec[Real], List[Seq[Double]]) = {\n",
    "    \n",
    "    val data = prepareDataForModel(onsetNumbers, pdelay)\n",
    "    \n",
    "    val (model, rts) =  {\n",
    "        val (onset, cum_pdelay) = data.unzip\n",
    "        val serialInterval = Gamma(46.0,10.0).latent\n",
    "        val logR0 = Normal(0, 1).latent\n",
    "        val sigma = Exponential(10).latent\n",
    "        val diffs = Laplace(0,sigma).latentVec(data.size)\n",
    "        val logRts = Vec.from(diffs.toList.scanLeft(logR0)(_ + _))\n",
    "        val inferredYesterday = data.take(data.size-1).map { case (o_t, cp_t) => \n",
    "            o_t/cp_t \n",
    "        }.zipWithIndex\n",
    "        val expectedToday = Vec.from(inferredYesterday.zip(cum_pdelay.drop(1))).map { case ((infYest, i), cpd) =>\n",
    "            val lambda = infYest*cpd*((logRts(i).exp - 1)/serialInterval).exp\n",
    "            Poisson(lambda)\n",
    "        }\n",
    "        (Model.observe(onset.drop(1), expectedToday), logRts.map(_.exp))\n",
    "    }\n",
    "    \n",
    "    def detectFailedRun(trace: Trace): Boolean =\n",
    "        // from: https://twitter.com/avibryant/status/1253049509128499201\n",
    "        trace.diagnostics.map(_.rHat).max < 1.1\n",
    "    \n",
    "    val trace = retry(maxAttempts = 3, isSuccessful = detectFailedRun) {\n",
    "        model.sample(samplerConfig, 4)\n",
    "    }\n",
    "    \n",
    "    rts -> trace.predict(rts)\n",
    "}"
   ]
  },
  {
   "cell_type": "code",
   "execution_count": 23,
   "metadata": {},
   "outputs": [
    {
     "data": {
      "text/plain": [
       "defined \u001b[32mfunction\u001b[39m \u001b[36mpredictRt\u001b[39m"
      ]
     },
     "execution_count": 23,
     "metadata": {},
     "output_type": "execute_result"
    }
   ],
   "source": [
    "// direct (and faithful) translation of Systrom's MCMC model from\n",
    "// Realtime Rt mcmc.ipynb up to different handling of this line\n",
    "// mu = pm.math.maximum(.1, expected_today)\n",
    "// my is the lambda of Poisson distribution that must be > 0.\n",
    "// Kevin's solution is to take max(0.1, expected_today) to ensure\n",
    "// that lambda > 0. However, `expected_today` is dependent only on input data and is not\n",
    "// part of the model so we can ensure it's > 0 by fixing up the input data of the model.\n",
    "// this is done in `prepareDataForModel`\n",
    "def predictRt(onsetNumbers: List[Long], pdelay: List[Double], failedRunDetection: Boolean = true): RtModelEstimates = {\n",
    "    \n",
    "    val data = prepareDataForModel(onsetNumbers, pdelay)\n",
    "    \n",
    "    val (model, rts, serialInterval) = {\n",
    "        val (onset, cum_pdelay) = data.unzip\n",
    "        val serialInterval = Gamma(46.0,1/10.0).latent\n",
    "        val sigma = Normal(0,0.03).latent.abs\n",
    "        val Theta0 = Normal(0.1,0.1).latent\n",
    "        val diffs = Laplace(0,sigma).latentVec(data.size) // Maybe normal would be better\n",
    "        val ThetaT = Vec.from(diffs.toList.scanLeft(Theta0)(_ + _))\n",
    "        val Rts = ThetaT.map(_*serialInterval + 1)\n",
    "        val inferredYesterday = data.take(data.size-1).map { case (o_t, cp_t) => \n",
    "            o_t/cp_t \n",
    "        }.zipWithIndex\n",
    "        val expectedToday = Vec.from(inferredYesterday.zip(cum_pdelay.drop(1))).map { case ((infYest, i), cpd) =>\n",
    "            val lambda = Real(0.1).max(infYest * cpd * (ThetaT(i).exp))\n",
    "            Poisson(lambda)\n",
    "        }\n",
    "        \n",
    "        val obsModel = Model.observe(onset.drop(1), expectedToday)\n",
    "        val trackSerialInterval = Model.track(Set(serialInterval))\n",
    "        (obsModel.merge(trackSerialInterval), Rts, serialInterval)\n",
    "    }\n",
    "    \n",
    "    def detectFailedRun(trace: Trace): Boolean =\n",
    "        // from: https://twitter.com/avibryant/status/1253049509128499201\n",
    "        !failedRunDetection || trace.diagnostics.map(_.rHat).max < 1.1\n",
    "    \n",
    "    val trace = retry(maxAttempts = 3, isSuccessful = detectFailedRun) {\n",
    "        model.sample(samplerConfig, 2)\n",
    "    }\n",
    "\n",
    "    RtModelEstimates(rts = rts, \n",
    "                 rtsEstimates = trace.predict(rts),\n",
    "                 serialInterval = serialInterval,\n",
    "                 serialIntervalEstimates = trace.predict(serialInterval))\n",
    "}"
   ]
  },
  {
   "cell_type": "code",
   "execution_count": 24,
   "metadata": {},
   "outputs": [
    {
     "data": {
      "text/plain": [
       "defined \u001b[32mfunction\u001b[39m \u001b[36mmedian\u001b[39m"
      ]
     },
     "execution_count": 24,
     "metadata": {},
     "output_type": "execute_result"
    }
   ],
   "source": [
    "def median[N](seq: Seq[N])(implicit num: Numeric[N]): Double = {\n",
    "    val l = (seq.map { n =>\n",
    "      num.toDouble(n)\n",
    "    }).sorted\n",
    "    val n = l.size\n",
    "    if(n % 2 == 1)\n",
    "        l(n/2)\n",
    "    else\n",
    "        (l(n/2) + l(n/2-1))/2\n",
    "}"
   ]
  },
  {
   "cell_type": "code",
   "execution_count": 25,
   "metadata": {},
   "outputs": [
    {
     "data": {
      "text/plain": [
       "defined \u001b[32mclass\u001b[39m \u001b[36mRtsDistributionStats\u001b[39m\n",
       "defined \u001b[32mfunction\u001b[39m \u001b[36mdistributionStats\u001b[39m"
      ]
     },
     "execution_count": 25,
     "metadata": {},
     "output_type": "execute_result"
    }
   ],
   "source": [
    "case class RtsDistributionStats(means: Seq[(Int, Double)], \n",
    "                                medians: Seq[(Int, Double)],\n",
    "                                hdpis_90: Seq[(Int, (Double, Double))], \n",
    "                                hdpis_50: Seq[(Int, (Double, Double))])\n",
    "def distributionStats(rts: Vec[Real], rtForecasts: List[Seq[Double]]): RtsDistributionStats = {\n",
    "    val means = 0.until(rts.size).map{i => (i,mean(rtForecasts.map(_(i))))}\n",
    "    val medians = 0.until(rts.size).map{i => (i,median(rtForecasts.map(_(i))))}\n",
    "    val hdpis_90 = 0.until(rts.size).map{i => (i,hdpi(rtForecasts.map(_(i)),0.9))}\n",
    "    val hdpis_50 = 0.until(rts.size).map{i => (i,hdpi(rtForecasts.map(_(i)),0.5))}\n",
    "    RtsDistributionStats(means, medians, hdpis_90, hdpis_50)\n",
    "}"
   ]
  },
  {
   "cell_type": "code",
   "execution_count": 26,
   "metadata": {
    "scrolled": true
   },
   "outputs": [
    {
     "data": {
      "text/html": [
       "<b>Chain 1 Complete</b>: <div>Iteration: 1000 (41ms)</div> <div>Acceptance rate: 1.00</div> <div>E-BFMI: 0.00</div> <div>Step size: 0.0002</div> <div>Total gradient evaluations: 2e+05 (156us)</div> <div>Total time:  0: 1:39</div>"
      ]
     },
     "metadata": {},
     "output_type": "display_data"
    },
    {
     "data": {
      "text/html": [
       "<b>Chain 2 Complete</b>: <div>Iteration: 1000 (32ms)</div> <div>Acceptance rate: 0.88</div> <div>E-BFMI: 0.86</div> <div>Step size: 0.003</div> <div>Total gradient evaluations: 2e+05 (282us)</div> <div>Total time:  0: 1: 7</div>"
      ]
     },
     "metadata": {},
     "output_type": "display_data"
    },
    {
     "name": "stdout",
     "output_type": "stream",
     "text": [
      "Elapsed time: 170898 ms\n"
     ]
    },
    {
     "data": {
      "image/png": "[encoded data removed]"
     },
     "metadata": {
      "height": "1600",
      "width": "1636"
     },
     "output_type": "display_data"
    }
   ],
   "source": [
    "{{\n",
    "    val countryName = \"Italy\"\n",
    "    val onsetNumbers = countriesOnsetData.collect {\n",
    "        case m if m(\"country\") == countryName => m(\"Onset\").toDouble.round\n",
    "    }\n",
    "    val RtModelEstimates(rts,estimates,_, _) = time { \n",
    "        val res = predictRt(onsetNumbers, pdelay, failedRunDetection = false)\n",
    "        res\n",
    "    }\n",
    "    val RtsDistributionStats(means, medians, hdpis_90, hdpis_50) = distributionStats(rts, estimates)\n",
    "    show(\"t\", \"Rt\", line(means), shade(hdpis_50))\n",
    "    show(\"t\", \"Rt\", line(means), shade(hdpis_90))\n",
    "}}"
   ]
  },
  {
   "cell_type": "code",
   "execution_count": 55,
   "metadata": {
    "scrolled": true
   },
   "outputs": [
    {
     "data": {
      "text/plain": [
       "\u001b[36mcountriesToPredict\u001b[39m: \u001b[32mSeq\u001b[39m[\u001b[32mString\u001b[39m] = \u001b[33mList\u001b[39m(\u001b[32m\"Poland\"\u001b[39m, \u001b[32m\"France\"\u001b[39m, \u001b[32m\"Italy\"\u001b[39m)"
      ]
     },
     "execution_count": 55,
     "metadata": {},
     "output_type": "execute_result"
    }
   ],
   "source": [
    "// val countriesToPredict = Seq(\"Poland\", \"France\", \"Italy\") // Smaller set\n",
    "val countriesToPredict = countriesOnsetData.map(_(\"country\")).toSet  // Full set"
   ]
  },
  {
   "cell_type": "code",
   "execution_count": 56,
   "metadata": {},
   "outputs": [
    {
     "data": {
      "text/html": [
       "<b>Chain 1 Complete</b>: <div>Iteration: 1000 (38ms)</div> <div>Acceptance rate: 0.87</div> <div>E-BFMI: 0.67</div> <div>Step size: 0.02</div> <div>Total gradient evaluations: 2e+05 (144us)</div> <div>Total time:  0: 1:32</div>"
      ]
     },
     "metadata": {},
     "output_type": "display_data"
    },
    {
     "data": {
      "text/html": [
       "<b>Chain 1 Complete</b>: <div>Iteration: 1000 (68ms)</div> <div>Acceptance rate: 0.65</div> <div>E-BFMI: 1.16</div> <div>Step size: 0.005</div> <div>Total gradient evaluations: 2e+05 (204us)</div> <div>Total time:  0: 3:14</div>"
      ]
     },
     "metadata": {},
     "output_type": "display_data"
    },
    {
     "data": {
      "text/html": [
       "<b>Chain 1 Complete</b>: <div>Iteration: 1000 (77ms)</div> <div>Acceptance rate: 0.85</div> <div>E-BFMI: 0.74</div> <div>Step size: 0.003</div> <div>Total gradient evaluations: 2e+05 (246us)</div> <div>Total time:  0: 3: 9</div>"
      ]
     },
     "metadata": {},
     "output_type": "display_data"
    },
    {
     "data": {
      "text/html": [
       "<b>Chain 2 Complete</b>: <div>Iteration: 1000 (34ms)</div> <div>Acceptance rate: 0.80</div> <div>E-BFMI: 0.63</div> <div>Step size: 0.02</div> <div>Total gradient evaluations: 2e+05 (97us)</div> <div>Total time:  0: 1:23</div>"
      ]
     },
     "metadata": {},
     "output_type": "display_data"
    },
    {
     "name": "stdout",
     "output_type": "stream",
     "text": [
      "Poland [done]\n"
     ]
    },
    {
     "data": {
      "text/html": [
       "<b>Chain 2 Complete</b>: <div>Iteration: 1000 (56ms)</div> <div>Acceptance rate: 0.92</div> <div>E-BFMI: 0.69</div> <div>Step size: 0.002</div> <div>Total gradient evaluations: 2e+05 (273us)</div> <div>Total time:  0: 2:11</div>"
      ]
     },
     "metadata": {},
     "output_type": "display_data"
    },
    {
     "data": {
      "text/html": [
       "<b>Chain 2 Complete</b>: <div>Iteration: 1000 (50ms)</div> <div>Acceptance rate: 0.64</div> <div>E-BFMI: 0.59</div> <div>Step size: 0.005</div> <div>Total gradient evaluations: 2e+05 (189us)</div> <div>Total time:  0: 2:18</div>"
      ]
     },
     "metadata": {},
     "output_type": "display_data"
    },
    {
     "name": "stdout",
     "output_type": "stream",
     "text": [
      "Italy [done]\n",
      "France [done]\n",
      "Elapsed time: 337145 ms\n"
     ]
    },
    {
     "data": {
      "text/plain": [
       "\u001b[32mimport \u001b[39m\u001b[36mscala.util.Try\n",
       "\n",
       "\u001b[39m\n",
       "\u001b[36mcountryStats\u001b[39m: \u001b[32mMap\u001b[39m[\u001b[32mString\u001b[39m, \u001b[32mEither\u001b[39m[\u001b[32mThrowable\u001b[39m, \u001b[32mRtsDistributionStats\u001b[39m]] = \u001b[33mMap\u001b[39m(\n",
       "  \u001b[32m\"Poland\"\u001b[39m -> \u001b[33mRight\u001b[39m(\n",
       "    \u001b[33mRtsDistributionStats\u001b[39m(\n",
       "      \u001b[33mVector\u001b[39m(\n",
       "        (\u001b[32m0\u001b[39m, \u001b[32m1.5501172479492897\u001b[39m),\n",
       "        (\u001b[32m1\u001b[39m, \u001b[32m1.5505903101317273\u001b[39m),\n",
       "        (\u001b[32m2\u001b[39m, \u001b[32m1.5499107367081817\u001b[39m),\n",
       "        (\u001b[32m3\u001b[39m, \u001b[32m1.552692717071186\u001b[39m),\n",
       "        (\u001b[32m4\u001b[39m, \u001b[32m1.5527868928427473\u001b[39m),\n",
       "        (\u001b[32m5\u001b[39m, \u001b[32m1.554560088801271\u001b[39m),\n",
       "        (\u001b[32m6\u001b[39m, \u001b[32m1.556669446549508\u001b[39m),\n",
       "        (\u001b[32m7\u001b[39m, \u001b[32m1.553879765594077\u001b[39m),\n",
       "        (\u001b[32m8\u001b[39m, \u001b[32m1.55445174769711\u001b[39m),\n",
       "        (\u001b[32m9\u001b[39m, \u001b[32m1.553071093981328\u001b[39m),\n",
       "        (\u001b[32m10\u001b[39m, \u001b[32m1.55065677639002\u001b[39m),\n",
       "        (\u001b[32m11\u001b[39m, \u001b[32m1.5483254183904418\u001b[39m),\n",
       "        (\u001b[32m12\u001b[39m, \u001b[32m1.5394193311839037\u001b[39m),\n",
       "        (\u001b[32m13\u001b[39m, \u001b[32m1.5324612180227113\u001b[39m),\n",
       "        (\u001b[32m14\u001b[39m, \u001b[32m1.5206384287950296\u001b[39m),\n",
       "        (\u001b[32m15\u001b[39m, \u001b[32m1.509866155709684\u001b[39m),\n",
       "        (\u001b[32m16\u001b[39m, \u001b[32m1.4968851627065856\u001b[39m),\n",
       "        (\u001b[32m17\u001b[39m, \u001b[32m1.4838233407050565\u001b[39m),\n",
       "        (\u001b[32m18\u001b[39m, \u001b[32m1.4676428498629022\u001b[39m),\n",
       "        (\u001b[32m19\u001b[39m, \u001b[32m1.4526962855031953\u001b[39m),\n",
       "        (\u001b[32m20\u001b[39m, \u001b[32m1.4379631612551782\u001b[39m),\n",
       "        (\u001b[32m21\u001b[39m, \u001b[32m1.4219357624987201\u001b[39m),\n",
       "        (\u001b[32m22\u001b[39m, \u001b[32m1.4004112488450495\u001b[39m),\n",
       "        (\u001b[32m23\u001b[39m, \u001b[32m1.3845625578199687\u001b[39m),\n",
       "        (\u001b[32m24\u001b[39m, \u001b[32m1.366089269957873\u001b[39m),\n",
       "        (\u001b[32m25\u001b[39m, \u001b[32m1.3416310484783895\u001b[39m),\n",
       "        (\u001b[32m26\u001b[39m, \u001b[32m1.3252514395063375\u001b[39m),\n",
       "        (\u001b[32m27\u001b[39m, \u001b[32m1.3106169218397963\u001b[39m),\n",
       "        (\u001b[32m28\u001b[39m, \u001b[32m1.2872580809845777\u001b[39m),\n",
       "        (\u001b[32m29\u001b[39m, \u001b[32m1.266601545789668\u001b[39m),\n",
       "        (\u001b[32m30\u001b[39m, \u001b[32m1.2368793807196155\u001b[39m),\n",
       "        (\u001b[32m31\u001b[39m, \u001b[32m1.2156691031393538\u001b[39m),\n",
       "        (\u001b[32m32\u001b[39m, \u001b[32m1.1922650071467396\u001b[39m),\n",
       "        (\u001b[32m33\u001b[39m, \u001b[32m1.1705289946271284\u001b[39m),\n",
       "        (\u001b[32m34\u001b[39m, \u001b[32m1.1482441799864664\u001b[39m),\n",
       "..."
      ]
     },
     "execution_count": 56,
     "metadata": {},
     "output_type": "execute_result"
    }
   ],
   "source": [
    "import scala.util.Try\n",
    "\n",
    "val countryStats: Map[String, Either[Throwable, RtsDistributionStats]] = {\n",
    "    assert(countriesToPredict.toSet.subsetOf(countriesOnsetData.map(_(\"country\")).toSet))\n",
    "    val allStats = time {\n",
    "        countriesToPredict.par.map { countryName =>\n",
    "            val caseNumbers = countriesOnsetData.collect {\n",
    "                case m if m(\"country\") == countryName => m(\"Onset\").toDouble.round\n",
    "            }\n",
    "            val possiblyFailed: Try[RtsDistributionStats] = Try { \n",
    "               val RtModelEstimates(rts,estimates, serialInterval, serialEstimates) = predictRt(caseNumbers, pdelay, failedRunDetection = false)\n",
    "               val stats@RtsDistributionStats(means, medians, hdpis_90, hdpis_50) = distributionStats(rts, estimates)\n",
    "               println(s\"$countryName [done]\")\n",
    "               stats\n",
    "            }\n",
    "            countryName -> possiblyFailed.toEither\n",
    "        }.seq\n",
    "    }\n",
    "    allStats.toMap\n",
    "}"
   ]
  },
  {
   "cell_type": "code",
   "execution_count": 57,
   "metadata": {
    "scrolled": true
   },
   "outputs": [
    {
     "data": {
      "text/plain": [
       "\u001b[36mfailedToConverge\u001b[39m: \u001b[32mcollection\u001b[39m.\u001b[32mimmutable\u001b[39m.\u001b[32mIterable\u001b[39m[\u001b[32mString\u001b[39m] = \u001b[33mList\u001b[39m()"
      ]
     },
     "execution_count": 57,
     "metadata": {},
     "output_type": "execute_result"
    }
   ],
   "source": [
    "val failedToConverge = countryStats collect {\n",
    "    case (countryName, res) if res.isLeft => countryName\n",
    "}"
   ]
  },
  {
   "cell_type": "code",
   "execution_count": 58,
   "metadata": {},
   "outputs": [
    {
     "data": {
      "text/plain": [
       "\u001b[36mcountriesTriedOneMoreTime\u001b[39m: \u001b[32mSeq\u001b[39m[(\u001b[32mString\u001b[39m, \u001b[32mRtsDistributionStats\u001b[39m)] = \u001b[33mList\u001b[39m()"
      ]
     },
     "execution_count": 58,
     "metadata": {},
     "output_type": "execute_result"
    }
   ],
   "source": [
    "// co\n",
    "val countriesTriedOneMoreTime = failedToConverge.toSeq map { countryName =>\n",
    "    println(countryName)\n",
    "    val onsetNumbers = countriesOnsetData.collect {\n",
    "        case m if m(\"country\") == countryName => m(\"Onset\").toDouble.round\n",
    "    }\n",
    "    val RtModelEstimates(rts,estimates, serialInterval, serialEstimates) = time { \n",
    "        val res = predictRt(onsetNumbers, pdelay, failedRunDetection = false)\n",
    "        res\n",
    "    }\n",
    "    countryName -> distributionStats(rts, estimates)\n",
    "}"
   ]
  },
  {
   "cell_type": "code",
   "execution_count": 60,
   "metadata": {},
   "outputs": [
    {
     "data": {
      "text/plain": [
       "\u001b[36mfinalCountryStats\u001b[39m: \u001b[32mMap\u001b[39m[\u001b[32mString\u001b[39m, \u001b[32mRtsDistributionStats\u001b[39m] = \u001b[33mMap\u001b[39m(\n",
       "  \u001b[32m\"Poland\"\u001b[39m -> \u001b[33mRtsDistributionStats\u001b[39m(\n",
       "    \u001b[33mVector\u001b[39m(\n",
       "      (\u001b[32m0\u001b[39m, \u001b[32m1.5501172479492897\u001b[39m),\n",
       "      (\u001b[32m1\u001b[39m, \u001b[32m1.5505903101317273\u001b[39m),\n",
       "      (\u001b[32m2\u001b[39m, \u001b[32m1.5499107367081817\u001b[39m),\n",
       "      (\u001b[32m3\u001b[39m, \u001b[32m1.552692717071186\u001b[39m),\n",
       "      (\u001b[32m4\u001b[39m, \u001b[32m1.5527868928427473\u001b[39m),\n",
       "      (\u001b[32m5\u001b[39m, \u001b[32m1.554560088801271\u001b[39m),\n",
       "      (\u001b[32m6\u001b[39m, \u001b[32m1.556669446549508\u001b[39m),\n",
       "      (\u001b[32m7\u001b[39m, \u001b[32m1.553879765594077\u001b[39m),\n",
       "      (\u001b[32m8\u001b[39m, \u001b[32m1.55445174769711\u001b[39m),\n",
       "      (\u001b[32m9\u001b[39m, \u001b[32m1.553071093981328\u001b[39m),\n",
       "      (\u001b[32m10\u001b[39m, \u001b[32m1.55065677639002\u001b[39m),\n",
       "      (\u001b[32m11\u001b[39m, \u001b[32m1.5483254183904418\u001b[39m),\n",
       "      (\u001b[32m12\u001b[39m, \u001b[32m1.5394193311839037\u001b[39m),\n",
       "      (\u001b[32m13\u001b[39m, \u001b[32m1.5324612180227113\u001b[39m),\n",
       "      (\u001b[32m14\u001b[39m, \u001b[32m1.5206384287950296\u001b[39m),\n",
       "      (\u001b[32m15\u001b[39m, \u001b[32m1.509866155709684\u001b[39m),\n",
       "      (\u001b[32m16\u001b[39m, \u001b[32m1.4968851627065856\u001b[39m),\n",
       "      (\u001b[32m17\u001b[39m, \u001b[32m1.4838233407050565\u001b[39m),\n",
       "      (\u001b[32m18\u001b[39m, \u001b[32m1.4676428498629022\u001b[39m),\n",
       "      (\u001b[32m19\u001b[39m, \u001b[32m1.4526962855031953\u001b[39m),\n",
       "      (\u001b[32m20\u001b[39m, \u001b[32m1.4379631612551782\u001b[39m),\n",
       "      (\u001b[32m21\u001b[39m, \u001b[32m1.4219357624987201\u001b[39m),\n",
       "      (\u001b[32m22\u001b[39m, \u001b[32m1.4004112488450495\u001b[39m),\n",
       "      (\u001b[32m23\u001b[39m, \u001b[32m1.3845625578199687\u001b[39m),\n",
       "      (\u001b[32m24\u001b[39m, \u001b[32m1.366089269957873\u001b[39m),\n",
       "      (\u001b[32m25\u001b[39m, \u001b[32m1.3416310484783895\u001b[39m),\n",
       "      (\u001b[32m26\u001b[39m, \u001b[32m1.3252514395063375\u001b[39m),\n",
       "      (\u001b[32m27\u001b[39m, \u001b[32m1.3106169218397963\u001b[39m),\n",
       "      (\u001b[32m28\u001b[39m, \u001b[32m1.2872580809845777\u001b[39m),\n",
       "      (\u001b[32m29\u001b[39m, \u001b[32m1.266601545789668\u001b[39m),\n",
       "      (\u001b[32m30\u001b[39m, \u001b[32m1.2368793807196155\u001b[39m),\n",
       "      (\u001b[32m31\u001b[39m, \u001b[32m1.2156691031393538\u001b[39m),\n",
       "      (\u001b[32m32\u001b[39m, \u001b[32m1.1922650071467396\u001b[39m),\n",
       "      (\u001b[32m33\u001b[39m, \u001b[32m1.1705289946271284\u001b[39m),\n",
       "      (\u001b[32m34\u001b[39m, \u001b[32m1.1482441799864664\u001b[39m),\n",
       "      (\u001b[32m35\u001b[39m, \u001b[32m1.1209817677038116\u001b[39m),\n",
       "..."
      ]
     },
     "execution_count": 60,
     "metadata": {},
     "output_type": "execute_result"
    }
   ],
   "source": [
    "val finalCountryStats = (countryStats collect {\n",
    "    case (countryName, Right(stats)) => countryName -> stats\n",
    "})// ++ countriesTriedOneMoreTime"
   ]
  },
  {
   "cell_type": "code",
   "execution_count": 61,
   "metadata": {},
   "outputs": [
    {
     "data": {
      "text/plain": [
       "\u001b[36mcountryStats\u001b[39m: \u001b[32mMap\u001b[39m[\u001b[32mString\u001b[39m, \u001b[32mRtsDistributionStats\u001b[39m] = \u001b[33mMap\u001b[39m(\n",
       "  \u001b[32m\"Poland\"\u001b[39m -> \u001b[33mRtsDistributionStats\u001b[39m(\n",
       "    \u001b[33mVector\u001b[39m(\n",
       "      (\u001b[32m0\u001b[39m, \u001b[32m1.5501172479492897\u001b[39m),\n",
       "      (\u001b[32m1\u001b[39m, \u001b[32m1.5505903101317273\u001b[39m),\n",
       "      (\u001b[32m2\u001b[39m, \u001b[32m1.5499107367081817\u001b[39m),\n",
       "      (\u001b[32m3\u001b[39m, \u001b[32m1.552692717071186\u001b[39m),\n",
       "      (\u001b[32m4\u001b[39m, \u001b[32m1.5527868928427473\u001b[39m),\n",
       "      (\u001b[32m5\u001b[39m, \u001b[32m1.554560088801271\u001b[39m),\n",
       "      (\u001b[32m6\u001b[39m, \u001b[32m1.556669446549508\u001b[39m),\n",
       "      (\u001b[32m7\u001b[39m, \u001b[32m1.553879765594077\u001b[39m),\n",
       "      (\u001b[32m8\u001b[39m, \u001b[32m1.55445174769711\u001b[39m),\n",
       "      (\u001b[32m9\u001b[39m, \u001b[32m1.553071093981328\u001b[39m),\n",
       "      (\u001b[32m10\u001b[39m, \u001b[32m1.55065677639002\u001b[39m),\n",
       "      (\u001b[32m11\u001b[39m, \u001b[32m1.5483254183904418\u001b[39m),\n",
       "      (\u001b[32m12\u001b[39m, \u001b[32m1.5394193311839037\u001b[39m),\n",
       "      (\u001b[32m13\u001b[39m, \u001b[32m1.5324612180227113\u001b[39m),\n",
       "      (\u001b[32m14\u001b[39m, \u001b[32m1.5206384287950296\u001b[39m),\n",
       "      (\u001b[32m15\u001b[39m, \u001b[32m1.509866155709684\u001b[39m),\n",
       "      (\u001b[32m16\u001b[39m, \u001b[32m1.4968851627065856\u001b[39m),\n",
       "      (\u001b[32m17\u001b[39m, \u001b[32m1.4838233407050565\u001b[39m),\n",
       "      (\u001b[32m18\u001b[39m, \u001b[32m1.4676428498629022\u001b[39m),\n",
       "      (\u001b[32m19\u001b[39m, \u001b[32m1.4526962855031953\u001b[39m),\n",
       "      (\u001b[32m20\u001b[39m, \u001b[32m1.4379631612551782\u001b[39m),\n",
       "      (\u001b[32m21\u001b[39m, \u001b[32m1.4219357624987201\u001b[39m),\n",
       "      (\u001b[32m22\u001b[39m, \u001b[32m1.4004112488450495\u001b[39m),\n",
       "      (\u001b[32m23\u001b[39m, \u001b[32m1.3845625578199687\u001b[39m),\n",
       "      (\u001b[32m24\u001b[39m, \u001b[32m1.366089269957873\u001b[39m),\n",
       "      (\u001b[32m25\u001b[39m, \u001b[32m1.3416310484783895\u001b[39m),\n",
       "      (\u001b[32m26\u001b[39m, \u001b[32m1.3252514395063375\u001b[39m),\n",
       "      (\u001b[32m27\u001b[39m, \u001b[32m1.3106169218397963\u001b[39m),\n",
       "      (\u001b[32m28\u001b[39m, \u001b[32m1.2872580809845777\u001b[39m),\n",
       "      (\u001b[32m29\u001b[39m, \u001b[32m1.266601545789668\u001b[39m),\n",
       "      (\u001b[32m30\u001b[39m, \u001b[32m1.2368793807196155\u001b[39m),\n",
       "      (\u001b[32m31\u001b[39m, \u001b[32m1.2156691031393538\u001b[39m),\n",
       "      (\u001b[32m32\u001b[39m, \u001b[32m1.1922650071467396\u001b[39m),\n",
       "      (\u001b[32m33\u001b[39m, \u001b[32m1.1705289946271284\u001b[39m),\n",
       "      (\u001b[32m34\u001b[39m, \u001b[32m1.1482441799864664\u001b[39m),\n",
       "      (\u001b[32m35\u001b[39m, \u001b[32m1.1209817677038116\u001b[39m),\n",
       "..."
      ]
     },
     "execution_count": 61,
     "metadata": {},
     "output_type": "execute_result"
    }
   ],
   "source": [
    "// override the previous variable so the rest of the notebook works fine\n",
    "val countryStats = finalCountryStats"
   ]
  },
  {
   "cell_type": "code",
   "execution_count": 64,
   "metadata": {
    "scrolled": false
   },
   "outputs": [
    {
     "data": {
      "image/png": "[encoded data removed]"
     },
     "metadata": {
      "height": "1600",
      "width": "1636"
     },
     "output_type": "display_data"
    }
   ],
   "source": [
    "{{\n",
    "    val RtsDistributionStats(means, medians, hdpis_90, hdpis_50) = countryStats(\"Poland\")\n",
    "    show(\"t\", \"Rt\", line(medians), shade(hdpis_50))\n",
    "}}"
   ]
  },
  {
   "cell_type": "code",
   "execution_count": 65,
   "metadata": {},
   "outputs": [
    {
     "data": {
      "text/plain": [
       "defined \u001b[32mfunction\u001b[39m \u001b[36mdatesForCountry\u001b[39m"
      ]
     },
     "execution_count": 65,
     "metadata": {},
     "output_type": "execute_result"
    }
   ],
   "source": [
    "def datesForCountry(country: String) = {\n",
    "    countriesOnsetData.collect {\n",
    "        case m if m(\"country\") == country => m(\"date\")\n",
    "    }\n",
    "}"
   ]
  },
  {
   "cell_type": "code",
   "execution_count": 66,
   "metadata": {},
   "outputs": [
    {
     "data": {
      "text/plain": [
       "defined \u001b[32mfunction\u001b[39m \u001b[36mwriteStatsToCsv\u001b[39m"
      ]
     },
     "execution_count": 66,
     "metadata": {},
     "output_type": "execute_result"
    }
   ],
   "source": [
    "def writeStatsToCsv(country: String, stats: RtsDistributionStats, csvWriter: CSVWriter): Unit = {\n",
    "    val means_medians = stats.means.unzip._2 zip stats.medians.unzip._2\n",
    "    val hdpis = stats.hdpis_90.unzip._2 zip stats.hdpis_50.unzip._2\n",
    "    val xs = means_medians zip hdpis\n",
    "    val dates = datesForCountry(country)\n",
    "//     assert(xs.size == dates.size, s\"${xs.size} != ${dates.size}\")\n",
    "    (xs zip dates) foreach {\n",
    "        case (((mean, median),((low90,high90),(low50,high50))), date) => \n",
    "            csvWriter.writeRow(country :: date :: mean.toString :: median.toString :: low90.toString :: high90.toString \n",
    "                               :: low50.toString :: high50.toString :: Nil)\n",
    "    }\n",
    "}"
   ]
  },
  {
   "cell_type": "code",
   "execution_count": 50,
   "metadata": {
    "scrolled": true
   },
   "outputs": [
    {
     "data": {
      "text/plain": [
       "\u001b[36mcsvWriter\u001b[39m: \u001b[32mCSVWriter\u001b[39m = com.github.tototoshi.csv.CSVWriter@24e00a21"
      ]
     },
     "execution_count": 50,
     "metadata": {},
     "output_type": "execute_result"
    }
   ],
   "source": [
    "val csvWriter = CSVWriter.open(new File(\"data/rt-rainier.csv\"))"
   ]
  },
  {
   "cell_type": "code",
   "execution_count": 51,
   "metadata": {},
   "outputs": [],
   "source": [
    "csvWriter.writeRow(List(\"region\", \"date\", \"mean\", \"median\", \"lower_90\", \"upper_90\", \"lower_50\", \"upper_50\"))"
   ]
  },
  {
   "cell_type": "code",
   "execution_count": 52,
   "metadata": {},
   "outputs": [],
   "source": [
    "countryStats.toList.sortBy(_._1).foreach {\n",
    "    case (country, stats) => writeStatsToCsv(country, stats, csvWriter)\n",
    "}"
   ]
  },
  {
   "cell_type": "code",
   "execution_count": 53,
   "metadata": {},
   "outputs": [],
   "source": [
    "csvWriter.close()"
   ]
  }
 ],
 "metadata": {
  "kernelspec": {
   "display_name": "Rainier (Scala 2.12)",
   "language": "scala",
   "name": "rainier"
  },
  "language_info": {
   "codemirror_mode": "text/x-scala",
   "file_extension": ".scala",
   "mimetype": "text/x-scala",
   "name": "scala",
   "nbconvert_exporter": "script",
   "version": "2.12.10"
  }
 },
 "nbformat": 4,
 "nbformat_minor": 2
}

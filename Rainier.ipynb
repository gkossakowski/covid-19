{
 "cells": [
  {
   "cell_type": "markdown",
   "metadata": {},
   "source": [
    "# Estimating COVID-19's $R_t$ with Rainier (ported from PYMC)"
   ]
  },
  {
   "cell_type": "markdown",
   "metadata": {},
   "source": [
    "Grzegorz Kossakowski & Maciek Zdanowicz - May 5 (beta)\n",
    "\n",
    "Model originally built by [Kevin Systrom](https://twitter.com/kevin) in `Realtime Rt mcmc.ipynb` notebook, ported to [Rainier](https://rainier.fit) with lots of help from [Avi Bryant](https://twitter.com/avibryant). Model comparison for European countries is in `Realtime Rt plots only.ipynb`.\n",
    "\n",
    "This notebook requires [Almond](https://almond.sh) to run.\n",
    "\n",
    "It's a work in progress."
   ]
  },
  {
   "cell_type": "code",
   "execution_count": 1,
   "metadata": {
    "scrolled": true
   },
   "outputs": [
    {
     "data": {
      "text/plain": [
       "\u001b[32mimport \u001b[39m\u001b[36m$ivy.$                               \n",
       "\u001b[39m\n",
       "\u001b[32mimport \u001b[39m\u001b[36m$ivy.$                                   \u001b[39m"
      ]
     },
     "execution_count": 1,
     "metadata": {},
     "output_type": "execute_result"
    }
   ],
   "source": [
    "import $ivy.`com.stripe::rainier-core:0.3.3`\n",
    "import $ivy.`com.stripe::rainier-notebook:0.3.3`"
   ]
  },
  {
   "cell_type": "code",
   "execution_count": 2,
   "metadata": {},
   "outputs": [
    {
     "data": {
      "text/plain": [
       "\u001b[32mimport \u001b[39m\u001b[36mcom.stripe.rainier.compute._\n",
       "\u001b[39m\n",
       "\u001b[32mimport \u001b[39m\u001b[36mcom.stripe.rainier.core._\n",
       "\u001b[39m\n",
       "\u001b[32mimport \u001b[39m\u001b[36mcom.stripe.rainier.sampler._\n",
       "\u001b[39m\n",
       "\u001b[32mimport \u001b[39m\u001b[36mcom.stripe.rainier.notebook._\u001b[39m"
      ]
     },
     "execution_count": 2,
     "metadata": {},
     "output_type": "execute_result"
    }
   ],
   "source": [
    "import com.stripe.rainier.compute._\n",
    "import com.stripe.rainier.core._\n",
    "import com.stripe.rainier.sampler._\n",
    "import com.stripe.rainier.notebook._"
   ]
  },
  {
   "cell_type": "code",
   "execution_count": 3,
   "metadata": {},
   "outputs": [],
   "source": [
    "PPrint.register(repl)"
   ]
  },
  {
   "cell_type": "code",
   "execution_count": 4,
   "metadata": {
    "scrolled": true
   },
   "outputs": [
    {
     "data": {
      "text/plain": [
       "\u001b[32mimport \u001b[39m\u001b[36m$ivy.$                                      \n",
       "\u001b[39m\n",
       "\u001b[32mimport \u001b[39m\u001b[36mcom.github.tototoshi.csv._\n",
       "\u001b[39m\n",
       "\u001b[32mimport \u001b[39m\u001b[36mjava.io.File\u001b[39m"
      ]
     },
     "execution_count": 4,
     "metadata": {},
     "output_type": "execute_result"
    }
   ],
   "source": [
    "import $ivy.`com.github.tototoshi::scala-csv:1.3.6`\n",
    "import com.github.tototoshi.csv._\n",
    "import java.io.File"
   ]
  },
  {
   "cell_type": "code",
   "execution_count": 5,
   "metadata": {},
   "outputs": [
    {
     "data": {
      "text/plain": [
       "defined \u001b[32mfunction\u001b[39m \u001b[36mtime\u001b[39m"
      ]
     },
     "execution_count": 5,
     "metadata": {},
     "output_type": "execute_result"
    }
   ],
   "source": [
    "def time[R](block: => R): R = {\n",
    "    val t0 = System.nanoTime()\n",
    "    val result = block    // call-by-name\n",
    "    val t1 = System.nanoTime()\n",
    "    val timeMilis = ((t1 - t0) / 1e6).toInt\n",
    "    println(s\"Elapsed time: $timeMilis ms\")\n",
    "    result\n",
    "}"
   ]
  },
  {
   "cell_type": "code",
   "execution_count": 6,
   "metadata": {},
   "outputs": [
    {
     "data": {
      "text/plain": [
       "\u001b[36mcountriesOnsetData\u001b[39m: \u001b[32mList\u001b[39m[\u001b[32mMap\u001b[39m[\u001b[32mString\u001b[39m, \u001b[32mString\u001b[39m]] = \u001b[33mList\u001b[39m(\n",
       "  \u001b[33mMap\u001b[39m(\n",
       "    \u001b[32m\"country\"\u001b[39m -> \u001b[32m\"Austria\"\u001b[39m,\n",
       "    \u001b[32m\"date\"\u001b[39m -> \u001b[32m\"2020-02-15\"\u001b[39m,\n",
       "    \u001b[32m\"Onset\"\u001b[39m -> \u001b[32m\"5.621968962172648\"\u001b[39m\n",
       "  ),\n",
       "  \u001b[33mMap\u001b[39m(\n",
       "    \u001b[32m\"country\"\u001b[39m -> \u001b[32m\"Austria\"\u001b[39m,\n",
       "    \u001b[32m\"date\"\u001b[39m -> \u001b[32m\"2020-02-16\"\u001b[39m,\n",
       "    \u001b[32m\"Onset\"\u001b[39m -> \u001b[32m\"6.259456838021339\"\u001b[39m\n",
       "  ),\n",
       "  \u001b[33mMap\u001b[39m(\n",
       "    \u001b[32m\"country\"\u001b[39m -> \u001b[32m\"Austria\"\u001b[39m,\n",
       "    \u001b[32m\"date\"\u001b[39m -> \u001b[32m\"2020-02-17\"\u001b[39m,\n",
       "    \u001b[32m\"Onset\"\u001b[39m -> \u001b[32m\"7.192531522793405\"\u001b[39m\n",
       "  ),\n",
       "  \u001b[33mMap\u001b[39m(\n",
       "    \u001b[32m\"country\"\u001b[39m -> \u001b[32m\"Austria\"\u001b[39m,\n",
       "    \u001b[32m\"date\"\u001b[39m -> \u001b[32m\"2020-02-18\"\u001b[39m,\n",
       "    \u001b[32m\"Onset\"\u001b[39m -> \u001b[32m\"8.328806983511154\"\u001b[39m\n",
       "  ),\n",
       "  \u001b[33mMap\u001b[39m(\n",
       "    \u001b[32m\"country\"\u001b[39m -> \u001b[32m\"Austria\"\u001b[39m,\n",
       "    \u001b[32m\"date\"\u001b[39m -> \u001b[32m\"2020-02-19\"\u001b[39m,\n",
       "    \u001b[32m\"Onset\"\u001b[39m -> \u001b[32m\"10.227934044616877\"\u001b[39m\n",
       "  ),\n",
       "  \u001b[33mMap\u001b[39m(\n",
       "    \u001b[32m\"country\"\u001b[39m -> \u001b[32m\"Austria\"\u001b[39m,\n",
       "    \u001b[32m\"date\"\u001b[39m -> \u001b[32m\"2020-02-20\"\u001b[39m,\n",
       "    \u001b[32m\"Onset\"\u001b[39m -> \u001b[32m\"11.687681862269642\"\u001b[39m\n",
       "  ),\n",
       "  \u001b[33mMap\u001b[39m(\n",
       "    \u001b[32m\"country\"\u001b[39m -> \u001b[32m\"Austria\"\u001b[39m,\n",
       "    \u001b[32m\"date\"\u001b[39m -> \u001b[32m\"2020-02-21\"\u001b[39m,\n",
       "    \u001b[32m\"Onset\"\u001b[39m -> \u001b[32m\"13.417070805043647\"\u001b[39m\n",
       "  ),\n",
       "  \u001b[33mMap\u001b[39m(\n",
       "    \u001b[32m\"country\"\u001b[39m -> \u001b[32m\"Austria\"\u001b[39m,\n",
       "    \u001b[32m\"date\"\u001b[39m -> \u001b[32m\"2020-02-22\"\u001b[39m,\n",
       "..."
      ]
     },
     "execution_count": 6,
     "metadata": {},
     "output_type": "execute_result"
    }
   ],
   "source": [
    "val countriesOnsetData = {\n",
    "    val csvReader = CSVReader.open(new File(\"data/onset.csv\"))\n",
    "    val xs = csvReader.allWithHeaders()\n",
    "    csvReader.close()\n",
    "    xs\n",
    "}"
   ]
  },
  {
   "cell_type": "code",
   "execution_count": 7,
   "metadata": {},
   "outputs": [
    {
     "data": {
      "text/plain": [
       "\u001b[32mimport \u001b[39m\u001b[36mjava.time.LocalDate\n",
       "\u001b[39m\n",
       "\u001b[32mimport \u001b[39m\u001b[36mjava.time.chrono.ChronoLocalDate\n",
       "// so comparisons work like max()\n",
       "\u001b[39m\n",
       "\u001b[32mimport \u001b[39m\u001b[36mscala.math.Ordering.Implicits._\n",
       "\n",
       "\u001b[39m\n",
       "defined \u001b[32mfunction\u001b[39m \u001b[36mtoDate\u001b[39m\n",
       "\u001b[36mres6_4\u001b[39m: \u001b[32mLocalDate\u001b[39m = 2020-05-24"
      ]
     },
     "execution_count": 7,
     "metadata": {},
     "output_type": "execute_result"
    }
   ],
   "source": [
    "import java.time.LocalDate\n",
    "import java.time.chrono.ChronoLocalDate\n",
    "// so comparisons work like max()\n",
    "import scala.math.Ordering.Implicits._\n",
    "\n",
    "def toDate(s: String): LocalDate =\n",
    "    LocalDate.parse(s)\n",
    "\n",
    "// we need to specify type parameter ChronoLocalDate (a super type of LocalDate) because\n",
    "// that's what the comparison is defined for\n",
    "countriesOnsetData.map(entry => toDate(entry(\"date\"))).max[ChronoLocalDate]"
   ]
  },
  {
   "cell_type": "code",
   "execution_count": 8,
   "metadata": {
    "scrolled": true
   },
   "outputs": [
    {
     "data": {
      "text/plain": [
       "\u001b[36mpdelayData\u001b[39m: \u001b[32mList\u001b[39m[\u001b[32mMap\u001b[39m[\u001b[32mString\u001b[39m, \u001b[32mString\u001b[39m]] = \u001b[33mList\u001b[39m(\n",
       "  \u001b[33mMap\u001b[39m(\u001b[32m\"index\"\u001b[39m -> \u001b[32m\"0\"\u001b[39m, \u001b[32m\"pdelay\"\u001b[39m -> \u001b[32m\"0.006547041707080504\"\u001b[39m),\n",
       "  \u001b[33mMap\u001b[39m(\u001b[32m\"index\"\u001b[39m -> \u001b[32m\"1\"\u001b[39m, \u001b[32m\"pdelay\"\u001b[39m -> \u001b[32m\"0.04194956353055286\"\u001b[39m),\n",
       "  \u001b[33mMap\u001b[39m(\u001b[32m\"index\"\u001b[39m -> \u001b[32m\"2\"\u001b[39m, \u001b[32m\"pdelay\"\u001b[39m -> \u001b[32m\"0.05771096023278371\"\u001b[39m),\n",
       "  \u001b[33mMap\u001b[39m(\u001b[32m\"index\"\u001b[39m -> \u001b[32m\"3\"\u001b[39m, \u001b[32m\"pdelay\"\u001b[39m -> \u001b[32m\"0.06983511154219205\"\u001b[39m),\n",
       "  \u001b[33mMap\u001b[39m(\u001b[32m\"index\"\u001b[39m -> \u001b[32m\"4\"\u001b[39m, \u001b[32m\"pdelay\"\u001b[39m -> \u001b[32m\"0.07153249272550921\"\u001b[39m),\n",
       "  \u001b[33mMap\u001b[39m(\u001b[32m\"index\"\u001b[39m -> \u001b[32m\"5\"\u001b[39m, \u001b[32m\"pdelay\"\u001b[39m -> \u001b[32m\"0.08583899127061105\"\u001b[39m),\n",
       "  \u001b[33mMap\u001b[39m(\u001b[32m\"index\"\u001b[39m -> \u001b[32m\"6\"\u001b[39m, \u001b[32m\"pdelay\"\u001b[39m -> \u001b[32m\"0.07953443258971872\"\u001b[39m),\n",
       "  \u001b[33mMap\u001b[39m(\u001b[32m\"index\"\u001b[39m -> \u001b[32m\"7\"\u001b[39m, \u001b[32m\"pdelay\"\u001b[39m -> \u001b[32m\"0.07516973811833172\"\u001b[39m),\n",
       "  \u001b[33mMap\u001b[39m(\u001b[32m\"index\"\u001b[39m -> \u001b[32m\"8\"\u001b[39m, \u001b[32m\"pdelay\"\u001b[39m -> \u001b[32m\"0.07710960232783705\"\u001b[39m),\n",
       "  \u001b[33mMap\u001b[39m(\u001b[32m\"index\"\u001b[39m -> \u001b[32m\"9\"\u001b[39m, \u001b[32m\"pdelay\"\u001b[39m -> \u001b[32m\"0.07904946653734239\"\u001b[39m),\n",
       "  \u001b[33mMap\u001b[39m(\u001b[32m\"index\"\u001b[39m -> \u001b[32m\"10\"\u001b[39m, \u001b[32m\"pdelay\"\u001b[39m -> \u001b[32m\"0.06304558680892337\"\u001b[39m),\n",
       "  \u001b[33mMap\u001b[39m(\u001b[32m\"index\"\u001b[39m -> \u001b[32m\"11\"\u001b[39m, \u001b[32m\"pdelay\"\u001b[39m -> \u001b[32m\"0.0511639185257032\"\u001b[39m),\n",
       "  \u001b[33mMap\u001b[39m(\u001b[32m\"index\"\u001b[39m -> \u001b[32m\"12\"\u001b[39m, \u001b[32m\"pdelay\"\u001b[39m -> \u001b[32m\"0.04485935984481086\"\u001b[39m),\n",
       "  \u001b[33mMap\u001b[39m(\u001b[32m\"index\"\u001b[39m -> \u001b[32m\"13\"\u001b[39m, \u001b[32m\"pdelay\"\u001b[39m -> \u001b[32m\"0.038554801163918524\"\u001b[39m),\n",
       "  \u001b[33mMap\u001b[39m(\u001b[32m\"index\"\u001b[39m -> \u001b[32m\"14\"\u001b[39m, \u001b[32m\"pdelay\"\u001b[39m -> \u001b[32m\"0.028855480116391854\"\u001b[39m),\n",
       "  \u001b[33mMap\u001b[39m(\u001b[32m\"index\"\u001b[39m -> \u001b[32m\"15\"\u001b[39m, \u001b[32m\"pdelay\"\u001b[39m -> \u001b[32m\"0.026430649854510185\"\u001b[39m),\n",
       "  \u001b[33mMap\u001b[39m(\u001b[32m\"index\"\u001b[39m -> \u001b[32m\"16\"\u001b[39m, \u001b[32m\"pdelay\"\u001b[39m -> \u001b[32m\"0.01915615906886518\"\u001b[39m),\n",
       "  \u001b[33mMap\u001b[39m(\u001b[32m\"index\"\u001b[39m -> \u001b[32m\"17\"\u001b[39m, \u001b[32m\"pdelay\"\u001b[39m -> \u001b[32m\"0.02061105722599418\"\u001b[39m),\n",
       "  \u001b[33mMap\u001b[39m(\u001b[32m\"index\"\u001b[39m -> \u001b[32m\"18\"\u001b[39m, \u001b[32m\"pdelay\"\u001b[39m -> \u001b[32m\"0.011881668283220174\"\u001b[39m),\n",
       "  \u001b[33mMap\u001b[39m(\u001b[32m\"index\"\u001b[39m -> \u001b[32m\"19\"\u001b[39m, \u001b[32m\"pdelay\"\u001b[39m -> \u001b[32m\"0.009456838021338506\"\u001b[39m),\n",
       "  \u001b[33mMap\u001b[39m(\u001b[32m\"index\"\u001b[39m -> \u001b[32m\"20\"\u001b[39m, \u001b[32m\"pdelay\"\u001b[39m -> \u001b[32m\"0.009699321047526674\"\u001b[39m),\n",
       "  \u001b[33mMap\u001b[39m(\u001b[32m\"index\"\u001b[39m -> \u001b[32m\"21\"\u001b[39m, \u001b[32m\"pdelay\"\u001b[39m -> \u001b[32m\"0.006547041707080504\"\u001b[39m),\n",
       "  \u001b[33mMap\u001b[39m(\u001b[32m\"index\"\u001b[39m -> \u001b[32m\"22\"\u001b[39m, \u001b[32m\"pdelay\"\u001b[39m -> \u001b[32m\"0.004122211445198836\"\u001b[39m),\n",
       "  \u001b[33mMap\u001b[39m(\u001b[32m\"index\"\u001b[39m -> \u001b[32m\"23\"\u001b[39m, \u001b[32m\"pdelay\"\u001b[39m -> \u001b[32m\"0.0036372453928225023\"\u001b[39m),\n",
       "  \u001b[33mMap\u001b[39m(\u001b[32m\"index\"\u001b[39m -> \u001b[32m\"24\"\u001b[39m, \u001b[32m\"pdelay\"\u001b[39m -> \u001b[32m\"0.002909796314258002\"\u001b[39m),\n",
       "  \u001b[33mMap\u001b[39m(\u001b[32m\"index\"\u001b[39m -> \u001b[32m\"25\"\u001b[39m, \u001b[32m\"pdelay\"\u001b[39m -> \u001b[32m\"0.0036372453928225023\"\u001b[39m),\n",
       "  \u001b[33mMap\u001b[39m(\u001b[32m\"index\"\u001b[39m -> \u001b[32m\"26\"\u001b[39m, \u001b[32m\"pdelay\"\u001b[39m -> \u001b[32m\"0.0019398642095053346\"\u001b[39m),\n",
       "  \u001b[33mMap\u001b[39m(\u001b[32m\"index\"\u001b[39m -> \u001b[32m\"27\"\u001b[39m, \u001b[32m\"pdelay\"\u001b[39m -> \u001b[32m\"0.00048496605237633366\"\u001b[39m),\n",
       "  \u001b[33mMap\u001b[39m(\u001b[32m\"index\"\u001b[39m -> \u001b[32m\"28\"\u001b[39m, \u001b[32m\"pdelay\"\u001b[39m -> \u001b[32m\"0.00048496605237633366\"\u001b[39m),\n",
       "  \u001b[33mMap\u001b[39m(\u001b[32m\"index\"\u001b[39m -> \u001b[32m\"29\"\u001b[39m, \u001b[32m\"pdelay\"\u001b[39m -> \u001b[32m\"0.0\"\u001b[39m),\n",
       "  \u001b[33mMap\u001b[39m(\u001b[32m\"index\"\u001b[39m -> \u001b[32m\"30\"\u001b[39m, \u001b[32m\"pdelay\"\u001b[39m -> \u001b[32m\"0.0009699321047526673\"\u001b[39m),\n",
       "  \u001b[33mMap\u001b[39m(\u001b[32m\"index\"\u001b[39m -> \u001b[32m\"31\"\u001b[39m, \u001b[32m\"pdelay\"\u001b[39m -> \u001b[32m\"0.00024248302618816683\"\u001b[39m),\n",
       "  \u001b[33mMap\u001b[39m(\u001b[32m\"index\"\u001b[39m -> \u001b[32m\"32\"\u001b[39m, \u001b[32m\"pdelay\"\u001b[39m -> \u001b[32m\"0.00048496605237633366\"\u001b[39m),\n",
       "  \u001b[33mMap\u001b[39m(\u001b[32m\"index\"\u001b[39m -> \u001b[32m\"33\"\u001b[39m, \u001b[32m\"pdelay\"\u001b[39m -> \u001b[32m\"0.0007274490785645005\"\u001b[39m),\n",
       "  \u001b[33mMap\u001b[39m(\u001b[32m\"index\"\u001b[39m -> \u001b[32m\"34\"\u001b[39m, \u001b[32m\"pdelay\"\u001b[39m -> \u001b[32m\"0.001454898157129001\"\u001b[39m),\n",
       "  \u001b[33mMap\u001b[39m(\u001b[32m\"index\"\u001b[39m -> \u001b[32m\"35\"\u001b[39m, \u001b[32m\"pdelay\"\u001b[39m -> \u001b[32m\"0.00024248302618816683\"\u001b[39m),\n",
       "  \u001b[33mMap\u001b[39m(\u001b[32m\"index\"\u001b[39m -> \u001b[32m\"36\"\u001b[39m, \u001b[32m\"pdelay\"\u001b[39m -> \u001b[32m\"0.00048496605237633366\"\u001b[39m),\n",
       "  \u001b[33mMap\u001b[39m(\u001b[32m\"index\"\u001b[39m -> \u001b[32m\"37\"\u001b[39m, \u001b[32m\"pdelay\"\u001b[39m -> \u001b[32m\"0.0007274490785645005\"\u001b[39m),\n",
       "..."
      ]
     },
     "execution_count": 8,
     "metadata": {},
     "output_type": "execute_result"
    }
   ],
   "source": [
    "val pdelayData = {\n",
    "    val csvReader = CSVReader.open(new File(\"data/pdelay.csv\"))\n",
    "    val xs = csvReader.allWithHeaders()\n",
    "    csvReader.close()\n",
    "    xs\n",
    "}"
   ]
  },
  {
   "cell_type": "code",
   "execution_count": 9,
   "metadata": {
    "scrolled": true
   },
   "outputs": [
    {
     "data": {
      "text/plain": [
       "\u001b[36mpdelay\u001b[39m: \u001b[32mList\u001b[39m[\u001b[32mDouble\u001b[39m] = \u001b[33mList\u001b[39m(\n",
       "  \u001b[32m0.006547041707080504\u001b[39m,\n",
       "  \u001b[32m0.04194956353055286\u001b[39m,\n",
       "  \u001b[32m0.05771096023278371\u001b[39m,\n",
       "  \u001b[32m0.06983511154219205\u001b[39m,\n",
       "  \u001b[32m0.07153249272550921\u001b[39m,\n",
       "  \u001b[32m0.08583899127061105\u001b[39m,\n",
       "  \u001b[32m0.07953443258971872\u001b[39m,\n",
       "  \u001b[32m0.07516973811833172\u001b[39m,\n",
       "  \u001b[32m0.07710960232783705\u001b[39m,\n",
       "  \u001b[32m0.07904946653734239\u001b[39m,\n",
       "  \u001b[32m0.06304558680892337\u001b[39m,\n",
       "  \u001b[32m0.0511639185257032\u001b[39m,\n",
       "  \u001b[32m0.04485935984481086\u001b[39m,\n",
       "  \u001b[32m0.038554801163918524\u001b[39m,\n",
       "  \u001b[32m0.028855480116391854\u001b[39m,\n",
       "  \u001b[32m0.026430649854510185\u001b[39m,\n",
       "  \u001b[32m0.01915615906886518\u001b[39m,\n",
       "  \u001b[32m0.02061105722599418\u001b[39m,\n",
       "  \u001b[32m0.011881668283220174\u001b[39m,\n",
       "  \u001b[32m0.009456838021338506\u001b[39m,\n",
       "  \u001b[32m0.009699321047526674\u001b[39m,\n",
       "  \u001b[32m0.006547041707080504\u001b[39m,\n",
       "  \u001b[32m0.004122211445198836\u001b[39m,\n",
       "  \u001b[32m0.0036372453928225023\u001b[39m,\n",
       "  \u001b[32m0.002909796314258002\u001b[39m,\n",
       "  \u001b[32m0.0036372453928225023\u001b[39m,\n",
       "  \u001b[32m0.0019398642095053346\u001b[39m,\n",
       "  \u001b[32m4.8496605237633366E-4\u001b[39m,\n",
       "  \u001b[32m4.8496605237633366E-4\u001b[39m,\n",
       "  \u001b[32m0.0\u001b[39m,\n",
       "  \u001b[32m9.699321047526673E-4\u001b[39m,\n",
       "  \u001b[32m2.4248302618816683E-4\u001b[39m,\n",
       "  \u001b[32m4.8496605237633366E-4\u001b[39m,\n",
       "  \u001b[32m7.274490785645005E-4\u001b[39m,\n",
       "  \u001b[32m0.001454898157129001\u001b[39m,\n",
       "  \u001b[32m2.4248302618816683E-4\u001b[39m,\n",
       "  \u001b[32m4.8496605237633366E-4\u001b[39m,\n",
       "  \u001b[32m7.274490785645005E-4\u001b[39m,\n",
       "...\n",
       "\u001b[36mcumulative_pdelay\u001b[39m: \u001b[32mList\u001b[39m[\u001b[32mDouble\u001b[39m] = \u001b[33mList\u001b[39m(\n",
       "  \u001b[32m0.006547041707080504\u001b[39m,\n",
       "  \u001b[32m0.04849660523763336\u001b[39m,\n",
       "  \u001b[32m0.10620756547041707\u001b[39m,\n",
       "  \u001b[32m0.17604267701260912\u001b[39m,\n",
       "  \u001b[32m0.24757516973811833\u001b[39m,\n",
       "  \u001b[32m0.3334141610087294\u001b[39m,\n",
       "  \u001b[32m0.4129485935984481\u001b[39m,\n",
       "  \u001b[32m0.4881183317167798\u001b[39m,\n",
       "  \u001b[32m0.5652279340446169\u001b[39m,\n",
       "  \u001b[32m0.6442774005819593\u001b[39m,\n",
       "  \u001b[32m0.7073229873908826\u001b[39m,\n",
       "  \u001b[32m0.7584869059165859\u001b[39m,\n",
       "  \u001b[32m0.8033462657613967\u001b[39m,\n",
       "  \u001b[32m0.8419010669253152\u001b[39m,\n",
       "  \u001b[32m0.870756547041707\u001b[39m,\n",
       "  \u001b[32m0.8971871968962172\u001b[39m,\n",
       "  \u001b[32m0.9163433559650823\u001b[39m,\n",
       "  \u001b[32m0.9369544131910765\u001b[39m,\n",
       "  \u001b[32m0.9488360814742967\u001b[39m,\n",
       "  \u001b[32m0.9582929194956351\u001b[39m,\n",
       "  \u001b[32m0.9679922405431618\u001b[39m,\n",
       "  \u001b[32m0.9745392822502423\u001b[39m,\n",
       "  \u001b[32m0.9786614936954412\u001b[39m,\n",
       "  \u001b[32m0.9822987390882637\u001b[39m,\n",
       "  \u001b[32m0.9852085354025217\u001b[39m,\n",
       "  \u001b[32m0.9888457807953442\u001b[39m,\n",
       "  \u001b[32m0.9907856450048496\u001b[39m,\n",
       "  \u001b[32m0.9912706110572259\u001b[39m,\n",
       "  \u001b[32m0.9917555771096023\u001b[39m,\n",
       "  \u001b[32m0.9917555771096023\u001b[39m,\n",
       "  \u001b[32m0.992725509214355\u001b[39m,\n",
       "  \u001b[32m0.9929679922405431\u001b[39m,\n",
       "  \u001b[32m0.9934529582929195\u001b[39m,\n",
       "  \u001b[32m0.9941804073714839\u001b[39m,\n",
       "  \u001b[32m0.9956353055286129\u001b[39m,\n",
       "  \u001b[32m0.995877788554801\u001b[39m,\n",
       "  \u001b[32m0.9963627546071774\u001b[39m,\n",
       "  \u001b[32m0.9970902036857419\u001b[39m,\n",
       "..."
      ]
     },
     "execution_count": 9,
     "metadata": {},
     "output_type": "execute_result"
    }
   ],
   "source": [
    "val pdelay = pdelayData.collect { case m => m(\"pdelay\").toDouble }\n",
    "val cumulative_pdelay = pdelay.scanLeft(0.0)((x: Double, y: Double) => x+y).drop(1)"
   ]
  },
  {
   "cell_type": "code",
   "execution_count": 10,
   "metadata": {},
   "outputs": [
    {
     "data": {
      "text/plain": [
       "defined \u001b[32mfunction\u001b[39m \u001b[36mprepareDataForModel\u001b[39m"
      ]
     },
     "execution_count": 10,
     "metadata": {},
     "output_type": "execute_result"
    }
   ],
   "source": [
    "def prepareDataForModel(xs: List[Long], pd: List[Double]): List[(Long,Double)] = {\n",
    "    val cpd = pd.scanLeft(0.0)(_+_).tail\n",
    "    val cpdPadded = List.fill(xs.size - pd.size)(1.0) ++ cpd.reverse\n",
    "    // ensure that case numbers are always at least 1 so we avoid numerical issues involving 0\n",
    "    // adding 1 across all counts doesn't change inputs in any material way\n",
    "    // see the comment of `predictRt` method for the rationale\n",
    "    xs.map(_+1).zip(cpdPadded)\n",
    "}"
   ]
  },
  {
   "cell_type": "markdown",
   "metadata": {},
   "source": [
    "Preparation of the other model"
   ]
  },
  {
   "cell_type": "code",
   "execution_count": 11,
   "metadata": {
    "scrolled": true
   },
   "outputs": [
    {
     "data": {
      "text/plain": [
       "\u001b[36mL\u001b[39m: \u001b[32mList\u001b[39m[\u001b[32mLong\u001b[39m] = \u001b[33mList\u001b[39m(\n",
       "  \u001b[32m1L\u001b[39m,\n",
       "  \u001b[32m2L\u001b[39m,\n",
       "  \u001b[32m3L\u001b[39m,\n",
       "  \u001b[32m4L\u001b[39m,\n",
       "  \u001b[32m5L\u001b[39m,\n",
       "  \u001b[32m6L\u001b[39m,\n",
       "  \u001b[32m7L\u001b[39m,\n",
       "  \u001b[32m8L\u001b[39m,\n",
       "  \u001b[32m9L\u001b[39m,\n",
       "  \u001b[32m10L\u001b[39m,\n",
       "  \u001b[32m11L\u001b[39m,\n",
       "  \u001b[32m12L\u001b[39m,\n",
       "  \u001b[32m13L\u001b[39m,\n",
       "  \u001b[32m14L\u001b[39m,\n",
       "  \u001b[32m15L\u001b[39m,\n",
       "  \u001b[32m16L\u001b[39m,\n",
       "  \u001b[32m17L\u001b[39m,\n",
       "  \u001b[32m18L\u001b[39m,\n",
       "  \u001b[32m19L\u001b[39m,\n",
       "  \u001b[32m20L\u001b[39m,\n",
       "  \u001b[32m21L\u001b[39m,\n",
       "  \u001b[32m22L\u001b[39m,\n",
       "  \u001b[32m23L\u001b[39m,\n",
       "  \u001b[32m24L\u001b[39m,\n",
       "  \u001b[32m25L\u001b[39m,\n",
       "  \u001b[32m26L\u001b[39m,\n",
       "  \u001b[32m27L\u001b[39m,\n",
       "  \u001b[32m28L\u001b[39m,\n",
       "  \u001b[32m29L\u001b[39m,\n",
       "  \u001b[32m30L\u001b[39m,\n",
       "  \u001b[32m31L\u001b[39m,\n",
       "  \u001b[32m32L\u001b[39m,\n",
       "  \u001b[32m33L\u001b[39m,\n",
       "  \u001b[32m34L\u001b[39m,\n",
       "  \u001b[32m35L\u001b[39m,\n",
       "  \u001b[32m36L\u001b[39m,\n",
       "  \u001b[32m37L\u001b[39m,\n",
       "  \u001b[32m38L\u001b[39m,\n",
       "...\n",
       "\u001b[36mpd\u001b[39m: \u001b[32mList\u001b[39m[\u001b[32mDouble\u001b[39m] = \u001b[33mList\u001b[39m(\n",
       "  \u001b[32m0.006547041707080504\u001b[39m,\n",
       "  \u001b[32m0.04194956353055286\u001b[39m,\n",
       "  \u001b[32m0.05771096023278371\u001b[39m,\n",
       "  \u001b[32m0.06983511154219205\u001b[39m,\n",
       "  \u001b[32m0.07153249272550921\u001b[39m,\n",
       "  \u001b[32m0.08583899127061105\u001b[39m,\n",
       "  \u001b[32m0.07953443258971872\u001b[39m,\n",
       "  \u001b[32m0.07516973811833172\u001b[39m,\n",
       "  \u001b[32m0.07710960232783705\u001b[39m,\n",
       "  \u001b[32m0.07904946653734239\u001b[39m,\n",
       "  \u001b[32m0.06304558680892337\u001b[39m,\n",
       "  \u001b[32m0.0511639185257032\u001b[39m,\n",
       "  \u001b[32m0.04485935984481086\u001b[39m,\n",
       "  \u001b[32m0.038554801163918524\u001b[39m,\n",
       "  \u001b[32m0.028855480116391854\u001b[39m,\n",
       "  \u001b[32m0.026430649854510185\u001b[39m,\n",
       "  \u001b[32m0.01915615906886518\u001b[39m,\n",
       "  \u001b[32m0.02061105722599418\u001b[39m,\n",
       "  \u001b[32m0.011881668283220174\u001b[39m,\n",
       "  \u001b[32m0.009456838021338506\u001b[39m,\n",
       "  \u001b[32m0.009699321047526674\u001b[39m,\n",
       "  \u001b[32m0.006547041707080504\u001b[39m,\n",
       "  \u001b[32m0.004122211445198836\u001b[39m,\n",
       "  \u001b[32m0.0036372453928225023\u001b[39m,\n",
       "  \u001b[32m0.002909796314258002\u001b[39m,\n",
       "  \u001b[32m0.0036372453928225023\u001b[39m,\n",
       "  \u001b[32m0.0019398642095053346\u001b[39m,\n",
       "  \u001b[32m4.8496605237633366E-4\u001b[39m,\n",
       "  \u001b[32m4.8496605237633366E-4\u001b[39m,\n",
       "  \u001b[32m0.0\u001b[39m,\n",
       "  \u001b[32m9.699321047526673E-4\u001b[39m,\n",
       "  \u001b[32m2.4248302618816683E-4\u001b[39m,\n",
       "  \u001b[32m4.8496605237633366E-4\u001b[39m,\n",
       "  \u001b[32m7.274490785645005E-4\u001b[39m,\n",
       "  \u001b[32m0.001454898157129001\u001b[39m,\n",
       "  \u001b[32m2.4248302618816683E-4\u001b[39m,\n",
       "  \u001b[32m4.8496605237633366E-4\u001b[39m,\n",
       "  \u001b[32m7.274490785645005E-4\u001b[39m,\n",
       "...\n",
       "\u001b[36mtest\u001b[39m: \u001b[32mList\u001b[39m[(\u001b[32mLong\u001b[39m, \u001b[32mDouble\u001b[39m)] = \u001b[33mList\u001b[39m(\n",
       "  (\u001b[32m97L\u001b[39m, \u001b[32m0.9999999999999998\u001b[39m),\n",
       "  (\u001b[32m98L\u001b[39m, \u001b[32m0.9997575169738117\u001b[39m),\n",
       "  (\u001b[32m99L\u001b[39m, \u001b[32m0.9997575169738117\u001b[39m),\n",
       "  (\u001b[32m100L\u001b[39m, \u001b[32m0.9997575169738117\u001b[39m),\n",
       "  (\u001b[32m101L\u001b[39m, \u001b[32m0.9997575169738117\u001b[39m)\n",
       ")"
      ]
     },
     "execution_count": 11,
     "metadata": {},
     "output_type": "execute_result"
    }
   ],
   "source": [
    "val L = (1L to 100L).toList\n",
    "val pd = pdelay\n",
    "val test = prepareDataForModel(L.takeRight(5), pd)"
   ]
  },
  {
   "cell_type": "code",
   "execution_count": 12,
   "metadata": {},
   "outputs": [
    {
     "data": {
      "text/plain": [
       "\u001b[36msamplerConfig\u001b[39m: \u001b[32mDefaultConfig\u001b[39m{def massMatrixTuner(): com.stripe.rainier.sampler.IdentityMassMatrixTuner;def sampler(): com.stripe.rainier.sampler.HMCSampler} = ammonite.$sess.cmd11$Helper$$anon$1@42ca77a4"
      ]
     },
     "execution_count": 12,
     "metadata": {},
     "output_type": "execute_result"
    }
   ],
   "source": [
    "val samplerConfig = new DefaultConfig {\n",
    "    override def massMatrixTuner() = new IdentityMassMatrixTuner\n",
    "    override def sampler() = new HMCSampler(100)\n",
    "    override val iterations = 1000\n",
    "}"
   ]
  },
  {
   "cell_type": "markdown",
   "metadata": {},
   "source": [
    "Define a function that we'll use to retry the call to Rainier's `predict` that fails occassionally. Fortunately, the failure can be easily detected and 1-2 retries solves the issue."
   ]
  },
  {
   "cell_type": "code",
   "execution_count": 13,
   "metadata": {},
   "outputs": [
    {
     "data": {
      "text/plain": [
       "defined \u001b[32mfunction\u001b[39m \u001b[36mretry\u001b[39m"
      ]
     },
     "execution_count": 13,
     "metadata": {},
     "output_type": "execute_result"
    }
   ],
   "source": [
    "def retry[T](maxAttempts: Int, isSuccessful: T => Boolean)(f: => T): T = {\n",
    "    var i = 0\n",
    "    \n",
    "    do {\n",
    "        val res = f\n",
    "        i = i + 1\n",
    "        if (isSuccessful(res))\n",
    "            return res\n",
    "        println(s\"WARN: Attempt[$i] failed. Retrying...\")\n",
    "    } while (i < maxAttempts)\n",
    "    sys.error(\"Exceeded maximum number of retries\")\n",
    "}"
   ]
  },
  {
   "cell_type": "markdown",
   "metadata": {},
   "source": [
    "Fixed the parameters for all distributions"
   ]
  },
  {
   "cell_type": "code",
   "execution_count": 14,
   "metadata": {},
   "outputs": [
    {
     "data": {
      "text/plain": [
       "defined \u001b[32mclass\u001b[39m \u001b[36mRtModelEstimates\u001b[39m"
      ]
     },
     "execution_count": 14,
     "metadata": {},
     "output_type": "execute_result"
    }
   ],
   "source": [
    "case class RtModelEstimates(rts: Vec[Real], \n",
    "                            rtsEstimates: List[Seq[Double]], \n",
    "                            serialInterval: Real, \n",
    "                            serialIntervalEstimates: Seq[Double])"
   ]
  },
  {
   "cell_type": "code",
   "execution_count": 15,
   "metadata": {},
   "outputs": [
    {
     "data": {
      "text/plain": [
       "defined \u001b[32mfunction\u001b[39m \u001b[36mpredictRtOnsetLogProcess\u001b[39m"
      ]
     },
     "execution_count": 15,
     "metadata": {},
     "output_type": "execute_result"
    }
   ],
   "source": [
    "\n",
    "def predictRtOnsetLogProcess(onsetNumbers: List[Long], pdelay: List[Double]): (Vec[Real], List[Seq[Double]]) = {\n",
    "    \n",
    "    val data = prepareDataForModel(onsetNumbers, pdelay)\n",
    "    \n",
    "    val (model, rts) =  {\n",
    "        val (onset, cum_pdelay) = data.unzip\n",
    "        val serialInterval = Gamma(6,1.5).latent\n",
    "        val logR0 = Normal(0, 1).latent\n",
    "        val sigma = Exponential(10).latent\n",
    "        val diffs = Laplace(0,sigma).latentVec(data.size)\n",
    "        val logRts = Vec.from(diffs.toList.scanLeft(logR0)(_ + _))\n",
    "        val inferredYesterday = data.take(data.size-1).map { case (o_t, cp_t) => \n",
    "            o_t/cp_t \n",
    "        }.zipWithIndex\n",
    "        val expectedToday = Vec.from(inferredYesterday.zip(cum_pdelay.drop(1))).map { case ((infYest, i), cpd) =>\n",
    "            val lambda = infYest*cpd*((logRts(i).exp - 1)/serialInterval).exp\n",
    "            Poisson(lambda)\n",
    "        }\n",
    "        (Model.observe(onset.drop(1), expectedToday), logRts.map(_.exp))\n",
    "    }\n",
    "    \n",
    "    def detectFailedRun(trace: Trace): Boolean =\n",
    "        // from: https://twitter.com/avibryant/status/1253049509128499201\n",
    "        trace.diagnostics.map(_.rHat).max < 1.1\n",
    "    \n",
    "    val trace = retry(maxAttempts = 3, isSuccessful = detectFailedRun) {\n",
    "        model.sample(samplerConfig, 4)\n",
    "    }\n",
    "    \n",
    "    rts -> trace.predict(rts)\n",
    "}"
   ]
  },
  {
   "cell_type": "code",
   "execution_count": 16,
   "metadata": {},
   "outputs": [
    {
     "data": {
      "text/plain": [
       "defined \u001b[32mfunction\u001b[39m \u001b[36mpredictRt\u001b[39m"
      ]
     },
     "execution_count": 16,
     "metadata": {},
     "output_type": "execute_result"
    }
   ],
   "source": [
    "// direct (and faithful) translation of Systrom's MCMC model from\n",
    "// Realtime Rt mcmc.ipynb up to different handling of this line\n",
    "// mu = pm.math.maximum(.1, expected_today)\n",
    "// my is the lambda of Poisson distribution that must be > 0.\n",
    "// Kevin's solution is to take max(0.1, expected_today) to ensure\n",
    "// that lambda > 0. However, `expected_today` is dependent only on input data and is not\n",
    "// part of the model so we can ensure it's > 0 by fixing up the input data of the model.\n",
    "// this is done in `prepareDataForModel`\n",
    "def predictRt(onsetNumbers: List[Long], pdelay: List[Double], failedRunDetection: Boolean = true): RtModelEstimates = {\n",
    "    \n",
    "    val data = prepareDataForModel(onsetNumbers, pdelay)\n",
    "    \n",
    "    val (model, rts, serialInterval) = {\n",
    "        val (onset, cum_pdelay) = data.unzip\n",
    "        val serialInterval = Gamma(6,1/1.5).latent\n",
    "        val sigma = Normal(0,0.03).latent.abs\n",
    "        val Theta0 = Normal(0.1,0.1).latent\n",
    "        val diffs = Laplace(0,sigma).latentVec(data.size) // Maybe normal would be better\n",
    "        val ThetaT = Vec.from(diffs.toList.scanLeft(Theta0)(_ + _))\n",
    "        val Rts = ThetaT.map(_*serialInterval + 1)\n",
    "        val inferredYesterday = data.take(data.size-1).map { case (o_t, cp_t) => \n",
    "            o_t/cp_t \n",
    "        }.zipWithIndex\n",
    "        val expectedToday = Vec.from(inferredYesterday.zip(cum_pdelay.drop(1))).map { case ((infYest, i), cpd) =>\n",
    "            val lambda = infYest * cpd * (ThetaT(i).exp)\n",
    "            Poisson(lambda)\n",
    "        }\n",
    "        \n",
    "        val obsModel = Model.observe(onset.drop(1), expectedToday)\n",
    "        val trackSerialInterval = Model.track(Set(serialInterval))\n",
    "        (obsModel.merge(trackSerialInterval), Rts, serialInterval)\n",
    "    }\n",
    "    \n",
    "    def detectFailedRun(trace: Trace): Boolean =\n",
    "        // from: https://twitter.com/avibryant/status/1253049509128499201\n",
    "        !failedRunDetection || trace.diagnostics.map(_.rHat).max < 1.1\n",
    "    \n",
    "    val trace = retry(maxAttempts = 3, isSuccessful = detectFailedRun) {\n",
    "        model.sample(samplerConfig, 2)\n",
    "    }\n",
    "\n",
    "    RtModelEstimates(rts = rts, \n",
    "                 rtsEstimates = trace.predict(rts),\n",
    "                 serialInterval = serialInterval,\n",
    "                 serialIntervalEstimates = trace.predict(serialInterval))\n",
    "}"
   ]
  },
  {
   "cell_type": "code",
   "execution_count": 17,
   "metadata": {},
   "outputs": [
    {
     "data": {
      "text/plain": [
       "defined \u001b[32mclass\u001b[39m \u001b[36mRtsDistributionStats\u001b[39m\n",
       "defined \u001b[32mfunction\u001b[39m \u001b[36mdistributionStats\u001b[39m"
      ]
     },
     "execution_count": 17,
     "metadata": {},
     "output_type": "execute_result"
    }
   ],
   "source": [
    "case class RtsDistributionStats(means: Seq[(Int, Double)], hdpis: Seq[(Int, (Double, Double))])\n",
    "def distributionStats(rts: Vec[Real], rtForecasts: List[Seq[Double]]): RtsDistributionStats = {\n",
    "    val means = 0.until(rts.size).map{i => (i,mean(rtForecasts.map(_(i))))}\n",
    "    val hdpis = 0.until(rts.size).map{i => (i, hdpi(rtForecasts.map(_(i))))}\n",
    "    RtsDistributionStats(means, hdpis)\n",
    "}"
   ]
  },
  {
   "cell_type": "code",
   "execution_count": 18,
   "metadata": {
    "scrolled": true
   },
   "outputs": [
    {
     "data": {
      "text/html": [
       "<b>Chain 1 Complete</b>: <div>Iteration: 1000 (13ms)</div> <div>Acceptance rate: 1.00</div> <div>E-BFMI: 1.35</div> <div>Step size: 0.0004</div> <div>Total gradient evaluations: 2e+05 (71us)</div> <div>Total time: 29s</div>"
      ]
     },
     "metadata": {},
     "output_type": "display_data"
    },
    {
     "data": {
      "text/html": [
       "<b>Chain 2 Complete</b>: <div>Iteration: 1000 (14ms)</div> <div>Acceptance rate: 0.87</div> <div>E-BFMI: 0.65</div> <div>Step size: 0.004</div> <div>Total gradient evaluations: 2e+05 (81us)</div> <div>Total time: 28s</div>"
      ]
     },
     "metadata": {},
     "output_type": "display_data"
    },
    {
     "name": "stdout",
     "output_type": "stream",
     "text": [
      "Elapsed time: 61950 ms\n"
     ]
    },
    {
     "data": {
      "image/png": "[encoded data removed]"
     },
     "metadata": {
      "height": "1600",
      "width": "1636"
     },
     "output_type": "display_data"
    }
   ],
   "source": [
    "{{\n",
    "    val countryName = \"Spain\"\n",
    "    val onsetNumbers = countriesOnsetData.collect {\n",
    "        case m if m(\"country\") == countryName => m(\"Onset\").toDouble.round\n",
    "    }\n",
    "    val RtModelEstimates(rts,estimates,_, _) = time { \n",
    "        val res = predictRt(onsetNumbers, pdelay, failedRunDetection = false)\n",
    "        res\n",
    "    }\n",
    "    val RtsDistributionStats(means, hdpis) = distributionStats(rts, estimates)\n",
    "    show(\"t\", \"Rt\", line(means), shade(hdpis))\n",
    "}}"
   ]
  },
  {
   "cell_type": "code",
   "execution_count": 19,
   "metadata": {
    "scrolled": true
   },
   "outputs": [
    {
     "data": {
      "text/plain": [
       "\u001b[36mcountriesToPredict\u001b[39m: \u001b[32mSet\u001b[39m[\u001b[32mString\u001b[39m] = \u001b[33mSet\u001b[39m(\n",
       "  \u001b[32m\"Poland\"\u001b[39m,\n",
       "  \u001b[32m\"Croatia\"\u001b[39m,\n",
       "  \u001b[32m\"Luxembourg\"\u001b[39m,\n",
       "  \u001b[32m\"Greece\"\u001b[39m,\n",
       "  \u001b[32m\"Spain\"\u001b[39m,\n",
       "  \u001b[32m\"Russia\"\u001b[39m,\n",
       "  \u001b[32m\"Estonia\"\u001b[39m,\n",
       "  \u001b[32m\"Czechia\"\u001b[39m,\n",
       "  \u001b[32m\"Romania\"\u001b[39m,\n",
       "  \u001b[32m\"Denmark\"\u001b[39m,\n",
       "  \u001b[32m\"Belgium\"\u001b[39m,\n",
       "  \u001b[32m\"Slovenia\"\u001b[39m,\n",
       "  \u001b[32m\"Malta\"\u001b[39m,\n",
       "  \u001b[32m\"Belarus\"\u001b[39m,\n",
       "  \u001b[32m\"Slovakia\"\u001b[39m,\n",
       "  \u001b[32m\"Finland\"\u001b[39m,\n",
       "  \u001b[32m\"Lithuania\"\u001b[39m,\n",
       "  \u001b[32m\"Sweden\"\u001b[39m,\n",
       "  \u001b[32m\"United_Kingdom\"\u001b[39m,\n",
       "  \u001b[32m\"Austria\"\u001b[39m,\n",
       "  \u001b[32m\"Latvia\"\u001b[39m,\n",
       "  \u001b[32m\"Italy\"\u001b[39m,\n",
       "  \u001b[32m\"Ireland\"\u001b[39m,\n",
       "  \u001b[32m\"Bulgaria\"\u001b[39m,\n",
       "  \u001b[32m\"Norway\"\u001b[39m,\n",
       "  \u001b[32m\"France\"\u001b[39m,\n",
       "  \u001b[32m\"Netherlands\"\u001b[39m,\n",
       "  \u001b[32m\"Switzerland\"\u001b[39m,\n",
       "  \u001b[32m\"Cyprus\"\u001b[39m,\n",
       "  \u001b[32m\"Germany\"\u001b[39m,\n",
       "  \u001b[32m\"Portugal\"\u001b[39m,\n",
       "  \u001b[32m\"Hungary\"\u001b[39m\n",
       ")"
      ]
     },
     "execution_count": 19,
     "metadata": {},
     "output_type": "execute_result"
    }
   ],
   "source": [
    "val countriesToPredict = countriesOnsetData.map(_(\"country\")).toSet //smaller set: Seq(\"Poland\", \"France\", \"Italy\", \"Germany\", \"Czechia\")"
   ]
  },
  {
   "cell_type": "code",
   "execution_count": 20,
   "metadata": {},
   "outputs": [
    {
     "data": {
      "text/html": [
       "<b>Chain 1 Complete</b>: <div>Iteration: 1000 (42ms)</div> <div>Acceptance rate: 0.80</div> <div>E-BFMI: 0.65</div> <div>Step size: 0.01</div> <div>Total gradient evaluations: 2e+05 (244us)</div> <div>Total time:  0: 1:24</div>"
      ]
     },
     "metadata": {},
     "output_type": "display_data"
    },
    {
     "data": {
      "text/html": [
       "<b>Chain 1 Complete</b>: <div>Iteration: 1000 (42ms)</div> <div>Acceptance rate: 0.86</div> <div>E-BFMI: 0.65</div> <div>Step size: 0.01</div> <div>Total gradient evaluations: 2e+05 (191us)</div> <div>Total time:  0: 1:25</div>"
      ]
     },
     "metadata": {},
     "output_type": "display_data"
    },
    {
     "data": {
      "text/html": [
       "<b>Chain 1 Complete</b>: <div>Iteration: 1000 (42ms)</div> <div>Acceptance rate: 0.84</div> <div>E-BFMI: 0.72</div> <div>Step size: 0.01</div> <div>Total gradient evaluations: 2e+05 (191us)</div> <div>Total time:  0: 1:25</div>"
      ]
     },
     "metadata": {},
     "output_type": "display_data"
    },
    {
     "data": {
      "text/html": [
       "<b>Chain 1 Complete</b>: <div>Iteration: 1000 (42ms)</div> <div>Acceptance rate: 0.78</div> <div>E-BFMI: 0.67</div> <div>Step size: 0.04</div> <div>Total gradient evaluations: 2e+05 (172us)</div> <div>Total time:  0: 1:25</div>"
      ]
     },
     "metadata": {},
     "output_type": "display_data"
    },
    {
     "data": {
      "text/html": [
       "<b>Chain 1 Complete</b>: <div>Iteration: 1000 (43ms)</div> <div>Acceptance rate: 0.88</div> <div>E-BFMI: 0.70</div> <div>Step size: 0.01</div> <div>Total gradient evaluations: 2e+05 (232us)</div> <div>Total time:  0: 1:26</div>"
      ]
     },
     "metadata": {},
     "output_type": "display_data"
    },
    {
     "data": {
      "text/html": [
       "<b>Chain 1 Complete</b>: <div>Iteration: 1000 (42ms)</div> <div>Acceptance rate: 0.80</div> <div>E-BFMI: 0.59</div> <div>Step size: 0.02</div> <div>Total gradient evaluations: 2e+05 (233us)</div> <div>Total time:  0: 1:25</div>"
      ]
     },
     "metadata": {},
     "output_type": "display_data"
    },
    {
     "data": {
      "text/html": [
       "<b>Chain 1 Complete</b>: <div>Iteration: 1000 (42ms)</div> <div>Acceptance rate: 0.80</div> <div>E-BFMI: 0.75</div> <div>Step size: 0.01</div> <div>Total gradient evaluations: 2e+05 (203us)</div> <div>Total time:  0: 1:25</div>"
      ]
     },
     "metadata": {},
     "output_type": "display_data"
    },
    {
     "data": {
      "text/html": [
       "<b>Chain 1 Complete</b>: <div>Iteration: 1000 (42ms)</div> <div>Acceptance rate: 0.83</div> <div>E-BFMI: 0.68</div> <div>Step size: 0.03</div> <div>Total gradient evaluations: 2e+05 (227us)</div> <div>Total time:  0: 1:25</div>"
      ]
     },
     "metadata": {},
     "output_type": "display_data"
    },
    {
     "data": {
      "text/html": [
       "<b>Chain 1 Complete</b>: <div>Iteration: 1000 (42ms)</div> <div>Acceptance rate: 0.87</div> <div>E-BFMI: 0.65</div> <div>Step size: 0.03</div> <div>Total gradient evaluations: 2e+05 (193us)</div> <div>Total time:  0: 1:25</div>"
      ]
     },
     "metadata": {},
     "output_type": "display_data"
    },
    {
     "data": {
      "text/html": [
       "<b>Chain 1 Complete</b>: <div>Iteration: 1000 (42ms)</div> <div>Acceptance rate: 0.84</div> <div>E-BFMI: 0.66</div> <div>Step size: 0.006</div> <div>Total gradient evaluations: 2e+05 (187us)</div> <div>Total time:  0: 1:25</div>"
      ]
     },
     "metadata": {},
     "output_type": "display_data"
    },
    {
     "data": {
      "text/html": [
       "<b>Chain 1 Complete</b>: <div>Iteration: 1000 (42ms)</div> <div>Acceptance rate: 0.82</div> <div>E-BFMI: 0.67</div> <div>Step size: 0.005</div> <div>Total gradient evaluations: 2e+05 (208us)</div> <div>Total time:  0: 1:25</div>"
      ]
     },
     "metadata": {},
     "output_type": "display_data"
    },
    {
     "data": {
      "text/html": [
       "<b>Chain 1 Complete</b>: <div>Iteration: 1000 (42ms)</div> <div>Acceptance rate: 0.85</div> <div>E-BFMI: 0.71</div> <div>Step size: 0.03</div> <div>Total gradient evaluations: 2e+05 (216us)</div> <div>Total time:  0: 1:25</div>"
      ]
     },
     "metadata": {},
     "output_type": "display_data"
    },
    {
     "data": {
      "text/html": [
       "<b>Chain 1 Complete</b>: <div>Iteration: 1000 (43ms)</div> <div>Acceptance rate: 0.85</div> <div>E-BFMI: 0.73</div> <div>Step size: 0.009</div> <div>Total gradient evaluations: 2e+05 (213us)</div> <div>Total time:  0: 1:26</div>"
      ]
     },
     "metadata": {},
     "output_type": "display_data"
    },
    {
     "data": {
      "text/html": [
       "<b>Chain 1 Complete</b>: <div>Iteration: 1000 (43ms)</div> <div>Acceptance rate: 0.83</div> <div>E-BFMI: 0.74</div> <div>Step size: 0.02</div> <div>Total gradient evaluations: 2e+05 (247us)</div> <div>Total time:  0: 1:26</div>"
      ]
     },
     "metadata": {},
     "output_type": "display_data"
    },
    {
     "data": {
      "text/html": [
       "<b>Chain 1 Complete</b>: <div>Iteration: 1000 (42ms)</div> <div>Acceptance rate: 0.63</div> <div>E-BFMI: 0.55</div> <div>Step size: 0.004</div> <div>Total gradient evaluations: 2e+05 (209us)</div> <div>Total time:  0: 1:25</div>"
      ]
     },
     "metadata": {},
     "output_type": "display_data"
    },
    {
     "data": {
      "text/html": [
       "<b>Chain 1 Complete</b>: <div>Iteration: 1000 (42ms)</div> <div>Acceptance rate: 0.85</div> <div>E-BFMI: 0.67</div> <div>Step size: 0.02</div> <div>Total gradient evaluations: 2e+05 (182us)</div> <div>Total time:  0: 1:26</div>"
      ]
     },
     "metadata": {},
     "output_type": "display_data"
    },
    {
     "data": {
      "text/html": [
       "<b>Chain 2 Complete</b>: <div>Iteration: 1000 (43ms)</div> <div>Acceptance rate: 0.86</div> <div>E-BFMI: 0.67</div> <div>Step size: 0.01</div> <div>Total gradient evaluations: 2e+05 (167us)</div> <div>Total time:  0: 1:26</div>"
      ]
     },
     "metadata": {},
     "output_type": "display_data"
    },
    {
     "data": {
      "text/html": [
       "<b>Chain 2 Complete</b>: <div>Iteration: 1000 (43ms)</div> <div>Acceptance rate: 0.00</div> <div>E-BFMI: 1.93</div> <div>Step size: 0.01</div> <div>Total gradient evaluations: 2e+05 (202us)</div> <div>Total time:  0: 1:26</div>"
      ]
     },
     "metadata": {},
     "output_type": "display_data"
    },
    {
     "data": {
      "text/html": [
       "<b>Chain 2 Complete</b>: <div>Iteration: 1000 (44ms)</div> <div>Acceptance rate: 0.85</div> <div>E-BFMI: 0.71</div> <div>Step size: 0.02</div> <div>Total gradient evaluations: 2e+05 (239us)</div> <div>Total time:  0: 1:26</div>"
      ]
     },
     "metadata": {},
     "output_type": "display_data"
    },
    {
     "data": {
      "text/html": [
       "<b>Chain 2 Complete</b>: <div>Iteration: 1000 (45ms)</div> <div>Acceptance rate: 0.84</div> <div>E-BFMI: 0.68</div> <div>Step size: 0.04</div> <div>Total gradient evaluations: 2e+05 (234us)</div> <div>Total time:  0: 1:26</div>"
      ]
     },
     "metadata": {},
     "output_type": "display_data"
    },
    {
     "data": {
      "text/html": [
       "<b>Chain 2 Complete</b>: <div>Iteration: 1000 (49ms)</div> <div>Acceptance rate: 0.81</div> <div>E-BFMI: 0.71</div> <div>Step size: 0.04</div> <div>Total gradient evaluations: 2e+05 (232us)</div> <div>Total time:  0: 1:27</div>"
      ]
     },
     "metadata": {},
     "output_type": "display_data"
    },
    {
     "data": {
      "text/html": [
       "<b>Chain 2 Complete</b>: <div>Iteration: 1000 (46ms)</div> <div>Acceptance rate: 0.92</div> <div>E-BFMI: 0.66</div> <div>Step size: 0.005</div> <div>Total gradient evaluations: 2e+05 (576us)</div> <div>Total time:  0: 1:26</div>"
      ]
     },
     "metadata": {},
     "output_type": "display_data"
    },
    {
     "data": {
      "text/html": [
       "<b>Chain 2 Complete</b>: <div>Iteration: 1000 (49ms)</div> <div>Acceptance rate: 0.79</div> <div>E-BFMI: 0.67</div> <div>Step size: 0.01</div> <div>Total gradient evaluations: 2e+05 (289us)</div> <div>Total time:  0: 1:27</div>"
      ]
     },
     "metadata": {},
     "output_type": "display_data"
    },
    {
     "data": {
      "text/html": [
       "<b>Chain 2 Complete</b>: <div>Iteration: 1000 (47ms)</div> <div>Acceptance rate: 0.84</div> <div>E-BFMI: 1.67</div> <div>Step size: 0.0003</div> <div>Total gradient evaluations: 2e+05 (237us)</div> <div>Total time:  0: 1:26</div>"
      ]
     },
     "metadata": {},
     "output_type": "display_data"
    },
    {
     "data": {
      "text/html": [
       "<b>Chain 2 Complete</b>: <div>Iteration: 1000 (51ms)</div> <div>Acceptance rate: 0.88</div> <div>E-BFMI: 0.66</div> <div>Step size: 0.01</div> <div>Total gradient evaluations: 2e+05 (346us)</div> <div>Total time:  0: 1:27</div>"
      ]
     },
     "metadata": {},
     "output_type": "display_data"
    },
    {
     "data": {
      "text/html": [
       "<b>Chain 2 Complete</b>: <div>Iteration: 1000 (48ms)</div> <div>Acceptance rate: 0.84</div> <div>E-BFMI: 0.66</div> <div>Step size: 0.03</div> <div>Total gradient evaluations: 2e+05 (325us)</div> <div>Total time:  0: 1:27</div>"
      ]
     },
     "metadata": {},
     "output_type": "display_data"
    },
    {
     "data": {
      "text/html": [
       "<b>Chain 2 Complete</b>: <div>Iteration: 1000 (47ms)</div> <div>Acceptance rate: 0.78</div> <div>E-BFMI: 0.65</div> <div>Step size: 0.03</div> <div>Total gradient evaluations: 2e+05 (294us)</div> <div>Total time:  0: 1:27</div>"
      ]
     },
     "metadata": {},
     "output_type": "display_data"
    },
    {
     "data": {
      "text/html": [
       "<b>Chain 2 Complete</b>: <div>Iteration: 1000 (49ms)</div> <div>Acceptance rate: 0.71</div> <div>E-BFMI: 0.73</div> <div>Step size: 0.004</div> <div>Total gradient evaluations: 2e+05 (252us)</div> <div>Total time:  0: 1:27</div>"
      ]
     },
     "metadata": {},
     "output_type": "display_data"
    },
    {
     "data": {
      "text/html": [
       "<b>Chain 2 Complete</b>: <div>Iteration: 1000 (54ms)</div> <div>Acceptance rate: 0.88</div> <div>E-BFMI: 0.64</div> <div>Step size: 0.02</div> <div>Total gradient evaluations: 2e+05 (512us)</div> <div>Total time:  0: 1:28</div>"
      ]
     },
     "metadata": {},
     "output_type": "display_data"
    },
    {
     "data": {
      "text/html": [
       "<b>Chain 2 Complete</b>: <div>Iteration: 1000 (56ms)</div> <div>Acceptance rate: 0.88</div> <div>E-BFMI: 0.67</div> <div>Step size: 0.01</div> <div>Total gradient evaluations: 2e+05 (438us)</div> <div>Total time:  0: 1:29</div>"
      ]
     },
     "metadata": {},
     "output_type": "display_data"
    },
    {
     "data": {
      "text/html": [
       "<b>Chain 2 Complete</b>: <div>Iteration: 1000 (56ms)</div> <div>Acceptance rate: 0.75</div> <div>E-BFMI: 0.61</div> <div>Step size: 0.02</div> <div>Total gradient evaluations: 2e+05 (224us)</div> <div>Total time:  0: 1:28</div>"
      ]
     },
     "metadata": {},
     "output_type": "display_data"
    },
    {
     "data": {
      "text/html": [
       "<b>Chain 2 Complete</b>: <div>Iteration: 1000 (55ms)</div> <div>Acceptance rate: 0.92</div> <div>E-BFMI: 0.69</div> <div>Step size: 0.009</div> <div>Total gradient evaluations: 2e+05 (323us)</div> <div>Total time:  0: 1:28</div>"
      ]
     },
     "metadata": {},
     "output_type": "display_data"
    },
    {
     "name": "stdout",
     "output_type": "stream",
     "text": [
      "Sweden [done]\n",
      "Portugal [done]\n",
      "Austria [done]\n",
      "Slovakia [done]\n"
     ]
    },
    {
     "data": {
      "text/html": [
       "<b>Chain 1 Complete</b>: <div>Iteration: 1000 (40ms)</div> <div>Acceptance rate: 0.78</div> <div>E-BFMI: 0.64</div> <div>Step size: 0.04</div> <div>Total gradient evaluations: 2e+05 (199us)</div> <div>Total time:  0: 1:25</div>"
      ]
     },
     "metadata": {},
     "output_type": "display_data"
    },
    {
     "name": "stdout",
     "output_type": "stream",
     "text": [
      "Germany [done]\n",
      "France [done]\n"
     ]
    },
    {
     "data": {
      "text/html": [
       "<b>Chain 1 Complete</b>: <div>Iteration: 1000 (40ms)</div> <div>Acceptance rate: 0.80</div> <div>E-BFMI: 0.69</div> <div>Step size: 0.04</div> <div>Total gradient evaluations: 2e+05 (164us)</div> <div>Total time:  0: 1:25</div>"
      ]
     },
     "metadata": {},
     "output_type": "display_data"
    },
    {
     "name": "stdout",
     "output_type": "stream",
     "text": [
      "Malta [done]\n",
      "Netherlands [done]\n",
      "Hungary [done]\n"
     ]
    },
    {
     "data": {
      "text/html": [
       "<b>Chain 1 Complete</b>: <div>Iteration: 1000 (40ms)</div> <div>Acceptance rate: 0.74</div> <div>E-BFMI: 0.73</div> <div>Step size: 0.004</div> <div>Total gradient evaluations: 2e+05 (193us)</div> <div>Total time:  0: 1:24</div>"
      ]
     },
     "metadata": {},
     "output_type": "display_data"
    },
    {
     "name": "stdout",
     "output_type": "stream",
     "text": [
      "Finland [done]\n",
      "Russia [done]\n"
     ]
    },
    {
     "data": {
      "text/html": [
       "<b>Chain 1 Complete</b>: <div>Iteration: 1000 (40ms)</div> <div>Acceptance rate: 0.84</div> <div>E-BFMI: 0.70</div> <div>Step size: 0.03</div> <div>Total gradient evaluations: 2e+05 (185us)</div> <div>Total time:  0: 1:24</div>"
      ]
     },
     "metadata": {},
     "output_type": "display_data"
    },
    {
     "name": "stdout",
     "output_type": "stream",
     "text": [
      "Belarus [done]\n"
     ]
    },
    {
     "data": {
      "text/html": [
       "<b>Chain 1 Complete</b>: <div>Iteration: 1000 (40ms)</div> <div>Acceptance rate: 0.79</div> <div>E-BFMI: 0.72</div> <div>Step size: 0.04</div> <div>Total gradient evaluations: 2e+05 (162us)</div> <div>Total time:  0: 1:24</div>"
      ]
     },
     "metadata": {},
     "output_type": "display_data"
    },
    {
     "data": {
      "text/html": [
       "<b>Chain 1 Complete</b>: <div>Iteration: 1000 (40ms)</div> <div>Acceptance rate: 0.80</div> <div>E-BFMI: 0.63</div> <div>Step size: 0.03</div> <div>Total gradient evaluations: 2e+05 (237us)</div> <div>Total time:  0: 1:25</div>"
      ]
     },
     "metadata": {},
     "output_type": "display_data"
    },
    {
     "data": {
      "text/html": [
       "<b>Chain 1 Complete</b>: <div>Iteration: 1000 (40ms)</div> <div>Acceptance rate: 0.81</div> <div>E-BFMI: 0.81</div> <div>Step size: 0.04</div> <div>Total gradient evaluations: 2e+05 (212us)</div> <div>Total time:  0: 1:25</div>"
      ]
     },
     "metadata": {},
     "output_type": "display_data"
    },
    {
     "data": {
      "text/html": [
       "<b>Chain 1 Complete</b>: <div>Iteration: 1000 (41ms)</div> <div>Acceptance rate: 0.78</div> <div>E-BFMI: 0.65</div> <div>Step size: 0.03</div> <div>Total gradient evaluations: 2e+05 (177us)</div> <div>Total time:  0: 1:27</div>"
      ]
     },
     "metadata": {},
     "output_type": "display_data"
    },
    {
     "data": {
      "text/html": [
       "<b>Chain 1 Complete</b>: <div>Iteration: 1000 (41ms)</div> <div>Acceptance rate: 0.79</div> <div>E-BFMI: 0.76</div> <div>Step size: 0.04</div> <div>Total gradient evaluations: 2e+05 (164us)</div> <div>Total time:  0: 1:26</div>"
      ]
     },
     "metadata": {},
     "output_type": "display_data"
    },
    {
     "name": "stdout",
     "output_type": "stream",
     "text": [
      "Ireland [done]\n"
     ]
    },
    {
     "data": {
      "text/html": [
       "<b>Chain 1 Complete</b>: <div>Iteration: 1000 (41ms)</div> <div>Acceptance rate: 0.74</div> <div>E-BFMI: 0.62</div> <div>Step size: 0.004</div> <div>Total gradient evaluations: 2e+05 (155us)</div> <div>Total time:  0: 1:26</div>"
      ]
     },
     "metadata": {},
     "output_type": "display_data"
    },
    {
     "data": {
      "text/html": [
       "<b>Chain 1 Complete</b>: <div>Iteration: 1000 (41ms)</div> <div>Acceptance rate: 0.83</div> <div>E-BFMI: 0.68</div> <div>Step size: 0.02</div> <div>Total gradient evaluations: 2e+05 (175us)</div> <div>Total time:  0: 1:26</div>"
      ]
     },
     "metadata": {},
     "output_type": "display_data"
    },
    {
     "name": "stdout",
     "output_type": "stream",
     "text": [
      "Belgium [done]\n"
     ]
    },
    {
     "data": {
      "text/html": [
       "<b>Chain 1 Complete</b>: <div>Iteration: 1000 (41ms)</div> <div>Acceptance rate: 0.79</div> <div>E-BFMI: 0.67</div> <div>Step size: 0.02</div> <div>Total gradient evaluations: 2e+05 (171us)</div> <div>Total time:  0: 1:26</div>"
      ]
     },
     "metadata": {},
     "output_type": "display_data"
    },
    {
     "name": "stdout",
     "output_type": "stream",
     "text": [
      "Romania [done]\n",
      "Switzerland [done]\n"
     ]
    },
    {
     "data": {
      "text/html": [
       "<b>Chain 1 Complete</b>: <div>Iteration: 1000 (39ms)</div> <div>Acceptance rate: 0.59</div> <div>E-BFMI: 0.67</div> <div>Step size: 0.004</div> <div>Total gradient evaluations: 2e+05 (191us)</div> <div>Total time:  0: 1:22</div>"
      ]
     },
     "metadata": {},
     "output_type": "display_data"
    },
    {
     "data": {
      "text/html": [
       "<b>Chain 1 Complete</b>: <div>Iteration: 1000 (41ms)</div> <div>Acceptance rate: 0.81</div> <div>E-BFMI: 0.65</div> <div>Step size: 0.04</div> <div>Total gradient evaluations: 2e+05 (183us)</div> <div>Total time:  0: 1:24</div>"
      ]
     },
     "metadata": {},
     "output_type": "display_data"
    },
    {
     "data": {
      "text/html": [
       "<b>Chain 1 Complete</b>: <div>Iteration: 1000 (41ms)</div> <div>Acceptance rate: 0.83</div> <div>E-BFMI: 0.72</div> <div>Step size: 0.03</div> <div>Total gradient evaluations: 2e+05 (242us)</div> <div>Total time:  0: 1:24</div>"
      ]
     },
     "metadata": {},
     "output_type": "display_data"
    },
    {
     "data": {
      "text/html": [
       "<b>Chain 2 Complete</b>: <div>Iteration: 1000 (40ms)</div> <div>Acceptance rate: 0.96</div> <div>E-BFMI: 0.67</div> <div>Step size: 0.002</div> <div>Total gradient evaluations: 2e+05 (181us)</div> <div>Total time:  0: 1:19</div>"
      ]
     },
     "metadata": {},
     "output_type": "display_data"
    },
    {
     "data": {
      "text/html": [
       "<b>Chain 2 Complete</b>: <div>Iteration: 1000 (40ms)</div> <div>Acceptance rate: 0.84</div> <div>E-BFMI: 0.71</div> <div>Step size: 0.03</div> <div>Total gradient evaluations: 2e+05 (203us)</div> <div>Total time:  0: 1:19</div>"
      ]
     },
     "metadata": {},
     "output_type": "display_data"
    },
    {
     "data": {
      "text/html": [
       "<b>Chain 2 Complete</b>: <div>Iteration: 1000 (41ms)</div> <div>Acceptance rate: 0.84</div> <div>E-BFMI: 0.76</div> <div>Step size: 0.04</div> <div>Total gradient evaluations: 2e+05 (159us)</div> <div>Total time:  0: 1:20</div>"
      ]
     },
     "metadata": {},
     "output_type": "display_data"
    },
    {
     "data": {
      "text/html": [
       "<b>Chain 2 Complete</b>: <div>Iteration: 1000 (40ms)</div> <div>Acceptance rate: 0.84</div> <div>E-BFMI: 0.71</div> <div>Step size: 0.04</div> <div>Total gradient evaluations: 2e+05 (161us)</div> <div>Total time:  0: 1:19</div>"
      ]
     },
     "metadata": {},
     "output_type": "display_data"
    },
    {
     "data": {
      "text/html": [
       "<b>Chain 2 Complete</b>: <div>Iteration: 1000 (40ms)</div> <div>Acceptance rate: 0.84</div> <div>E-BFMI: 0.75</div> <div>Step size: 0.04</div> <div>Total gradient evaluations: 2e+05 (227us)</div> <div>Total time:  0: 1:19</div>"
      ]
     },
     "metadata": {},
     "output_type": "display_data"
    },
    {
     "data": {
      "text/html": [
       "<b>Chain 2 Complete</b>: <div>Iteration: 1000 (40ms)</div> <div>Acceptance rate: 0.77</div> <div>E-BFMI: 0.66</div> <div>Step size: 0.004</div> <div>Total gradient evaluations: 2e+05 (173us)</div> <div>Total time:  0: 1:19</div>"
      ]
     },
     "metadata": {},
     "output_type": "display_data"
    },
    {
     "data": {
      "text/html": [
       "<b>Chain 2 Complete</b>: <div>Iteration: 1000 (40ms)</div> <div>Acceptance rate: 0.84</div> <div>E-BFMI: 0.71</div> <div>Step size: 0.03</div> <div>Total gradient evaluations: 2e+05 (205us)</div> <div>Total time:  0: 1:20</div>"
      ]
     },
     "metadata": {},
     "output_type": "display_data"
    },
    {
     "data": {
      "text/html": [
       "<b>Chain 2 Complete</b>: <div>Iteration: 1000 (40ms)</div> <div>Acceptance rate: 0.76</div> <div>E-BFMI: 0.78</div> <div>Step size: 0.04</div> <div>Total gradient evaluations: 2e+05 (154us)</div> <div>Total time:  0: 1:20</div>"
      ]
     },
     "metadata": {},
     "output_type": "display_data"
    },
    {
     "data": {
      "text/html": [
       "<b>Chain 2 Complete</b>: <div>Iteration: 1000 (31ms)</div> <div>Acceptance rate: 0.83</div> <div>E-BFMI: 0.74</div> <div>Step size: 0.03</div> <div>Total gradient evaluations: 2e+05 (149us)</div> <div>Total time:  0: 1:20</div>"
      ]
     },
     "metadata": {},
     "output_type": "display_data"
    },
    {
     "data": {
      "text/html": [
       "<b>Chain 2 Complete</b>: <div>Iteration: 1000 (32ms)</div> <div>Acceptance rate: 0.90</div> <div>E-BFMI: 1.85</div> <div>Step size: 0.0002</div> <div>Total gradient evaluations: 2e+05 (102us)</div> <div>Total time:  0: 1:20</div>"
      ]
     },
     "metadata": {},
     "output_type": "display_data"
    },
    {
     "data": {
      "text/html": [
       "<b>Chain 2 Complete</b>: <div>Iteration: 1000 (33ms)</div> <div>Acceptance rate: 0.85</div> <div>E-BFMI: 0.57</div> <div>Step size: 0.02</div> <div>Total gradient evaluations: 2e+05 (143us)</div> <div>Total time:  0: 1:20</div>"
      ]
     },
     "metadata": {},
     "output_type": "display_data"
    },
    {
     "data": {
      "text/html": [
       "<b>Chain 2 Complete</b>: <div>Iteration: 1000 (31ms)</div> <div>Acceptance rate: 0.80</div> <div>E-BFMI: 0.74</div> <div>Step size: 0.03</div> <div>Total gradient evaluations: 2e+05 (149us)</div> <div>Total time:  0: 1:21</div>"
      ]
     },
     "metadata": {},
     "output_type": "display_data"
    },
    {
     "data": {
      "text/html": [
       "<b>Chain 2 Complete</b>: <div>Iteration: 1000 (32ms)</div> <div>Acceptance rate: 0.86</div> <div>E-BFMI: 0.74</div> <div>Step size: 0.02</div> <div>Total gradient evaluations: 2e+05 (120us)</div> <div>Total time:  0: 1:20</div>"
      ]
     },
     "metadata": {},
     "output_type": "display_data"
    },
    {
     "data": {
      "text/html": [
       "<b>Chain 2 Complete</b>: <div>Iteration: 1000 (31ms)</div> <div>Acceptance rate: 0.85</div> <div>E-BFMI: 0.68</div> <div>Step size: 0.03</div> <div>Total gradient evaluations: 2e+05 (244us)</div> <div>Total time:  0: 1:20</div>"
      ]
     },
     "metadata": {},
     "output_type": "display_data"
    },
    {
     "data": {
      "text/html": [
       "<b>Chain 2 Complete</b>: <div>Iteration: 1000 (32ms)</div> <div>Acceptance rate: 0.83</div> <div>E-BFMI: 0.70</div> <div>Step size: 0.04</div> <div>Total gradient evaluations: 2e+05 (108us)</div> <div>Total time:  0: 1:19</div>"
      ]
     },
     "metadata": {},
     "output_type": "display_data"
    },
    {
     "name": "stdout",
     "output_type": "stream",
     "text": [
      "United_Kingdom [done]\n",
      "Lithuania [done]\n",
      "Estonia [done]\n"
     ]
    },
    {
     "data": {
      "text/html": [
       "<b>Chain 1 Complete</b>: <div>Iteration: 1000 (13ms)</div> <div>Acceptance rate: 0.81</div> <div>E-BFMI: 0.64</div> <div>Step size: 0.04</div> <div>Total gradient evaluations: 2e+05 (73us)</div> <div>Total time: 33s</div>"
      ]
     },
     "metadata": {},
     "output_type": "display_data"
    },
    {
     "name": "stdout",
     "output_type": "stream",
     "text": [
      "Italy [done]\n",
      "Greece [done]\n",
      "Cyprus [done]\n",
      "Norway [done]\n",
      "Slovenia [done]\n",
      "Poland [done]\n",
      "Latvia [done]\n",
      "Denmark [done]\n",
      "Spain [done]\n",
      "Croatia [done]\n",
      "Czechia [done]\n",
      "Bulgaria [done]\n"
     ]
    },
    {
     "data": {
      "text/html": [
       "<b>Chain 2 Complete</b>: <div>Iteration: 1000 (16ms)</div> <div>Acceptance rate: 0.83</div> <div>E-BFMI: 0.55</div> <div>Step size: 0.04</div> <div>Total gradient evaluations: 2e+05 (76us)</div> <div>Total time: 33s</div>"
      ]
     },
     "metadata": {},
     "output_type": "display_data"
    },
    {
     "name": "stdout",
     "output_type": "stream",
     "text": [
      "Luxembourg [done]\n",
      "Elapsed time: 409622 ms\n"
     ]
    },
    {
     "data": {
      "text/plain": [
       "\u001b[32mimport \u001b[39m\u001b[36mscala.util.Try\n",
       "\n",
       "\u001b[39m\n",
       "\u001b[36mcountryStats\u001b[39m: \u001b[32mMap\u001b[39m[\u001b[32mString\u001b[39m, \u001b[32mEither\u001b[39m[\u001b[32mThrowable\u001b[39m, \u001b[32mRtsDistributionStats\u001b[39m]] = \u001b[33mMap\u001b[39m(\n",
       "  \u001b[32m\"Poland\"\u001b[39m -> \u001b[33mRight\u001b[39m(\n",
       "    \u001b[33mRtsDistributionStats\u001b[39m(\n",
       "      \u001b[33mVector\u001b[39m(\n",
       "        (\u001b[32m0\u001b[39m, \u001b[32m1.422182139388103\u001b[39m),\n",
       "        (\u001b[32m1\u001b[39m, \u001b[32m1.4197010432293768\u001b[39m),\n",
       "        (\u001b[32m2\u001b[39m, \u001b[32m1.417381080459679\u001b[39m),\n",
       "        (\u001b[32m3\u001b[39m, \u001b[32m1.4181090655613655\u001b[39m),\n",
       "        (\u001b[32m4\u001b[39m, \u001b[32m1.4180131516343653\u001b[39m),\n",
       "        (\u001b[32m5\u001b[39m, \u001b[32m1.4192425117136884\u001b[39m),\n",
       "        (\u001b[32m6\u001b[39m, \u001b[32m1.4166280069752113\u001b[39m),\n",
       "        (\u001b[32m7\u001b[39m, \u001b[32m1.415476300783011\u001b[39m),\n",
       "        (\u001b[32m8\u001b[39m, \u001b[32m1.4182780488495725\u001b[39m),\n",
       "        (\u001b[32m9\u001b[39m, \u001b[32m1.4210860990782657\u001b[39m),\n",
       "        (\u001b[32m10\u001b[39m, \u001b[32m1.4241655262050719\u001b[39m),\n",
       "        (\u001b[32m11\u001b[39m, \u001b[32m1.4242467679964645\u001b[39m),\n",
       "        (\u001b[32m12\u001b[39m, \u001b[32m1.4243701954873036\u001b[39m),\n",
       "        (\u001b[32m13\u001b[39m, \u001b[32m1.4238767074416512\u001b[39m),\n",
       "        (\u001b[32m14\u001b[39m, \u001b[32m1.4237227692095378\u001b[39m),\n",
       "        (\u001b[32m15\u001b[39m, \u001b[32m1.42629175948355\u001b[39m),\n",
       "        (\u001b[32m16\u001b[39m, \u001b[32m1.4275694651409452\u001b[39m),\n",
       "        (\u001b[32m17\u001b[39m, \u001b[32m1.4247093578571814\u001b[39m),\n",
       "        (\u001b[32m18\u001b[39m, \u001b[32m1.4241252477998583\u001b[39m),\n",
       "        (\u001b[32m19\u001b[39m, \u001b[32m1.425425362918626\u001b[39m),\n",
       "        (\u001b[32m20\u001b[39m, \u001b[32m1.421344912048367\u001b[39m),\n",
       "        (\u001b[32m21\u001b[39m, \u001b[32m1.4162305198959135\u001b[39m),\n",
       "        (\u001b[32m22\u001b[39m, \u001b[32m1.4109261801197044\u001b[39m),\n",
       "        (\u001b[32m23\u001b[39m, \u001b[32m1.4010919079726856\u001b[39m),\n",
       "        (\u001b[32m24\u001b[39m, \u001b[32m1.3950801412654577\u001b[39m),\n",
       "        (\u001b[32m25\u001b[39m, \u001b[32m1.3851933175974562\u001b[39m),\n",
       "        (\u001b[32m26\u001b[39m, \u001b[32m1.3785761853380636\u001b[39m),\n",
       "        (\u001b[32m27\u001b[39m, \u001b[32m1.3686782921556482\u001b[39m),\n",
       "        (\u001b[32m28\u001b[39m, \u001b[32m1.3555897429481825\u001b[39m),\n",
       "        (\u001b[32m29\u001b[39m, \u001b[32m1.3474121481992223\u001b[39m),\n",
       "        (\u001b[32m30\u001b[39m, \u001b[32m1.336631853588466\u001b[39m),\n",
       "        (\u001b[32m31\u001b[39m, \u001b[32m1.3220822930778466\u001b[39m),\n",
       "        (\u001b[32m32\u001b[39m, \u001b[32m1.3102711020938351\u001b[39m),\n",
       "        (\u001b[32m33\u001b[39m, \u001b[32m1.2931291622963788\u001b[39m),\n",
       "        (\u001b[32m34\u001b[39m, \u001b[32m1.2800950807562699\u001b[39m),\n",
       "..."
      ]
     },
     "execution_count": 20,
     "metadata": {},
     "output_type": "execute_result"
    }
   ],
   "source": [
    "import scala.util.Try\n",
    "\n",
    "val countryStats: Map[String, Either[Throwable, RtsDistributionStats]] = {\n",
    "    assert(countriesToPredict.toSet.subsetOf(countriesOnsetData.map(_(\"country\")).toSet))\n",
    "    val allStats = time {\n",
    "        countriesToPredict.par.map { countryName =>\n",
    "            val caseNumbers = countriesOnsetData.collect {\n",
    "                case m if m(\"country\") == countryName => m(\"Onset\").toDouble.round\n",
    "            }\n",
    "            val possiblyFailed: Try[RtsDistributionStats] = Try { \n",
    "               val RtModelEstimates(rts,estimates, serialInterval, serialEstimates) = predictRt(caseNumbers, pdelay, failedRunDetection = false)\n",
    "               val stats@RtsDistributionStats(means, hdpis) = distributionStats(rts, estimates)\n",
    "               println(s\"$countryName [done]\")\n",
    "               stats\n",
    "            }\n",
    "            countryName -> possiblyFailed.toEither\n",
    "        }.seq\n",
    "    }\n",
    "    allStats.toMap\n",
    "}"
   ]
  },
  {
   "cell_type": "code",
   "execution_count": 21,
   "metadata": {
    "scrolled": true
   },
   "outputs": [
    {
     "data": {
      "text/plain": [
       "\u001b[36mfailedToConverge\u001b[39m: \u001b[32mcollection\u001b[39m.\u001b[32mimmutable\u001b[39m.\u001b[32mIterable\u001b[39m[\u001b[32mString\u001b[39m] = \u001b[33mList\u001b[39m()"
      ]
     },
     "execution_count": 21,
     "metadata": {},
     "output_type": "execute_result"
    }
   ],
   "source": [
    "val failedToConverge = countryStats collect {\n",
    "    case (countryName, res) if res.isLeft => countryName\n",
    "}"
   ]
  },
  {
   "cell_type": "code",
   "execution_count": 22,
   "metadata": {},
   "outputs": [
    {
     "data": {
      "text/plain": [
       "\u001b[36mcountriesTriedOneMoreTime\u001b[39m: \u001b[32mSeq\u001b[39m[(\u001b[32mString\u001b[39m, \u001b[32mRtsDistributionStats\u001b[39m)] = \u001b[33mList\u001b[39m()"
      ]
     },
     "execution_count": 22,
     "metadata": {},
     "output_type": "execute_result"
    }
   ],
   "source": [
    "// co\n",
    "val countriesTriedOneMoreTime = failedToConverge.toSeq map { countryName =>\n",
    "    println(countryName)\n",
    "    val onsetNumbers = countriesOnsetData.collect {\n",
    "        case m if m(\"country\") == countryName => m(\"Onset\").toDouble.round\n",
    "    }\n",
    "    val RtModelEstimates(rts,estimates, serialInterval, serialEstimates) = time { \n",
    "        val res = predictRt(onsetNumbers, pdelay, failedRunDetection = false)\n",
    "        res\n",
    "    }\n",
    "    countryName -> distributionStats(rts, estimates)\n",
    "}"
   ]
  },
  {
   "cell_type": "code",
   "execution_count": 23,
   "metadata": {},
   "outputs": [
    {
     "data": {
      "text/plain": [
       "\u001b[36mfinalCountryStats\u001b[39m: \u001b[32mMap\u001b[39m[\u001b[32mString\u001b[39m, \u001b[32mRtsDistributionStats\u001b[39m] = \u001b[33mMap\u001b[39m(\n",
       "  \u001b[32m\"Poland\"\u001b[39m -> \u001b[33mRtsDistributionStats\u001b[39m(\n",
       "    \u001b[33mVector\u001b[39m(\n",
       "      (\u001b[32m0\u001b[39m, \u001b[32m1.422182139388103\u001b[39m),\n",
       "      (\u001b[32m1\u001b[39m, \u001b[32m1.4197010432293768\u001b[39m),\n",
       "      (\u001b[32m2\u001b[39m, \u001b[32m1.417381080459679\u001b[39m),\n",
       "      (\u001b[32m3\u001b[39m, \u001b[32m1.4181090655613655\u001b[39m),\n",
       "      (\u001b[32m4\u001b[39m, \u001b[32m1.4180131516343653\u001b[39m),\n",
       "      (\u001b[32m5\u001b[39m, \u001b[32m1.4192425117136884\u001b[39m),\n",
       "      (\u001b[32m6\u001b[39m, \u001b[32m1.4166280069752113\u001b[39m),\n",
       "      (\u001b[32m7\u001b[39m, \u001b[32m1.415476300783011\u001b[39m),\n",
       "      (\u001b[32m8\u001b[39m, \u001b[32m1.4182780488495725\u001b[39m),\n",
       "      (\u001b[32m9\u001b[39m, \u001b[32m1.4210860990782657\u001b[39m),\n",
       "      (\u001b[32m10\u001b[39m, \u001b[32m1.4241655262050719\u001b[39m),\n",
       "      (\u001b[32m11\u001b[39m, \u001b[32m1.4242467679964645\u001b[39m),\n",
       "      (\u001b[32m12\u001b[39m, \u001b[32m1.4243701954873036\u001b[39m),\n",
       "      (\u001b[32m13\u001b[39m, \u001b[32m1.4238767074416512\u001b[39m),\n",
       "      (\u001b[32m14\u001b[39m, \u001b[32m1.4237227692095378\u001b[39m),\n",
       "      (\u001b[32m15\u001b[39m, \u001b[32m1.42629175948355\u001b[39m),\n",
       "      (\u001b[32m16\u001b[39m, \u001b[32m1.4275694651409452\u001b[39m),\n",
       "      (\u001b[32m17\u001b[39m, \u001b[32m1.4247093578571814\u001b[39m),\n",
       "      (\u001b[32m18\u001b[39m, \u001b[32m1.4241252477998583\u001b[39m),\n",
       "      (\u001b[32m19\u001b[39m, \u001b[32m1.425425362918626\u001b[39m),\n",
       "      (\u001b[32m20\u001b[39m, \u001b[32m1.421344912048367\u001b[39m),\n",
       "      (\u001b[32m21\u001b[39m, \u001b[32m1.4162305198959135\u001b[39m),\n",
       "      (\u001b[32m22\u001b[39m, \u001b[32m1.4109261801197044\u001b[39m),\n",
       "      (\u001b[32m23\u001b[39m, \u001b[32m1.4010919079726856\u001b[39m),\n",
       "      (\u001b[32m24\u001b[39m, \u001b[32m1.3950801412654577\u001b[39m),\n",
       "      (\u001b[32m25\u001b[39m, \u001b[32m1.3851933175974562\u001b[39m),\n",
       "      (\u001b[32m26\u001b[39m, \u001b[32m1.3785761853380636\u001b[39m),\n",
       "      (\u001b[32m27\u001b[39m, \u001b[32m1.3686782921556482\u001b[39m),\n",
       "      (\u001b[32m28\u001b[39m, \u001b[32m1.3555897429481825\u001b[39m),\n",
       "      (\u001b[32m29\u001b[39m, \u001b[32m1.3474121481992223\u001b[39m),\n",
       "      (\u001b[32m30\u001b[39m, \u001b[32m1.336631853588466\u001b[39m),\n",
       "      (\u001b[32m31\u001b[39m, \u001b[32m1.3220822930778466\u001b[39m),\n",
       "      (\u001b[32m32\u001b[39m, \u001b[32m1.3102711020938351\u001b[39m),\n",
       "      (\u001b[32m33\u001b[39m, \u001b[32m1.2931291622963788\u001b[39m),\n",
       "      (\u001b[32m34\u001b[39m, \u001b[32m1.2800950807562699\u001b[39m),\n",
       "      (\u001b[32m35\u001b[39m, \u001b[32m1.2656415714457394\u001b[39m),\n",
       "..."
      ]
     },
     "execution_count": 23,
     "metadata": {},
     "output_type": "execute_result"
    }
   ],
   "source": [
    "val finalCountryStats = (countryStats collect {\n",
    "    case (countryName, Right(stats)) => countryName -> stats\n",
    "})// ++ countriesTriedOneMoreTime"
   ]
  },
  {
   "cell_type": "code",
   "execution_count": 24,
   "metadata": {},
   "outputs": [
    {
     "data": {
      "text/plain": [
       "\u001b[36mcountryStats\u001b[39m: \u001b[32mMap\u001b[39m[\u001b[32mString\u001b[39m, \u001b[32mRtsDistributionStats\u001b[39m] = \u001b[33mMap\u001b[39m(\n",
       "  \u001b[32m\"Poland\"\u001b[39m -> \u001b[33mRtsDistributionStats\u001b[39m(\n",
       "    \u001b[33mVector\u001b[39m(\n",
       "      (\u001b[32m0\u001b[39m, \u001b[32m1.422182139388103\u001b[39m),\n",
       "      (\u001b[32m1\u001b[39m, \u001b[32m1.4197010432293768\u001b[39m),\n",
       "      (\u001b[32m2\u001b[39m, \u001b[32m1.417381080459679\u001b[39m),\n",
       "      (\u001b[32m3\u001b[39m, \u001b[32m1.4181090655613655\u001b[39m),\n",
       "      (\u001b[32m4\u001b[39m, \u001b[32m1.4180131516343653\u001b[39m),\n",
       "      (\u001b[32m5\u001b[39m, \u001b[32m1.4192425117136884\u001b[39m),\n",
       "      (\u001b[32m6\u001b[39m, \u001b[32m1.4166280069752113\u001b[39m),\n",
       "      (\u001b[32m7\u001b[39m, \u001b[32m1.415476300783011\u001b[39m),\n",
       "      (\u001b[32m8\u001b[39m, \u001b[32m1.4182780488495725\u001b[39m),\n",
       "      (\u001b[32m9\u001b[39m, \u001b[32m1.4210860990782657\u001b[39m),\n",
       "      (\u001b[32m10\u001b[39m, \u001b[32m1.4241655262050719\u001b[39m),\n",
       "      (\u001b[32m11\u001b[39m, \u001b[32m1.4242467679964645\u001b[39m),\n",
       "      (\u001b[32m12\u001b[39m, \u001b[32m1.4243701954873036\u001b[39m),\n",
       "      (\u001b[32m13\u001b[39m, \u001b[32m1.4238767074416512\u001b[39m),\n",
       "      (\u001b[32m14\u001b[39m, \u001b[32m1.4237227692095378\u001b[39m),\n",
       "      (\u001b[32m15\u001b[39m, \u001b[32m1.42629175948355\u001b[39m),\n",
       "      (\u001b[32m16\u001b[39m, \u001b[32m1.4275694651409452\u001b[39m),\n",
       "      (\u001b[32m17\u001b[39m, \u001b[32m1.4247093578571814\u001b[39m),\n",
       "      (\u001b[32m18\u001b[39m, \u001b[32m1.4241252477998583\u001b[39m),\n",
       "      (\u001b[32m19\u001b[39m, \u001b[32m1.425425362918626\u001b[39m),\n",
       "      (\u001b[32m20\u001b[39m, \u001b[32m1.421344912048367\u001b[39m),\n",
       "      (\u001b[32m21\u001b[39m, \u001b[32m1.4162305198959135\u001b[39m),\n",
       "      (\u001b[32m22\u001b[39m, \u001b[32m1.4109261801197044\u001b[39m),\n",
       "      (\u001b[32m23\u001b[39m, \u001b[32m1.4010919079726856\u001b[39m),\n",
       "      (\u001b[32m24\u001b[39m, \u001b[32m1.3950801412654577\u001b[39m),\n",
       "      (\u001b[32m25\u001b[39m, \u001b[32m1.3851933175974562\u001b[39m),\n",
       "      (\u001b[32m26\u001b[39m, \u001b[32m1.3785761853380636\u001b[39m),\n",
       "      (\u001b[32m27\u001b[39m, \u001b[32m1.3686782921556482\u001b[39m),\n",
       "      (\u001b[32m28\u001b[39m, \u001b[32m1.3555897429481825\u001b[39m),\n",
       "      (\u001b[32m29\u001b[39m, \u001b[32m1.3474121481992223\u001b[39m),\n",
       "      (\u001b[32m30\u001b[39m, \u001b[32m1.336631853588466\u001b[39m),\n",
       "      (\u001b[32m31\u001b[39m, \u001b[32m1.3220822930778466\u001b[39m),\n",
       "      (\u001b[32m32\u001b[39m, \u001b[32m1.3102711020938351\u001b[39m),\n",
       "      (\u001b[32m33\u001b[39m, \u001b[32m1.2931291622963788\u001b[39m),\n",
       "      (\u001b[32m34\u001b[39m, \u001b[32m1.2800950807562699\u001b[39m),\n",
       "      (\u001b[32m35\u001b[39m, \u001b[32m1.2656415714457394\u001b[39m),\n",
       "..."
      ]
     },
     "execution_count": 24,
     "metadata": {},
     "output_type": "execute_result"
    }
   ],
   "source": [
    "// override the previous variable so the rest of the notebook works fine\n",
    "val countryStats = finalCountryStats"
   ]
  },
  {
   "cell_type": "code",
   "execution_count": 25,
   "metadata": {
    "scrolled": false
   },
   "outputs": [
    {
     "data": {
      "image/png": "[encoded data removed]"
     },
     "metadata": {
      "height": "1600",
      "width": "1636"
     },
     "output_type": "display_data"
    }
   ],
   "source": [
    "{{\n",
    "    val RtsDistributionStats(means, hdpis) = countryStats(\"Italy\")\n",
    "    //  val RtsDistributionStats(means, hdpis) = countryStats(\"Austria\")\n",
    "    show(\"t\", \"Rt\", line(means), shade(hdpis))\n",
    "}}"
   ]
  },
  {
   "cell_type": "code",
   "execution_count": 26,
   "metadata": {},
   "outputs": [
    {
     "data": {
      "text/plain": [
       "defined \u001b[32mfunction\u001b[39m \u001b[36mdatesForCountry\u001b[39m"
      ]
     },
     "execution_count": 26,
     "metadata": {},
     "output_type": "execute_result"
    }
   ],
   "source": [
    "def datesForCountry(country: String) = {\n",
    "    countriesOnsetData.collect {\n",
    "        case m if m(\"country\") == country => m(\"date\")\n",
    "    }\n",
    "}"
   ]
  },
  {
   "cell_type": "code",
   "execution_count": 27,
   "metadata": {},
   "outputs": [
    {
     "data": {
      "text/plain": [
       "defined \u001b[32mfunction\u001b[39m \u001b[36mwriteStatsToCsv\u001b[39m"
      ]
     },
     "execution_count": 27,
     "metadata": {},
     "output_type": "execute_result"
    }
   ],
   "source": [
    "def writeStatsToCsv(country: String, stats: RtsDistributionStats, csvWriter: CSVWriter): Unit = {\n",
    "    val xs = stats.means.unzip._2 zip stats.hdpis.unzip._2\n",
    "    val dates = datesForCountry(country)\n",
    "//     assert(xs.size == dates.size, s\"${xs.size} != ${dates.size}\")\n",
    "    (xs zip dates) foreach {\n",
    "        case ((mean, (low90, high90)), date) => \n",
    "            csvWriter.writeRow(country :: date :: mean.toString :: low90.toString :: high90.toString :: Nil)\n",
    "    }\n",
    "}"
   ]
  },
  {
   "cell_type": "code",
   "execution_count": 28,
   "metadata": {
    "scrolled": true
   },
   "outputs": [
    {
     "data": {
      "text/plain": [
       "\u001b[36mcsvWriter\u001b[39m: \u001b[32mCSVWriter\u001b[39m = com.github.tototoshi.csv.CSVWriter@7df77aad"
      ]
     },
     "execution_count": 28,
     "metadata": {},
     "output_type": "execute_result"
    }
   ],
   "source": [
    "val csvWriter = CSVWriter.open(new File(\"data/rt-rainier.csv\"))"
   ]
  },
  {
   "cell_type": "code",
   "execution_count": 29,
   "metadata": {},
   "outputs": [],
   "source": [
    "csvWriter.writeRow(List(\"country\", \"date\", \"ML\", \"Low_90\", \"High_90\"))"
   ]
  },
  {
   "cell_type": "code",
   "execution_count": 30,
   "metadata": {},
   "outputs": [],
   "source": [
    "countryStats.toList.sortBy(_._1).foreach {\n",
    "    case (country, stats) => writeStatsToCsv(country, stats, csvWriter)\n",
    "}"
   ]
  },
  {
   "cell_type": "code",
   "execution_count": 31,
   "metadata": {},
   "outputs": [],
   "source": [
    "csvWriter.close()"
   ]
  },
  {
   "cell_type": "markdown",
   "metadata": {},
   "source": [
    "Changes from the original model:\n",
    "* run the markov process with log(R_t) to ensure that it always stays positive\n",
    "* use a Laplace transition to strongly regularize\n",
    "* put a prior on the std dev of the transition, rather than fixing it\n",
    "* put a prior on the serial interval rather than fixing it"
   ]
  },
  {
   "cell_type": "markdown",
   "metadata": {},
   "source": [
    "## Original code from Avi Bryant"
   ]
  },
  {
   "cell_type": "code",
   "execution_count": null,
   "metadata": {},
   "outputs": [],
   "source": [
    "val (model, rts) =  {\n",
    "    val (xs, ys) = data.unzip\n",
    "\n",
    "    val serialInterval = Normal(5,2).latent\n",
    "    val logR0 = Normal(0, 1).latent\n",
    "    val sigma = Exponential(10).latent\n",
    "    val diffs = Laplace(0,sigma).latentVec(data.size)\n",
    "    val logRts = Vec.from(diffs.toList.scanLeft(logR0)(_ + _))\n",
    "    val likelihoods = Vec.from(xs).map{case (i, kt_prev) => \n",
    "        val lambda = ((logRts(i).exp - 1)/serialInterval).exp * kt_prev\n",
    "        Poisson(lambda)\n",
    "    }\n",
    "\n",
    "    (Model.observe(ys, likelihoods), logRts.map(_.exp))\n",
    "}"
   ]
  },
  {
   "cell_type": "markdown",
   "metadata": {},
   "source": [
    "This seems to work best (and fastest) with a dead simple HMC(100) sampler, no mass matrix or path length adapation."
   ]
  },
  {
   "cell_type": "code",
   "execution_count": null,
   "metadata": {},
   "outputs": [],
   "source": [
    "val samplerConfig = new DefaultConfig {\n",
    "    override def massMatrixTuner() = new IdentityMassMatrixTuner\n",
    "    override def sampler() = new HMCSampler(100)\n",
    "}\n",
    "val trace = model.sample(samplerConfig, 2)"
   ]
  },
  {
   "cell_type": "code",
   "execution_count": null,
   "metadata": {},
   "outputs": [],
   "source": [
    "{{\n",
    "    val rtForecasts = trace.predict(rts)\n",
    "    val means = 0.until(rts.size).map{i => (i,mean(rtForecasts.map(_(i))))}\n",
    "    val hdpis = 0.until(rts.size).map{i => (i, hdpi(rtForecasts.map(_(i))))}\n",
    "    show(\"t\", \"Rt\", line(means), shade(hdpis))\n",
    "}}"
   ]
  },
  {
   "cell_type": "code",
   "execution_count": null,
   "metadata": {},
   "outputs": [],
   "source": [
    "rts"
   ]
  },
  {
   "cell_type": "code",
   "execution_count": null,
   "metadata": {},
   "outputs": [],
   "source": []
  }
 ],
 "metadata": {
  "kernelspec": {
   "display_name": "Rainier (Scala 2.12)",
   "language": "scala",
   "name": "rainier"
  },
  "language_info": {
   "codemirror_mode": "text/x-scala",
   "file_extension": ".scala",
   "mimetype": "text/x-scala",
   "name": "scala",
   "nbconvert_exporter": "script",
   "version": "2.12.10"
  }
 },
 "nbformat": 4,
 "nbformat_minor": 2
}

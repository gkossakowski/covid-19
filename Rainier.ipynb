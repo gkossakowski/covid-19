{
 "cells": [
  {
   "cell_type": "markdown",
   "metadata": {},
   "source": [
    "# Estimating COVID-19's $R_t$ with Rainier (ported from PYMC)"
   ]
  },
  {
   "cell_type": "markdown",
   "metadata": {},
   "source": [
    "Grzegorz Kossakowski & Maciek Zdanowicz - May 5 (beta)\n",
    "\n",
    "Model originally built by [Kevin Systrom](https://twitter.com/kevin) in `Realtime Rt mcmc.ipynb` notebook, ported to [Rainier](https://rainier.fit) with lots of help from [Avi Bryant](https://twitter.com/avibryant). Model comparison for European countries is in `Realtime Rt plots only.ipynb`.\n",
    "\n",
    "This notebook requires [Almond](https://almond.sh) to run.\n",
    "\n",
    "It's a work in progress."
   ]
  },
  {
   "cell_type": "code",
   "execution_count": 86,
   "metadata": {
    "scrolled": true
   },
   "outputs": [
    {
     "data": {
      "text/plain": [
       "\u001b[32mimport \u001b[39m\u001b[36m$ivy.$                               \n",
       "\u001b[39m\n",
       "\u001b[32mimport \u001b[39m\u001b[36m$ivy.$                                   \u001b[39m"
      ]
     },
     "execution_count": 86,
     "metadata": {},
     "output_type": "execute_result"
    }
   ],
   "source": [
    "import $ivy.`com.stripe::rainier-core:0.3.3`\n",
    "import $ivy.`com.stripe::rainier-notebook:0.3.3`"
   ]
  },
  {
   "cell_type": "code",
   "execution_count": 87,
   "metadata": {},
   "outputs": [
    {
     "data": {
      "text/plain": [
       "\u001b[32mimport \u001b[39m\u001b[36mcom.stripe.rainier.compute._\n",
       "\u001b[39m\n",
       "\u001b[32mimport \u001b[39m\u001b[36mcom.stripe.rainier.core._\n",
       "\u001b[39m\n",
       "\u001b[32mimport \u001b[39m\u001b[36mcom.stripe.rainier.sampler._\n",
       "\u001b[39m\n",
       "\u001b[32mimport \u001b[39m\u001b[36mcom.stripe.rainier.notebook._\u001b[39m"
      ]
     },
     "execution_count": 87,
     "metadata": {},
     "output_type": "execute_result"
    }
   ],
   "source": [
    "import com.stripe.rainier.compute._\n",
    "import com.stripe.rainier.core._\n",
    "import com.stripe.rainier.sampler._\n",
    "import com.stripe.rainier.notebook._"
   ]
  },
  {
   "cell_type": "code",
   "execution_count": 88,
   "metadata": {},
   "outputs": [],
   "source": [
    "PPrint.register(repl)"
   ]
  },
  {
   "cell_type": "code",
   "execution_count": 89,
   "metadata": {
    "scrolled": true
   },
   "outputs": [
    {
     "data": {
      "text/plain": [
       "\u001b[32mimport \u001b[39m\u001b[36m$ivy.$                                      \n",
       "\u001b[39m\n",
       "\u001b[32mimport \u001b[39m\u001b[36mcom.github.tototoshi.csv._\n",
       "\u001b[39m\n",
       "\u001b[32mimport \u001b[39m\u001b[36mjava.io.File\n",
       "\u001b[39m\n",
       "\u001b[32mimport \u001b[39m\u001b[36mscala.util.Try\u001b[39m"
      ]
     },
     "execution_count": 89,
     "metadata": {},
     "output_type": "execute_result"
    }
   ],
   "source": [
    "import $ivy.`com.github.tototoshi::scala-csv:1.3.6`\n",
    "import com.github.tototoshi.csv._\n",
    "import java.io.File\n",
    "import scala.util.Try"
   ]
  },
  {
   "cell_type": "code",
   "execution_count": 90,
   "metadata": {},
   "outputs": [
    {
     "data": {
      "text/plain": [
       "defined \u001b[32mfunction\u001b[39m \u001b[36mtime\u001b[39m"
      ]
     },
     "execution_count": 90,
     "metadata": {},
     "output_type": "execute_result"
    }
   ],
   "source": [
    "def time[R](block: => R): R = {\n",
    "    val t0 = System.nanoTime()\n",
    "    val result = block    // call-by-name\n",
    "    val t1 = System.nanoTime()\n",
    "    val timeMilis = ((t1 - t0) / 1e6).toInt\n",
    "    println(s\"Elapsed time: $timeMilis ms\")\n",
    "    result\n",
    "}"
   ]
  },
  {
   "cell_type": "code",
   "execution_count": 91,
   "metadata": {},
   "outputs": [
    {
     "data": {
      "text/plain": [
       "\u001b[36mcountriesOnsetData\u001b[39m: \u001b[32mList\u001b[39m[\u001b[32mMap\u001b[39m[\u001b[32mString\u001b[39m, \u001b[32mString\u001b[39m]] = \u001b[33mList\u001b[39m(\n",
       "  \u001b[33mMap\u001b[39m(\n",
       "    \u001b[32m\"country\"\u001b[39m -> \u001b[32m\"Austria\"\u001b[39m,\n",
       "    \u001b[32m\"date\"\u001b[39m -> \u001b[32m\"2020-02-06\"\u001b[39m,\n",
       "    \u001b[32m\"Onset\"\u001b[39m -> \u001b[32m\"1.180164888457808\"\u001b[39m\n",
       "  ),\n",
       "  \u001b[33mMap\u001b[39m(\n",
       "    \u001b[32m\"country\"\u001b[39m -> \u001b[32m\"Austria\"\u001b[39m,\n",
       "    \u001b[32m\"date\"\u001b[39m -> \u001b[32m\"2020-02-07\"\u001b[39m,\n",
       "    \u001b[32m\"Onset\"\u001b[39m -> \u001b[32m\"1.236663433559651\"\u001b[39m\n",
       "  ),\n",
       "  \u001b[33mMap\u001b[39m(\n",
       "    \u001b[32m\"country\"\u001b[39m -> \u001b[32m\"Austria\"\u001b[39m,\n",
       "    \u001b[32m\"date\"\u001b[39m -> \u001b[32m\"2020-02-08\"\u001b[39m,\n",
       "    \u001b[32m\"Onset\"\u001b[39m -> \u001b[32m\"1.6939864209505335\"\u001b[39m\n",
       "  ),\n",
       "  \u001b[33mMap\u001b[39m(\n",
       "    \u001b[32m\"country\"\u001b[39m -> \u001b[32m\"Austria\"\u001b[39m,\n",
       "    \u001b[32m\"date\"\u001b[39m -> \u001b[32m\"2020-02-09\"\u001b[39m,\n",
       "    \u001b[32m\"Onset\"\u001b[39m -> \u001b[32m\"1.9956353055286131\"\u001b[39m\n",
       "  ),\n",
       "  \u001b[33mMap\u001b[39m(\n",
       "    \u001b[32m\"country\"\u001b[39m -> \u001b[32m\"Austria\"\u001b[39m,\n",
       "    \u001b[32m\"date\"\u001b[39m -> \u001b[32m\"2020-02-10\"\u001b[39m,\n",
       "    \u001b[32m\"Onset\"\u001b[39m -> \u001b[32m\"2.630455868089234\"\u001b[39m\n",
       "  ),\n",
       "  \u001b[33mMap\u001b[39m(\n",
       "    \u001b[32m\"country\"\u001b[39m -> \u001b[32m\"Austria\"\u001b[39m,\n",
       "    \u001b[32m\"date\"\u001b[39m -> \u001b[32m\"2020-02-11\"\u001b[39m,\n",
       "    \u001b[32m\"Onset\"\u001b[39m -> \u001b[32m\"2.842386032977692\"\u001b[39m\n",
       "  ),\n",
       "  \u001b[33mMap\u001b[39m(\n",
       "    \u001b[32m\"country\"\u001b[39m -> \u001b[32m\"Austria\"\u001b[39m,\n",
       "    \u001b[32m\"date\"\u001b[39m -> \u001b[32m\"2020-02-12\"\u001b[39m,\n",
       "    \u001b[32m\"Onset\"\u001b[39m -> \u001b[32m\"3.0227934044616878\"\u001b[39m\n",
       "  ),\n",
       "  \u001b[33mMap\u001b[39m(\n",
       "    \u001b[32m\"country\"\u001b[39m -> \u001b[32m\"Austria\"\u001b[39m,\n",
       "    \u001b[32m\"date\"\u001b[39m -> \u001b[32m\"2020-02-13\"\u001b[39m,\n",
       "..."
      ]
     },
     "execution_count": 91,
     "metadata": {},
     "output_type": "execute_result"
    }
   ],
   "source": [
    "val countriesOnsetData = {\n",
    "    val csvReader = CSVReader.open(new File(\"data/onset.csv\"))\n",
    "    val xs = csvReader.allWithHeaders()\n",
    "    csvReader.close()\n",
    "    xs\n",
    "}"
   ]
  },
  {
   "cell_type": "code",
   "execution_count": 92,
   "metadata": {},
   "outputs": [
    {
     "data": {
      "text/plain": [
       "\u001b[32mimport \u001b[39m\u001b[36mjava.time.LocalDate\n",
       "\u001b[39m\n",
       "\u001b[32mimport \u001b[39m\u001b[36mjava.time.chrono.ChronoLocalDate\n",
       "// so comparisons work like max()\n",
       "\u001b[39m\n",
       "\u001b[32mimport \u001b[39m\u001b[36mscala.math.Ordering.Implicits._\n",
       "\n",
       "\u001b[39m\n",
       "defined \u001b[32mfunction\u001b[39m \u001b[36mtoDate\u001b[39m\n",
       "\u001b[36mres91_4\u001b[39m: \u001b[32mLocalDate\u001b[39m = 2020-06-01"
      ]
     },
     "execution_count": 92,
     "metadata": {},
     "output_type": "execute_result"
    }
   ],
   "source": [
    "import java.time.LocalDate\n",
    "import java.time.chrono.ChronoLocalDate\n",
    "// so comparisons work like max()\n",
    "import scala.math.Ordering.Implicits._\n",
    "\n",
    "def toDate(s: String): LocalDate =\n",
    "    LocalDate.parse(s)\n",
    "\n",
    "// we need to specify type parameter ChronoLocalDate (a super type of LocalDate) because\n",
    "// that's what the comparison is defined for\n",
    "countriesOnsetData.map(entry => toDate(entry(\"date\"))).max[ChronoLocalDate]"
   ]
  },
  {
   "cell_type": "code",
   "execution_count": 93,
   "metadata": {
    "scrolled": true
   },
   "outputs": [
    {
     "data": {
      "text/plain": [
       "\u001b[36mpdelayData\u001b[39m: \u001b[32mList\u001b[39m[\u001b[32mMap\u001b[39m[\u001b[32mString\u001b[39m, \u001b[32mString\u001b[39m]] = \u001b[33mList\u001b[39m(\n",
       "  \u001b[33mMap\u001b[39m(\u001b[32m\"index\"\u001b[39m -> \u001b[32m\"0\"\u001b[39m, \u001b[32m\"pdelay\"\u001b[39m -> \u001b[32m\"0.006547041707080504\"\u001b[39m),\n",
       "  \u001b[33mMap\u001b[39m(\u001b[32m\"index\"\u001b[39m -> \u001b[32m\"1\"\u001b[39m, \u001b[32m\"pdelay\"\u001b[39m -> \u001b[32m\"0.04194956353055286\"\u001b[39m),\n",
       "  \u001b[33mMap\u001b[39m(\u001b[32m\"index\"\u001b[39m -> \u001b[32m\"2\"\u001b[39m, \u001b[32m\"pdelay\"\u001b[39m -> \u001b[32m\"0.05771096023278371\"\u001b[39m),\n",
       "  \u001b[33mMap\u001b[39m(\u001b[32m\"index\"\u001b[39m -> \u001b[32m\"3\"\u001b[39m, \u001b[32m\"pdelay\"\u001b[39m -> \u001b[32m\"0.06983511154219205\"\u001b[39m),\n",
       "  \u001b[33mMap\u001b[39m(\u001b[32m\"index\"\u001b[39m -> \u001b[32m\"4\"\u001b[39m, \u001b[32m\"pdelay\"\u001b[39m -> \u001b[32m\"0.07153249272550921\"\u001b[39m),\n",
       "  \u001b[33mMap\u001b[39m(\u001b[32m\"index\"\u001b[39m -> \u001b[32m\"5\"\u001b[39m, \u001b[32m\"pdelay\"\u001b[39m -> \u001b[32m\"0.08583899127061105\"\u001b[39m),\n",
       "  \u001b[33mMap\u001b[39m(\u001b[32m\"index\"\u001b[39m -> \u001b[32m\"6\"\u001b[39m, \u001b[32m\"pdelay\"\u001b[39m -> \u001b[32m\"0.07953443258971872\"\u001b[39m),\n",
       "  \u001b[33mMap\u001b[39m(\u001b[32m\"index\"\u001b[39m -> \u001b[32m\"7\"\u001b[39m, \u001b[32m\"pdelay\"\u001b[39m -> \u001b[32m\"0.07516973811833172\"\u001b[39m),\n",
       "  \u001b[33mMap\u001b[39m(\u001b[32m\"index\"\u001b[39m -> \u001b[32m\"8\"\u001b[39m, \u001b[32m\"pdelay\"\u001b[39m -> \u001b[32m\"0.07710960232783705\"\u001b[39m),\n",
       "  \u001b[33mMap\u001b[39m(\u001b[32m\"index\"\u001b[39m -> \u001b[32m\"9\"\u001b[39m, \u001b[32m\"pdelay\"\u001b[39m -> \u001b[32m\"0.07904946653734239\"\u001b[39m),\n",
       "  \u001b[33mMap\u001b[39m(\u001b[32m\"index\"\u001b[39m -> \u001b[32m\"10\"\u001b[39m, \u001b[32m\"pdelay\"\u001b[39m -> \u001b[32m\"0.06304558680892337\"\u001b[39m),\n",
       "  \u001b[33mMap\u001b[39m(\u001b[32m\"index\"\u001b[39m -> \u001b[32m\"11\"\u001b[39m, \u001b[32m\"pdelay\"\u001b[39m -> \u001b[32m\"0.0511639185257032\"\u001b[39m),\n",
       "  \u001b[33mMap\u001b[39m(\u001b[32m\"index\"\u001b[39m -> \u001b[32m\"12\"\u001b[39m, \u001b[32m\"pdelay\"\u001b[39m -> \u001b[32m\"0.04485935984481086\"\u001b[39m),\n",
       "  \u001b[33mMap\u001b[39m(\u001b[32m\"index\"\u001b[39m -> \u001b[32m\"13\"\u001b[39m, \u001b[32m\"pdelay\"\u001b[39m -> \u001b[32m\"0.038554801163918524\"\u001b[39m),\n",
       "  \u001b[33mMap\u001b[39m(\u001b[32m\"index\"\u001b[39m -> \u001b[32m\"14\"\u001b[39m, \u001b[32m\"pdelay\"\u001b[39m -> \u001b[32m\"0.028855480116391854\"\u001b[39m),\n",
       "  \u001b[33mMap\u001b[39m(\u001b[32m\"index\"\u001b[39m -> \u001b[32m\"15\"\u001b[39m, \u001b[32m\"pdelay\"\u001b[39m -> \u001b[32m\"0.026430649854510185\"\u001b[39m),\n",
       "  \u001b[33mMap\u001b[39m(\u001b[32m\"index\"\u001b[39m -> \u001b[32m\"16\"\u001b[39m, \u001b[32m\"pdelay\"\u001b[39m -> \u001b[32m\"0.01915615906886518\"\u001b[39m),\n",
       "  \u001b[33mMap\u001b[39m(\u001b[32m\"index\"\u001b[39m -> \u001b[32m\"17\"\u001b[39m, \u001b[32m\"pdelay\"\u001b[39m -> \u001b[32m\"0.02061105722599418\"\u001b[39m),\n",
       "  \u001b[33mMap\u001b[39m(\u001b[32m\"index\"\u001b[39m -> \u001b[32m\"18\"\u001b[39m, \u001b[32m\"pdelay\"\u001b[39m -> \u001b[32m\"0.011881668283220174\"\u001b[39m),\n",
       "  \u001b[33mMap\u001b[39m(\u001b[32m\"index\"\u001b[39m -> \u001b[32m\"19\"\u001b[39m, \u001b[32m\"pdelay\"\u001b[39m -> \u001b[32m\"0.009456838021338506\"\u001b[39m),\n",
       "  \u001b[33mMap\u001b[39m(\u001b[32m\"index\"\u001b[39m -> \u001b[32m\"20\"\u001b[39m, \u001b[32m\"pdelay\"\u001b[39m -> \u001b[32m\"0.009699321047526674\"\u001b[39m),\n",
       "  \u001b[33mMap\u001b[39m(\u001b[32m\"index\"\u001b[39m -> \u001b[32m\"21\"\u001b[39m, \u001b[32m\"pdelay\"\u001b[39m -> \u001b[32m\"0.006547041707080504\"\u001b[39m),\n",
       "  \u001b[33mMap\u001b[39m(\u001b[32m\"index\"\u001b[39m -> \u001b[32m\"22\"\u001b[39m, \u001b[32m\"pdelay\"\u001b[39m -> \u001b[32m\"0.004122211445198836\"\u001b[39m),\n",
       "  \u001b[33mMap\u001b[39m(\u001b[32m\"index\"\u001b[39m -> \u001b[32m\"23\"\u001b[39m, \u001b[32m\"pdelay\"\u001b[39m -> \u001b[32m\"0.0036372453928225023\"\u001b[39m),\n",
       "  \u001b[33mMap\u001b[39m(\u001b[32m\"index\"\u001b[39m -> \u001b[32m\"24\"\u001b[39m, \u001b[32m\"pdelay\"\u001b[39m -> \u001b[32m\"0.002909796314258002\"\u001b[39m),\n",
       "  \u001b[33mMap\u001b[39m(\u001b[32m\"index\"\u001b[39m -> \u001b[32m\"25\"\u001b[39m, \u001b[32m\"pdelay\"\u001b[39m -> \u001b[32m\"0.0036372453928225023\"\u001b[39m),\n",
       "  \u001b[33mMap\u001b[39m(\u001b[32m\"index\"\u001b[39m -> \u001b[32m\"26\"\u001b[39m, \u001b[32m\"pdelay\"\u001b[39m -> \u001b[32m\"0.0019398642095053346\"\u001b[39m),\n",
       "  \u001b[33mMap\u001b[39m(\u001b[32m\"index\"\u001b[39m -> \u001b[32m\"27\"\u001b[39m, \u001b[32m\"pdelay\"\u001b[39m -> \u001b[32m\"0.00048496605237633366\"\u001b[39m),\n",
       "  \u001b[33mMap\u001b[39m(\u001b[32m\"index\"\u001b[39m -> \u001b[32m\"28\"\u001b[39m, \u001b[32m\"pdelay\"\u001b[39m -> \u001b[32m\"0.00048496605237633366\"\u001b[39m),\n",
       "  \u001b[33mMap\u001b[39m(\u001b[32m\"index\"\u001b[39m -> \u001b[32m\"29\"\u001b[39m, \u001b[32m\"pdelay\"\u001b[39m -> \u001b[32m\"0.0\"\u001b[39m),\n",
       "  \u001b[33mMap\u001b[39m(\u001b[32m\"index\"\u001b[39m -> \u001b[32m\"30\"\u001b[39m, \u001b[32m\"pdelay\"\u001b[39m -> \u001b[32m\"0.0009699321047526673\"\u001b[39m),\n",
       "  \u001b[33mMap\u001b[39m(\u001b[32m\"index\"\u001b[39m -> \u001b[32m\"31\"\u001b[39m, \u001b[32m\"pdelay\"\u001b[39m -> \u001b[32m\"0.00024248302618816683\"\u001b[39m),\n",
       "  \u001b[33mMap\u001b[39m(\u001b[32m\"index\"\u001b[39m -> \u001b[32m\"32\"\u001b[39m, \u001b[32m\"pdelay\"\u001b[39m -> \u001b[32m\"0.00048496605237633366\"\u001b[39m),\n",
       "  \u001b[33mMap\u001b[39m(\u001b[32m\"index\"\u001b[39m -> \u001b[32m\"33\"\u001b[39m, \u001b[32m\"pdelay\"\u001b[39m -> \u001b[32m\"0.0007274490785645005\"\u001b[39m),\n",
       "  \u001b[33mMap\u001b[39m(\u001b[32m\"index\"\u001b[39m -> \u001b[32m\"34\"\u001b[39m, \u001b[32m\"pdelay\"\u001b[39m -> \u001b[32m\"0.001454898157129001\"\u001b[39m),\n",
       "  \u001b[33mMap\u001b[39m(\u001b[32m\"index\"\u001b[39m -> \u001b[32m\"35\"\u001b[39m, \u001b[32m\"pdelay\"\u001b[39m -> \u001b[32m\"0.00024248302618816683\"\u001b[39m),\n",
       "  \u001b[33mMap\u001b[39m(\u001b[32m\"index\"\u001b[39m -> \u001b[32m\"36\"\u001b[39m, \u001b[32m\"pdelay\"\u001b[39m -> \u001b[32m\"0.00048496605237633366\"\u001b[39m),\n",
       "  \u001b[33mMap\u001b[39m(\u001b[32m\"index\"\u001b[39m -> \u001b[32m\"37\"\u001b[39m, \u001b[32m\"pdelay\"\u001b[39m -> \u001b[32m\"0.0007274490785645005\"\u001b[39m),\n",
       "..."
      ]
     },
     "execution_count": 93,
     "metadata": {},
     "output_type": "execute_result"
    }
   ],
   "source": [
    "val pdelayData = {\n",
    "    val csvReader = CSVReader.open(new File(\"data/pdelay.csv\"))\n",
    "    val xs = csvReader.allWithHeaders()\n",
    "    csvReader.close()\n",
    "    xs\n",
    "}"
   ]
  },
  {
   "cell_type": "code",
   "execution_count": 94,
   "metadata": {
    "scrolled": true
   },
   "outputs": [
    {
     "data": {
      "text/plain": [
       "\u001b[36mpdelay\u001b[39m: \u001b[32mList\u001b[39m[\u001b[32mDouble\u001b[39m] = \u001b[33mList\u001b[39m(\n",
       "  \u001b[32m0.006547041707080504\u001b[39m,\n",
       "  \u001b[32m0.04194956353055286\u001b[39m,\n",
       "  \u001b[32m0.05771096023278371\u001b[39m,\n",
       "  \u001b[32m0.06983511154219205\u001b[39m,\n",
       "  \u001b[32m0.07153249272550921\u001b[39m,\n",
       "  \u001b[32m0.08583899127061105\u001b[39m,\n",
       "  \u001b[32m0.07953443258971872\u001b[39m,\n",
       "  \u001b[32m0.07516973811833172\u001b[39m,\n",
       "  \u001b[32m0.07710960232783705\u001b[39m,\n",
       "  \u001b[32m0.07904946653734239\u001b[39m,\n",
       "  \u001b[32m0.06304558680892337\u001b[39m,\n",
       "  \u001b[32m0.0511639185257032\u001b[39m,\n",
       "  \u001b[32m0.04485935984481086\u001b[39m,\n",
       "  \u001b[32m0.038554801163918524\u001b[39m,\n",
       "  \u001b[32m0.028855480116391854\u001b[39m,\n",
       "  \u001b[32m0.026430649854510185\u001b[39m,\n",
       "  \u001b[32m0.01915615906886518\u001b[39m,\n",
       "  \u001b[32m0.02061105722599418\u001b[39m,\n",
       "  \u001b[32m0.011881668283220174\u001b[39m,\n",
       "  \u001b[32m0.009456838021338506\u001b[39m,\n",
       "  \u001b[32m0.009699321047526674\u001b[39m,\n",
       "  \u001b[32m0.006547041707080504\u001b[39m,\n",
       "  \u001b[32m0.004122211445198836\u001b[39m,\n",
       "  \u001b[32m0.0036372453928225023\u001b[39m,\n",
       "  \u001b[32m0.002909796314258002\u001b[39m,\n",
       "  \u001b[32m0.0036372453928225023\u001b[39m,\n",
       "  \u001b[32m0.0019398642095053346\u001b[39m,\n",
       "  \u001b[32m4.8496605237633366E-4\u001b[39m,\n",
       "  \u001b[32m4.8496605237633366E-4\u001b[39m,\n",
       "  \u001b[32m0.0\u001b[39m,\n",
       "  \u001b[32m9.699321047526673E-4\u001b[39m,\n",
       "  \u001b[32m2.4248302618816683E-4\u001b[39m,\n",
       "  \u001b[32m4.8496605237633366E-4\u001b[39m,\n",
       "  \u001b[32m7.274490785645005E-4\u001b[39m,\n",
       "  \u001b[32m0.001454898157129001\u001b[39m,\n",
       "  \u001b[32m2.4248302618816683E-4\u001b[39m,\n",
       "  \u001b[32m4.8496605237633366E-4\u001b[39m,\n",
       "  \u001b[32m7.274490785645005E-4\u001b[39m,\n",
       "..."
      ]
     },
     "execution_count": 94,
     "metadata": {},
     "output_type": "execute_result"
    }
   ],
   "source": [
    "val pdelay = pdelayData.collect { case m => m(\"pdelay\").toDouble }"
   ]
  },
  {
   "cell_type": "code",
   "execution_count": 95,
   "metadata": {},
   "outputs": [
    {
     "data": {
      "text/plain": [
       "defined \u001b[32mfunction\u001b[39m \u001b[36mprepareDataForModel\u001b[39m"
      ]
     },
     "execution_count": 95,
     "metadata": {},
     "output_type": "execute_result"
    }
   ],
   "source": [
    "def prepareDataForModel(xs: List[Long], pd: List[Double]): List[(Long,Double)] = {\n",
    "    val cpd = pd.scanLeft(0.0)(_+_).tail\n",
    "    val cpdPadded = List.fill(xs.size - pd.size)(1.0) ++ cpd.reverse\n",
    "    // ensure that case numbers are always at least 1 so we avoid numerical issues involving 0\n",
    "    // adding 1 across all counts doesn't change inputs in any material way\n",
    "    // see the comment of `predictRt` method for the rationale\n",
    "    xs.zip(cpdPadded)\n",
    "}"
   ]
  },
  {
   "cell_type": "markdown",
   "metadata": {},
   "source": [
    "Preparation of the other model"
   ]
  },
  {
   "cell_type": "code",
   "execution_count": 118,
   "metadata": {},
   "outputs": [
    {
     "data": {
      "text/plain": [
       "\u001b[36msamplerConfig\u001b[39m: \u001b[32mDefaultConfig\u001b[39m{def massMatrixTuner(): com.stripe.rainier.sampler.IdentityMassMatrixTuner;def sampler(): com.stripe.rainier.sampler.HMCSampler} = ammonite.$sess.cmd117$Helper$$anon$1@373b8f97"
      ]
     },
     "execution_count": 118,
     "metadata": {},
     "output_type": "execute_result"
    }
   ],
   "source": [
    "val samplerConfig = new DefaultConfig {\n",
    "    override def massMatrixTuner() = new IdentityMassMatrixTuner\n",
    "    override def sampler() = new HMCSampler(100)\n",
    "    override val iterations = 100\n",
    "    override val warmupIterations = 200\n",
    "}"
   ]
  },
  {
   "cell_type": "markdown",
   "metadata": {},
   "source": [
    "Define a function that we'll use to retry the call to Rainier's `predict` that fails occassionally. Fortunately, the failure can be easily detected and 1-2 retries solves the issue."
   ]
  },
  {
   "cell_type": "code",
   "execution_count": 120,
   "metadata": {},
   "outputs": [
    {
     "data": {
      "text/plain": [
       "defined \u001b[32mfunction\u001b[39m \u001b[36margmin\u001b[39m\n",
       "\u001b[36mres119_1\u001b[39m: \u001b[32mInt\u001b[39m = \u001b[32m4\u001b[39m"
      ]
     },
     "execution_count": 120,
     "metadata": {},
     "output_type": "execute_result"
    }
   ],
   "source": [
    "def argmin[N](seq: Seq[N])(implicit num: Numeric[N]): Int = seq.indexOf(seq.min)\n",
    "\n",
    "argmin(List(-20,12,3,5,-25,4,5,6,7,-9,-10))"
   ]
  },
  {
   "cell_type": "code",
   "execution_count": 121,
   "metadata": {},
   "outputs": [
    {
     "data": {
      "text/plain": [
       "\u001b[32mimport \u001b[39m\u001b[36mscala.collection.mutable.ArrayBuffer\n",
       "\n",
       "/* Retry returns a value and a list of logs produced during consecutive attempts */\n",
       "\u001b[39m\n",
       "defined \u001b[32mfunction\u001b[39m \u001b[36mretry\u001b[39m"
      ]
     },
     "execution_count": 121,
     "metadata": {},
     "output_type": "execute_result"
    }
   ],
   "source": [
    "import scala.collection.mutable.ArrayBuffer\n",
    "\n",
    "/* Retry returns a value and a list of logs produced during consecutive attempts */\n",
    "def retry[T](maxAttempts: Int, isSuccessful: T => (Boolean, Double)) (f: => T): (T, List[Double]) = {\n",
    "    var i = 0\n",
    "    var flag = false\n",
    "    val logListBuf = ArrayBuffer.empty[Double]\n",
    "    val resListBuf = ArrayBuffer.empty[T]\n",
    "    do {\n",
    "        i = i + 1\n",
    "        val res = f\n",
    "        resListBuf += res\n",
    "        val (resBool, log) = isSuccessful(res)\n",
    "        logListBuf += log\n",
    "        val errorMsg = if(resBool) s\"Success in [$i] iteration.\" else s\"WARN: Attempt[$i] failed. Retrying...\"\n",
    "        println(errorMsg)\n",
    "        flag = resBool\n",
    "    } while (i < maxAttempts && !flag)\n",
    "    val logList = logListBuf.toList\n",
    "    return (resListBuf(argmin(logList)), logList)\n",
    "}"
   ]
  },
  {
   "cell_type": "code",
   "execution_count": 122,
   "metadata": {},
   "outputs": [
    {
     "name": "stdout",
     "output_type": "stream",
     "text": [
      "230\n",
      "WARN: Attempt[1] failed. Retrying...\n",
      "374\n",
      "WARN: Attempt[2] failed. Retrying...\n",
      "987\n",
      "WARN: Attempt[3] failed. Retrying...\n",
      "31\n",
      "WARN: Attempt[4] failed. Retrying...\n",
      "625\n",
      "WARN: Attempt[5] failed. Retrying...\n",
      "242\n",
      "WARN: Attempt[6] failed. Retrying...\n",
      "1\n",
      "Success in [7] iteration.\n"
     ]
    },
    {
     "data": {
      "text/plain": [
       "\u001b[32mimport \u001b[39m\u001b[36mscala.util.Random\n",
       "\n",
       "\u001b[39m\n",
       "defined \u001b[32mfunction\u001b[39m \u001b[36misSuccess\u001b[39m\n",
       "\u001b[36mres121_2\u001b[39m: (\u001b[32mInt\u001b[39m, \u001b[32mList\u001b[39m[\u001b[32mDouble\u001b[39m]) = (\n",
       "  \u001b[32m987\u001b[39m,\n",
       "  \u001b[33mList\u001b[39m(\n",
       "    \u001b[32m0.9757837086320961\u001b[39m,\n",
       "    \u001b[32m0.6264484443803771\u001b[39m,\n",
       "    \u001b[32m0.26020944415281066\u001b[39m,\n",
       "    \u001b[32m0.7277811744196854\u001b[39m,\n",
       "    \u001b[32m0.7571289807141701\u001b[39m,\n",
       "    \u001b[32m0.3886180407281936\u001b[39m,\n",
       "    \u001b[32m0.516365354819387\u001b[39m\n",
       "  )\n",
       ")"
      ]
     },
     "execution_count": 122,
     "metadata": {},
     "output_type": "execute_result"
    }
   ],
   "source": [
    "import scala.util.Random\n",
    "\n",
    "def isSuccess(x: Int) = {\n",
    "    val num = Random.nextInt(10)\n",
    "    (num < 2,Random.nextDouble())\n",
    "}\n",
    "\n",
    "retry(maxAttempts = 10, isSuccess) { \n",
    "    val value = Random.nextInt(1000)\n",
    "    println(value)\n",
    "    value\n",
    "}"
   ]
  },
  {
   "cell_type": "markdown",
   "metadata": {},
   "source": [
    "Fixed the parameters for all distributions"
   ]
  },
  {
   "cell_type": "code",
   "execution_count": 123,
   "metadata": {},
   "outputs": [
    {
     "data": {
      "text/plain": [
       "defined \u001b[32mclass\u001b[39m \u001b[36mRtModelEstimates\u001b[39m"
      ]
     },
     "execution_count": 123,
     "metadata": {},
     "output_type": "execute_result"
    }
   ],
   "source": [
    "case class RtModelEstimates(rts: Vec[Real], \n",
    "                            rtsEstimates: List[Seq[Double]], \n",
    "                            serialInterval: Real, \n",
    "                            serialIntervalEstimates: Seq[Double])"
   ]
  },
  {
   "cell_type": "code",
   "execution_count": 124,
   "metadata": {},
   "outputs": [
    {
     "data": {
      "text/plain": [
       "defined \u001b[32mfunction\u001b[39m \u001b[36mpredictRtOnsetLogProcess\u001b[39m"
      ]
     },
     "execution_count": 124,
     "metadata": {},
     "output_type": "execute_result"
    }
   ],
   "source": [
    "def predictRtOnsetLogProcess(onsetNumbers: List[Long], pdelay: List[Double]): (Vec[Real], List[Seq[Double]]) = {\n",
    "    \n",
    "    val data = prepareDataForModel(onsetNumbers, pdelay)\n",
    "    \n",
    "    val (model, rts) =  {\n",
    "        val (onset, cum_pdelay) = data.unzip\n",
    "        val serialInterval = Gamma(46.0,10.0).latent\n",
    "        val logR0 = Normal(0, 1).latent\n",
    "        val sigma = Exponential(10).latent\n",
    "        val diffs = Laplace(0,sigma).latentVec(data.size)\n",
    "        val logRts = Vec.from(diffs.toList.scanLeft(logR0)(_ + _))\n",
    "        val inferredYesterday = data.take(data.size-1).map { case (o_t, cp_t) => \n",
    "            o_t/cp_t \n",
    "        }.zipWithIndex\n",
    "        val expectedToday = Vec.from(inferredYesterday.zip(cum_pdelay.drop(1))).map { case ((infYest, i), cpd) =>\n",
    "            val lambda = infYest*cpd*((logRts(i).exp - 1)/serialInterval).exp\n",
    "            Poisson(lambda)\n",
    "        }\n",
    "        (Model.observe(onset.drop(1), expectedToday), logRts.map(_.exp))\n",
    "    }\n",
    "    \n",
    "    def detectFailedRun(trace: Trace): (Boolean, Double) = {\n",
    "        // from: https://twitter.com/avibryant/status/1253049509128499201\n",
    "        val stat = trace.diagnostics.map(_.rHat).max\n",
    "        (stat < 1.1, stat)\n",
    "    }\n",
    "    \n",
    "    val (trace, log) = retry(maxAttempts = 3, isSuccessful = detectFailedRun) {\n",
    "        model.sample(samplerConfig, 4)\n",
    "    }\n",
    "    \n",
    "    rts -> trace.predict(rts)\n",
    "}"
   ]
  },
  {
   "cell_type": "code",
   "execution_count": 125,
   "metadata": {},
   "outputs": [
    {
     "data": {
      "text/plain": [
       "defined \u001b[32mfunction\u001b[39m \u001b[36mpredictRt\u001b[39m"
      ]
     },
     "execution_count": 125,
     "metadata": {},
     "output_type": "execute_result"
    }
   ],
   "source": [
    "// direct (and faithful) translation of Systrom's MCMC model from\n",
    "// Realtime Rt mcmc.ipynb up to different handling of this line\n",
    "// mu = pm.math.maximum(.1, expected_today)\n",
    "// my is the lambda of Poisson distribution that must be > 0.\n",
    "// Kevin's solution is to take max(0.1, expected_today) to ensure\n",
    "// that lambda > 0. However, `expected_today` is dependent only on input data and is not\n",
    "// part of the model so we can ensure it's > 0 by fixing up the input data of the model.\n",
    "// this is done in `prepareDataForModel`\n",
    "def predictRt(onsetNumbers: List[Long], pdelay: List[Double], failedRunDetection: Boolean = true): (RtModelEstimates, List[Double]) = {\n",
    "    \n",
    "    val data = prepareDataForModel(onsetNumbers, pdelay)\n",
    "    \n",
    "    val (model, rts, serialInterval) = {\n",
    "        val (onset, cum_pdelay) = data.unzip\n",
    "        val serialInterval = Gamma(46.0,1/10.0).latent\n",
    "        val sigma = Normal(0,0.03).latent.abs\n",
    "        val Theta0 = Normal(0.1,0.1).latent\n",
    "        val diffs = Laplace(0,sigma).latentVec(data.size) // Maybe normal would be better\n",
    "        val ThetaT = Vec.from(diffs.toList.scanLeft(Theta0)(_ + _))\n",
    "        val Rts = ThetaT.map(_*serialInterval + 1)\n",
    "        val inferredYesterday = data.take(data.size-1).map { case (o_t, cp_t) => \n",
    "            o_t/cp_t \n",
    "        }.zipWithIndex\n",
    "        val expectedToday = Vec.from(inferredYesterday.zip(cum_pdelay.drop(1))).map { case ((infYest, i), cpd) =>\n",
    "            val lambda = Real(0.1).max(infYest * cpd * (ThetaT(i).exp))\n",
    "            Poisson(lambda)\n",
    "        }\n",
    "        \n",
    "        val obsModel = Model.observe(onset.drop(1), expectedToday)\n",
    "        val trackSerialInterval = Model.track(Set(serialInterval))\n",
    "        (obsModel.merge(trackSerialInterval), Rts, serialInterval)\n",
    "    }\n",
    "    \n",
    "    def detectFailedRun(trace: Trace): (Boolean, Double) = {\n",
    "        // from: https://twitter.com/avibryant/status/1253049509128499201\n",
    "        val stat = trace.diagnostics.map(_.rHat).max\n",
    "        val cond = !failedRunDetection || stat < 1.1\n",
    "        (cond, stat)\n",
    "    }\n",
    "    \n",
    "    val (trace, log) = retry(maxAttempts = 3, isSuccessful = detectFailedRun) {\n",
    "        model.sample(samplerConfig, 2)\n",
    "    }\n",
    "\n",
    "    val rtme = RtModelEstimates(rts = rts, \n",
    "                 rtsEstimates = trace.predict(rts),\n",
    "                 serialInterval = serialInterval,\n",
    "                 serialIntervalEstimates = trace.predict(serialInterval))\n",
    "    (rtme, log)\n",
    "}"
   ]
  },
  {
   "cell_type": "code",
   "execution_count": 126,
   "metadata": {},
   "outputs": [
    {
     "data": {
      "text/plain": [
       "defined \u001b[32mfunction\u001b[39m \u001b[36mmedian\u001b[39m"
      ]
     },
     "execution_count": 126,
     "metadata": {},
     "output_type": "execute_result"
    }
   ],
   "source": [
    "def median[N](seq: Seq[N])(implicit num: Numeric[N]): Double = {\n",
    "    val l = (seq.map { n =>\n",
    "      num.toDouble(n)\n",
    "    }).sorted\n",
    "    val n = l.size\n",
    "    if(n % 2 == 1)\n",
    "        l(n/2)\n",
    "    else\n",
    "        (l(n/2) + l(n/2-1))/2\n",
    "}"
   ]
  },
  {
   "cell_type": "code",
   "execution_count": 127,
   "metadata": {},
   "outputs": [
    {
     "data": {
      "text/plain": [
       "defined \u001b[32mclass\u001b[39m \u001b[36mRtsDistributionStats\u001b[39m\n",
       "defined \u001b[32mfunction\u001b[39m \u001b[36mdistributionStats\u001b[39m"
      ]
     },
     "execution_count": 127,
     "metadata": {},
     "output_type": "execute_result"
    }
   ],
   "source": [
    "case class RtsDistributionStats(means: Seq[(Int, Double)], \n",
    "                                medians: Seq[(Int, Double)],\n",
    "                                hdpis_90: Seq[(Int, (Double, Double))], \n",
    "                                hdpis_50: Seq[(Int, (Double, Double))])\n",
    "def distributionStats(rts: Vec[Real], rtForecasts: List[Seq[Double]]): RtsDistributionStats = {\n",
    "    val means = 0.until(rts.size).map{i => (i,mean(rtForecasts.map(_(i))))}\n",
    "    val medians = 0.until(rts.size).map{i => (i,median(rtForecasts.map(_(i))))}\n",
    "    val hdpis_90 = 0.until(rts.size).map{i => (i,hdpi(rtForecasts.map(_(i)),0.9))}\n",
    "    val hdpis_50 = 0.until(rts.size).map{i => (i,hdpi(rtForecasts.map(_(i)),0.5))}\n",
    "    RtsDistributionStats(means, medians, hdpis_90, hdpis_50)\n",
    "}"
   ]
  },
  {
   "cell_type": "code",
   "execution_count": 128,
   "metadata": {},
   "outputs": [
    {
     "data": {
      "text/plain": [
       "\u001b[36mcountryLogs\u001b[39m: \u001b[32mcollection\u001b[39m.\u001b[32mmutable\u001b[39m.\u001b[32mMap\u001b[39m[\u001b[32mString\u001b[39m, \u001b[32mList\u001b[39m[\u001b[32mDouble\u001b[39m]] = \u001b[33mMap\u001b[39m()\n",
       "defined \u001b[32mfunction\u001b[39m \u001b[36mprocessLogs\u001b[39m"
      ]
     },
     "execution_count": 128,
     "metadata": {},
     "output_type": "execute_result"
    }
   ],
   "source": [
    "val countryLogs = scala.collection.mutable.Map[String, List[Double]]()\n",
    "\n",
    "def processLogs(country: String, logs: List[Double]) = {\n",
    "    countryLogs(country) = logs\n",
    "}"
   ]
  },
  {
   "cell_type": "code",
   "execution_count": 129,
   "metadata": {
    "scrolled": true
   },
   "outputs": [
    {
     "data": {
      "text/html": [
       "<b>Chain 1 Complete</b>: <div>Iteration: 100 (42ms)</div> <div>Acceptance rate: 0.92</div> <div>E-BFMI: 0.92</div> <div>Step size: 0.002</div> <div>Total gradient evaluations: 2e+04 (188us)</div> <div>Total time: 13s</div>"
      ]
     },
     "metadata": {},
     "output_type": "display_data"
    },
    {
     "data": {
      "text/html": [
       "<b>Chain 2 Complete</b>: <div>Iteration: 100 (40ms)</div> <div>Acceptance rate: 0.94</div> <div>E-BFMI: 1.08</div> <div>Step size: 0.003</div> <div>Total gradient evaluations: 2e+04 (188us)</div> <div>Total time: 12s</div>"
      ]
     },
     "metadata": {},
     "output_type": "display_data"
    },
    {
     "name": "stdout",
     "output_type": "stream",
     "text": [
      "WARN: Attempt[1] failed. Retrying...\n"
     ]
    },
    {
     "data": {
      "text/html": [
       "<b>Chain 1 Complete</b>: <div>Iteration: 100 (39ms)</div> <div>Acceptance rate: 0.93</div> <div>E-BFMI: 1.57</div> <div>Step size: 0.003</div> <div>Total gradient evaluations: 2e+04 (190us)</div> <div>Total time: 12s</div>"
      ]
     },
     "metadata": {},
     "output_type": "display_data"
    },
    {
     "data": {
      "text/html": [
       "<b>Chain 2 Complete</b>: <div>Iteration: 100 (39ms)</div> <div>Acceptance rate: 0.72</div> <div>E-BFMI: 1.60</div> <div>Step size: 0.003</div> <div>Total gradient evaluations: 2e+04 (183us)</div> <div>Total time: 11s</div>"
      ]
     },
     "metadata": {},
     "output_type": "display_data"
    },
    {
     "name": "stdout",
     "output_type": "stream",
     "text": [
      "WARN: Attempt[2] failed. Retrying...\n"
     ]
    },
    {
     "data": {
      "text/html": [
       "<b>Chain 1 Complete</b>: <div>Iteration: 100 (48ms)</div> <div>Acceptance rate: 0.69</div> <div>E-BFMI: 1.02</div> <div>Step size: 0.004</div> <div>Total gradient evaluations: 2e+04 (343us)</div> <div>Total time: 13s</div>"
      ]
     },
     "metadata": {},
     "output_type": "display_data"
    },
    {
     "data": {
      "text/html": [
       "<b>Chain 2 Complete</b>: <div>Iteration: 100 (40ms)</div> <div>Acceptance rate: 0.88</div> <div>E-BFMI: 1.48</div> <div>Step size: 0.003</div> <div>Total gradient evaluations: 2e+04 (200us)</div> <div>Total time: 12s</div>"
      ]
     },
     "metadata": {},
     "output_type": "display_data"
    },
    {
     "name": "stdout",
     "output_type": "stream",
     "text": [
      "WARN: Attempt[3] failed. Retrying...\n",
      "Elapsed time: 78383 ms\n"
     ]
    },
    {
     "data": {
      "image/png": "[encoded data removed]"
     },
     "metadata": {
      "height": "1600",
      "width": "1636"
     },
     "output_type": "display_data"
    }
   ],
   "source": [
    "{{\n",
    "    val countryName = \"United_Kingdom\"\n",
    "    val onsetNumbers = countriesOnsetData.collect {\n",
    "        case m if m(\"country\") == countryName => m(\"Onset\").toDouble.round\n",
    "    }\n",
    "    val RtModelEstimates(rts,estimates,_, _) = time { \n",
    "        val (res, log) = predictRt(onsetNumbers, pdelay, failedRunDetection = true)\n",
    "        processLogs(countryName, log)\n",
    "        res\n",
    "    }\n",
    "    val RtsDistributionStats(means, medians, hdpis_90, hdpis_50) = distributionStats(rts, estimates)\n",
    "    // show(\"t\", \"Rt\", line(means), shade(hdpis_50))\n",
    "    show(\"t\", \"Rt\", line(means), shade(hdpis_90))\n",
    "}}"
   ]
  },
  {
   "cell_type": "code",
   "execution_count": 130,
   "metadata": {},
   "outputs": [
    {
     "data": {
      "text/plain": [
       "\u001b[36mres129\u001b[39m: \u001b[32mcollection\u001b[39m.\u001b[32mmutable\u001b[39m.\u001b[32mMap\u001b[39m[\u001b[32mString\u001b[39m, \u001b[32mList\u001b[39m[\u001b[32mDouble\u001b[39m]] = \u001b[33mMap\u001b[39m(\n",
       "  \u001b[32m\"United_Kingdom\"\u001b[39m -> \u001b[33mList\u001b[39m(\u001b[32m4.036200524870752\u001b[39m, \u001b[32m5.938226637677339\u001b[39m, \u001b[32m3.7662111040647\u001b[39m)\n",
       ")"
      ]
     },
     "execution_count": 130,
     "metadata": {},
     "output_type": "execute_result"
    }
   ],
   "source": [
    "countryLogs"
   ]
  },
  {
   "cell_type": "code",
   "execution_count": 131,
   "metadata": {
    "scrolled": true
   },
   "outputs": [
    {
     "data": {
      "text/plain": [
       "\u001b[36mcountriesToPredict\u001b[39m: \u001b[32mSeq\u001b[39m[\u001b[32mString\u001b[39m] = \u001b[33mList\u001b[39m(\u001b[32m\"Poland\"\u001b[39m, \u001b[32m\"France\"\u001b[39m, \u001b[32m\"Italy\"\u001b[39m)"
      ]
     },
     "execution_count": 131,
     "metadata": {},
     "output_type": "execute_result"
    }
   ],
   "source": [
    "val countriesToPredict = Seq(\"Poland\", \"France\", \"Italy\") // Smaller set\n",
    "// val countriesToPredict = countriesOnsetData.map(_(\"country\")).toSet  // Full set"
   ]
  },
  {
   "cell_type": "code",
   "execution_count": 132,
   "metadata": {},
   "outputs": [
    {
     "data": {
      "text/html": [
       "<b>Chain 1 Complete</b>: <div>Iteration: 100 (48ms)</div> <div>Acceptance rate: 0.91</div> <div>E-BFMI: 0.75</div> <div>Step size: 0.01</div> <div>Total gradient evaluations: 2e+04 (228us)</div> <div>Total time: 18s</div>"
      ]
     },
     "metadata": {},
     "output_type": "display_data"
    },
    {
     "data": {
      "text/html": [
       "<b>Chain 1 Complete</b>: <div>Iteration: 100 (83ms)</div> <div>Acceptance rate: 0.93</div> <div>E-BFMI: 0.75</div> <div>Step size: 0.004</div> <div>Total gradient evaluations: 2e+04 (349us)</div> <div>Total time: 30s</div>"
      ]
     },
     "metadata": {},
     "output_type": "display_data"
    },
    {
     "data": {
      "text/html": [
       "<b>Chain 1 Complete</b>: <div>Iteration: 100 (109ms)</div> <div>Acceptance rate: 0.93</div> <div>E-BFMI: 1.05</div> <div>Step size: 0.003</div> <div>Total gradient evaluations: 2e+04 (1ms)</div> <div>Total time: 37s</div>"
      ]
     },
     "metadata": {},
     "output_type": "display_data"
    },
    {
     "data": {
      "text/html": [
       "<b>Chain 2 Complete</b>: <div>Iteration: 100 (48ms)</div> <div>Acceptance rate: 0.93</div> <div>E-BFMI: 0.99</div> <div>Step size: 0.01</div> <div>Total gradient evaluations: 2e+04 (166us)</div> <div>Total time: 14s</div>"
      ]
     },
     "metadata": {},
     "output_type": "display_data"
    },
    {
     "data": {
      "text/html": [
       "<b>Chain 2 Complete</b>: <div>Iteration: 100 (87ms)</div> <div>Acceptance rate: 0.95</div> <div>E-BFMI: 0.84</div> <div>Step size: 0.004</div> <div>Total gradient evaluations: 2e+04 (413us)</div> <div>Total time: 25s</div>"
      ]
     },
     "metadata": {},
     "output_type": "display_data"
    },
    {
     "name": "stdout",
     "output_type": "stream",
     "text": [
      "WARN: Attempt[1] failed. Retrying...\n"
     ]
    },
    {
     "data": {
      "text/html": [
       "<b>Chain 1 Complete</b>: <div>Iteration: 100 (47ms)</div> <div>Acceptance rate: 0.83</div> <div>E-BFMI: 0.98</div> <div>Step size: 0.01</div> <div>Total gradient evaluations: 2e+04 (206us)</div> <div>Total time: 14s</div>"
      ]
     },
     "metadata": {},
     "output_type": "display_data"
    },
    {
     "data": {
      "text/html": [
       "<b>Chain 2 Complete</b>: <div>Iteration: 100 (122ms)</div> <div>Acceptance rate: 0.80</div> <div>E-BFMI: 0.01</div> <div>Step size: 5e-06</div> <div>Total gradient evaluations: 2e+04 (596us)</div> <div>Total time: 34s</div>"
      ]
     },
     "metadata": {},
     "output_type": "display_data"
    },
    {
     "data": {
      "text/html": [
       "<b>Chain 2 Complete</b>: <div>Iteration: 100 (50ms)</div> <div>Acceptance rate: 0.91</div> <div>E-BFMI: 1.16</div> <div>Step size: 0.01</div> <div>Total gradient evaluations: 2e+04 (181us)</div> <div>Total time: 15s</div>"
      ]
     },
     "metadata": {},
     "output_type": "display_data"
    },
    {
     "name": "stdout",
     "output_type": "stream",
     "text": [
      "WARN: Attempt[1] failed. Retrying...\n"
     ]
    },
    {
     "data": {
      "text/html": [
       "<b>Chain 1 Complete</b>: <div>Iteration: 100 (80ms)</div> <div>Acceptance rate: 0.92</div> <div>E-BFMI: 1.10</div> <div>Step size: 0.005</div> <div>Total gradient evaluations: 2e+04 (405us)</div> <div>Total time: 27s</div>"
      ]
     },
     "metadata": {},
     "output_type": "display_data"
    },
    {
     "name": "stdout",
     "output_type": "stream",
     "text": [
      "WARN: Attempt[2] failed. Retrying...\n"
     ]
    },
    {
     "data": {
      "text/html": [
       "<b>Chain 1 Complete</b>: <div>Iteration: 100 (46ms)</div> <div>Acceptance rate: 0.94</div> <div>E-BFMI: 0.97</div> <div>Step size: 0.01</div> <div>Total gradient evaluations: 2e+04 (194us)</div> <div>Total time: 16s</div>"
      ]
     },
     "metadata": {},
     "output_type": "display_data"
    },
    {
     "name": "stdout",
     "output_type": "stream",
     "text": [
      "WARN: Attempt[1] failed. Retrying...\n"
     ]
    },
    {
     "data": {
      "text/html": [
       "<b>Chain 1 Complete</b>: <div>Iteration: 100 (73ms)</div> <div>Acceptance rate: 0.94</div> <div>E-BFMI: 1.28</div> <div>Step size: 0.003</div> <div>Total gradient evaluations: 2e+04 (369us)</div> <div>Total time: 26s</div>"
      ]
     },
     "metadata": {},
     "output_type": "display_data"
    },
    {
     "data": {
      "text/html": [
       "<b>Chain 2 Complete</b>: <div>Iteration: 100 (43ms)</div> <div>Acceptance rate: 0.89</div> <div>E-BFMI: 0.65</div> <div>Step size: 0.01</div> <div>Total gradient evaluations: 2e+04 (196us)</div> <div>Total time: 13s</div>"
      ]
     },
     "metadata": {},
     "output_type": "display_data"
    },
    {
     "data": {
      "text/html": [
       "<b>Chain 2 Complete</b>: <div>Iteration: 100 (56ms)</div> <div>Acceptance rate: 0.93</div> <div>E-BFMI: 0.72</div> <div>Step size: 0.004</div> <div>Total gradient evaluations: 2e+04 (227us)</div> <div>Total time: 18s</div>"
      ]
     },
     "metadata": {},
     "output_type": "display_data"
    },
    {
     "name": "stdout",
     "output_type": "stream",
     "text": [
      "WARN: Attempt[3] failed. Retrying...\n",
      "Poland [done]\n"
     ]
    },
    {
     "data": {
      "text/html": [
       "<b>Chain 2 Complete</b>: <div>Iteration: 100 (74ms)</div> <div>Acceptance rate: 0.92</div> <div>E-BFMI: 2.09</div> <div>Step size: 0.0001</div> <div>Total gradient evaluations: 2e+04 (709us)</div> <div>Total time: 22s</div>"
      ]
     },
     "metadata": {},
     "output_type": "display_data"
    },
    {
     "name": "stdout",
     "output_type": "stream",
     "text": [
      "WARN: Attempt[2] failed. Retrying...\n"
     ]
    },
    {
     "data": {
      "text/html": [
       "<b>Chain 1 Complete</b>: <div>Iteration: 100 (58ms)</div> <div>Acceptance rate: 0.85</div> <div>E-BFMI: 1.52</div> <div>Step size: 0.0004</div> <div>Total gradient evaluations: 2e+04 (287us)</div> <div>Total time: 16s</div>"
      ]
     },
     "metadata": {},
     "output_type": "display_data"
    },
    {
     "data": {
      "text/html": [
       "<b>Chain 2 Complete</b>: <div>Iteration: 100 (54ms)</div> <div>Acceptance rate: 0.96</div> <div>E-BFMI: 1.09</div> <div>Step size: 0.004</div> <div>Total gradient evaluations: 2e+04 (224us)</div> <div>Total time: 17s</div>"
      ]
     },
     "metadata": {},
     "output_type": "display_data"
    },
    {
     "name": "stdout",
     "output_type": "stream",
     "text": [
      "WARN: Attempt[2] failed. Retrying...\n"
     ]
    },
    {
     "data": {
      "text/html": [
       "<b>Chain 1 Complete</b>: <div>Iteration: 100 (64ms)</div> <div>Acceptance rate: 0.93</div> <div>E-BFMI: 1.68</div> <div>Step size: 0.003</div> <div>Total gradient evaluations: 2e+04 (277us)</div> <div>Total time: 21s</div>"
      ]
     },
     "metadata": {},
     "output_type": "display_data"
    },
    {
     "name": "stdout",
     "output_type": "stream",
     "text": [
      "WARN: Attempt[3] failed. Retrying...\n",
      "France [done]\n"
     ]
    },
    {
     "data": {
      "text/html": [
       "<b>Chain 2 Complete</b>: <div>Iteration: 100 (60ms)</div> <div>Acceptance rate: 0.97</div> <div>E-BFMI: 0.77</div> <div>Step size: 0.003</div> <div>Total gradient evaluations: 2e+04 (274us)</div> <div>Total time: 18s</div>"
      ]
     },
     "metadata": {},
     "output_type": "display_data"
    },
    {
     "name": "stdout",
     "output_type": "stream",
     "text": [
      "WARN: Attempt[3] failed. Retrying...\n",
      "Italy [done]\n",
      "Elapsed time: 166883 ms\n"
     ]
    },
    {
     "data": {
      "text/plain": [
       "\u001b[36mcountryStats\u001b[39m: \u001b[32mMap\u001b[39m[\u001b[32mString\u001b[39m, \u001b[32mEither\u001b[39m[\u001b[32mThrowable\u001b[39m, \u001b[32mRtsDistributionStats\u001b[39m]] = \u001b[33mMap\u001b[39m(\n",
       "  \u001b[32m\"Poland\"\u001b[39m -> \u001b[33mRight\u001b[39m(\n",
       "    \u001b[33mRtsDistributionStats\u001b[39m(\n",
       "      \u001b[33mVector\u001b[39m(\n",
       "        (\u001b[32m0\u001b[39m, \u001b[32m1.540742129935617\u001b[39m),\n",
       "        (\u001b[32m1\u001b[39m, \u001b[32m1.5492024768355455\u001b[39m),\n",
       "        (\u001b[32m2\u001b[39m, \u001b[32m1.53960101704911\u001b[39m),\n",
       "        (\u001b[32m3\u001b[39m, \u001b[32m1.5231565259912714\u001b[39m),\n",
       "        (\u001b[32m4\u001b[39m, \u001b[32m1.517111548756694\u001b[39m),\n",
       "        (\u001b[32m5\u001b[39m, \u001b[32m1.513173556591927\u001b[39m),\n",
       "        (\u001b[32m6\u001b[39m, \u001b[32m1.511449329828923\u001b[39m),\n",
       "        (\u001b[32m7\u001b[39m, \u001b[32m1.5271757141759343\u001b[39m),\n",
       "        (\u001b[32m8\u001b[39m, \u001b[32m1.5151479043101088\u001b[39m),\n",
       "        (\u001b[32m9\u001b[39m, \u001b[32m1.5230903111416012\u001b[39m),\n",
       "        (\u001b[32m10\u001b[39m, \u001b[32m1.5128344821721402\u001b[39m),\n",
       "        (\u001b[32m11\u001b[39m, \u001b[32m1.5131970283292215\u001b[39m),\n",
       "        (\u001b[32m12\u001b[39m, \u001b[32m1.5210002270170397\u001b[39m),\n",
       "        (\u001b[32m13\u001b[39m, \u001b[32m1.5108922366501525\u001b[39m),\n",
       "        (\u001b[32m14\u001b[39m, \u001b[32m1.512680011020172\u001b[39m),\n",
       "        (\u001b[32m15\u001b[39m, \u001b[32m1.5015132700435259\u001b[39m),\n",
       "        (\u001b[32m16\u001b[39m, \u001b[32m1.5003745735765712\u001b[39m),\n",
       "        (\u001b[32m17\u001b[39m, \u001b[32m1.4901662582836572\u001b[39m),\n",
       "        (\u001b[32m18\u001b[39m, \u001b[32m1.483873388578861\u001b[39m),\n",
       "        (\u001b[32m19\u001b[39m, \u001b[32m1.4864100966078166\u001b[39m),\n",
       "        (\u001b[32m20\u001b[39m, \u001b[32m1.49189293152371\u001b[39m),\n",
       "        (\u001b[32m21\u001b[39m, \u001b[32m1.495433392672734\u001b[39m),\n",
       "        (\u001b[32m22\u001b[39m, \u001b[32m1.4679285122725585\u001b[39m),\n",
       "        (\u001b[32m23\u001b[39m, \u001b[32m1.4544927636536167\u001b[39m),\n",
       "        (\u001b[32m24\u001b[39m, \u001b[32m1.4423544092219098\u001b[39m),\n",
       "        (\u001b[32m25\u001b[39m, \u001b[32m1.4407259649567472\u001b[39m),\n",
       "        (\u001b[32m26\u001b[39m, \u001b[32m1.4166448808086443\u001b[39m),\n",
       "        (\u001b[32m27\u001b[39m, \u001b[32m1.4040555377620647\u001b[39m),\n",
       "        (\u001b[32m28\u001b[39m, \u001b[32m1.3937235498044043\u001b[39m),\n",
       "        (\u001b[32m29\u001b[39m, \u001b[32m1.3759891925982926\u001b[39m),\n",
       "        (\u001b[32m30\u001b[39m, \u001b[32m1.3732595063190982\u001b[39m),\n",
       "        (\u001b[32m31\u001b[39m, \u001b[32m1.3635189496556854\u001b[39m),\n",
       "        (\u001b[32m32\u001b[39m, \u001b[32m1.3552250596400879\u001b[39m),\n",
       "        (\u001b[32m33\u001b[39m, \u001b[32m1.3469631327157767\u001b[39m),\n",
       "        (\u001b[32m34\u001b[39m, \u001b[32m1.3204927112151734\u001b[39m),\n",
       "..."
      ]
     },
     "execution_count": 132,
     "metadata": {},
     "output_type": "execute_result"
    }
   ],
   "source": [
    "val countryStats: Map[String, Either[Throwable, RtsDistributionStats]] = {\n",
    "    assert(countriesToPredict.toSet.subsetOf(countriesOnsetData.map(_(\"country\")).toSet))\n",
    "    val allStats = time {\n",
    "        countriesToPredict.par.map { countryName =>\n",
    "            val caseNumbers = countriesOnsetData.collect {\n",
    "                case m if m(\"country\") == countryName => m(\"Onset\").toDouble.round\n",
    "            }\n",
    "            val possiblyFailed: Try[RtsDistributionStats] = Try { \n",
    "                val (rtme, logs) = predictRt(caseNumbers, pdelay, failedRunDetection = true)\n",
    "                processLogs(countryName, logs)\n",
    "                val RtModelEstimates(rts,estimates, serialInterval, serialEstimates) = rtme\n",
    "                val stats@RtsDistributionStats(means, medians, hdpis_90, hdpis_50) = distributionStats(rts, estimates)\n",
    "                println(s\"$countryName [done]\")\n",
    "                stats\n",
    "            }\n",
    "            countryName -> possiblyFailed.toEither\n",
    "        }.seq\n",
    "    }\n",
    "    allStats.toMap\n",
    "}"
   ]
  },
  {
   "cell_type": "code",
   "execution_count": 133,
   "metadata": {},
   "outputs": [
    {
     "data": {
      "text/plain": [
       "\u001b[36mres132\u001b[39m: \u001b[32mcollection\u001b[39m.\u001b[32mmutable\u001b[39m.\u001b[32mMap\u001b[39m[\u001b[32mString\u001b[39m, \u001b[32mList\u001b[39m[\u001b[32mDouble\u001b[39m]] = \u001b[33mMap\u001b[39m(\n",
       "  \u001b[32m\"United_Kingdom\"\u001b[39m -> \u001b[33mList\u001b[39m(\u001b[32m4.036200524870752\u001b[39m, \u001b[32m5.938226637677339\u001b[39m, \u001b[32m3.7662111040647\u001b[39m),\n",
       "  \u001b[32m\"Italy\"\u001b[39m -> \u001b[33mList\u001b[39m(\u001b[32m38.5214508651233\u001b[39m, \u001b[32m15.617178404697535\u001b[39m, \u001b[32m3.4647136853918554\u001b[39m),\n",
       "  \u001b[32m\"France\"\u001b[39m -> \u001b[33mList\u001b[39m(\u001b[32m2.59029657668949\u001b[39m, \u001b[32m8.15743905671114\u001b[39m, \u001b[32m5.484996589334801\u001b[39m),\n",
       "  \u001b[32m\"Poland\"\u001b[39m -> \u001b[33mList\u001b[39m(\u001b[32m4.167850772483678\u001b[39m, \u001b[32m4.456762744460383\u001b[39m, \u001b[32m1.4639273440261256\u001b[39m)\n",
       ")"
      ]
     },
     "execution_count": 133,
     "metadata": {},
     "output_type": "execute_result"
    }
   ],
   "source": [
    "countryLogs"
   ]
  },
  {
   "cell_type": "code",
   "execution_count": 134,
   "metadata": {},
   "outputs": [
    {
     "data": {
      "text/plain": [
       "\u001b[36mres133\u001b[39m: \u001b[32mMap\u001b[39m[\u001b[32mString\u001b[39m, \u001b[32mEither\u001b[39m[\u001b[32mThrowable\u001b[39m, \u001b[32mRtsDistributionStats\u001b[39m]] = \u001b[33mMap\u001b[39m(\n",
       "  \u001b[32m\"Poland\"\u001b[39m -> \u001b[33mRight\u001b[39m(\n",
       "    \u001b[33mRtsDistributionStats\u001b[39m(\n",
       "      \u001b[33mVector\u001b[39m(\n",
       "        (\u001b[32m0\u001b[39m, \u001b[32m1.540742129935617\u001b[39m),\n",
       "        (\u001b[32m1\u001b[39m, \u001b[32m1.5492024768355455\u001b[39m),\n",
       "        (\u001b[32m2\u001b[39m, \u001b[32m1.53960101704911\u001b[39m),\n",
       "        (\u001b[32m3\u001b[39m, \u001b[32m1.5231565259912714\u001b[39m),\n",
       "        (\u001b[32m4\u001b[39m, \u001b[32m1.517111548756694\u001b[39m),\n",
       "        (\u001b[32m5\u001b[39m, \u001b[32m1.513173556591927\u001b[39m),\n",
       "        (\u001b[32m6\u001b[39m, \u001b[32m1.511449329828923\u001b[39m),\n",
       "        (\u001b[32m7\u001b[39m, \u001b[32m1.5271757141759343\u001b[39m),\n",
       "        (\u001b[32m8\u001b[39m, \u001b[32m1.5151479043101088\u001b[39m),\n",
       "        (\u001b[32m9\u001b[39m, \u001b[32m1.5230903111416012\u001b[39m),\n",
       "        (\u001b[32m10\u001b[39m, \u001b[32m1.5128344821721402\u001b[39m),\n",
       "        (\u001b[32m11\u001b[39m, \u001b[32m1.5131970283292215\u001b[39m),\n",
       "        (\u001b[32m12\u001b[39m, \u001b[32m1.5210002270170397\u001b[39m),\n",
       "        (\u001b[32m13\u001b[39m, \u001b[32m1.5108922366501525\u001b[39m),\n",
       "        (\u001b[32m14\u001b[39m, \u001b[32m1.512680011020172\u001b[39m),\n",
       "        (\u001b[32m15\u001b[39m, \u001b[32m1.5015132700435259\u001b[39m),\n",
       "        (\u001b[32m16\u001b[39m, \u001b[32m1.5003745735765712\u001b[39m),\n",
       "        (\u001b[32m17\u001b[39m, \u001b[32m1.4901662582836572\u001b[39m),\n",
       "        (\u001b[32m18\u001b[39m, \u001b[32m1.483873388578861\u001b[39m),\n",
       "        (\u001b[32m19\u001b[39m, \u001b[32m1.4864100966078166\u001b[39m),\n",
       "        (\u001b[32m20\u001b[39m, \u001b[32m1.49189293152371\u001b[39m),\n",
       "        (\u001b[32m21\u001b[39m, \u001b[32m1.495433392672734\u001b[39m),\n",
       "        (\u001b[32m22\u001b[39m, \u001b[32m1.4679285122725585\u001b[39m),\n",
       "        (\u001b[32m23\u001b[39m, \u001b[32m1.4544927636536167\u001b[39m),\n",
       "        (\u001b[32m24\u001b[39m, \u001b[32m1.4423544092219098\u001b[39m),\n",
       "        (\u001b[32m25\u001b[39m, \u001b[32m1.4407259649567472\u001b[39m),\n",
       "        (\u001b[32m26\u001b[39m, \u001b[32m1.4166448808086443\u001b[39m),\n",
       "        (\u001b[32m27\u001b[39m, \u001b[32m1.4040555377620647\u001b[39m),\n",
       "        (\u001b[32m28\u001b[39m, \u001b[32m1.3937235498044043\u001b[39m),\n",
       "        (\u001b[32m29\u001b[39m, \u001b[32m1.3759891925982926\u001b[39m),\n",
       "        (\u001b[32m30\u001b[39m, \u001b[32m1.3732595063190982\u001b[39m),\n",
       "        (\u001b[32m31\u001b[39m, \u001b[32m1.3635189496556854\u001b[39m),\n",
       "        (\u001b[32m32\u001b[39m, \u001b[32m1.3552250596400879\u001b[39m),\n",
       "        (\u001b[32m33\u001b[39m, \u001b[32m1.3469631327157767\u001b[39m),\n",
       "        (\u001b[32m34\u001b[39m, \u001b[32m1.3204927112151734\u001b[39m),\n",
       "..."
      ]
     },
     "execution_count": 134,
     "metadata": {},
     "output_type": "execute_result"
    }
   ],
   "source": [
    "countryStats"
   ]
  },
  {
   "cell_type": "code",
   "execution_count": 135,
   "metadata": {
    "scrolled": true
   },
   "outputs": [
    {
     "data": {
      "text/plain": [
       "\u001b[36mfailedToConverge\u001b[39m: \u001b[32mcollection\u001b[39m.\u001b[32mimmutable\u001b[39m.\u001b[32mIterable\u001b[39m[\u001b[32mString\u001b[39m] = \u001b[33mList\u001b[39m()"
      ]
     },
     "execution_count": 135,
     "metadata": {},
     "output_type": "execute_result"
    }
   ],
   "source": [
    "val failedToConverge = countryStats collect {\n",
    "    case (countryName, res) if res.isLeft => countryName\n",
    "} "
   ]
  },
  {
   "cell_type": "code",
   "execution_count": 136,
   "metadata": {},
   "outputs": [
    {
     "data": {
      "text/plain": [
       "\u001b[36mcountriesTriedOneMoreTime\u001b[39m: \u001b[32mSeq\u001b[39m[(\u001b[32mString\u001b[39m, \u001b[32mRtsDistributionStats\u001b[39m)] = \u001b[33mList\u001b[39m()"
      ]
     },
     "execution_count": 136,
     "metadata": {},
     "output_type": "execute_result"
    }
   ],
   "source": [
    "// co\n",
    "val countriesTriedOneMoreTime = failedToConverge.toSeq map { countryName =>\n",
    "    println(countryName)\n",
    "    val onsetNumbers = countriesOnsetData.collect {\n",
    "        case m if m(\"country\") == countryName => m(\"Onset\").toDouble.round\n",
    "    }\n",
    "    val RtModelEstimates(rts,estimates, serialInterval, serialEstimates) = time { \n",
    "        val (res, logs) = predictRt(onsetNumbers, pdelay, failedRunDetection = false)\n",
    "        processLogs(countryName, logs)\n",
    "        res\n",
    "    }\n",
    "    countryName -> distributionStats(rts, estimates)\n",
    "}"
   ]
  },
  {
   "cell_type": "code",
   "execution_count": 137,
   "metadata": {},
   "outputs": [
    {
     "data": {
      "text/plain": [
       "\u001b[36mfinalCountryStats\u001b[39m: \u001b[32mMap\u001b[39m[\u001b[32mString\u001b[39m, \u001b[32mRtsDistributionStats\u001b[39m] = \u001b[33mMap\u001b[39m(\n",
       "  \u001b[32m\"Poland\"\u001b[39m -> \u001b[33mRtsDistributionStats\u001b[39m(\n",
       "    \u001b[33mVector\u001b[39m(\n",
       "      (\u001b[32m0\u001b[39m, \u001b[32m1.540742129935617\u001b[39m),\n",
       "      (\u001b[32m1\u001b[39m, \u001b[32m1.5492024768355455\u001b[39m),\n",
       "      (\u001b[32m2\u001b[39m, \u001b[32m1.53960101704911\u001b[39m),\n",
       "      (\u001b[32m3\u001b[39m, \u001b[32m1.5231565259912714\u001b[39m),\n",
       "      (\u001b[32m4\u001b[39m, \u001b[32m1.517111548756694\u001b[39m),\n",
       "      (\u001b[32m5\u001b[39m, \u001b[32m1.513173556591927\u001b[39m),\n",
       "      (\u001b[32m6\u001b[39m, \u001b[32m1.511449329828923\u001b[39m),\n",
       "      (\u001b[32m7\u001b[39m, \u001b[32m1.5271757141759343\u001b[39m),\n",
       "      (\u001b[32m8\u001b[39m, \u001b[32m1.5151479043101088\u001b[39m),\n",
       "      (\u001b[32m9\u001b[39m, \u001b[32m1.5230903111416012\u001b[39m),\n",
       "      (\u001b[32m10\u001b[39m, \u001b[32m1.5128344821721402\u001b[39m),\n",
       "      (\u001b[32m11\u001b[39m, \u001b[32m1.5131970283292215\u001b[39m),\n",
       "      (\u001b[32m12\u001b[39m, \u001b[32m1.5210002270170397\u001b[39m),\n",
       "      (\u001b[32m13\u001b[39m, \u001b[32m1.5108922366501525\u001b[39m),\n",
       "      (\u001b[32m14\u001b[39m, \u001b[32m1.512680011020172\u001b[39m),\n",
       "      (\u001b[32m15\u001b[39m, \u001b[32m1.5015132700435259\u001b[39m),\n",
       "      (\u001b[32m16\u001b[39m, \u001b[32m1.5003745735765712\u001b[39m),\n",
       "      (\u001b[32m17\u001b[39m, \u001b[32m1.4901662582836572\u001b[39m),\n",
       "      (\u001b[32m18\u001b[39m, \u001b[32m1.483873388578861\u001b[39m),\n",
       "      (\u001b[32m19\u001b[39m, \u001b[32m1.4864100966078166\u001b[39m),\n",
       "      (\u001b[32m20\u001b[39m, \u001b[32m1.49189293152371\u001b[39m),\n",
       "      (\u001b[32m21\u001b[39m, \u001b[32m1.495433392672734\u001b[39m),\n",
       "      (\u001b[32m22\u001b[39m, \u001b[32m1.4679285122725585\u001b[39m),\n",
       "      (\u001b[32m23\u001b[39m, \u001b[32m1.4544927636536167\u001b[39m),\n",
       "      (\u001b[32m24\u001b[39m, \u001b[32m1.4423544092219098\u001b[39m),\n",
       "      (\u001b[32m25\u001b[39m, \u001b[32m1.4407259649567472\u001b[39m),\n",
       "      (\u001b[32m26\u001b[39m, \u001b[32m1.4166448808086443\u001b[39m),\n",
       "      (\u001b[32m27\u001b[39m, \u001b[32m1.4040555377620647\u001b[39m),\n",
       "      (\u001b[32m28\u001b[39m, \u001b[32m1.3937235498044043\u001b[39m),\n",
       "      (\u001b[32m29\u001b[39m, \u001b[32m1.3759891925982926\u001b[39m),\n",
       "      (\u001b[32m30\u001b[39m, \u001b[32m1.3732595063190982\u001b[39m),\n",
       "      (\u001b[32m31\u001b[39m, \u001b[32m1.3635189496556854\u001b[39m),\n",
       "      (\u001b[32m32\u001b[39m, \u001b[32m1.3552250596400879\u001b[39m),\n",
       "      (\u001b[32m33\u001b[39m, \u001b[32m1.3469631327157767\u001b[39m),\n",
       "      (\u001b[32m34\u001b[39m, \u001b[32m1.3204927112151734\u001b[39m),\n",
       "      (\u001b[32m35\u001b[39m, \u001b[32m1.3080279601034772\u001b[39m),\n",
       "..."
      ]
     },
     "execution_count": 137,
     "metadata": {},
     "output_type": "execute_result"
    }
   ],
   "source": [
    "val finalCountryStats = (countryStats collect {\n",
    "    case (countryName, Right(stats)) => countryName -> stats\n",
    "})// ++ countriesTriedOneMoreTime"
   ]
  },
  {
   "cell_type": "code",
   "execution_count": 138,
   "metadata": {},
   "outputs": [
    {
     "data": {
      "text/plain": [
       "\u001b[36mcountryStats\u001b[39m: \u001b[32mMap\u001b[39m[\u001b[32mString\u001b[39m, \u001b[32mRtsDistributionStats\u001b[39m] = \u001b[33mMap\u001b[39m(\n",
       "  \u001b[32m\"Poland\"\u001b[39m -> \u001b[33mRtsDistributionStats\u001b[39m(\n",
       "    \u001b[33mVector\u001b[39m(\n",
       "      (\u001b[32m0\u001b[39m, \u001b[32m1.540742129935617\u001b[39m),\n",
       "      (\u001b[32m1\u001b[39m, \u001b[32m1.5492024768355455\u001b[39m),\n",
       "      (\u001b[32m2\u001b[39m, \u001b[32m1.53960101704911\u001b[39m),\n",
       "      (\u001b[32m3\u001b[39m, \u001b[32m1.5231565259912714\u001b[39m),\n",
       "      (\u001b[32m4\u001b[39m, \u001b[32m1.517111548756694\u001b[39m),\n",
       "      (\u001b[32m5\u001b[39m, \u001b[32m1.513173556591927\u001b[39m),\n",
       "      (\u001b[32m6\u001b[39m, \u001b[32m1.511449329828923\u001b[39m),\n",
       "      (\u001b[32m7\u001b[39m, \u001b[32m1.5271757141759343\u001b[39m),\n",
       "      (\u001b[32m8\u001b[39m, \u001b[32m1.5151479043101088\u001b[39m),\n",
       "      (\u001b[32m9\u001b[39m, \u001b[32m1.5230903111416012\u001b[39m),\n",
       "      (\u001b[32m10\u001b[39m, \u001b[32m1.5128344821721402\u001b[39m),\n",
       "      (\u001b[32m11\u001b[39m, \u001b[32m1.5131970283292215\u001b[39m),\n",
       "      (\u001b[32m12\u001b[39m, \u001b[32m1.5210002270170397\u001b[39m),\n",
       "      (\u001b[32m13\u001b[39m, \u001b[32m1.5108922366501525\u001b[39m),\n",
       "      (\u001b[32m14\u001b[39m, \u001b[32m1.512680011020172\u001b[39m),\n",
       "      (\u001b[32m15\u001b[39m, \u001b[32m1.5015132700435259\u001b[39m),\n",
       "      (\u001b[32m16\u001b[39m, \u001b[32m1.5003745735765712\u001b[39m),\n",
       "      (\u001b[32m17\u001b[39m, \u001b[32m1.4901662582836572\u001b[39m),\n",
       "      (\u001b[32m18\u001b[39m, \u001b[32m1.483873388578861\u001b[39m),\n",
       "      (\u001b[32m19\u001b[39m, \u001b[32m1.4864100966078166\u001b[39m),\n",
       "      (\u001b[32m20\u001b[39m, \u001b[32m1.49189293152371\u001b[39m),\n",
       "      (\u001b[32m21\u001b[39m, \u001b[32m1.495433392672734\u001b[39m),\n",
       "      (\u001b[32m22\u001b[39m, \u001b[32m1.4679285122725585\u001b[39m),\n",
       "      (\u001b[32m23\u001b[39m, \u001b[32m1.4544927636536167\u001b[39m),\n",
       "      (\u001b[32m24\u001b[39m, \u001b[32m1.4423544092219098\u001b[39m),\n",
       "      (\u001b[32m25\u001b[39m, \u001b[32m1.4407259649567472\u001b[39m),\n",
       "      (\u001b[32m26\u001b[39m, \u001b[32m1.4166448808086443\u001b[39m),\n",
       "      (\u001b[32m27\u001b[39m, \u001b[32m1.4040555377620647\u001b[39m),\n",
       "      (\u001b[32m28\u001b[39m, \u001b[32m1.3937235498044043\u001b[39m),\n",
       "      (\u001b[32m29\u001b[39m, \u001b[32m1.3759891925982926\u001b[39m),\n",
       "      (\u001b[32m30\u001b[39m, \u001b[32m1.3732595063190982\u001b[39m),\n",
       "      (\u001b[32m31\u001b[39m, \u001b[32m1.3635189496556854\u001b[39m),\n",
       "      (\u001b[32m32\u001b[39m, \u001b[32m1.3552250596400879\u001b[39m),\n",
       "      (\u001b[32m33\u001b[39m, \u001b[32m1.3469631327157767\u001b[39m),\n",
       "      (\u001b[32m34\u001b[39m, \u001b[32m1.3204927112151734\u001b[39m),\n",
       "      (\u001b[32m35\u001b[39m, \u001b[32m1.3080279601034772\u001b[39m),\n",
       "..."
      ]
     },
     "execution_count": 138,
     "metadata": {},
     "output_type": "execute_result"
    }
   ],
   "source": [
    "// override the previous variable so the rest of the notebook works fine\n",
    "val countryStats = finalCountryStats"
   ]
  },
  {
   "cell_type": "code",
   "execution_count": 139,
   "metadata": {
    "scrolled": false
   },
   "outputs": [
    {
     "data": {
      "image/png": "[encoded data removed]"
     },
     "metadata": {
      "height": "1600",
      "width": "1636"
     },
     "output_type": "display_data"
    }
   ],
   "source": [
    "{{\n",
    "    val RtsDistributionStats(means, medians, hdpis_90, hdpis_50) = countryStats(\"Poland\")\n",
    "    show(\"t\", \"Rt\", line(medians), shade(hdpis_50))\n",
    "}}"
   ]
  },
  {
   "cell_type": "markdown",
   "metadata": {},
   "source": [
    "## Saving the results"
   ]
  },
  {
   "cell_type": "code",
   "execution_count": 140,
   "metadata": {},
   "outputs": [
    {
     "data": {
      "text/plain": [
       "defined \u001b[32mfunction\u001b[39m \u001b[36mdatesForCountry\u001b[39m"
      ]
     },
     "execution_count": 140,
     "metadata": {},
     "output_type": "execute_result"
    }
   ],
   "source": [
    "def datesForCountry(country: String) = {\n",
    "    countriesOnsetData.collect {\n",
    "        case m if m(\"country\") == country => m(\"date\")\n",
    "    }\n",
    "}"
   ]
  },
  {
   "cell_type": "code",
   "execution_count": 141,
   "metadata": {},
   "outputs": [
    {
     "data": {
      "text/plain": [
       "defined \u001b[32mfunction\u001b[39m \u001b[36mwriteStatsToCsv\u001b[39m"
      ]
     },
     "execution_count": 141,
     "metadata": {},
     "output_type": "execute_result"
    }
   ],
   "source": [
    "def writeStatsToCsv(country: String, stats: RtsDistributionStats, csvWriter: CSVWriter): Unit = {\n",
    "    val means_medians = stats.means.unzip._2 zip stats.medians.unzip._2\n",
    "    val hdpis = stats.hdpis_90.unzip._2 zip stats.hdpis_50.unzip._2\n",
    "    val xs = means_medians zip hdpis\n",
    "    val dates = datesForCountry(country)\n",
    "//     assert(xs.size == dates.size, s\"${xs.size} != ${dates.size}\")\n",
    "    (xs zip dates) foreach {\n",
    "        case (((mean, median),((low90,high90),(low50,high50))), date) => \n",
    "            csvWriter.writeRow(country :: date :: mean.toString :: median.toString :: low90.toString :: high90.toString \n",
    "                               :: low50.toString :: high50.toString :: Nil)\n",
    "    }\n",
    "}"
   ]
  },
  {
   "cell_type": "code",
   "execution_count": 142,
   "metadata": {
    "scrolled": true
   },
   "outputs": [
    {
     "data": {
      "text/plain": [
       "\u001b[36mcsvWriter\u001b[39m: \u001b[32mCSVWriter\u001b[39m = com.github.tototoshi.csv.CSVWriter@224ea854"
      ]
     },
     "execution_count": 142,
     "metadata": {},
     "output_type": "execute_result"
    }
   ],
   "source": [
    "val csvWriter = CSVWriter.open(new File(\"data/rt-rainier.csv\"))"
   ]
  },
  {
   "cell_type": "code",
   "execution_count": 143,
   "metadata": {},
   "outputs": [],
   "source": [
    "csvWriter.writeRow(List(\"region\", \"date\", \"mean\", \"median\", \"lower_90\", \"upper_90\", \"lower_50\", \"upper_50\"))"
   ]
  },
  {
   "cell_type": "code",
   "execution_count": 144,
   "metadata": {},
   "outputs": [],
   "source": [
    "countryStats.toList.sortBy(_._1).foreach {\n",
    "    case (country, stats) => writeStatsToCsv(country, stats, csvWriter)\n",
    "}"
   ]
  },
  {
   "cell_type": "code",
   "execution_count": 145,
   "metadata": {},
   "outputs": [],
   "source": [
    "csvWriter.close()"
   ]
  },
  {
   "cell_type": "markdown",
   "metadata": {},
   "source": [
    "## Processing logs"
   ]
  },
  {
   "cell_type": "code",
   "execution_count": 147,
   "metadata": {},
   "outputs": [
    {
     "data": {
      "text/plain": [
       "\u001b[36mcsvData\u001b[39m: \u001b[32mList\u001b[39m[\u001b[32mMap\u001b[39m[\u001b[32mString\u001b[39m, \u001b[32mString\u001b[39m]] = \u001b[33mList\u001b[39m()"
      ]
     },
     "execution_count": 147,
     "metadata": {},
     "output_type": "execute_result"
    }
   ],
   "source": [
    "val csvData = {\n",
    "    val csvReader = CSVReader.open(new File(\"data/rhats.csv\"))\n",
    "    val data = csvReader.allWithHeaders()\n",
    "    csvReader.close()\n",
    "    data\n",
    "}"
   ]
  },
  {
   "cell_type": "code",
   "execution_count": 148,
   "metadata": {},
   "outputs": [
    {
     "data": {
      "text/plain": [
       "defined \u001b[32mfunction\u001b[39m \u001b[36mwriteCountryLogs\u001b[39m\n",
       "\u001b[36mcountriesInCsv\u001b[39m: \u001b[32mSet\u001b[39m[\u001b[32mString\u001b[39m] = \u001b[33mSet\u001b[39m()\n",
       "\u001b[36mcountriesInLogs\u001b[39m: \u001b[32mSet\u001b[39m[\u001b[32mString\u001b[39m] = \u001b[33mSet\u001b[39m(\n",
       "  \u001b[32m\"United_Kingdom\"\u001b[39m,\n",
       "  \u001b[32m\"Italy\"\u001b[39m,\n",
       "  \u001b[32m\"France\"\u001b[39m,\n",
       "  \u001b[32m\"Poland\"\u001b[39m\n",
       ")\n",
       "\u001b[36mallCountries\u001b[39m: \u001b[32mList\u001b[39m[\u001b[32mString\u001b[39m] = \u001b[33mList\u001b[39m(\u001b[32m\"France\"\u001b[39m, \u001b[32m\"Italy\"\u001b[39m, \u001b[32m\"Poland\"\u001b[39m, \u001b[32m\"United_Kingdom\"\u001b[39m)\n",
       "\u001b[36mcsvLogsWriter\u001b[39m: \u001b[32mCSVWriter\u001b[39m = com.github.tototoshi.csv.CSVWriter@423f4e3b"
      ]
     },
     "execution_count": 148,
     "metadata": {},
     "output_type": "execute_result"
    }
   ],
   "source": [
    "def writeCountryLogs(writer: CSVWriter, country: String) = {\n",
    "    val countryData = csvData filter (_(\"country\") == country)\n",
    "    val countryMaxIdx = if (countryData.isEmpty) 0 else (countryData collect { case m => m(\"idx\").toInt}).max + 1\n",
    "    val additionalData = countryLogs(country).zipWithIndex.map {\n",
    "        case (value,i) => Map(\"country\" -> country, \"idx\" -> countryMaxIdx.toString, \n",
    "                              \"iteration\" -> i.toString, \"rhat\" -> value.toString)\n",
    "    }\n",
    "    val allData = countryData ++ additionalData\n",
    "    for(elem <- allData) {\n",
    "        writer.writeRow(country :: elem(\"idx\") :: elem(\"iteration\") :: elem(\"rhat\") :: Nil)\n",
    "    }\n",
    "}\n",
    "\n",
    "val countriesInCsv = (csvData collect { case m => m(\"country\")}).toSet\n",
    "val countriesInLogs = countryLogs.keys.toSet\n",
    "val allCountries = (countriesInCsv ++ countriesInLogs).toList.sorted\n",
    "val csvLogsWriter = CSVWriter.open(new File(\"data/rhats.csv\"))\n",
    "csvLogsWriter.writeRow(List(\"country\", \"idx\", \"iteration\", \"rhat\"))\n",
    "allCountries.foreach(writeCountryLogs(csvLogsWriter, _))\n",
    "csvLogsWriter.close()"
   ]
  }
 ],
 "metadata": {
  "kernelspec": {
   "display_name": "Rainier (Scala 2.12)",
   "language": "scala",
   "name": "rainier"
  },
  "language_info": {
   "codemirror_mode": "text/x-scala",
   "file_extension": ".scala",
   "mimetype": "text/x-scala",
   "name": "scala",
   "nbconvert_exporter": "script",
   "version": "2.12.10"
  }
 },
 "nbformat": 4,
 "nbformat_minor": 2
}

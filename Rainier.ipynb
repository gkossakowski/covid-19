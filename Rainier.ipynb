{
 "cells": [
  {
   "cell_type": "code",
   "execution_count": 25,
   "metadata": {},
   "outputs": [
    {
     "data": {
      "text/plain": [
       "\u001b[32mimport \u001b[39m\u001b[36m$ivy.$                               \n",
       "\u001b[39m\n",
       "\u001b[32mimport \u001b[39m\u001b[36m$ivy.$                                   \u001b[39m"
      ]
     },
     "execution_count": 25,
     "metadata": {},
     "output_type": "execute_result"
    }
   ],
   "source": [
    "import $ivy.`com.stripe::rainier-core:0.3.3`\n",
    "import $ivy.`com.stripe::rainier-notebook:0.3.3`"
   ]
  },
  {
   "cell_type": "code",
   "execution_count": 26,
   "metadata": {},
   "outputs": [
    {
     "data": {
      "text/plain": [
       "\u001b[32mimport \u001b[39m\u001b[36mcom.stripe.rainier.compute._\n",
       "\u001b[39m\n",
       "\u001b[32mimport \u001b[39m\u001b[36mcom.stripe.rainier.core._\n",
       "\u001b[39m\n",
       "\u001b[32mimport \u001b[39m\u001b[36mcom.stripe.rainier.sampler._\n",
       "\u001b[39m\n",
       "\u001b[32mimport \u001b[39m\u001b[36mcom.stripe.rainier.notebook._\u001b[39m"
      ]
     },
     "execution_count": 26,
     "metadata": {},
     "output_type": "execute_result"
    }
   ],
   "source": [
    "import com.stripe.rainier.compute._\n",
    "import com.stripe.rainier.core._\n",
    "import com.stripe.rainier.sampler._\n",
    "import com.stripe.rainier.notebook._"
   ]
  },
  {
   "cell_type": "code",
   "execution_count": 27,
   "metadata": {},
   "outputs": [],
   "source": [
    "PPrint.register(repl)"
   ]
  },
  {
   "cell_type": "code",
   "execution_count": 28,
   "metadata": {
    "scrolled": true
   },
   "outputs": [
    {
     "data": {
      "text/plain": [
       "\u001b[32mimport \u001b[39m\u001b[36m$ivy.$                                      \n",
       "\u001b[39m\n",
       "\u001b[32mimport \u001b[39m\u001b[36mcom.github.tototoshi.csv._\n",
       "\u001b[39m\n",
       "\u001b[32mimport \u001b[39m\u001b[36mjava.io.File\u001b[39m"
      ]
     },
     "execution_count": 28,
     "metadata": {},
     "output_type": "execute_result"
    }
   ],
   "source": [
    "import $ivy.`com.github.tototoshi::scala-csv:1.3.6`\n",
    "import com.github.tototoshi.csv._\n",
    "import java.io.File"
   ]
  },
  {
   "cell_type": "code",
   "execution_count": 29,
   "metadata": {},
   "outputs": [
    {
     "data": {
      "text/plain": [
       "defined \u001b[32mfunction\u001b[39m \u001b[36mtime\u001b[39m"
      ]
     },
     "execution_count": 29,
     "metadata": {},
     "output_type": "execute_result"
    }
   ],
   "source": [
    "def time[R](block: => R): R = {\n",
    "    val t0 = System.nanoTime()\n",
    "    val result = block    // call-by-name\n",
    "    val t1 = System.nanoTime()\n",
    "    val timeMilis = ((t1 - t0) / 1e6).toInt\n",
    "    println(s\"Elapsed time: $timeMilis ms\")\n",
    "    result\n",
    "}"
   ]
  },
  {
   "cell_type": "code",
   "execution_count": 30,
   "metadata": {
    "scrolled": true
   },
   "outputs": [
    {
     "data": {
      "text/plain": [
       "\u001b[36mcountriesSmooth\u001b[39m: \u001b[32mList\u001b[39m[\u001b[32mMap\u001b[39m[\u001b[32mString\u001b[39m, \u001b[32mString\u001b[39m]] = \u001b[33mList\u001b[39m(\n",
       "  \u001b[33mMap\u001b[39m(\u001b[32m\"country\"\u001b[39m -> \u001b[32m\"Austria\"\u001b[39m, \u001b[32m\"date\"\u001b[39m -> \u001b[32m\"2020-03-09\"\u001b[39m, \u001b[32m\"cases\"\u001b[39m -> \u001b[32m\"27\"\u001b[39m),\n",
       "  \u001b[33mMap\u001b[39m(\u001b[32m\"country\"\u001b[39m -> \u001b[32m\"Austria\"\u001b[39m, \u001b[32m\"date\"\u001b[39m -> \u001b[32m\"2020-03-10\"\u001b[39m, \u001b[32m\"cases\"\u001b[39m -> \u001b[32m\"39\"\u001b[39m),\n",
       "  \u001b[33mMap\u001b[39m(\u001b[32m\"country\"\u001b[39m -> \u001b[32m\"Austria\"\u001b[39m, \u001b[32m\"date\"\u001b[39m -> \u001b[32m\"2020-03-11\"\u001b[39m, \u001b[32m\"cases\"\u001b[39m -> \u001b[32m\"56\"\u001b[39m),\n",
       "  \u001b[33mMap\u001b[39m(\u001b[32m\"country\"\u001b[39m -> \u001b[32m\"Austria\"\u001b[39m, \u001b[32m\"date\"\u001b[39m -> \u001b[32m\"2020-03-12\"\u001b[39m, \u001b[32m\"cases\"\u001b[39m -> \u001b[32m\"79\"\u001b[39m),\n",
       "  \u001b[33mMap\u001b[39m(\u001b[32m\"country\"\u001b[39m -> \u001b[32m\"Austria\"\u001b[39m, \u001b[32m\"date\"\u001b[39m -> \u001b[32m\"2020-03-13\"\u001b[39m, \u001b[32m\"cases\"\u001b[39m -> \u001b[32m\"107\"\u001b[39m),\n",
       "  \u001b[33mMap\u001b[39m(\u001b[32m\"country\"\u001b[39m -> \u001b[32m\"Austria\"\u001b[39m, \u001b[32m\"date\"\u001b[39m -> \u001b[32m\"2020-03-14\"\u001b[39m, \u001b[32m\"cases\"\u001b[39m -> \u001b[32m\"131\"\u001b[39m),\n",
       "  \u001b[33mMap\u001b[39m(\u001b[32m\"country\"\u001b[39m -> \u001b[32m\"Austria\"\u001b[39m, \u001b[32m\"date\"\u001b[39m -> \u001b[32m\"2020-03-15\"\u001b[39m, \u001b[32m\"cases\"\u001b[39m -> \u001b[32m\"161\"\u001b[39m),\n",
       "  \u001b[33mMap\u001b[39m(\u001b[32m\"country\"\u001b[39m -> \u001b[32m\"Austria\"\u001b[39m, \u001b[32m\"date\"\u001b[39m -> \u001b[32m\"2020-03-16\"\u001b[39m, \u001b[32m\"cases\"\u001b[39m -> \u001b[32m\"193\"\u001b[39m),\n",
       "  \u001b[33mMap\u001b[39m(\u001b[32m\"country\"\u001b[39m -> \u001b[32m\"Austria\"\u001b[39m, \u001b[32m\"date\"\u001b[39m -> \u001b[32m\"2020-03-17\"\u001b[39m, \u001b[32m\"cases\"\u001b[39m -> \u001b[32m\"243\"\u001b[39m),\n",
       "  \u001b[33mMap\u001b[39m(\u001b[32m\"country\"\u001b[39m -> \u001b[32m\"Austria\"\u001b[39m, \u001b[32m\"date\"\u001b[39m -> \u001b[32m\"2020-03-18\"\u001b[39m, \u001b[32m\"cases\"\u001b[39m -> \u001b[32m\"299\"\u001b[39m),\n",
       "  \u001b[33mMap\u001b[39m(\u001b[32m\"country\"\u001b[39m -> \u001b[32m\"Austria\"\u001b[39m, \u001b[32m\"date\"\u001b[39m -> \u001b[32m\"2020-03-19\"\u001b[39m, \u001b[32m\"cases\"\u001b[39m -> \u001b[32m\"354\"\u001b[39m),\n",
       "  \u001b[33mMap\u001b[39m(\u001b[32m\"country\"\u001b[39m -> \u001b[32m\"Austria\"\u001b[39m, \u001b[32m\"date\"\u001b[39m -> \u001b[32m\"2020-03-20\"\u001b[39m, \u001b[32m\"cases\"\u001b[39m -> \u001b[32m\"409\"\u001b[39m),\n",
       "  \u001b[33mMap\u001b[39m(\u001b[32m\"country\"\u001b[39m -> \u001b[32m\"Austria\"\u001b[39m, \u001b[32m\"date\"\u001b[39m -> \u001b[32m\"2020-03-21\"\u001b[39m, \u001b[32m\"cases\"\u001b[39m -> \u001b[32m\"477\"\u001b[39m),\n",
       "  \u001b[33mMap\u001b[39m(\u001b[32m\"country\"\u001b[39m -> \u001b[32m\"Austria\"\u001b[39m, \u001b[32m\"date\"\u001b[39m -> \u001b[32m\"2020-03-22\"\u001b[39m, \u001b[32m\"cases\"\u001b[39m -> \u001b[32m\"545\"\u001b[39m),\n",
       "  \u001b[33mMap\u001b[39m(\u001b[32m\"country\"\u001b[39m -> \u001b[32m\"Austria\"\u001b[39m, \u001b[32m\"date\"\u001b[39m -> \u001b[32m\"2020-03-23\"\u001b[39m, \u001b[32m\"cases\"\u001b[39m -> \u001b[32m\"611\"\u001b[39m),\n",
       "  \u001b[33mMap\u001b[39m(\u001b[32m\"country\"\u001b[39m -> \u001b[32m\"Austria\"\u001b[39m, \u001b[32m\"date\"\u001b[39m -> \u001b[32m\"2020-03-24\"\u001b[39m, \u001b[32m\"cases\"\u001b[39m -> \u001b[32m\"693\"\u001b[39m),\n",
       "  \u001b[33mMap\u001b[39m(\u001b[32m\"country\"\u001b[39m -> \u001b[32m\"Austria\"\u001b[39m, \u001b[32m\"date\"\u001b[39m -> \u001b[32m\"2020-03-25\"\u001b[39m, \u001b[32m\"cases\"\u001b[39m -> \u001b[32m\"753\"\u001b[39m),\n",
       "  \u001b[33mMap\u001b[39m(\u001b[32m\"country\"\u001b[39m -> \u001b[32m\"Austria\"\u001b[39m, \u001b[32m\"date\"\u001b[39m -> \u001b[32m\"2020-03-26\"\u001b[39m, \u001b[32m\"cases\"\u001b[39m -> \u001b[32m\"784\"\u001b[39m),\n",
       "  \u001b[33mMap\u001b[39m(\u001b[32m\"country\"\u001b[39m -> \u001b[32m\"Austria\"\u001b[39m, \u001b[32m\"date\"\u001b[39m -> \u001b[32m\"2020-03-27\"\u001b[39m, \u001b[32m\"cases\"\u001b[39m -> \u001b[32m\"768\"\u001b[39m),\n",
       "  \u001b[33mMap\u001b[39m(\u001b[32m\"country\"\u001b[39m -> \u001b[32m\"Austria\"\u001b[39m, \u001b[32m\"date\"\u001b[39m -> \u001b[32m\"2020-03-28\"\u001b[39m, \u001b[32m\"cases\"\u001b[39m -> \u001b[32m\"735\"\u001b[39m),\n",
       "  \u001b[33mMap\u001b[39m(\u001b[32m\"country\"\u001b[39m -> \u001b[32m\"Austria\"\u001b[39m, \u001b[32m\"date\"\u001b[39m -> \u001b[32m\"2020-03-29\"\u001b[39m, \u001b[32m\"cases\"\u001b[39m -> \u001b[32m\"692\"\u001b[39m),\n",
       "  \u001b[33mMap\u001b[39m(\u001b[32m\"country\"\u001b[39m -> \u001b[32m\"Austria\"\u001b[39m, \u001b[32m\"date\"\u001b[39m -> \u001b[32m\"2020-03-30\"\u001b[39m, \u001b[32m\"cases\"\u001b[39m -> \u001b[32m\"658\"\u001b[39m),\n",
       "  \u001b[33mMap\u001b[39m(\u001b[32m\"country\"\u001b[39m -> \u001b[32m\"Austria\"\u001b[39m, \u001b[32m\"date\"\u001b[39m -> \u001b[32m\"2020-03-31\"\u001b[39m, \u001b[32m\"cases\"\u001b[39m -> \u001b[32m\"604\"\u001b[39m),\n",
       "  \u001b[33mMap\u001b[39m(\u001b[32m\"country\"\u001b[39m -> \u001b[32m\"Austria\"\u001b[39m, \u001b[32m\"date\"\u001b[39m -> \u001b[32m\"2020-04-01\"\u001b[39m, \u001b[32m\"cases\"\u001b[39m -> \u001b[32m\"569\"\u001b[39m),\n",
       "  \u001b[33mMap\u001b[39m(\u001b[32m\"country\"\u001b[39m -> \u001b[32m\"Austria\"\u001b[39m, \u001b[32m\"date\"\u001b[39m -> \u001b[32m\"2020-04-02\"\u001b[39m, \u001b[32m\"cases\"\u001b[39m -> \u001b[32m\"513\"\u001b[39m),\n",
       "  \u001b[33mMap\u001b[39m(\u001b[32m\"country\"\u001b[39m -> \u001b[32m\"Austria\"\u001b[39m, \u001b[32m\"date\"\u001b[39m -> \u001b[32m\"2020-04-03\"\u001b[39m, \u001b[32m\"cases\"\u001b[39m -> \u001b[32m\"444\"\u001b[39m),\n",
       "  \u001b[33mMap\u001b[39m(\u001b[32m\"country\"\u001b[39m -> \u001b[32m\"Austria\"\u001b[39m, \u001b[32m\"date\"\u001b[39m -> \u001b[32m\"2020-04-04\"\u001b[39m, \u001b[32m\"cases\"\u001b[39m -> \u001b[32m\"371\"\u001b[39m),\n",
       "  \u001b[33mMap\u001b[39m(\u001b[32m\"country\"\u001b[39m -> \u001b[32m\"Austria\"\u001b[39m, \u001b[32m\"date\"\u001b[39m -> \u001b[32m\"2020-04-05\"\u001b[39m, \u001b[32m\"cases\"\u001b[39m -> \u001b[32m\"326\"\u001b[39m),\n",
       "  \u001b[33mMap\u001b[39m(\u001b[32m\"country\"\u001b[39m -> \u001b[32m\"Austria\"\u001b[39m, \u001b[32m\"date\"\u001b[39m -> \u001b[32m\"2020-04-06\"\u001b[39m, \u001b[32m\"cases\"\u001b[39m -> \u001b[32m\"302\"\u001b[39m),\n",
       "  \u001b[33mMap\u001b[39m(\u001b[32m\"country\"\u001b[39m -> \u001b[32m\"Austria\"\u001b[39m, \u001b[32m\"date\"\u001b[39m -> \u001b[32m\"2020-04-07\"\u001b[39m, \u001b[32m\"cases\"\u001b[39m -> \u001b[32m\"297\"\u001b[39m),\n",
       "  \u001b[33mMap\u001b[39m(\u001b[32m\"country\"\u001b[39m -> \u001b[32m\"Austria\"\u001b[39m, \u001b[32m\"date\"\u001b[39m -> \u001b[32m\"2020-04-08\"\u001b[39m, \u001b[32m\"cases\"\u001b[39m -> \u001b[32m\"301\"\u001b[39m),\n",
       "  \u001b[33mMap\u001b[39m(\u001b[32m\"country\"\u001b[39m -> \u001b[32m\"Austria\"\u001b[39m, \u001b[32m\"date\"\u001b[39m -> \u001b[32m\"2020-04-09\"\u001b[39m, \u001b[32m\"cases\"\u001b[39m -> \u001b[32m\"304\"\u001b[39m),\n",
       "  \u001b[33mMap\u001b[39m(\u001b[32m\"country\"\u001b[39m -> \u001b[32m\"Austria\"\u001b[39m, \u001b[32m\"date\"\u001b[39m -> \u001b[32m\"2020-04-10\"\u001b[39m, \u001b[32m\"cases\"\u001b[39m -> \u001b[32m\"291\"\u001b[39m),\n",
       "  \u001b[33mMap\u001b[39m(\u001b[32m\"country\"\u001b[39m -> \u001b[32m\"Austria\"\u001b[39m, \u001b[32m\"date\"\u001b[39m -> \u001b[32m\"2020-04-11\"\u001b[39m, \u001b[32m\"cases\"\u001b[39m -> \u001b[32m\"259\"\u001b[39m),\n",
       "  \u001b[33mMap\u001b[39m(\u001b[32m\"country\"\u001b[39m -> \u001b[32m\"Austria\"\u001b[39m, \u001b[32m\"date\"\u001b[39m -> \u001b[32m\"2020-04-12\"\u001b[39m, \u001b[32m\"cases\"\u001b[39m -> \u001b[32m\"225\"\u001b[39m),\n",
       "  \u001b[33mMap\u001b[39m(\u001b[32m\"country\"\u001b[39m -> \u001b[32m\"Austria\"\u001b[39m, \u001b[32m\"date\"\u001b[39m -> \u001b[32m\"2020-04-13\"\u001b[39m, \u001b[32m\"cases\"\u001b[39m -> \u001b[32m\"190\"\u001b[39m),\n",
       "  \u001b[33mMap\u001b[39m(\u001b[32m\"country\"\u001b[39m -> \u001b[32m\"Austria\"\u001b[39m, \u001b[32m\"date\"\u001b[39m -> \u001b[32m\"2020-04-14\"\u001b[39m, \u001b[32m\"cases\"\u001b[39m -> \u001b[32m\"162\"\u001b[39m),\n",
       "  \u001b[33mMap\u001b[39m(\u001b[32m\"country\"\u001b[39m -> \u001b[32m\"Austria\"\u001b[39m, \u001b[32m\"date\"\u001b[39m -> \u001b[32m\"2020-04-15\"\u001b[39m, \u001b[32m\"cases\"\u001b[39m -> \u001b[32m\"143\"\u001b[39m),\n",
       "..."
      ]
     },
     "execution_count": 30,
     "metadata": {},
     "output_type": "execute_result"
    }
   ],
   "source": [
    "val countriesSmooth = {\n",
    "    val csvReader = CSVReader.open(new File(\"data/smooth_countries.csv\"))\n",
    "    val xs = csvReader.allWithHeaders()\n",
    "    csvReader.close()\n",
    "    xs\n",
    "}"
   ]
  },
  {
   "cell_type": "code",
   "execution_count": 31,
   "metadata": {},
   "outputs": [
    {
     "data": {
      "text/plain": [
       "\u001b[36mcountriesOnsetData\u001b[39m: \u001b[32mList\u001b[39m[\u001b[32mMap\u001b[39m[\u001b[32mString\u001b[39m, \u001b[32mString\u001b[39m]] = \u001b[33mList\u001b[39m(\n",
       "  \u001b[33mMap\u001b[39m(\n",
       "    \u001b[32m\"country\"\u001b[39m -> \u001b[32m\"Austria\"\u001b[39m,\n",
       "    \u001b[32m\"date\"\u001b[39m -> \u001b[32m\"2020-02-15\"\u001b[39m,\n",
       "    \u001b[32m\"Onset\"\u001b[39m -> \u001b[32m\"5.621968962172648\"\u001b[39m\n",
       "  ),\n",
       "  \u001b[33mMap\u001b[39m(\n",
       "    \u001b[32m\"country\"\u001b[39m -> \u001b[32m\"Austria\"\u001b[39m,\n",
       "    \u001b[32m\"date\"\u001b[39m -> \u001b[32m\"2020-02-16\"\u001b[39m,\n",
       "    \u001b[32m\"Onset\"\u001b[39m -> \u001b[32m\"6.259456838021339\"\u001b[39m\n",
       "  ),\n",
       "  \u001b[33mMap\u001b[39m(\n",
       "    \u001b[32m\"country\"\u001b[39m -> \u001b[32m\"Austria\"\u001b[39m,\n",
       "    \u001b[32m\"date\"\u001b[39m -> \u001b[32m\"2020-02-17\"\u001b[39m,\n",
       "    \u001b[32m\"Onset\"\u001b[39m -> \u001b[32m\"7.192531522793405\"\u001b[39m\n",
       "  ),\n",
       "  \u001b[33mMap\u001b[39m(\n",
       "    \u001b[32m\"country\"\u001b[39m -> \u001b[32m\"Austria\"\u001b[39m,\n",
       "    \u001b[32m\"date\"\u001b[39m -> \u001b[32m\"2020-02-18\"\u001b[39m,\n",
       "    \u001b[32m\"Onset\"\u001b[39m -> \u001b[32m\"8.328806983511154\"\u001b[39m\n",
       "  ),\n",
       "  \u001b[33mMap\u001b[39m(\n",
       "    \u001b[32m\"country\"\u001b[39m -> \u001b[32m\"Austria\"\u001b[39m,\n",
       "    \u001b[32m\"date\"\u001b[39m -> \u001b[32m\"2020-02-19\"\u001b[39m,\n",
       "    \u001b[32m\"Onset\"\u001b[39m -> \u001b[32m\"10.227934044616877\"\u001b[39m\n",
       "  ),\n",
       "  \u001b[33mMap\u001b[39m(\n",
       "    \u001b[32m\"country\"\u001b[39m -> \u001b[32m\"Austria\"\u001b[39m,\n",
       "    \u001b[32m\"date\"\u001b[39m -> \u001b[32m\"2020-02-20\"\u001b[39m,\n",
       "    \u001b[32m\"Onset\"\u001b[39m -> \u001b[32m\"11.687681862269642\"\u001b[39m\n",
       "  ),\n",
       "  \u001b[33mMap\u001b[39m(\n",
       "    \u001b[32m\"country\"\u001b[39m -> \u001b[32m\"Austria\"\u001b[39m,\n",
       "    \u001b[32m\"date\"\u001b[39m -> \u001b[32m\"2020-02-21\"\u001b[39m,\n",
       "    \u001b[32m\"Onset\"\u001b[39m -> \u001b[32m\"13.417070805043647\"\u001b[39m\n",
       "  ),\n",
       "  \u001b[33mMap\u001b[39m(\n",
       "    \u001b[32m\"country\"\u001b[39m -> \u001b[32m\"Austria\"\u001b[39m,\n",
       "    \u001b[32m\"date\"\u001b[39m -> \u001b[32m\"2020-02-22\"\u001b[39m,\n",
       "..."
      ]
     },
     "execution_count": 31,
     "metadata": {},
     "output_type": "execute_result"
    }
   ],
   "source": [
    "val countriesOnsetData = {\n",
    "    val csvReader = CSVReader.open(new File(\"data/onset.csv\"))\n",
    "    val xs = csvReader.allWithHeaders()\n",
    "    csvReader.close()\n",
    "    xs\n",
    "}"
   ]
  },
  {
   "cell_type": "code",
   "execution_count": 32,
   "metadata": {},
   "outputs": [
    {
     "data": {
      "text/plain": [
       "\u001b[36mpdelayData\u001b[39m: \u001b[32mList\u001b[39m[\u001b[32mMap\u001b[39m[\u001b[32mString\u001b[39m, \u001b[32mString\u001b[39m]] = \u001b[33mList\u001b[39m(\n",
       "  \u001b[33mMap\u001b[39m(\u001b[32m\"index\"\u001b[39m -> \u001b[32m\"0\"\u001b[39m, \u001b[32m\"pdelay\"\u001b[39m -> \u001b[32m\"0.006547041707080504\"\u001b[39m),\n",
       "  \u001b[33mMap\u001b[39m(\u001b[32m\"index\"\u001b[39m -> \u001b[32m\"1\"\u001b[39m, \u001b[32m\"pdelay\"\u001b[39m -> \u001b[32m\"0.04194956353055286\"\u001b[39m),\n",
       "  \u001b[33mMap\u001b[39m(\u001b[32m\"index\"\u001b[39m -> \u001b[32m\"2\"\u001b[39m, \u001b[32m\"pdelay\"\u001b[39m -> \u001b[32m\"0.05771096023278371\"\u001b[39m),\n",
       "  \u001b[33mMap\u001b[39m(\u001b[32m\"index\"\u001b[39m -> \u001b[32m\"3\"\u001b[39m, \u001b[32m\"pdelay\"\u001b[39m -> \u001b[32m\"0.06983511154219205\"\u001b[39m),\n",
       "  \u001b[33mMap\u001b[39m(\u001b[32m\"index\"\u001b[39m -> \u001b[32m\"4\"\u001b[39m, \u001b[32m\"pdelay\"\u001b[39m -> \u001b[32m\"0.07153249272550921\"\u001b[39m),\n",
       "  \u001b[33mMap\u001b[39m(\u001b[32m\"index\"\u001b[39m -> \u001b[32m\"5\"\u001b[39m, \u001b[32m\"pdelay\"\u001b[39m -> \u001b[32m\"0.08583899127061105\"\u001b[39m),\n",
       "  \u001b[33mMap\u001b[39m(\u001b[32m\"index\"\u001b[39m -> \u001b[32m\"6\"\u001b[39m, \u001b[32m\"pdelay\"\u001b[39m -> \u001b[32m\"0.07953443258971872\"\u001b[39m),\n",
       "  \u001b[33mMap\u001b[39m(\u001b[32m\"index\"\u001b[39m -> \u001b[32m\"7\"\u001b[39m, \u001b[32m\"pdelay\"\u001b[39m -> \u001b[32m\"0.07516973811833172\"\u001b[39m),\n",
       "  \u001b[33mMap\u001b[39m(\u001b[32m\"index\"\u001b[39m -> \u001b[32m\"8\"\u001b[39m, \u001b[32m\"pdelay\"\u001b[39m -> \u001b[32m\"0.07710960232783705\"\u001b[39m),\n",
       "  \u001b[33mMap\u001b[39m(\u001b[32m\"index\"\u001b[39m -> \u001b[32m\"9\"\u001b[39m, \u001b[32m\"pdelay\"\u001b[39m -> \u001b[32m\"0.07904946653734239\"\u001b[39m),\n",
       "  \u001b[33mMap\u001b[39m(\u001b[32m\"index\"\u001b[39m -> \u001b[32m\"10\"\u001b[39m, \u001b[32m\"pdelay\"\u001b[39m -> \u001b[32m\"0.06304558680892337\"\u001b[39m),\n",
       "  \u001b[33mMap\u001b[39m(\u001b[32m\"index\"\u001b[39m -> \u001b[32m\"11\"\u001b[39m, \u001b[32m\"pdelay\"\u001b[39m -> \u001b[32m\"0.0511639185257032\"\u001b[39m),\n",
       "  \u001b[33mMap\u001b[39m(\u001b[32m\"index\"\u001b[39m -> \u001b[32m\"12\"\u001b[39m, \u001b[32m\"pdelay\"\u001b[39m -> \u001b[32m\"0.04485935984481086\"\u001b[39m),\n",
       "  \u001b[33mMap\u001b[39m(\u001b[32m\"index\"\u001b[39m -> \u001b[32m\"13\"\u001b[39m, \u001b[32m\"pdelay\"\u001b[39m -> \u001b[32m\"0.038554801163918524\"\u001b[39m),\n",
       "  \u001b[33mMap\u001b[39m(\u001b[32m\"index\"\u001b[39m -> \u001b[32m\"14\"\u001b[39m, \u001b[32m\"pdelay\"\u001b[39m -> \u001b[32m\"0.028855480116391854\"\u001b[39m),\n",
       "  \u001b[33mMap\u001b[39m(\u001b[32m\"index\"\u001b[39m -> \u001b[32m\"15\"\u001b[39m, \u001b[32m\"pdelay\"\u001b[39m -> \u001b[32m\"0.026430649854510185\"\u001b[39m),\n",
       "  \u001b[33mMap\u001b[39m(\u001b[32m\"index\"\u001b[39m -> \u001b[32m\"16\"\u001b[39m, \u001b[32m\"pdelay\"\u001b[39m -> \u001b[32m\"0.01915615906886518\"\u001b[39m),\n",
       "  \u001b[33mMap\u001b[39m(\u001b[32m\"index\"\u001b[39m -> \u001b[32m\"17\"\u001b[39m, \u001b[32m\"pdelay\"\u001b[39m -> \u001b[32m\"0.02061105722599418\"\u001b[39m),\n",
       "  \u001b[33mMap\u001b[39m(\u001b[32m\"index\"\u001b[39m -> \u001b[32m\"18\"\u001b[39m, \u001b[32m\"pdelay\"\u001b[39m -> \u001b[32m\"0.011881668283220174\"\u001b[39m),\n",
       "  \u001b[33mMap\u001b[39m(\u001b[32m\"index\"\u001b[39m -> \u001b[32m\"19\"\u001b[39m, \u001b[32m\"pdelay\"\u001b[39m -> \u001b[32m\"0.009456838021338506\"\u001b[39m),\n",
       "  \u001b[33mMap\u001b[39m(\u001b[32m\"index\"\u001b[39m -> \u001b[32m\"20\"\u001b[39m, \u001b[32m\"pdelay\"\u001b[39m -> \u001b[32m\"0.009699321047526674\"\u001b[39m),\n",
       "  \u001b[33mMap\u001b[39m(\u001b[32m\"index\"\u001b[39m -> \u001b[32m\"21\"\u001b[39m, \u001b[32m\"pdelay\"\u001b[39m -> \u001b[32m\"0.006547041707080504\"\u001b[39m),\n",
       "  \u001b[33mMap\u001b[39m(\u001b[32m\"index\"\u001b[39m -> \u001b[32m\"22\"\u001b[39m, \u001b[32m\"pdelay\"\u001b[39m -> \u001b[32m\"0.004122211445198836\"\u001b[39m),\n",
       "  \u001b[33mMap\u001b[39m(\u001b[32m\"index\"\u001b[39m -> \u001b[32m\"23\"\u001b[39m, \u001b[32m\"pdelay\"\u001b[39m -> \u001b[32m\"0.0036372453928225023\"\u001b[39m),\n",
       "  \u001b[33mMap\u001b[39m(\u001b[32m\"index\"\u001b[39m -> \u001b[32m\"24\"\u001b[39m, \u001b[32m\"pdelay\"\u001b[39m -> \u001b[32m\"0.002909796314258002\"\u001b[39m),\n",
       "  \u001b[33mMap\u001b[39m(\u001b[32m\"index\"\u001b[39m -> \u001b[32m\"25\"\u001b[39m, \u001b[32m\"pdelay\"\u001b[39m -> \u001b[32m\"0.0036372453928225023\"\u001b[39m),\n",
       "  \u001b[33mMap\u001b[39m(\u001b[32m\"index\"\u001b[39m -> \u001b[32m\"26\"\u001b[39m, \u001b[32m\"pdelay\"\u001b[39m -> \u001b[32m\"0.0019398642095053346\"\u001b[39m),\n",
       "  \u001b[33mMap\u001b[39m(\u001b[32m\"index\"\u001b[39m -> \u001b[32m\"27\"\u001b[39m, \u001b[32m\"pdelay\"\u001b[39m -> \u001b[32m\"0.00048496605237633366\"\u001b[39m),\n",
       "  \u001b[33mMap\u001b[39m(\u001b[32m\"index\"\u001b[39m -> \u001b[32m\"28\"\u001b[39m, \u001b[32m\"pdelay\"\u001b[39m -> \u001b[32m\"0.00048496605237633366\"\u001b[39m),\n",
       "  \u001b[33mMap\u001b[39m(\u001b[32m\"index\"\u001b[39m -> \u001b[32m\"29\"\u001b[39m, \u001b[32m\"pdelay\"\u001b[39m -> \u001b[32m\"0.0\"\u001b[39m),\n",
       "  \u001b[33mMap\u001b[39m(\u001b[32m\"index\"\u001b[39m -> \u001b[32m\"30\"\u001b[39m, \u001b[32m\"pdelay\"\u001b[39m -> \u001b[32m\"0.0009699321047526673\"\u001b[39m),\n",
       "  \u001b[33mMap\u001b[39m(\u001b[32m\"index\"\u001b[39m -> \u001b[32m\"31\"\u001b[39m, \u001b[32m\"pdelay\"\u001b[39m -> \u001b[32m\"0.00024248302618816683\"\u001b[39m),\n",
       "  \u001b[33mMap\u001b[39m(\u001b[32m\"index\"\u001b[39m -> \u001b[32m\"32\"\u001b[39m, \u001b[32m\"pdelay\"\u001b[39m -> \u001b[32m\"0.00048496605237633366\"\u001b[39m),\n",
       "  \u001b[33mMap\u001b[39m(\u001b[32m\"index\"\u001b[39m -> \u001b[32m\"33\"\u001b[39m, \u001b[32m\"pdelay\"\u001b[39m -> \u001b[32m\"0.0007274490785645005\"\u001b[39m),\n",
       "  \u001b[33mMap\u001b[39m(\u001b[32m\"index\"\u001b[39m -> \u001b[32m\"34\"\u001b[39m, \u001b[32m\"pdelay\"\u001b[39m -> \u001b[32m\"0.001454898157129001\"\u001b[39m),\n",
       "  \u001b[33mMap\u001b[39m(\u001b[32m\"index\"\u001b[39m -> \u001b[32m\"35\"\u001b[39m, \u001b[32m\"pdelay\"\u001b[39m -> \u001b[32m\"0.00024248302618816683\"\u001b[39m),\n",
       "  \u001b[33mMap\u001b[39m(\u001b[32m\"index\"\u001b[39m -> \u001b[32m\"36\"\u001b[39m, \u001b[32m\"pdelay\"\u001b[39m -> \u001b[32m\"0.00048496605237633366\"\u001b[39m),\n",
       "  \u001b[33mMap\u001b[39m(\u001b[32m\"index\"\u001b[39m -> \u001b[32m\"37\"\u001b[39m, \u001b[32m\"pdelay\"\u001b[39m -> \u001b[32m\"0.0007274490785645005\"\u001b[39m),\n",
       "..."
      ]
     },
     "execution_count": 32,
     "metadata": {},
     "output_type": "execute_result"
    }
   ],
   "source": [
    "val pdelayData = {\n",
    "    val csvReader = CSVReader.open(new File(\"data/pdelay.csv\"))\n",
    "    val xs = csvReader.allWithHeaders()\n",
    "    csvReader.close()\n",
    "    xs\n",
    "}"
   ]
  },
  {
   "cell_type": "code",
   "execution_count": 33,
   "metadata": {},
   "outputs": [
    {
     "data": {
      "text/plain": [
       "\u001b[36mpdelay\u001b[39m: \u001b[32mList\u001b[39m[\u001b[32mDouble\u001b[39m] = \u001b[33mList\u001b[39m(\n",
       "  \u001b[32m0.006547041707080504\u001b[39m,\n",
       "  \u001b[32m0.04194956353055286\u001b[39m,\n",
       "  \u001b[32m0.05771096023278371\u001b[39m,\n",
       "  \u001b[32m0.06983511154219205\u001b[39m,\n",
       "  \u001b[32m0.07153249272550921\u001b[39m,\n",
       "  \u001b[32m0.08583899127061105\u001b[39m,\n",
       "  \u001b[32m0.07953443258971872\u001b[39m,\n",
       "  \u001b[32m0.07516973811833172\u001b[39m,\n",
       "  \u001b[32m0.07710960232783705\u001b[39m,\n",
       "  \u001b[32m0.07904946653734239\u001b[39m,\n",
       "  \u001b[32m0.06304558680892337\u001b[39m,\n",
       "  \u001b[32m0.0511639185257032\u001b[39m,\n",
       "  \u001b[32m0.04485935984481086\u001b[39m,\n",
       "  \u001b[32m0.038554801163918524\u001b[39m,\n",
       "  \u001b[32m0.028855480116391854\u001b[39m,\n",
       "  \u001b[32m0.026430649854510185\u001b[39m,\n",
       "  \u001b[32m0.01915615906886518\u001b[39m,\n",
       "  \u001b[32m0.02061105722599418\u001b[39m,\n",
       "  \u001b[32m0.011881668283220174\u001b[39m,\n",
       "  \u001b[32m0.009456838021338506\u001b[39m,\n",
       "  \u001b[32m0.009699321047526674\u001b[39m,\n",
       "  \u001b[32m0.006547041707080504\u001b[39m,\n",
       "  \u001b[32m0.004122211445198836\u001b[39m,\n",
       "  \u001b[32m0.0036372453928225023\u001b[39m,\n",
       "  \u001b[32m0.002909796314258002\u001b[39m,\n",
       "  \u001b[32m0.0036372453928225023\u001b[39m,\n",
       "  \u001b[32m0.0019398642095053346\u001b[39m,\n",
       "  \u001b[32m4.8496605237633366E-4\u001b[39m,\n",
       "  \u001b[32m4.8496605237633366E-4\u001b[39m,\n",
       "  \u001b[32m0.0\u001b[39m,\n",
       "  \u001b[32m9.699321047526673E-4\u001b[39m,\n",
       "  \u001b[32m2.4248302618816683E-4\u001b[39m,\n",
       "  \u001b[32m4.8496605237633366E-4\u001b[39m,\n",
       "  \u001b[32m7.274490785645005E-4\u001b[39m,\n",
       "  \u001b[32m0.001454898157129001\u001b[39m,\n",
       "  \u001b[32m2.4248302618816683E-4\u001b[39m,\n",
       "  \u001b[32m4.8496605237633366E-4\u001b[39m,\n",
       "  \u001b[32m7.274490785645005E-4\u001b[39m,\n",
       "...\n",
       "\u001b[36mcumulative_pdelay\u001b[39m: \u001b[32mList\u001b[39m[\u001b[32mDouble\u001b[39m] = \u001b[33mList\u001b[39m(\n",
       "  \u001b[32m0.006547041707080504\u001b[39m,\n",
       "  \u001b[32m0.04849660523763336\u001b[39m,\n",
       "  \u001b[32m0.10620756547041707\u001b[39m,\n",
       "  \u001b[32m0.17604267701260912\u001b[39m,\n",
       "  \u001b[32m0.24757516973811833\u001b[39m,\n",
       "  \u001b[32m0.3334141610087294\u001b[39m,\n",
       "  \u001b[32m0.4129485935984481\u001b[39m,\n",
       "  \u001b[32m0.4881183317167798\u001b[39m,\n",
       "  \u001b[32m0.5652279340446169\u001b[39m,\n",
       "  \u001b[32m0.6442774005819593\u001b[39m,\n",
       "  \u001b[32m0.7073229873908826\u001b[39m,\n",
       "  \u001b[32m0.7584869059165859\u001b[39m,\n",
       "  \u001b[32m0.8033462657613967\u001b[39m,\n",
       "  \u001b[32m0.8419010669253152\u001b[39m,\n",
       "  \u001b[32m0.870756547041707\u001b[39m,\n",
       "  \u001b[32m0.8971871968962172\u001b[39m,\n",
       "  \u001b[32m0.9163433559650823\u001b[39m,\n",
       "  \u001b[32m0.9369544131910765\u001b[39m,\n",
       "  \u001b[32m0.9488360814742967\u001b[39m,\n",
       "  \u001b[32m0.9582929194956351\u001b[39m,\n",
       "  \u001b[32m0.9679922405431618\u001b[39m,\n",
       "  \u001b[32m0.9745392822502423\u001b[39m,\n",
       "  \u001b[32m0.9786614936954412\u001b[39m,\n",
       "  \u001b[32m0.9822987390882637\u001b[39m,\n",
       "  \u001b[32m0.9852085354025217\u001b[39m,\n",
       "  \u001b[32m0.9888457807953442\u001b[39m,\n",
       "  \u001b[32m0.9907856450048496\u001b[39m,\n",
       "  \u001b[32m0.9912706110572259\u001b[39m,\n",
       "  \u001b[32m0.9917555771096023\u001b[39m,\n",
       "  \u001b[32m0.9917555771096023\u001b[39m,\n",
       "  \u001b[32m0.992725509214355\u001b[39m,\n",
       "  \u001b[32m0.9929679922405431\u001b[39m,\n",
       "  \u001b[32m0.9934529582929195\u001b[39m,\n",
       "  \u001b[32m0.9941804073714839\u001b[39m,\n",
       "  \u001b[32m0.9956353055286129\u001b[39m,\n",
       "  \u001b[32m0.995877788554801\u001b[39m,\n",
       "  \u001b[32m0.9963627546071774\u001b[39m,\n",
       "  \u001b[32m0.9970902036857419\u001b[39m,\n",
       "..."
      ]
     },
     "execution_count": 33,
     "metadata": {},
     "output_type": "execute_result"
    }
   ],
   "source": [
    "val pdelay = pdelayData.collect { case m => m(\"pdelay\").toDouble }\n",
    "val cumulative_pdelay = pdelay.scanLeft(0.0)((x: Double, y: Double) => x+y).drop(1)"
   ]
  },
  {
   "cell_type": "code",
   "execution_count": 34,
   "metadata": {},
   "outputs": [
    {
     "data": {
      "text/plain": [
       "defined \u001b[32mfunction\u001b[39m \u001b[36mprepareDataForModel\u001b[39m"
      ]
     },
     "execution_count": 34,
     "metadata": {},
     "output_type": "execute_result"
    }
   ],
   "source": [
    "def prepareDataForModel(xs: List[Long]): List[((Int, Long), Long)] = {\n",
    "    val adjacentPairs = xs.drop(1).zip(xs.take(xs.size - 1))\n",
    "    adjacentPairs.zipWithIndex.map{case ((kt, kt_prev), i) =>\n",
    "        (i, kt_prev) -> kt\n",
    "    }\n",
    "}"
   ]
  },
  {
   "cell_type": "markdown",
   "metadata": {},
   "source": [
    "Preparation of the other model"
   ]
  },
  {
   "cell_type": "code",
   "execution_count": 35,
   "metadata": {},
   "outputs": [
    {
     "data": {
      "text/plain": [
       "\u001b[32mimport \u001b[39m\u001b[36mscala.collection.mutable.ListBuffer\n",
       "\n",
       "\u001b[39m\n",
       "defined \u001b[32mfunction\u001b[39m \u001b[36mprepareDataForModelOnset\u001b[39m"
      ]
     },
     "execution_count": 35,
     "metadata": {},
     "output_type": "execute_result"
    }
   ],
   "source": [
    "import scala.collection.mutable.ListBuffer\n",
    "\n",
    "def prepareDataForModelOnset(xs: List[Long], pd: List[Double]): List[(Long,Double)] = {\n",
    "    val cpd = pd.scanLeft(0.0)(_+_).tail\n",
    "    val cpdPadded = List.fill(xs.size - pd.size)(1.0) ++ cpd.reverse\n",
    "    xs.map(_+1).zip(cpdPadded)\n",
    "}"
   ]
  },
  {
   "cell_type": "code",
   "execution_count": 36,
   "metadata": {},
   "outputs": [
    {
     "data": {
      "text/plain": [
       "\u001b[36mL\u001b[39m: \u001b[32mList\u001b[39m[\u001b[32mLong\u001b[39m] = \u001b[33mList\u001b[39m(\n",
       "  \u001b[32m1L\u001b[39m,\n",
       "  \u001b[32m2L\u001b[39m,\n",
       "  \u001b[32m3L\u001b[39m,\n",
       "  \u001b[32m4L\u001b[39m,\n",
       "  \u001b[32m5L\u001b[39m,\n",
       "  \u001b[32m6L\u001b[39m,\n",
       "  \u001b[32m7L\u001b[39m,\n",
       "  \u001b[32m8L\u001b[39m,\n",
       "  \u001b[32m9L\u001b[39m,\n",
       "  \u001b[32m10L\u001b[39m,\n",
       "  \u001b[32m11L\u001b[39m,\n",
       "  \u001b[32m12L\u001b[39m,\n",
       "  \u001b[32m13L\u001b[39m,\n",
       "  \u001b[32m14L\u001b[39m,\n",
       "  \u001b[32m15L\u001b[39m,\n",
       "  \u001b[32m16L\u001b[39m,\n",
       "  \u001b[32m17L\u001b[39m,\n",
       "  \u001b[32m18L\u001b[39m,\n",
       "  \u001b[32m19L\u001b[39m,\n",
       "  \u001b[32m20L\u001b[39m,\n",
       "  \u001b[32m21L\u001b[39m,\n",
       "  \u001b[32m22L\u001b[39m,\n",
       "  \u001b[32m23L\u001b[39m,\n",
       "  \u001b[32m24L\u001b[39m,\n",
       "  \u001b[32m25L\u001b[39m,\n",
       "  \u001b[32m26L\u001b[39m,\n",
       "  \u001b[32m27L\u001b[39m,\n",
       "  \u001b[32m28L\u001b[39m,\n",
       "  \u001b[32m29L\u001b[39m,\n",
       "  \u001b[32m30L\u001b[39m,\n",
       "  \u001b[32m31L\u001b[39m,\n",
       "  \u001b[32m32L\u001b[39m,\n",
       "  \u001b[32m33L\u001b[39m,\n",
       "  \u001b[32m34L\u001b[39m,\n",
       "  \u001b[32m35L\u001b[39m,\n",
       "  \u001b[32m36L\u001b[39m,\n",
       "  \u001b[32m37L\u001b[39m,\n",
       "  \u001b[32m38L\u001b[39m,\n",
       "...\n",
       "\u001b[36mpd\u001b[39m: \u001b[32mList\u001b[39m[\u001b[32mDouble\u001b[39m] = \u001b[33mList\u001b[39m(\n",
       "  \u001b[32m0.006547041707080504\u001b[39m,\n",
       "  \u001b[32m0.04194956353055286\u001b[39m,\n",
       "  \u001b[32m0.05771096023278371\u001b[39m,\n",
       "  \u001b[32m0.06983511154219205\u001b[39m,\n",
       "  \u001b[32m0.07153249272550921\u001b[39m,\n",
       "  \u001b[32m0.08583899127061105\u001b[39m,\n",
       "  \u001b[32m0.07953443258971872\u001b[39m,\n",
       "  \u001b[32m0.07516973811833172\u001b[39m,\n",
       "  \u001b[32m0.07710960232783705\u001b[39m,\n",
       "  \u001b[32m0.07904946653734239\u001b[39m,\n",
       "  \u001b[32m0.06304558680892337\u001b[39m,\n",
       "  \u001b[32m0.0511639185257032\u001b[39m,\n",
       "  \u001b[32m0.04485935984481086\u001b[39m,\n",
       "  \u001b[32m0.038554801163918524\u001b[39m,\n",
       "  \u001b[32m0.028855480116391854\u001b[39m,\n",
       "  \u001b[32m0.026430649854510185\u001b[39m,\n",
       "  \u001b[32m0.01915615906886518\u001b[39m,\n",
       "  \u001b[32m0.02061105722599418\u001b[39m,\n",
       "  \u001b[32m0.011881668283220174\u001b[39m,\n",
       "  \u001b[32m0.009456838021338506\u001b[39m,\n",
       "  \u001b[32m0.009699321047526674\u001b[39m,\n",
       "  \u001b[32m0.006547041707080504\u001b[39m,\n",
       "  \u001b[32m0.004122211445198836\u001b[39m,\n",
       "  \u001b[32m0.0036372453928225023\u001b[39m,\n",
       "  \u001b[32m0.002909796314258002\u001b[39m,\n",
       "  \u001b[32m0.0036372453928225023\u001b[39m,\n",
       "  \u001b[32m0.0019398642095053346\u001b[39m,\n",
       "  \u001b[32m4.8496605237633366E-4\u001b[39m,\n",
       "  \u001b[32m4.8496605237633366E-4\u001b[39m,\n",
       "  \u001b[32m0.0\u001b[39m,\n",
       "  \u001b[32m9.699321047526673E-4\u001b[39m,\n",
       "  \u001b[32m2.4248302618816683E-4\u001b[39m,\n",
       "  \u001b[32m4.8496605237633366E-4\u001b[39m,\n",
       "  \u001b[32m7.274490785645005E-4\u001b[39m,\n",
       "  \u001b[32m0.001454898157129001\u001b[39m,\n",
       "  \u001b[32m2.4248302618816683E-4\u001b[39m,\n",
       "  \u001b[32m4.8496605237633366E-4\u001b[39m,\n",
       "  \u001b[32m7.274490785645005E-4\u001b[39m,\n",
       "...\n",
       "\u001b[36mtest\u001b[39m: \u001b[32mList\u001b[39m[(\u001b[32mLong\u001b[39m, \u001b[32mDouble\u001b[39m)] = \u001b[33mList\u001b[39m(\n",
       "  (\u001b[32m97L\u001b[39m, \u001b[32m0.9999999999999998\u001b[39m),\n",
       "  (\u001b[32m98L\u001b[39m, \u001b[32m0.9997575169738117\u001b[39m),\n",
       "  (\u001b[32m99L\u001b[39m, \u001b[32m0.9997575169738117\u001b[39m),\n",
       "  (\u001b[32m100L\u001b[39m, \u001b[32m0.9997575169738117\u001b[39m),\n",
       "  (\u001b[32m101L\u001b[39m, \u001b[32m0.9997575169738117\u001b[39m)\n",
       ")"
      ]
     },
     "execution_count": 36,
     "metadata": {},
     "output_type": "execute_result"
    }
   ],
   "source": [
    "val L = (1L to 100L).toList\n",
    "val pd = pdelay\n",
    "val test = prepareDataForModelOnset(L.takeRight(5), pd)"
   ]
  },
  {
   "cell_type": "code",
   "execution_count": 37,
   "metadata": {},
   "outputs": [
    {
     "data": {
      "text/plain": [
       "\u001b[36msamplerConfig\u001b[39m: \u001b[32mDefaultConfig\u001b[39m{def massMatrixTuner(): com.stripe.rainier.sampler.IdentityMassMatrixTuner;def sampler(): com.stripe.rainier.sampler.HMCSampler} = ammonite.$sess.cmd36$Helper$$anon$1@1a97af9b"
      ]
     },
     "execution_count": 37,
     "metadata": {},
     "output_type": "execute_result"
    }
   ],
   "source": [
    "val samplerConfig = new DefaultConfig {\n",
    "    override def massMatrixTuner() = new IdentityMassMatrixTuner\n",
    "    override def sampler() = new HMCSampler(100)\n",
    "    override val iterations = 1000\n",
    "}"
   ]
  },
  {
   "cell_type": "markdown",
   "metadata": {},
   "source": [
    "Define a function that we'll use to retry the call to Rainier's `predict` that fails occassionally. Fortunately, the failure can be easily detected and 1-2 retries solves the issue."
   ]
  },
  {
   "cell_type": "code",
   "execution_count": 38,
   "metadata": {},
   "outputs": [
    {
     "data": {
      "text/plain": [
       "defined \u001b[32mfunction\u001b[39m \u001b[36mretry\u001b[39m"
      ]
     },
     "execution_count": 38,
     "metadata": {},
     "output_type": "execute_result"
    }
   ],
   "source": [
    "def retry[T](maxAttempts: Int, isSuccessful: T => Boolean)(f: => T): T = {\n",
    "    var i = 0\n",
    "    \n",
    "    do {\n",
    "        val res = f\n",
    "        i = i + 1\n",
    "        if (isSuccessful(res))\n",
    "            return res\n",
    "        println(s\"WARN: Attempt[$i] failed. Retrying...\")\n",
    "    } while (i < maxAttempts)\n",
    "    sys.error(\"Exceeded maximum number of retries\")\n",
    "}"
   ]
  },
  {
   "cell_type": "markdown",
   "metadata": {},
   "source": [
    "Fixed the parameters for all distributions"
   ]
  },
  {
   "cell_type": "code",
   "execution_count": 39,
   "metadata": {},
   "outputs": [
    {
     "data": {
      "text/plain": [
       "defined \u001b[32mfunction\u001b[39m \u001b[36mpredictRt\u001b[39m"
      ]
     },
     "execution_count": 39,
     "metadata": {},
     "output_type": "execute_result"
    }
   ],
   "source": [
    "def predictRt(caseNumbers: List[Long]): (Vec[Real], List[Seq[Double]]) = {\n",
    "    val data = prepareDataForModel(caseNumbers)\n",
    "    \n",
    "    val (model, rts) =  {\n",
    "        val (xs, ys) = data.unzip\n",
    "\n",
    "        val serialInterval = Normal(5,2).latent\n",
    "        val logR0 = Normal(0, 1).latent\n",
    "        val sigma = Exponential(10).latent\n",
    "        val diffs = Laplace(0,sigma).latentVec(data.size)\n",
    "        val logRts = Vec.from(diffs.toList.scanLeft(logR0)(_ + _))\n",
    "        val likelihoods = Vec.from(xs).map{case (i, kt_prev) => \n",
    "            val lambda = ((logRts(i).exp - 1)/serialInterval).exp * kt_prev\n",
    "            Poisson(lambda)\n",
    "        }\n",
    "\n",
    "        (Model.observe(ys, likelihoods), logRts.map(_.exp))\n",
    "    }\n",
    "    \n",
    "    def detectFailedRun(trace: Trace): Boolean =\n",
    "        // from: https://twitter.com/avibryant/status/1253049509128499201\n",
    "        trace.diagnostics.map(_.rHat).max < 1.1\n",
    "    \n",
    "    val trace = retry(maxAttempts = 3, isSuccessful = detectFailedRun) {\n",
    "        model.sample(samplerConfig, 4)\n",
    "    }\n",
    "    \n",
    "    rts -> trace.predict(rts)\n",
    "}"
   ]
  },
  {
   "cell_type": "code",
   "execution_count": 40,
   "metadata": {},
   "outputs": [
    {
     "data": {
      "text/plain": [
       "defined \u001b[32mclass\u001b[39m \u001b[36mRtModelEstimates\u001b[39m"
      ]
     },
     "execution_count": 40,
     "metadata": {},
     "output_type": "execute_result"
    }
   ],
   "source": [
    "case class RtModelEstimates(rts: Vec[Real], \n",
    "                            rtsEstimates: List[Seq[Double]], \n",
    "                            serialInterval: Real, \n",
    "                            serialIntervalEstimates: Seq[Double])"
   ]
  },
  {
   "cell_type": "code",
   "execution_count": 17,
   "metadata": {},
   "outputs": [
    {
     "data": {
      "text/plain": [
       "defined \u001b[32mfunction\u001b[39m \u001b[36mpredictRtOnsetLogProcess\u001b[39m"
      ]
     },
     "execution_count": 17,
     "metadata": {},
     "output_type": "execute_result"
    }
   ],
   "source": [
    "\n",
    "def predictRtOnsetLogProcess(onsetNumbers: List[Long], pdelay: List[Double]): (Vec[Real], List[Seq[Double]]) = {\n",
    "    \n",
    "    val data = prepareDataForModelOnset(onsetNumbers, pdelay)\n",
    "    \n",
    "    val (model, rts) =  {\n",
    "        val (onset, cum_pdelay) = data.unzip\n",
    "        val serialInterval = Gamma(6,1.5).latent\n",
    "        val logR0 = Normal(0, 1).latent\n",
    "        val sigma = Exponential(10).latent\n",
    "        val diffs = Laplace(0,sigma).latentVec(data.size)\n",
    "        val logRts = Vec.from(diffs.toList.scanLeft(logR0)(_ + _))\n",
    "        val inferredYesterday = data.take(data.size-1).map { case (o_t, cp_t) => \n",
    "            o_t/cp_t \n",
    "        }.zipWithIndex\n",
    "        val expectedToday = Vec.from(inferredYesterday.zip(cum_pdelay.drop(1))).map { case ((infYest, i), cpd) =>\n",
    "            val lambda = infYest*cpd*((logRts(i).exp - 1)/serialInterval).exp\n",
    "            Poisson(lambda)\n",
    "        }\n",
    "        (Model.observe(onset.drop(1), expectedToday), logRts.map(_.exp))\n",
    "    }\n",
    "    \n",
    "    def detectFailedRun(trace: Trace): Boolean =\n",
    "        // from: https://twitter.com/avibryant/status/1253049509128499201\n",
    "        trace.diagnostics.map(_.rHat).max < 1.1\n",
    "    \n",
    "    val trace = retry(maxAttempts = 3, isSuccessful = detectFailedRun) {\n",
    "        model.sample(samplerConfig, 4)\n",
    "    }\n",
    "    \n",
    "    rts -> trace.predict(rts)\n",
    "}"
   ]
  },
  {
   "cell_type": "code",
   "execution_count": 41,
   "metadata": {},
   "outputs": [
    {
     "data": {
      "text/plain": [
       "defined \u001b[32mfunction\u001b[39m \u001b[36mpredictRtOnset\u001b[39m"
      ]
     },
     "execution_count": 41,
     "metadata": {},
     "output_type": "execute_result"
    }
   ],
   "source": [
    "// direct (and faithful) translation of Systrom's MCMC model from\n",
    "// Realtime Rt mcmc.ipynb\n",
    "def predictRtOnset(onsetNumbers: List[Long], pdelay: List[Double], failedRunDetection: Boolean = true): RtModelEstimates = {\n",
    "    \n",
    "    val data = prepareDataForModelOnset(onsetNumbers, pdelay)\n",
    "    \n",
    "    val (model, rts, serialInterval) = {\n",
    "        val (onset, cum_pdelay) = data.unzip\n",
    "        val serialInterval = Gamma(6,1/1.5).latent\n",
    "        val sigma = Normal(0,0.03).latent.abs\n",
    "        val Theta0 = Normal(0.1,0.1).latent\n",
    "        val diffs = Laplace(0,sigma).latentVec(data.size) // Maybe normal would be better\n",
    "        val ThetaT = Vec.from(diffs.toList.scanLeft(Theta0)(_ + _))\n",
    "        val Rts = ThetaT.map(_*serialInterval + 1)\n",
    "        val inferredYesterday = data.take(data.size-1).map { case (o_t, cp_t) => \n",
    "            o_t/cp_t \n",
    "        }.zipWithIndex\n",
    "        val expectedToday = Vec.from(inferredYesterday.zip(cum_pdelay.drop(1))).map { case ((infYest, i), cpd) =>\n",
    "            val lambda = infYest * cpd * (ThetaT(i).exp)\n",
    "            Poisson(lambda)\n",
    "        }\n",
    "        \n",
    "        val obsModel = Model.observe(onset.drop(1), expectedToday)\n",
    "        val trackSerialInterval = Model.track(Set(serialInterval))\n",
    "        (obsModel.merge(trackSerialInterval), Rts, serialInterval)\n",
    "    }\n",
    "    \n",
    "    def detectFailedRun(trace: Trace): Boolean =\n",
    "        // from: https://twitter.com/avibryant/status/1253049509128499201\n",
    "        !failedRunDetection || trace.diagnostics.map(_.rHat).max < 1.1\n",
    "    \n",
    "    val trace = retry(maxAttempts = 3, isSuccessful = detectFailedRun) {\n",
    "        model.sample(samplerConfig, 2)\n",
    "    }\n",
    "\n",
    "    RtModelEstimates(rts = rts, \n",
    "                 rtsEstimates = trace.predict(rts),\n",
    "                 serialInterval = serialInterval,\n",
    "                 serialIntervalEstimates = trace.predict(serialInterval))\n",
    "}"
   ]
  },
  {
   "cell_type": "code",
   "execution_count": 42,
   "metadata": {},
   "outputs": [
    {
     "data": {
      "text/plain": [
       "defined \u001b[32mclass\u001b[39m \u001b[36mRtsDistributionStats\u001b[39m\n",
       "defined \u001b[32mfunction\u001b[39m \u001b[36mdistributionStats\u001b[39m"
      ]
     },
     "execution_count": 42,
     "metadata": {},
     "output_type": "execute_result"
    }
   ],
   "source": [
    "case class RtsDistributionStats(means: Seq[(Int, Double)], hdpis: Seq[(Int, (Double, Double))])\n",
    "def distributionStats(rts: Vec[Real], rtForecasts: List[Seq[Double]]): RtsDistributionStats = {\n",
    "    val means = 0.until(rts.size).map{i => (i,mean(rtForecasts.map(_(i))))}\n",
    "    val hdpis = 0.until(rts.size).map{i => (i, hdpi(rtForecasts.map(_(i))))}\n",
    "    RtsDistributionStats(means, hdpis)\n",
    "}"
   ]
  },
  {
   "cell_type": "code",
   "execution_count": 43,
   "metadata": {
    "scrolled": false
   },
   "outputs": [
    {
     "data": {
      "text/html": [
       "<b>Chain 1 Complete</b>: <div>Iteration: 1000 (10ms)</div> <div>Acceptance rate: 0.86</div> <div>E-BFMI: 0.75</div> <div>Step size: 0.004</div> <div>Total gradient evaluations: 2e+05 (52us)</div> <div>Total time: 20s</div>"
      ]
     },
     "metadata": {},
     "output_type": "display_data"
    },
    {
     "data": {
      "text/html": [
       "<b>Chain 2 Complete</b>: <div>Iteration: 1000 (9ms)</div> <div>Acceptance rate: 0.86</div> <div>E-BFMI: 0.53</div> <div>Step size: 0.004</div> <div>Total gradient evaluations: 2e+05 (49us)</div> <div>Total time: 20s</div>"
      ]
     },
     "metadata": {},
     "output_type": "display_data"
    },
    {
     "name": "stdout",
     "output_type": "stream",
     "text": [
      "Elapsed time: 41284 ms\n"
     ]
    },
    {
     "data": {
      "image/png": "[encoded data removed]"
     },
     "metadata": {
      "height": "1600",
      "width": "1636"
     },
     "output_type": "display_data"
    }
   ],
   "source": [
    "{{\n",
    "    val countryName = \"Spain\"\n",
    "    val onsetNumbers = countriesOnsetData.collect {\n",
    "        case m if m(\"country\") == countryName => m(\"Onset\").toDouble.round\n",
    "    }\n",
    "    val RtModelEstimates(rts,estimates,_, _) = time { \n",
    "//         val res = predictRtOnset(onsetNumbers.dropRight(5).takeRight(60), pdelay)\n",
    "        val res = predictRtOnset(onsetNumbers, pdelay, failedRunDetection = false)\n",
    "        res\n",
    "    }\n",
    "    val RtsDistributionStats(means, hdpis) = distributionStats(rts, estimates)\n",
    "    show(\"t\", \"Rt\", line(means), shade(hdpis))\n",
    "}}"
   ]
  },
  {
   "cell_type": "code",
   "execution_count": 44,
   "metadata": {},
   "outputs": [
    {
     "data": {
      "text/plain": [
       "\u001b[36mcountriesToPredict\u001b[39m: \u001b[32mSet\u001b[39m[\u001b[32mString\u001b[39m] = \u001b[33mSet\u001b[39m(\n",
       "  \u001b[32m\"Poland\"\u001b[39m,\n",
       "  \u001b[32m\"Croatia\"\u001b[39m,\n",
       "  \u001b[32m\"Luxembourg\"\u001b[39m,\n",
       "  \u001b[32m\"Greece\"\u001b[39m,\n",
       "  \u001b[32m\"Spain\"\u001b[39m,\n",
       "  \u001b[32m\"Russia\"\u001b[39m,\n",
       "  \u001b[32m\"Estonia\"\u001b[39m,\n",
       "  \u001b[32m\"Czechia\"\u001b[39m,\n",
       "  \u001b[32m\"Romania\"\u001b[39m,\n",
       "  \u001b[32m\"Denmark\"\u001b[39m,\n",
       "  \u001b[32m\"Belgium\"\u001b[39m,\n",
       "  \u001b[32m\"Slovenia\"\u001b[39m,\n",
       "  \u001b[32m\"Malta\"\u001b[39m,\n",
       "  \u001b[32m\"Belarus\"\u001b[39m,\n",
       "  \u001b[32m\"Slovakia\"\u001b[39m,\n",
       "  \u001b[32m\"Finland\"\u001b[39m,\n",
       "  \u001b[32m\"Lithuania\"\u001b[39m,\n",
       "  \u001b[32m\"Sweden\"\u001b[39m,\n",
       "  \u001b[32m\"United_Kingdom\"\u001b[39m,\n",
       "  \u001b[32m\"Austria\"\u001b[39m,\n",
       "  \u001b[32m\"Latvia\"\u001b[39m,\n",
       "  \u001b[32m\"Italy\"\u001b[39m,\n",
       "  \u001b[32m\"Ireland\"\u001b[39m,\n",
       "  \u001b[32m\"Bulgaria\"\u001b[39m,\n",
       "  \u001b[32m\"Norway\"\u001b[39m,\n",
       "  \u001b[32m\"France\"\u001b[39m,\n",
       "  \u001b[32m\"Netherlands\"\u001b[39m,\n",
       "  \u001b[32m\"Switzerland\"\u001b[39m,\n",
       "  \u001b[32m\"Cyprus\"\u001b[39m,\n",
       "  \u001b[32m\"Germany\"\u001b[39m,\n",
       "  \u001b[32m\"Portugal\"\u001b[39m,\n",
       "  \u001b[32m\"Hungary\"\u001b[39m\n",
       ")"
      ]
     },
     "execution_count": 44,
     "metadata": {},
     "output_type": "execute_result"
    }
   ],
   "source": [
    "val countriesToPredict = countriesOnsetData.map(_(\"country\")).toSet //smaller set: Seq(\"Poland\", \"France\", \"Italy\", \"Germany\", \"Czechia\")"
   ]
  },
  {
   "cell_type": "code",
   "execution_count": null,
   "metadata": {},
   "outputs": [],
   "source": [
    "val countryStats: Map[String, RtsDistributionStats] = {\n",
    "    assert(countriesToPredict.toSet.subsetOf(countriesSmooth.map(_(\"country\")).toSet))\n",
    "    val allStats = time {\n",
    "        countriesToPredict.par.map { countryName =>\n",
    "            val caseNumbers = countriesSmooth.collect {\n",
    "                case m if m(\"country\") == countryName => m(\"cases\").toLong\n",
    "            }\n",
    "            val (rts,estimates) = predictRt(caseNumbers)\n",
    "            val stats@RtsDistributionStats(means, hdpis) = distributionStats(rts, estimates)\n",
    "            println(s\"$countryName [done]\")\n",
    "            countryName -> stats\n",
    "        }.seq\n",
    "    }\n",
    "    allStats.toMap\n",
    "}"
   ]
  },
  {
   "cell_type": "code",
   "execution_count": 57,
   "metadata": {},
   "outputs": [
    {
     "data": {
      "text/html": [
       "<b>Chain 1 Complete</b>: <div>Iteration: 1000 (34ms)</div> <div>Acceptance rate: 0.87</div> <div>E-BFMI: 0.74</div> <div>Step size: 0.004</div> <div>Total gradient evaluations: 2e+05 (151us)</div> <div>Total time: 59s</div>"
      ]
     },
     "metadata": {},
     "output_type": "display_data"
    },
    {
     "data": {
      "text/html": [
       "<b>Chain 1 Complete</b>: <div>Iteration: 1000 (32ms)</div> <div>Acceptance rate: 0.69</div> <div>E-BFMI: 0.71</div> <div>Step size: 0.01</div> <div>Total gradient evaluations: 2e+05 (242us)</div> <div>Total time: 58s</div>"
      ]
     },
     "metadata": {},
     "output_type": "display_data"
    },
    {
     "data": {
      "text/html": [
       "<b>Chain 1 Complete</b>: <div>Iteration: 1000 (32ms)</div> <div>Acceptance rate: 0.80</div> <div>E-BFMI: 0.59</div> <div>Step size: 0.02</div> <div>Total gradient evaluations: 2e+05 (188us)</div> <div>Total time: 59s</div>"
      ]
     },
     "metadata": {},
     "output_type": "display_data"
    },
    {
     "data": {
      "text/html": [
       "<b>Chain 1 Complete</b>: <div>Iteration: 1000 (32ms)</div> <div>Acceptance rate: 0.88</div> <div>E-BFMI: 0.63</div> <div>Step size: 0.03</div> <div>Total gradient evaluations: 2e+05 (216us)</div> <div>Total time:  0: 1: 0</div>"
      ]
     },
     "metadata": {},
     "output_type": "display_data"
    },
    {
     "data": {
      "text/html": [
       "<b>Chain 1 Complete</b>: <div>Iteration: 1000 (32ms)</div> <div>Acceptance rate: 0.82</div> <div>E-BFMI: 0.62</div> <div>Step size: 0.04</div> <div>Total gradient evaluations: 2e+05 (143us)</div> <div>Total time:  0: 1: 0</div>"
      ]
     },
     "metadata": {},
     "output_type": "display_data"
    },
    {
     "data": {
      "text/html": [
       "<b>Chain 1 Complete</b>: <div>Iteration: 1000 (32ms)</div> <div>Acceptance rate: 0.86</div> <div>E-BFMI: 0.75</div> <div>Step size: 0.02</div> <div>Total gradient evaluations: 2e+05 (219us)</div> <div>Total time: 58s</div>"
      ]
     },
     "metadata": {},
     "output_type": "display_data"
    },
    {
     "data": {
      "text/html": [
       "<b>Chain 1 Complete</b>: <div>Iteration: 1000 (32ms)</div> <div>Acceptance rate: 0.81</div> <div>E-BFMI: 0.75</div> <div>Step size: 0.04</div> <div>Total gradient evaluations: 2e+05 (133us)</div> <div>Total time: 59s</div>"
      ]
     },
     "metadata": {},
     "output_type": "display_data"
    },
    {
     "data": {
      "text/html": [
       "<b>Chain 1 Complete</b>: <div>Iteration: 1000 (32ms)</div> <div>Acceptance rate: 0.80</div> <div>E-BFMI: 0.67</div> <div>Step size: 0.02</div> <div>Total gradient evaluations: 2e+05 (194us)</div> <div>Total time: 59s</div>"
      ]
     },
     "metadata": {},
     "output_type": "display_data"
    },
    {
     "data": {
      "text/html": [
       "<b>Chain 1 Complete</b>: <div>Iteration: 1000 (31ms)</div> <div>Acceptance rate: 0.73</div> <div>E-BFMI: 0.63</div> <div>Step size: 0.007</div> <div>Total gradient evaluations: 2e+05 (135us)</div> <div>Total time: 58s</div>"
      ]
     },
     "metadata": {},
     "output_type": "display_data"
    },
    {
     "data": {
      "text/html": [
       "<b>Chain 1 Complete</b>: <div>Iteration: 1000 (33ms)</div> <div>Acceptance rate: 0.83</div> <div>E-BFMI: 0.64</div> <div>Step size: 0.02</div> <div>Total gradient evaluations: 2e+05 (264us)</div> <div>Total time:  0: 1: 1</div>"
      ]
     },
     "metadata": {},
     "output_type": "display_data"
    },
    {
     "data": {
      "text/html": [
       "<b>Chain 1 Complete</b>: <div>Iteration: 1000 (32ms)</div> <div>Acceptance rate: 0.84</div> <div>E-BFMI: 0.65</div> <div>Step size: 0.02</div> <div>Total gradient evaluations: 2e+05 (123us)</div> <div>Total time: 58s</div>"
      ]
     },
     "metadata": {},
     "output_type": "display_data"
    },
    {
     "data": {
      "text/html": [
       "<b>Chain 1 Complete</b>: <div>Iteration: 1000 (33ms)</div> <div>Acceptance rate: 0.76</div> <div>E-BFMI: 0.72</div> <div>Step size: 0.03</div> <div>Total gradient evaluations: 2e+05 (152us)</div> <div>Total time:  0: 1: 0</div>"
      ]
     },
     "metadata": {},
     "output_type": "display_data"
    },
    {
     "data": {
      "text/html": [
       "<b>Chain 1 Complete</b>: <div>Iteration: 1000 (33ms)</div> <div>Acceptance rate: 0.85</div> <div>E-BFMI: 0.64</div> <div>Step size: 0.02</div> <div>Total gradient evaluations: 2e+05 (130us)</div> <div>Total time:  0: 1: 1</div>"
      ]
     },
     "metadata": {},
     "output_type": "display_data"
    },
    {
     "data": {
      "text/html": [
       "<b>Chain 1 Complete</b>: <div>Iteration: 1000 (33ms)</div> <div>Acceptance rate: 0.77</div> <div>E-BFMI: 0.75</div> <div>Step size: 0.03</div> <div>Total gradient evaluations: 2e+05 (136us)</div> <div>Total time:  0: 1: 0</div>"
      ]
     },
     "metadata": {},
     "output_type": "display_data"
    },
    {
     "data": {
      "text/html": [
       "<b>Chain 1 Complete</b>: <div>Iteration: 1000 (33ms)</div> <div>Acceptance rate: 0.80</div> <div>E-BFMI: 0.63</div> <div>Step size: 0.04</div> <div>Total gradient evaluations: 2e+05 (169us)</div> <div>Total time:  0: 1: 0</div>"
      ]
     },
     "metadata": {},
     "output_type": "display_data"
    },
    {
     "data": {
      "text/html": [
       "<b>Chain 1 Complete</b>: <div>Iteration: 1000 (33ms)</div> <div>Acceptance rate: 0.79</div> <div>E-BFMI: 0.69</div> <div>Step size: 0.04</div> <div>Total gradient evaluations: 2e+05 (152us)</div> <div>Total time:  0: 1: 1</div>"
      ]
     },
     "metadata": {},
     "output_type": "display_data"
    },
    {
     "data": {
      "text/html": [
       "<b>Chain 2 Complete</b>: <div>Iteration: 1000 (31ms)</div> <div>Acceptance rate: 0.80</div> <div>E-BFMI: 0.73</div> <div>Step size: 0.02</div> <div>Total gradient evaluations: 2e+05 (142us)</div> <div>Total time:  0: 1: 4</div>"
      ]
     },
     "metadata": {},
     "output_type": "display_data"
    },
    {
     "data": {
      "text/html": [
       "<b>Chain 2 Complete</b>: <div>Iteration: 1000 (31ms)</div> <div>Acceptance rate: 0.71</div> <div>E-BFMI: 0.73</div> <div>Step size: 0.007</div> <div>Total gradient evaluations: 2e+05 (162us)</div> <div>Total time:  0: 1: 5</div>"
      ]
     },
     "metadata": {},
     "output_type": "display_data"
    },
    {
     "data": {
      "text/html": [
       "<b>Chain 2 Complete</b>: <div>Iteration: 1000 (34ms)</div> <div>Acceptance rate: 0.91</div> <div>E-BFMI: 0.62</div> <div>Step size: 0.02</div> <div>Total gradient evaluations: 2e+05 (139us)</div> <div>Total time:  0: 1: 6</div>"
      ]
     },
     "metadata": {},
     "output_type": "display_data"
    },
    {
     "data": {
      "text/html": [
       "<b>Chain 2 Complete</b>: <div>Iteration: 1000 (31ms)</div> <div>Acceptance rate: 0.75</div> <div>E-BFMI: 0.77</div> <div>Step size: 0.01</div> <div>Total gradient evaluations: 2e+05 (165us)</div> <div>Total time:  0: 1: 5</div>"
      ]
     },
     "metadata": {},
     "output_type": "display_data"
    },
    {
     "data": {
      "text/html": [
       "<b>Chain 2 Complete</b>: <div>Iteration: 1000 (37ms)</div> <div>Acceptance rate: 0.73</div> <div>E-BFMI: 0.65</div> <div>Step size: 0.05</div> <div>Total gradient evaluations: 2e+05 (255us)</div> <div>Total time:  0: 1: 6</div>"
      ]
     },
     "metadata": {},
     "output_type": "display_data"
    },
    {
     "data": {
      "text/html": [
       "<b>Chain 2 Complete</b>: <div>Iteration: 1000 (32ms)</div> <div>Acceptance rate: 0.82</div> <div>E-BFMI: 0.67</div> <div>Step size: 0.004</div> <div>Total gradient evaluations: 2e+05 (121us)</div> <div>Total time:  0: 1: 5</div>"
      ]
     },
     "metadata": {},
     "output_type": "display_data"
    },
    {
     "data": {
      "text/html": [
       "<b>Chain 2 Complete</b>: <div>Iteration: 1000 (34ms)</div> <div>Acceptance rate: 0.75</div> <div>E-BFMI: 0.65</div> <div>Step size: 0.02</div> <div>Total gradient evaluations: 2e+05 (125us)</div> <div>Total time:  0: 1: 5</div>"
      ]
     },
     "metadata": {},
     "output_type": "display_data"
    },
    {
     "data": {
      "text/html": [
       "<b>Chain 2 Complete</b>: <div>Iteration: 1000 (41ms)</div> <div>Acceptance rate: 0.72</div> <div>E-BFMI: 0.67</div> <div>Step size: 0.02</div> <div>Total gradient evaluations: 2e+05 (193us)</div> <div>Total time:  0: 1: 7</div>"
      ]
     },
     "metadata": {},
     "output_type": "display_data"
    },
    {
     "data": {
      "text/html": [
       "<b>Chain 2 Complete</b>: <div>Iteration: 1000 (37ms)</div> <div>Acceptance rate: 0.80</div> <div>E-BFMI: 0.69</div> <div>Step size: 0.04</div> <div>Total gradient evaluations: 2e+05 (200us)</div> <div>Total time:  0: 1: 6</div>"
      ]
     },
     "metadata": {},
     "output_type": "display_data"
    },
    {
     "data": {
      "text/html": [
       "<b>Chain 2 Complete</b>: <div>Iteration: 1000 (41ms)</div> <div>Acceptance rate: 0.78</div> <div>E-BFMI: 0.68</div> <div>Step size: 0.04</div> <div>Total gradient evaluations: 2e+05 (332us)</div> <div>Total time:  0: 1: 6</div>"
      ]
     },
     "metadata": {},
     "output_type": "display_data"
    },
    {
     "data": {
      "text/html": [
       "<b>Chain 2 Complete</b>: <div>Iteration: 1000 (44ms)</div> <div>Acceptance rate: 0.84</div> <div>E-BFMI: 0.71</div> <div>Step size: 0.03</div> <div>Total gradient evaluations: 2e+05 (168us)</div> <div>Total time:  0: 1: 8</div>"
      ]
     },
     "metadata": {},
     "output_type": "display_data"
    },
    {
     "data": {
      "text/html": [
       "<b>Chain 2 Complete</b>: <div>Iteration: 1000 (42ms)</div> <div>Acceptance rate: 0.79</div> <div>E-BFMI: 0.62</div> <div>Step size: 0.03</div> <div>Total gradient evaluations: 2e+05 (210us)</div> <div>Total time:  0: 1: 8</div>"
      ]
     },
     "metadata": {},
     "output_type": "display_data"
    },
    {
     "data": {
      "text/html": [
       "<b>Chain 2 Complete</b>: <div>Iteration: 1000 (44ms)</div> <div>Acceptance rate: 0.87</div> <div>E-BFMI: 0.67</div> <div>Step size: 0.03</div> <div>Total gradient evaluations: 2e+05 (139us)</div> <div>Total time:  0: 1: 8</div>"
      ]
     },
     "metadata": {},
     "output_type": "display_data"
    },
    {
     "data": {
      "text/html": [
       "<b>Chain 2 Complete</b>: <div>Iteration: 1000 (43ms)</div> <div>Acceptance rate: 0.85</div> <div>E-BFMI: 0.77</div> <div>Step size: 0.02</div> <div>Total gradient evaluations: 2e+05 (213us)</div> <div>Total time:  0: 1: 8</div>"
      ]
     },
     "metadata": {},
     "output_type": "display_data"
    },
    {
     "data": {
      "text/html": [
       "<b>Chain 2 Complete</b>: <div>Iteration: 1000 (43ms)</div> <div>Acceptance rate: 0.87</div> <div>E-BFMI: 0.67</div> <div>Step size: 0.02</div> <div>Total gradient evaluations: 2e+05 (133us)</div> <div>Total time:  0: 1: 7</div>"
      ]
     },
     "metadata": {},
     "output_type": "display_data"
    },
    {
     "data": {
      "text/html": [
       "<b>Chain 2 Complete</b>: <div>Iteration: 1000 (43ms)</div> <div>Acceptance rate: 0.82</div> <div>E-BFMI: 0.72</div> <div>Step size: 0.04</div> <div>Total gradient evaluations: 2e+05 (127us)</div> <div>Total time:  0: 1: 7</div>"
      ]
     },
     "metadata": {},
     "output_type": "display_data"
    },
    {
     "name": "stdout",
     "output_type": "stream",
     "text": [
      "Sweden [done]\n"
     ]
    },
    {
     "data": {
      "text/html": [
       "<b>Chain 1 Complete</b>: <div>Iteration: 1000 (25ms)</div> <div>Acceptance rate: 0.84</div> <div>E-BFMI: 0.71</div> <div>Step size: 0.04</div> <div>Total gradient evaluations: 2e+05 (112us)</div> <div>Total time: 56s</div>"
      ]
     },
     "metadata": {},
     "output_type": "display_data"
    },
    {
     "name": "stdout",
     "output_type": "stream",
     "text": [
      "Netherlands [done]\n",
      "Russia [done]\n",
      "Spain [done]\n",
      "Austria [done]\n",
      "Belarus [done]\n"
     ]
    },
    {
     "data": {
      "text/html": [
       "<b>Chain 1 Complete</b>: <div>Iteration: 1000 (27ms)</div> <div>Acceptance rate: 0.88</div> <div>E-BFMI: 0.72</div> <div>Step size: 0.03</div> <div>Total gradient evaluations: 2e+05 (118us)</div> <div>Total time: 57s</div>"
      ]
     },
     "metadata": {},
     "output_type": "display_data"
    },
    {
     "data": {
      "text/html": [
       "<b>Chain 1 Complete</b>: <div>Iteration: 1000 (27ms)</div> <div>Acceptance rate: 0.80</div> <div>E-BFMI: 0.57</div> <div>Step size: 0.04</div> <div>Total gradient evaluations: 2e+05 (110us)</div> <div>Total time: 57s</div>"
      ]
     },
     "metadata": {},
     "output_type": "display_data"
    },
    {
     "name": "stdout",
     "output_type": "stream",
     "text": [
      "Malta [done]\n"
     ]
    },
    {
     "data": {
      "text/html": [
       "<b>Chain 1 Complete</b>: <div>Iteration: 1000 (27ms)</div> <div>Acceptance rate: 0.82</div> <div>E-BFMI: 0.68</div> <div>Step size: 0.04</div> <div>Total gradient evaluations: 2e+05 (187us)</div> <div>Total time: 58s</div>"
      ]
     },
     "metadata": {},
     "output_type": "display_data"
    },
    {
     "data": {
      "text/html": [
       "<b>Chain 1 Complete</b>: <div>Iteration: 1000 (27ms)</div> <div>Acceptance rate: 0.85</div> <div>E-BFMI: 0.67</div> <div>Step size: 0.01</div> <div>Total gradient evaluations: 2e+05 (126us)</div> <div>Total time: 58s</div>"
      ]
     },
     "metadata": {},
     "output_type": "display_data"
    },
    {
     "data": {
      "text/html": [
       "<b>Chain 1 Complete</b>: <div>Iteration: 1000 (28ms)</div> <div>Acceptance rate: 0.78</div> <div>E-BFMI: 0.71</div> <div>Step size: 0.004</div> <div>Total gradient evaluations: 2e+05 (130us)</div> <div>Total time: 59s</div>"
      ]
     },
     "metadata": {},
     "output_type": "display_data"
    },
    {
     "data": {
      "text/html": [
       "<b>Chain 1 Complete</b>: <div>Iteration: 1000 (27ms)</div> <div>Acceptance rate: 0.79</div> <div>E-BFMI: 0.78</div> <div>Step size: 0.04</div> <div>Total gradient evaluations: 2e+05 (118us)</div> <div>Total time: 58s</div>"
      ]
     },
     "metadata": {},
     "output_type": "display_data"
    },
    {
     "name": "stdout",
     "output_type": "stream",
     "text": [
      "Slovakia [done]\n",
      "Romania [done]\n",
      "Greece [done]\n"
     ]
    },
    {
     "data": {
      "text/html": [
       "<b>Chain 1 Complete</b>: <div>Iteration: 1000 (29ms)</div> <div>Acceptance rate: 0.85</div> <div>E-BFMI: 0.62</div> <div>Step size: 0.02</div> <div>Total gradient evaluations: 2e+05 (127us)</div> <div>Total time: 57s</div>"
      ]
     },
     "metadata": {},
     "output_type": "display_data"
    },
    {
     "name": "stdout",
     "output_type": "stream",
     "text": [
      "Ireland [done]\n",
      "Finland [done]\n",
      "Hungary [done]\n",
      "Estonia [done]\n",
      "Czechia [done]\n",
      "Poland [done]\n"
     ]
    },
    {
     "data": {
      "text/html": [
       "<b>Chain 1 Complete</b>: <div>Iteration: 1000 (27ms)</div> <div>Acceptance rate: 0.88</div> <div>E-BFMI: 0.58</div> <div>Step size: 0.004</div> <div>Total gradient evaluations: 2e+05 (174us)</div> <div>Total time: 55s</div>"
      ]
     },
     "metadata": {},
     "output_type": "display_data"
    },
    {
     "data": {
      "text/html": [
       "<b>Chain 1 Complete</b>: <div>Iteration: 1000 (29ms)</div> <div>Acceptance rate: 0.90</div> <div>E-BFMI: 0.64</div> <div>Step size: 0.02</div> <div>Total gradient evaluations: 2e+05 (163us)</div> <div>Total time: 57s</div>"
      ]
     },
     "metadata": {},
     "output_type": "display_data"
    },
    {
     "data": {
      "text/html": [
       "<b>Chain 1 Complete</b>: <div>Iteration: 1000 (28ms)</div> <div>Acceptance rate: 0.77</div> <div>E-BFMI: 0.66</div> <div>Step size: 0.04</div> <div>Total gradient evaluations: 2e+05 (163us)</div> <div>Total time: 59s</div>"
      ]
     },
     "metadata": {},
     "output_type": "display_data"
    },
    {
     "data": {
      "text/html": [
       "<b>Chain 1 Complete</b>: <div>Iteration: 1000 (27ms)</div> <div>Acceptance rate: 0.80</div> <div>E-BFMI: 0.74</div> <div>Step size: 0.005</div> <div>Total gradient evaluations: 2e+05 (112us)</div> <div>Total time: 57s</div>"
      ]
     },
     "metadata": {},
     "output_type": "display_data"
    },
    {
     "data": {
      "text/html": [
       "<b>Chain 1 Complete</b>: <div>Iteration: 1000 (28ms)</div> <div>Acceptance rate: 0.79</div> <div>E-BFMI: 0.58</div> <div>Step size: 0.03</div> <div>Total gradient evaluations: 2e+05 (116us)</div> <div>Total time: 58s</div>"
      ]
     },
     "metadata": {},
     "output_type": "display_data"
    },
    {
     "data": {
      "text/html": [
       "<b>Chain 1 Complete</b>: <div>Iteration: 1000 (28ms)</div> <div>Acceptance rate: 0.81</div> <div>E-BFMI: 0.72</div> <div>Step size: 0.04</div> <div>Total gradient evaluations: 2e+05 (125us)</div> <div>Total time: 58s</div>"
      ]
     },
     "metadata": {},
     "output_type": "display_data"
    },
    {
     "data": {
      "text/html": [
       "<b>Chain 2 Complete</b>: <div>Iteration: 1000 (26ms)</div> <div>Acceptance rate: 0.78</div> <div>E-BFMI: 0.75</div> <div>Step size: 0.04</div> <div>Total gradient evaluations: 2e+05 (138us)</div> <div>Total time: 53s</div>"
      ]
     },
     "metadata": {},
     "output_type": "display_data"
    },
    {
     "data": {
      "text/html": [
       "<b>Chain 2 Complete</b>: <div>Iteration: 1000 (25ms)</div> <div>Acceptance rate: 0.79</div> <div>E-BFMI: 0.63</div> <div>Step size: 0.03</div> <div>Total gradient evaluations: 2e+05 (128us)</div> <div>Total time: 55s</div>"
      ]
     },
     "metadata": {},
     "output_type": "display_data"
    },
    {
     "data": {
      "text/html": [
       "<b>Chain 2 Complete</b>: <div>Iteration: 1000 (26ms)</div> <div>Acceptance rate: 0.82</div> <div>E-BFMI: 0.60</div> <div>Step size: 0.04</div> <div>Total gradient evaluations: 2e+05 (144us)</div> <div>Total time: 55s</div>"
      ]
     },
     "metadata": {},
     "output_type": "display_data"
    },
    {
     "data": {
      "text/html": [
       "<b>Chain 2 Complete</b>: <div>Iteration: 1000 (27ms)</div> <div>Acceptance rate: 0.82</div> <div>E-BFMI: 0.58</div> <div>Step size: 0.04</div> <div>Total gradient evaluations: 2e+05 (139us)</div> <div>Total time: 57s</div>"
      ]
     },
     "metadata": {},
     "output_type": "display_data"
    },
    {
     "data": {
      "text/html": [
       "<b>Chain 2 Complete</b>: <div>Iteration: 1000 (27ms)</div> <div>Acceptance rate: 0.87</div> <div>E-BFMI: 0.83</div> <div>Step size: 0.01</div> <div>Total gradient evaluations: 2e+05 (144us)</div> <div>Total time: 56s</div>"
      ]
     },
     "metadata": {},
     "output_type": "display_data"
    },
    {
     "data": {
      "text/html": [
       "<b>Chain 2 Complete</b>: <div>Iteration: 1000 (26ms)</div> <div>Acceptance rate: 0.77</div> <div>E-BFMI: 0.60</div> <div>Step size: 0.04</div> <div>Total gradient evaluations: 2e+05 (102us)</div> <div>Total time: 57s</div>"
      ]
     },
     "metadata": {},
     "output_type": "display_data"
    },
    {
     "data": {
      "text/html": [
       "<b>Chain 2 Complete</b>: <div>Iteration: 1000 (24ms)</div> <div>Acceptance rate: 0.95</div> <div>E-BFMI: 0.55</div> <div>Step size: 0.004</div> <div>Total gradient evaluations: 2e+05 (79us)</div> <div>Total time: 57s</div>"
      ]
     },
     "metadata": {},
     "output_type": "display_data"
    },
    {
     "data": {
      "text/html": [
       "<b>Chain 2 Complete</b>: <div>Iteration: 1000 (26ms)</div> <div>Acceptance rate: 0.89</div> <div>E-BFMI: 0.52</div> <div>Step size: 0.004</div> <div>Total gradient evaluations: 2e+05 (138us)</div> <div>Total time: 54s</div>"
      ]
     },
     "metadata": {},
     "output_type": "display_data"
    },
    {
     "data": {
      "text/html": [
       "<b>Chain 2 Complete</b>: <div>Iteration: 1000 (24ms)</div> <div>Acceptance rate: 0.85</div> <div>E-BFMI: 0.60</div> <div>Step size: 0.02</div> <div>Total gradient evaluations: 2e+05 (95us)</div> <div>Total time: 56s</div>"
      ]
     },
     "metadata": {},
     "output_type": "display_data"
    },
    {
     "data": {
      "text/html": [
       "<b>Chain 2 Complete</b>: <div>Iteration: 1000 (23ms)</div> <div>Acceptance rate: 0.79</div> <div>E-BFMI: 0.61</div> <div>Step size: 0.005</div> <div>Total gradient evaluations: 2e+05 (94us)</div> <div>Total time: 55s</div>"
      ]
     },
     "metadata": {},
     "output_type": "display_data"
    },
    {
     "data": {
      "text/html": [
       "<b>Chain 2 Complete</b>: <div>Iteration: 1000 (22ms)</div> <div>Acceptance rate: 0.90</div> <div>E-BFMI: 0.67</div> <div>Step size: 0.01</div> <div>Total gradient evaluations: 2e+05 (71us)</div> <div>Total time: 55s</div>"
      ]
     },
     "metadata": {},
     "output_type": "display_data"
    },
    {
     "data": {
      "text/html": [
       "<b>Chain 2 Complete</b>: <div>Iteration: 1000 (21ms)</div> <div>Acceptance rate: 0.83</div> <div>E-BFMI: 0.71</div> <div>Step size: 0.03</div> <div>Total gradient evaluations: 2e+05 (70us)</div> <div>Total time: 55s</div>"
      ]
     },
     "metadata": {},
     "output_type": "display_data"
    },
    {
     "data": {
      "text/html": [
       "<b>Chain 2 Complete</b>: <div>Iteration: 1000 (20ms)</div> <div>Acceptance rate: 0.78</div> <div>E-BFMI: 0.62</div> <div>Step size: 0.04</div> <div>Total gradient evaluations: 2e+05 (72us)</div> <div>Total time: 55s</div>"
      ]
     },
     "metadata": {},
     "output_type": "display_data"
    },
    {
     "data": {
      "text/html": [
       "<b>Chain 2 Complete</b>: <div>Iteration: 1000 (18ms)</div> <div>Acceptance rate: 0.81</div> <div>E-BFMI: 0.63</div> <div>Step size: 0.04</div> <div>Total gradient evaluations: 2e+05 (69us)</div> <div>Total time: 55s</div>"
      ]
     },
     "metadata": {},
     "output_type": "display_data"
    },
    {
     "name": "stdout",
     "output_type": "stream",
     "text": [
      "Lithuania [done]\n",
      "Bulgaria [done]\n",
      "Croatia [done]\n"
     ]
    },
    {
     "data": {
      "text/html": [
       "<b>Chain 1 Complete</b>: <div>Iteration: 1000 (10ms)</div> <div>Acceptance rate: 0.84</div> <div>E-BFMI: 0.68</div> <div>Step size: 0.03</div> <div>Total gradient evaluations: 2e+05 (51us)</div> <div>Total time: 25s</div>"
      ]
     },
     "metadata": {},
     "output_type": "display_data"
    },
    {
     "name": "stdout",
     "output_type": "stream",
     "text": [
      "Italy [done]\n",
      "Belgium [done]\n",
      "Luxembourg [done]\n",
      "Slovenia [done]\n",
      "United_Kingdom [done]\n",
      "Switzerland [done]\n",
      "Germany [done]\n",
      "Portugal [done]\n",
      "Denmark [done]\n",
      "Cyprus [done]\n",
      "Latvia [done]\n"
     ]
    },
    {
     "data": {
      "text/html": [
       "<b>Chain 2 Complete</b>: <div>Iteration: 1000 (10ms)</div> <div>Acceptance rate: 0.79</div> <div>E-BFMI: 0.67</div> <div>Step size: 0.03</div> <div>Total gradient evaluations: 2e+05 (53us)</div> <div>Total time: 21s</div>"
      ]
     },
     "metadata": {},
     "output_type": "display_data"
    },
    {
     "name": "stdout",
     "output_type": "stream",
     "text": [
      "Norway [done]\n"
     ]
    },
    {
     "data": {
      "text/html": [
       "<b>Chain 1 Complete</b>: <div>Iteration: 1000 (10ms)</div> <div>Acceptance rate: 0.70</div> <div>E-BFMI: 0.78</div> <div>Step size: 0.006</div> <div>Total gradient evaluations: 2e+05 (50us)</div> <div>Total time: 21s</div>"
      ]
     },
     "metadata": {},
     "output_type": "display_data"
    },
    {
     "data": {
      "text/html": [
       "<b>Chain 2 Complete</b>: <div>Iteration: 1000 (10ms)</div> <div>Acceptance rate: 0.86</div> <div>E-BFMI: 0.62</div> <div>Step size: 0.006</div> <div>Total gradient evaluations: 2e+05 (53us)</div> <div>Total time: 21s</div>"
      ]
     },
     "metadata": {},
     "output_type": "display_data"
    },
    {
     "name": "stdout",
     "output_type": "stream",
     "text": [
      "France [done]\n",
      "Elapsed time: 333917 ms\n"
     ]
    },
    {
     "data": {
      "text/plain": [
       "\u001b[32mimport \u001b[39m\u001b[36mscala.util.Try\n",
       "\n",
       "\u001b[39m\n",
       "\u001b[36mcountryStatsOnset\u001b[39m: \u001b[32mMap\u001b[39m[\u001b[32mString\u001b[39m, \u001b[32mEither\u001b[39m[\u001b[32mThrowable\u001b[39m, \u001b[32mRtsDistributionStats\u001b[39m]] = \u001b[33mMap\u001b[39m(\n",
       "  \u001b[32m\"Poland\"\u001b[39m -> \u001b[33mRight\u001b[39m(\n",
       "    \u001b[33mRtsDistributionStats\u001b[39m(\n",
       "      \u001b[33mVector\u001b[39m(\n",
       "        (\u001b[32m0\u001b[39m, \u001b[32m1.4337899065626927\u001b[39m),\n",
       "        (\u001b[32m1\u001b[39m, \u001b[32m1.4336867607866204\u001b[39m),\n",
       "        (\u001b[32m2\u001b[39m, \u001b[32m1.433016672627332\u001b[39m),\n",
       "        (\u001b[32m3\u001b[39m, \u001b[32m1.434588706629662\u001b[39m),\n",
       "        (\u001b[32m4\u001b[39m, \u001b[32m1.43540322483966\u001b[39m),\n",
       "        (\u001b[32m5\u001b[39m, \u001b[32m1.4376859917421654\u001b[39m),\n",
       "        (\u001b[32m6\u001b[39m, \u001b[32m1.4411613699071735\u001b[39m),\n",
       "        (\u001b[32m7\u001b[39m, \u001b[32m1.442181103453762\u001b[39m),\n",
       "        (\u001b[32m8\u001b[39m, \u001b[32m1.4414687264228079\u001b[39m),\n",
       "        (\u001b[32m9\u001b[39m, \u001b[32m1.442447320404932\u001b[39m),\n",
       "        (\u001b[32m10\u001b[39m, \u001b[32m1.4427223990158187\u001b[39m),\n",
       "        (\u001b[32m11\u001b[39m, \u001b[32m1.4421394951839408\u001b[39m),\n",
       "        (\u001b[32m12\u001b[39m, \u001b[32m1.4460127565526257\u001b[39m),\n",
       "        (\u001b[32m13\u001b[39m, \u001b[32m1.4461547971016666\u001b[39m),\n",
       "        (\u001b[32m14\u001b[39m, \u001b[32m1.4444464449473613\u001b[39m),\n",
       "        (\u001b[32m15\u001b[39m, \u001b[32m1.4454571239709428\u001b[39m),\n",
       "        (\u001b[32m16\u001b[39m, \u001b[32m1.4453389107669472\u001b[39m),\n",
       "        (\u001b[32m17\u001b[39m, \u001b[32m1.4430127294056416\u001b[39m),\n",
       "        (\u001b[32m18\u001b[39m, \u001b[32m1.4406159115087926\u001b[39m),\n",
       "        (\u001b[32m19\u001b[39m, \u001b[32m1.4363764732180473\u001b[39m),\n",
       "        (\u001b[32m20\u001b[39m, \u001b[32m1.4337471996638478\u001b[39m),\n",
       "        (\u001b[32m21\u001b[39m, \u001b[32m1.4290912393417872\u001b[39m),\n",
       "        (\u001b[32m22\u001b[39m, \u001b[32m1.4204624265602204\u001b[39m),\n",
       "        (\u001b[32m23\u001b[39m, \u001b[32m1.415042864940889\u001b[39m),\n",
       "        (\u001b[32m24\u001b[39m, \u001b[32m1.4069557883725525\u001b[39m),\n",
       "        (\u001b[32m25\u001b[39m, \u001b[32m1.397059475357083\u001b[39m),\n",
       "        (\u001b[32m26\u001b[39m, \u001b[32m1.3874201383217126\u001b[39m),\n",
       "        (\u001b[32m27\u001b[39m, \u001b[32m1.3782293444841867\u001b[39m),\n",
       "        (\u001b[32m28\u001b[39m, \u001b[32m1.3657875722305386\u001b[39m),\n",
       "        (\u001b[32m29\u001b[39m, \u001b[32m1.3533796662898951\u001b[39m),\n",
       "        (\u001b[32m30\u001b[39m, \u001b[32m1.338067135774999\u001b[39m),\n",
       "        (\u001b[32m31\u001b[39m, \u001b[32m1.324871062468781\u001b[39m),\n",
       "        (\u001b[32m32\u001b[39m, \u001b[32m1.3092371965970533\u001b[39m),\n",
       "        (\u001b[32m33\u001b[39m, \u001b[32m1.2951852836003293\u001b[39m),\n",
       "        (\u001b[32m34\u001b[39m, \u001b[32m1.2776879135843933\u001b[39m),\n",
       "..."
      ]
     },
     "execution_count": 57,
     "metadata": {},
     "output_type": "execute_result"
    }
   ],
   "source": [
    "import scala.util.Try\n",
    "\n",
    "val countryStatsOnset: Map[String, Either[Throwable, RtsDistributionStats]] = {\n",
    "    assert(countriesToPredict.toSet.subsetOf(countriesOnsetData.map(_(\"country\")).toSet))\n",
    "    val allStats = time {\n",
    "        countriesToPredict.par.map { countryName =>\n",
    "            val caseNumbers = countriesOnsetData.collect {\n",
    "                case m if m(\"country\") == countryName => m(\"Onset\").toDouble.round\n",
    "            }\n",
    "            val possiblyFailed: Try[RtsDistributionStats] = Try { \n",
    "               val RtModelEstimates(rts,estimates, serialInterval, serialEstimates) = predictRtOnset(caseNumbers, pdelay, failedRunDetection = false)\n",
    "               val stats@RtsDistributionStats(means, hdpis) = distributionStats(rts, estimates)\n",
    "               println(s\"$countryName [done]\")\n",
    "               stats\n",
    "            }\n",
    "            countryName -> possiblyFailed.toEither\n",
    "        }.seq\n",
    "    }\n",
    "    allStats.toMap\n",
    "}"
   ]
  },
  {
   "cell_type": "code",
   "execution_count": 58,
   "metadata": {},
   "outputs": [
    {
     "data": {
      "text/plain": [
       "\u001b[36mfailedToConverge\u001b[39m: \u001b[32mcollection\u001b[39m.\u001b[32mimmutable\u001b[39m.\u001b[32mIterable\u001b[39m[\u001b[32mString\u001b[39m] = \u001b[33mList\u001b[39m()"
      ]
     },
     "execution_count": 58,
     "metadata": {},
     "output_type": "execute_result"
    }
   ],
   "source": [
    "val failedToConverge = countryStatsOnset collect {\n",
    "    case (countryName, res) if res.isLeft => countryName\n",
    "}"
   ]
  },
  {
   "cell_type": "code",
   "execution_count": null,
   "metadata": {
    "scrolled": true
   },
   "outputs": [],
   "source": [
    "{{\n",
    "    val countryName = \"France\"\n",
    "    val onsetNumbers = countriesOnsetData.collect {\n",
    "        case m if m(\"country\") == countryName => m(\"Onset\").toDouble.round\n",
    "    }\n",
    "    val RtModelEstimates(rts,estimates, serialInterval, serialEstimates) = time { \n",
    "        val res = predictRtOnset(onsetNumbers, pdelay, 60, failedRunDetection = false)\n",
    "        res\n",
    "    }\n",
    "    val RtsDistributionStats(means, hdpis) = distributionStats(rts, estimates)\n",
    "    show(\"t\", \"Rt\", line(means), shade(hdpis))\n",
    "//     show(\"serialInterval\", density(serialEstimates))\n",
    "}}"
   ]
  },
  {
   "cell_type": "code",
   "execution_count": null,
   "metadata": {},
   "outputs": [],
   "source": [
    "// co\n",
    "val countriesTriedOneMoreTime = failedToConverge.toSeq.diff(Seq(\"Lithuania\")) map { countryName =>\n",
    "    println(countryName)\n",
    "    val onsetNumbers = countriesOnsetData.collect {\n",
    "        case m if m(\"country\") == countryName => m(\"Onset\").toDouble.round\n",
    "    }\n",
    "    val RtModelEstimates(rts,estimates, serialInterval, serialEstimates) = time { \n",
    "        val res = predictRtOnset(onsetNumbers.takeRight(50), pdelay, failedRunDetection = false)\n",
    "        res\n",
    "    }\n",
    "    countryName -> distributionStats(rts, estimates)\n",
    "}"
   ]
  },
  {
   "cell_type": "code",
   "execution_count": 59,
   "metadata": {},
   "outputs": [
    {
     "data": {
      "text/plain": [
       "\u001b[36mfinalCountryStatsOnset\u001b[39m: \u001b[32mMap\u001b[39m[\u001b[32mString\u001b[39m, \u001b[32mRtsDistributionStats\u001b[39m] = \u001b[33mMap\u001b[39m(\n",
       "  \u001b[32m\"Poland\"\u001b[39m -> \u001b[33mRtsDistributionStats\u001b[39m(\n",
       "    \u001b[33mVector\u001b[39m(\n",
       "      (\u001b[32m0\u001b[39m, \u001b[32m1.4337899065626927\u001b[39m),\n",
       "      (\u001b[32m1\u001b[39m, \u001b[32m1.4336867607866204\u001b[39m),\n",
       "      (\u001b[32m2\u001b[39m, \u001b[32m1.433016672627332\u001b[39m),\n",
       "      (\u001b[32m3\u001b[39m, \u001b[32m1.434588706629662\u001b[39m),\n",
       "      (\u001b[32m4\u001b[39m, \u001b[32m1.43540322483966\u001b[39m),\n",
       "      (\u001b[32m5\u001b[39m, \u001b[32m1.4376859917421654\u001b[39m),\n",
       "      (\u001b[32m6\u001b[39m, \u001b[32m1.4411613699071735\u001b[39m),\n",
       "      (\u001b[32m7\u001b[39m, \u001b[32m1.442181103453762\u001b[39m),\n",
       "      (\u001b[32m8\u001b[39m, \u001b[32m1.4414687264228079\u001b[39m),\n",
       "      (\u001b[32m9\u001b[39m, \u001b[32m1.442447320404932\u001b[39m),\n",
       "      (\u001b[32m10\u001b[39m, \u001b[32m1.4427223990158187\u001b[39m),\n",
       "      (\u001b[32m11\u001b[39m, \u001b[32m1.4421394951839408\u001b[39m),\n",
       "      (\u001b[32m12\u001b[39m, \u001b[32m1.4460127565526257\u001b[39m),\n",
       "      (\u001b[32m13\u001b[39m, \u001b[32m1.4461547971016666\u001b[39m),\n",
       "      (\u001b[32m14\u001b[39m, \u001b[32m1.4444464449473613\u001b[39m),\n",
       "      (\u001b[32m15\u001b[39m, \u001b[32m1.4454571239709428\u001b[39m),\n",
       "      (\u001b[32m16\u001b[39m, \u001b[32m1.4453389107669472\u001b[39m),\n",
       "      (\u001b[32m17\u001b[39m, \u001b[32m1.4430127294056416\u001b[39m),\n",
       "      (\u001b[32m18\u001b[39m, \u001b[32m1.4406159115087926\u001b[39m),\n",
       "      (\u001b[32m19\u001b[39m, \u001b[32m1.4363764732180473\u001b[39m),\n",
       "      (\u001b[32m20\u001b[39m, \u001b[32m1.4337471996638478\u001b[39m),\n",
       "      (\u001b[32m21\u001b[39m, \u001b[32m1.4290912393417872\u001b[39m),\n",
       "      (\u001b[32m22\u001b[39m, \u001b[32m1.4204624265602204\u001b[39m),\n",
       "      (\u001b[32m23\u001b[39m, \u001b[32m1.415042864940889\u001b[39m),\n",
       "      (\u001b[32m24\u001b[39m, \u001b[32m1.4069557883725525\u001b[39m),\n",
       "      (\u001b[32m25\u001b[39m, \u001b[32m1.397059475357083\u001b[39m),\n",
       "      (\u001b[32m26\u001b[39m, \u001b[32m1.3874201383217126\u001b[39m),\n",
       "      (\u001b[32m27\u001b[39m, \u001b[32m1.3782293444841867\u001b[39m),\n",
       "      (\u001b[32m28\u001b[39m, \u001b[32m1.3657875722305386\u001b[39m),\n",
       "      (\u001b[32m29\u001b[39m, \u001b[32m1.3533796662898951\u001b[39m),\n",
       "      (\u001b[32m30\u001b[39m, \u001b[32m1.338067135774999\u001b[39m),\n",
       "      (\u001b[32m31\u001b[39m, \u001b[32m1.324871062468781\u001b[39m),\n",
       "      (\u001b[32m32\u001b[39m, \u001b[32m1.3092371965970533\u001b[39m),\n",
       "      (\u001b[32m33\u001b[39m, \u001b[32m1.2951852836003293\u001b[39m),\n",
       "      (\u001b[32m34\u001b[39m, \u001b[32m1.2776879135843933\u001b[39m),\n",
       "      (\u001b[32m35\u001b[39m, \u001b[32m1.2655538409532134\u001b[39m),\n",
       "..."
      ]
     },
     "execution_count": 59,
     "metadata": {},
     "output_type": "execute_result"
    }
   ],
   "source": [
    "val finalCountryStatsOnset = (countryStatsOnset collect {\n",
    "    case (countryName, Right(stats)) => countryName -> stats\n",
    "})// ++ countriesTriedOneMoreTime"
   ]
  },
  {
   "cell_type": "code",
   "execution_count": 60,
   "metadata": {},
   "outputs": [
    {
     "data": {
      "text/plain": [
       "\u001b[36mcountryStatsOnset\u001b[39m: \u001b[32mMap\u001b[39m[\u001b[32mString\u001b[39m, \u001b[32mRtsDistributionStats\u001b[39m] = \u001b[33mMap\u001b[39m(\n",
       "  \u001b[32m\"Poland\"\u001b[39m -> \u001b[33mRtsDistributionStats\u001b[39m(\n",
       "    \u001b[33mVector\u001b[39m(\n",
       "      (\u001b[32m0\u001b[39m, \u001b[32m1.4337899065626927\u001b[39m),\n",
       "      (\u001b[32m1\u001b[39m, \u001b[32m1.4336867607866204\u001b[39m),\n",
       "      (\u001b[32m2\u001b[39m, \u001b[32m1.433016672627332\u001b[39m),\n",
       "      (\u001b[32m3\u001b[39m, \u001b[32m1.434588706629662\u001b[39m),\n",
       "      (\u001b[32m4\u001b[39m, \u001b[32m1.43540322483966\u001b[39m),\n",
       "      (\u001b[32m5\u001b[39m, \u001b[32m1.4376859917421654\u001b[39m),\n",
       "      (\u001b[32m6\u001b[39m, \u001b[32m1.4411613699071735\u001b[39m),\n",
       "      (\u001b[32m7\u001b[39m, \u001b[32m1.442181103453762\u001b[39m),\n",
       "      (\u001b[32m8\u001b[39m, \u001b[32m1.4414687264228079\u001b[39m),\n",
       "      (\u001b[32m9\u001b[39m, \u001b[32m1.442447320404932\u001b[39m),\n",
       "      (\u001b[32m10\u001b[39m, \u001b[32m1.4427223990158187\u001b[39m),\n",
       "      (\u001b[32m11\u001b[39m, \u001b[32m1.4421394951839408\u001b[39m),\n",
       "      (\u001b[32m12\u001b[39m, \u001b[32m1.4460127565526257\u001b[39m),\n",
       "      (\u001b[32m13\u001b[39m, \u001b[32m1.4461547971016666\u001b[39m),\n",
       "      (\u001b[32m14\u001b[39m, \u001b[32m1.4444464449473613\u001b[39m),\n",
       "      (\u001b[32m15\u001b[39m, \u001b[32m1.4454571239709428\u001b[39m),\n",
       "      (\u001b[32m16\u001b[39m, \u001b[32m1.4453389107669472\u001b[39m),\n",
       "      (\u001b[32m17\u001b[39m, \u001b[32m1.4430127294056416\u001b[39m),\n",
       "      (\u001b[32m18\u001b[39m, \u001b[32m1.4406159115087926\u001b[39m),\n",
       "      (\u001b[32m19\u001b[39m, \u001b[32m1.4363764732180473\u001b[39m),\n",
       "      (\u001b[32m20\u001b[39m, \u001b[32m1.4337471996638478\u001b[39m),\n",
       "      (\u001b[32m21\u001b[39m, \u001b[32m1.4290912393417872\u001b[39m),\n",
       "      (\u001b[32m22\u001b[39m, \u001b[32m1.4204624265602204\u001b[39m),\n",
       "      (\u001b[32m23\u001b[39m, \u001b[32m1.415042864940889\u001b[39m),\n",
       "      (\u001b[32m24\u001b[39m, \u001b[32m1.4069557883725525\u001b[39m),\n",
       "      (\u001b[32m25\u001b[39m, \u001b[32m1.397059475357083\u001b[39m),\n",
       "      (\u001b[32m26\u001b[39m, \u001b[32m1.3874201383217126\u001b[39m),\n",
       "      (\u001b[32m27\u001b[39m, \u001b[32m1.3782293444841867\u001b[39m),\n",
       "      (\u001b[32m28\u001b[39m, \u001b[32m1.3657875722305386\u001b[39m),\n",
       "      (\u001b[32m29\u001b[39m, \u001b[32m1.3533796662898951\u001b[39m),\n",
       "      (\u001b[32m30\u001b[39m, \u001b[32m1.338067135774999\u001b[39m),\n",
       "      (\u001b[32m31\u001b[39m, \u001b[32m1.324871062468781\u001b[39m),\n",
       "      (\u001b[32m32\u001b[39m, \u001b[32m1.3092371965970533\u001b[39m),\n",
       "      (\u001b[32m33\u001b[39m, \u001b[32m1.2951852836003293\u001b[39m),\n",
       "      (\u001b[32m34\u001b[39m, \u001b[32m1.2776879135843933\u001b[39m),\n",
       "      (\u001b[32m35\u001b[39m, \u001b[32m1.2655538409532134\u001b[39m),\n",
       "..."
      ]
     },
     "execution_count": 60,
     "metadata": {},
     "output_type": "execute_result"
    }
   ],
   "source": [
    "// override the previous variable so the rest of the notebook works fine\n",
    "val countryStatsOnset = finalCountryStatsOnset"
   ]
  },
  {
   "cell_type": "code",
   "execution_count": 63,
   "metadata": {
    "scrolled": false
   },
   "outputs": [
    {
     "data": {
      "image/png": "[encoded data removed]"
     },
     "metadata": {
      "height": "1600",
      "width": "1636"
     },
     "output_type": "display_data"
    }
   ],
   "source": [
    "{{\n",
    "    val RtsDistributionStats(means, hdpis) = countryStatsOnset(\"France\")\n",
    "    //  val RtsDistributionStats(means, hdpis) = countryStats(\"Austria\")\n",
    "    show(\"t\", \"Rt\", line(means), shade(hdpis))\n",
    "}}"
   ]
  },
  {
   "cell_type": "code",
   "execution_count": 64,
   "metadata": {},
   "outputs": [
    {
     "data": {
      "text/plain": [
       "defined \u001b[32mfunction\u001b[39m \u001b[36mdatesForCountry\u001b[39m"
      ]
     },
     "execution_count": 64,
     "metadata": {},
     "output_type": "execute_result"
    }
   ],
   "source": [
    "def datesForCountry(country: String) = {\n",
    "    /* countriesSmooth.collect {\n",
    "        case m if m(\"country\") == country => m(\"date\")\n",
    "    }*/\n",
    "    countriesOnsetData.collect {\n",
    "        case m if m(\"country\") == country => m(\"date\")\n",
    "    }\n",
    "}"
   ]
  },
  {
   "cell_type": "code",
   "execution_count": 69,
   "metadata": {},
   "outputs": [
    {
     "data": {
      "text/plain": [
       "defined \u001b[32mfunction\u001b[39m \u001b[36mwriteStatsToCsv\u001b[39m"
      ]
     },
     "execution_count": 69,
     "metadata": {},
     "output_type": "execute_result"
    }
   ],
   "source": [
    "def writeStatsToCsv(country: String, stats: RtsDistributionStats, csvWriter: CSVWriter): Unit = {\n",
    "    val xs = stats.means.unzip._2 zip stats.hdpis.unzip._2\n",
    "    val dates = datesForCountry(country)\n",
    "//     assert(xs.size == dates.size, s\"${xs.size} != ${dates.size}\")\n",
    "    (xs zip dates) foreach {\n",
    "        case ((mean, (low90, high90)), date) => \n",
    "            csvWriter.writeRow(country :: date :: mean.toString :: low90.toString :: high90.toString :: Nil)\n",
    "    }\n",
    "}"
   ]
  },
  {
   "cell_type": "code",
   "execution_count": 70,
   "metadata": {},
   "outputs": [
    {
     "data": {
      "text/plain": [
       "\u001b[36mcsvWriter\u001b[39m: \u001b[32mCSVWriter\u001b[39m = com.github.tototoshi.csv.CSVWriter@525a5f38"
      ]
     },
     "execution_count": 70,
     "metadata": {},
     "output_type": "execute_result"
    }
   ],
   "source": [
    "val csvWriter = CSVWriter.open(new File(\"data/rt-rainierOnset.csv\")) // rt-rainier.csv"
   ]
  },
  {
   "cell_type": "code",
   "execution_count": 71,
   "metadata": {},
   "outputs": [],
   "source": [
    "csvWriter.writeRow(List(\"country\", \"date\", \"ML\", \"Low_90\", \"High_90\"))"
   ]
  },
  {
   "cell_type": "code",
   "execution_count": 72,
   "metadata": {},
   "outputs": [],
   "source": [
    "// countryStats.toList.sortBy(_._1).foreach {\n",
    "countryStatsOnset.toList.sortBy(_._1).foreach {\n",
    "    case (country, stats) => writeStatsToCsv(country, stats, csvWriter)\n",
    "}"
   ]
  },
  {
   "cell_type": "code",
   "execution_count": 73,
   "metadata": {},
   "outputs": [],
   "source": [
    "csvWriter.close()"
   ]
  },
  {
   "cell_type": "markdown",
   "metadata": {},
   "source": [
    "Changes from the original model:\n",
    "* run the markov process with log(R_t) to ensure that it always stays positive\n",
    "* use a Laplace transition to strongly regularize\n",
    "* put a prior on the std dev of the transition, rather than fixing it\n",
    "* put a prior on the serial interval rather than fixing it"
   ]
  },
  {
   "cell_type": "code",
   "execution_count": null,
   "metadata": {},
   "outputs": [],
   "source": [
    "val (model, rts) =  {\n",
    "    val (xs, ys) = data.unzip\n",
    "\n",
    "    val serialInterval = Normal(5,2).latent\n",
    "    val logR0 = Normal(0, 1).latent\n",
    "    val sigma = Exponential(10).latent\n",
    "    val diffs = Laplace(0,sigma).latentVec(data.size)\n",
    "    val logRts = Vec.from(diffs.toList.scanLeft(logR0)(_ + _))\n",
    "    val likelihoods = Vec.from(xs).map{case (i, kt_prev) => \n",
    "        val lambda = ((logRts(i).exp - 1)/serialInterval).exp * kt_prev\n",
    "        Poisson(lambda)\n",
    "    }\n",
    "\n",
    "    (Model.observe(ys, likelihoods), logRts.map(_.exp))\n",
    "}"
   ]
  },
  {
   "cell_type": "markdown",
   "metadata": {},
   "source": [
    "This seems to work best (and fastest) with a dead simple HMC(100) sampler, no mass matrix or path length adapation."
   ]
  },
  {
   "cell_type": "code",
   "execution_count": null,
   "metadata": {},
   "outputs": [],
   "source": [
    "val samplerConfig = new DefaultConfig {\n",
    "    override def massMatrixTuner() = new IdentityMassMatrixTuner\n",
    "    override def sampler() = new HMCSampler(100)\n",
    "}\n",
    "val trace = model.sample(samplerConfig, 2)"
   ]
  },
  {
   "cell_type": "code",
   "execution_count": null,
   "metadata": {},
   "outputs": [],
   "source": [
    "{{\n",
    "    val rtForecasts = trace.predict(rts)\n",
    "    val means = 0.until(rts.size).map{i => (i,mean(rtForecasts.map(_(i))))}\n",
    "    val hdpis = 0.until(rts.size).map{i => (i, hdpi(rtForecasts.map(_(i))))}\n",
    "    show(\"t\", \"Rt\", line(means), shade(hdpis))\n",
    "}}"
   ]
  },
  {
   "cell_type": "code",
   "execution_count": null,
   "metadata": {},
   "outputs": [],
   "source": [
    "rts"
   ]
  },
  {
   "cell_type": "code",
   "execution_count": null,
   "metadata": {},
   "outputs": [],
   "source": []
  }
 ],
 "metadata": {
  "kernelspec": {
   "display_name": "Rainier (Scala 2.12)",
   "language": "scala",
   "name": "rainier"
  },
  "language_info": {
   "codemirror_mode": "text/x-scala",
   "file_extension": ".scala",
   "mimetype": "text/x-scala",
   "name": "scala",
   "nbconvert_exporter": "script",
   "version": "2.12.10"
  }
 },
 "nbformat": 4,
 "nbformat_minor": 2
}

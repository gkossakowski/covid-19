{
 "cells": [
  {
   "cell_type": "markdown",
   "metadata": {},
   "source": [
    "## In this notebook we make basic data processing\n",
    "### As a result we produce three files: cases.csv, pdelay.csv,onset.csv"
   ]
  },
  {
   "cell_type": "code",
   "execution_count": 1,
   "metadata": {},
   "outputs": [],
   "source": [
    "# For some reason Theano is unhappy when I run the GP, need to disable future warnings\n",
    "import warnings\n",
    "warnings.simplefilter(action='ignore', category=FutureWarning)\n",
    "\n",
    "import os\n",
    "import requests\n",
    "import pandas as pd\n",
    "import numpy as np\n",
    "\n",
    "from matplotlib import pyplot as plt\n",
    "from matplotlib import dates as mdates\n",
    "from matplotlib import ticker\n",
    "\n",
    "from datetime import date\n",
    "from datetime import datetime\n",
    "from datetime import timedelta\n",
    "\n",
    "from IPython.display import clear_output\n",
    "\n",
    "%config InlineBackend.figure_format = 'retina'"
   ]
  },
  {
   "cell_type": "code",
   "execution_count": 2,
   "metadata": {},
   "outputs": [],
   "source": [
    "COUNTRIES_INCLUDED = ['Austria', 'Italy', 'Belgium', 'Latvia', 'Bulgaria', 'Lithuania', 'Croatia', 'Luxembourg', \n",
    "                     'Cyprus', 'Malta', 'Czechia', 'Netherlands', 'Denmark', 'Poland', 'Estonia', 'Portugal', \n",
    "                     'Finland', 'Romania', 'France', 'Slovakia', 'Germany', 'Slovenia', 'Greece', 'Spain', \n",
    "                     'Hungary', 'Sweden', 'Ireland', 'Russia', 'Norway', 'Switzerland',\n",
    "                    'United_Kingdom', 'Belarus']"
   ]
  },
  {
   "cell_type": "code",
   "execution_count": 3,
   "metadata": {},
   "outputs": [],
   "source": [
    "url = 'https://opendata.ecdc.europa.eu/covid19/casedistribution/csv/'\n",
    "eu_countries = pd.read_csv(url,\n",
    "                     usecols=['dateRep', 'countriesAndTerritories', 'cases'],\n",
    "                     parse_dates=['dateRep'],dayfirst=True,\n",
    "                     index_col=['countriesAndTerritories', 'dateRep']).sort_index()"
   ]
  },
  {
   "cell_type": "code",
   "execution_count": 4,
   "metadata": {},
   "outputs": [],
   "source": [
    "eu_countries.index.rename(names=['country', 'date'], inplace=True)"
   ]
  },
  {
   "cell_type": "code",
   "execution_count": 5,
   "metadata": {},
   "outputs": [],
   "source": [
    "# the data coming from ECDC starts at different dates for different countries\n",
    "# and many countries have leading zeros for Jan and Feb. Let's set a common cutoff\n",
    "# date for all European countries that simplifies further data processing\n",
    "dates_considered = pd.date_range('02-01-2020', pd.Timestamp.today())"
   ]
  },
  {
   "cell_type": "code",
   "execution_count": 6,
   "metadata": {},
   "outputs": [],
   "source": [
    "targets = eu_countries.index.get_level_values('country').isin(COUNTRIES_INCLUDED)\n",
    "countries = eu_countries[targets]\n",
    "\n",
    "# Cannot really do it using groupby.transform since this intrinsically increases the length\n",
    "def prepare_country(country, data):\n",
    "    dates_old = data.index.get_level_values('date')\n",
    "    # Adding all the dates and zero entries in between non-zero entries (see Poland 03-05, 03-06)\n",
    "    dates_new = pd.date_range(start=dates_old[0],end=dates_old[-1])\n",
    "    newindex = pd.MultiIndex.from_tuples([(country,date) for date in dates_new], names=['country','date'])\n",
    "    return data.reindex(newindex,fill_value=0.0)\n",
    "\n",
    "countries = pd.concat([prepare_country(country,data) for country, data in countries.groupby('country')])"
   ]
  },
  {
   "cell_type": "code",
   "execution_count": 7,
   "metadata": {
    "scrolled": true
   },
   "outputs": [
    {
     "data": {
      "text/html": [
       "<div>\n",
       "<style scoped>\n",
       "    .dataframe tbody tr th:only-of-type {\n",
       "        vertical-align: middle;\n",
       "    }\n",
       "\n",
       "    .dataframe tbody tr th {\n",
       "        vertical-align: top;\n",
       "    }\n",
       "\n",
       "    .dataframe thead th {\n",
       "        text-align: right;\n",
       "    }\n",
       "</style>\n",
       "<table border=\"1\" class=\"dataframe\">\n",
       "  <thead>\n",
       "    <tr style=\"text-align: right;\">\n",
       "      <th></th>\n",
       "      <th>cases</th>\n",
       "    </tr>\n",
       "    <tr>\n",
       "      <th>date</th>\n",
       "      <th></th>\n",
       "    </tr>\n",
       "  </thead>\n",
       "  <tbody>\n",
       "    <tr>\n",
       "      <th>2020-07-25</th>\n",
       "      <td>0</td>\n",
       "    </tr>\n",
       "    <tr>\n",
       "      <th>2020-07-26</th>\n",
       "      <td>0</td>\n",
       "    </tr>\n",
       "    <tr>\n",
       "      <th>2020-07-27</th>\n",
       "      <td>6361</td>\n",
       "    </tr>\n",
       "    <tr>\n",
       "      <th>2020-07-28</th>\n",
       "      <td>1828</td>\n",
       "    </tr>\n",
       "    <tr>\n",
       "      <th>2020-07-29</th>\n",
       "      <td>2031</td>\n",
       "    </tr>\n",
       "    <tr>\n",
       "      <th>2020-07-30</th>\n",
       "      <td>2789</td>\n",
       "    </tr>\n",
       "    <tr>\n",
       "      <th>2020-07-31</th>\n",
       "      <td>3092</td>\n",
       "    </tr>\n",
       "    <tr>\n",
       "      <th>2020-08-01</th>\n",
       "      <td>0</td>\n",
       "    </tr>\n",
       "    <tr>\n",
       "      <th>2020-08-02</th>\n",
       "      <td>0</td>\n",
       "    </tr>\n",
       "    <tr>\n",
       "      <th>2020-08-03</th>\n",
       "      <td>8532</td>\n",
       "    </tr>\n",
       "  </tbody>\n",
       "</table>\n",
       "</div>"
      ],
      "text/plain": [
       "            cases\n",
       "date             \n",
       "2020-07-25      0\n",
       "2020-07-26      0\n",
       "2020-07-27   6361\n",
       "2020-07-28   1828\n",
       "2020-07-29   2031\n",
       "2020-07-30   2789\n",
       "2020-07-31   3092\n",
       "2020-08-01      0\n",
       "2020-08-02      0\n",
       "2020-08-03   8532"
      ]
     },
     "execution_count": 7,
     "metadata": {},
     "output_type": "execute_result"
    }
   ],
   "source": [
    "eu_countries.loc['Spain'].tail(10)"
   ]
  },
  {
   "cell_type": "markdown",
   "metadata": {},
   "source": [
    "# Fix data issues"
   ]
  },
  {
   "cell_type": "code",
   "execution_count": null,
   "metadata": {},
   "outputs": [],
   "source": []
  },
  {
   "cell_type": "code",
   "execution_count": 8,
   "metadata": {},
   "outputs": [],
   "source": [
    "# find and fix outliers using Hampel filter\n",
    "# Impl from: https://towardsdatascience.com/outlier-detection-with-hampel-filter-85ddf523c73d\n",
    "\n",
    "def hampel_filter_pandas(input_series, window_size, n_sigmas=3.0):\n",
    "\n",
    "    k = 1.4826 # scale factor for Gaussian distribution\n",
    "    new_series = input_series.copy()\n",
    "\n",
    "    # helper lambda function \n",
    "    MAD = lambda x: np.median(np.abs(x - np.median(x)))\n",
    "    \n",
    "    # the use of min_periods is to have rolling window extend towards\n",
    "    # the end of the data series; in effect, we can apply hampel filter\n",
    "    # to most recent observations\n",
    "    # taken from: https://stackoverflow.com/questions/48953313/pandas-rolling-window-boundary-on-start-end-of-series/48953314#48953314\n",
    "    rolling_window_size = 2*window_size+1\n",
    "    rolling_median = input_series.rolling(\n",
    "        window=rolling_window_size,\n",
    "        min_periods=(rolling_window_size//2),\n",
    "        center=True).median()\n",
    "    rolling_mad = k * input_series.rolling(\n",
    "        window=rolling_window_size,\n",
    "        min_periods=(rolling_window_size//2),\n",
    "        center=True).apply(MAD)\n",
    "    # print(f'rolling_mad = {rolling_mad}, rolling_median = {rolling_median}')\n",
    "    diff = np.abs(input_series - rolling_median)\n",
    "    \n",
    "    where = diff > (n_sigmas * rolling_mad)\n",
    "    indices = np.argwhere(where.to_numpy()).flatten()\n",
    "    new_series[indices] = rolling_median[indices]\n",
    "    \n",
    "    return new_series, indices"
   ]
  },
  {
   "cell_type": "code",
   "execution_count": 9,
   "metadata": {},
   "outputs": [],
   "source": [
    "def correct_weekend_zeros(country, cases):\n",
    "    # mondays where both proceeding Sat and Sun had 0 cases reported\n",
    "    mondays_after_zeros = cases.loc[\n",
    "        (cases.index.day_name() == 'Monday') &\n",
    "        (cases != 0) &\n",
    "        (cases.shift(1) == 0) & \n",
    "        (cases.shift(2) == 0)\n",
    "    ]\n",
    "    if mondays_after_zeros.empty:\n",
    "        return cases\n",
    "    else:\n",
    "        print(f'[{country}] Correcting weekends marked by these proceeding Mondays: {mondays_after_zeros.index.format()}')\n",
    "    spread = pd.concat([\n",
    "            mondays_after_zeros.shift(-2, freq='D') // 3,\n",
    "            mondays_after_zeros.shift(-1, freq='D') // 3, \n",
    "            mondays_after_zeros // 3\n",
    "    ]).sort_index()\n",
    "    # these two lines should be one-liner but update doesn't have\n",
    "    # inplace=False option\n",
    "    corrected = cases.copy()\n",
    "    corrected.update(spread)\n",
    "    return corrected"
   ]
  },
  {
   "cell_type": "code",
   "execution_count": 10,
   "metadata": {},
   "outputs": [
    {
     "data": {
      "text/plain": [
       "date\n",
       "2020-07-15     875.0\n",
       "2020-07-16    1361.0\n",
       "2020-07-17    1400.0\n",
       "2020-07-18       0.0\n",
       "2020-07-19       0.0\n",
       "2020-07-20    4581.0\n",
       "2020-07-21    1358.0\n",
       "2020-07-22    1357.0\n",
       "2020-07-23    2615.0\n",
       "2020-07-24    2255.0\n",
       "2020-07-25       0.0\n",
       "2020-07-26       0.0\n",
       "2020-07-27    6361.0\n",
       "2020-07-28    1828.0\n",
       "2020-07-29    2031.0\n",
       "2020-07-30    2789.0\n",
       "2020-07-31    3092.0\n",
       "2020-08-01       0.0\n",
       "2020-08-02       0.0\n",
       "2020-08-03    8532.0\n",
       "Name: cases, dtype: float64"
      ]
     },
     "execution_count": 10,
     "metadata": {},
     "output_type": "execute_result"
    }
   ],
   "source": [
    "countries.loc['Spain']['cases'].tail(20)"
   ]
  },
  {
   "cell_type": "code",
   "execution_count": 11,
   "metadata": {},
   "outputs": [
    {
     "data": {
      "text/plain": [
       "date\n",
       "2019-12-31      0.0\n",
       "2020-01-01      0.0\n",
       "2020-01-02      0.0\n",
       "2020-01-03      0.0\n",
       "2020-01-04      0.0\n",
       "              ...  \n",
       "2020-07-31    163.0\n",
       "2020-08-01     89.0\n",
       "2020-08-02    126.0\n",
       "2020-08-03     85.0\n",
       "2020-08-04     32.0\n",
       "Name: cases, Length: 218, dtype: float64"
      ]
     },
     "execution_count": 11,
     "metadata": {},
     "output_type": "execute_result"
    }
   ],
   "source": [
    "correct_weekend_zeros('Austria', countries.loc['Austria']['cases'])"
   ]
  },
  {
   "cell_type": "code",
   "execution_count": 15,
   "metadata": {},
   "outputs": [],
   "source": [
    "def correct_weekends_for_country(df):\n",
    "    # extract country name, this is a really horrible hack and I feel\n",
    "    # like groupby should provide this information convientntly by itself\n",
    "    country = df.index.get_level_values(0)[0]\n",
    "    return correct_weekend_zeros(country, df.droplevel(0))"
   ]
  },
  {
   "cell_type": "code",
   "execution_count": 28,
   "metadata": {},
   "outputs": [],
   "source": [
    "weekend_corrected = countries.copy()"
   ]
  },
  {
   "cell_type": "code",
   "execution_count": 29,
   "metadata": {},
   "outputs": [
    {
     "name": "stdout",
     "output_type": "stream",
     "text": [
      "[Belarus] Correcting weekends marked by these proceeding Mondays: ['2020-03-16']\n",
      "[Belgium] Correcting weekends marked by these proceeding Mondays: ['2020-03-02']\n",
      "[Cyprus] Correcting weekends marked by these proceeding Mondays: ['2020-06-22']\n",
      "[Czechia] Correcting weekends marked by these proceeding Mondays: ['2020-03-02']\n",
      "[France] Correcting weekends marked by these proceeding Mondays: ['2020-02-17']\n",
      "[Greece] Correcting weekends marked by these proceeding Mondays: ['2020-04-20']\n",
      "[Malta] Correcting weekends marked by these proceeding Mondays: ['2020-06-08', '2020-07-20']\n",
      "[Slovenia] Correcting weekends marked by these proceeding Mondays: ['2020-05-25']\n",
      "[Spain] Correcting weekends marked by these proceeding Mondays: ['2020-02-10', '2020-07-06', '2020-07-13', '2020-07-20', '2020-07-27', '2020-08-03']\n",
      "[United_Kingdom] Correcting weekends marked by these proceeding Mondays: ['2020-02-10']\n"
     ]
    }
   ],
   "source": [
    "weekend_corrected['cases'] = countries.groupby('country')['cases'].transform(correct_weekends_for_country)"
   ]
  },
  {
   "cell_type": "code",
   "execution_count": 30,
   "metadata": {},
   "outputs": [
    {
     "data": {
      "text/plain": [
       "date\n",
       "2019-12-31       0.0\n",
       "2020-01-01       0.0\n",
       "2020-01-02       0.0\n",
       "2020-01-03       0.0\n",
       "2020-01-04       0.0\n",
       "               ...  \n",
       "2020-07-30    2789.0\n",
       "2020-07-31    3092.0\n",
       "2020-08-01       0.0\n",
       "2020-08-02       0.0\n",
       "2020-08-03    2410.0\n",
       "Name: cases, Length: 217, dtype: float64"
      ]
     },
     "execution_count": 30,
     "metadata": {},
     "output_type": "execute_result"
    }
   ],
   "source": [
    "transform_cases(countries.loc['Spain']['cases'])"
   ]
  },
  {
   "cell_type": "code",
   "execution_count": 31,
   "metadata": {},
   "outputs": [],
   "source": [
    "def transform_cases(case_series):\n",
    "#     case_series = correct_weekend_zeros(case_series)\n",
    "    filtered, _ = hampel_filter_pandas(case_series, 7, 2.0)\n",
    "    return filtered\n",
    "\n",
    "transformed_cases = weekend_corrected.groupby('country').transform(transform_cases)"
   ]
  },
  {
   "cell_type": "code",
   "execution_count": 32,
   "metadata": {},
   "outputs": [],
   "source": [
    "transformed_cases.to_csv('data/cases.csv')"
   ]
  },
  {
   "cell_type": "code",
   "execution_count": 33,
   "metadata": {},
   "outputs": [
    {
     "data": {
      "text/plain": [
       "<matplotlib.axes._subplots.AxesSubplot at 0x7f8868ea4610>"
      ]
     },
     "execution_count": 33,
     "metadata": {},
     "output_type": "execute_result"
    },
    {
     "data": {
      "image/png": "[encoded data removed]",
      "text/plain": [
       "<Figure size 432x288 with 1 Axes>"
      ]
     },
     "metadata": {
      "image/png": {
       "height": 292,
       "width": 384
      },
      "needs_background": "light"
     },
     "output_type": "display_data"
    }
   ],
   "source": [
    "transformed_cases.loc['Spain'][-20:].plot()"
   ]
  },
  {
   "cell_type": "code",
   "execution_count": 34,
   "metadata": {},
   "outputs": [],
   "source": [
    "countries = transformed_cases"
   ]
  },
  {
   "cell_type": "markdown",
   "metadata": {},
   "source": [
    "### Integrity check"
   ]
  },
  {
   "cell_type": "code",
   "execution_count": 35,
   "metadata": {},
   "outputs": [
    {
     "name": "stdout",
     "output_type": "stream",
     "text": [
      "Not all countries have updated\n",
      "Only Spain didn't update. Spain is a common reporting laggard. Ignoring this errror.\n"
     ]
    }
   ],
   "source": [
    "# Make sure that all the countries have current data\n",
    "today = datetime.combine(date.today(), datetime.min.time())\n",
    "yesterday = datetime.combine(date.today() - timedelta(1), datetime.min.time())\n",
    "last_updated = countries.reset_index('date').groupby('country')['date'].max()\n",
    "is_not_current = last_updated < today\n",
    "failed = False\n",
    "\n",
    "try:\n",
    "    assert is_not_current.sum() == 0\n",
    "except AssertionError:\n",
    "    print(\"Not all countries have updated\")\n",
    "    if (is_not_current.index[is_not_current].tolist() == ['Spain']):\n",
    "        print(\"Only Spain didn't update. Spain is a common reporting laggard. Ignoring this errror.\")\n",
    "    else:\n",
    "        failed = True\n",
    "        display(last_updated[is_not_current])\n",
    "\n",
    "# Ensure all case numbers are greater than zero\n",
    "for country, grp in countries.groupby('country'):\n",
    "    new_cases = grp.cases.dropna()\n",
    "    is_positive = new_cases.ge(0)\n",
    "    \n",
    "    try:\n",
    "        assert is_positive.all()\n",
    "    except AssertionError:\n",
    "        print(f\"Warning: {country} has date with negative case counts\")\n",
    "        failed = True\n",
    "        display(new_cases[~is_positive])\n",
    "        \n",
    "assert not failed, \"Interrupting notebook's execution due to broken data\"\n",
    "        \n",
    "# Let's make sure that countries have added cases\n",
    "# idx = pd.IndexSlice\n",
    "# assert not countries.loc[idx[:, '2020-04-22':'2020-04-23'], 'cases'].groupby('country').diff().dropna().eq(0).any()"
   ]
  },
  {
   "cell_type": "markdown",
   "metadata": {},
   "source": [
    "## Determine end of epidemic"
   ]
  },
  {
   "cell_type": "markdown",
   "metadata": {},
   "source": [
    "Calculate whether an epidemic has ended in the countries we're looking at.\n",
    "\n",
    "Our definition of an epidemic end: **7-day rolling average is below 10.**\n",
    "\n",
    "Save dates when it happened to a csv file for a later use in the frontend."
   ]
  },
  {
   "cell_type": "code",
   "execution_count": 36,
   "metadata": {},
   "outputs": [],
   "source": [
    "# Takes Series as an argument\n",
    "def afterPandemic(data):\n",
    "    dataMeans = data.rolling(window=7).mean()['cases']\n",
    "    afterPandemic = dataMeans[-1] < 10.0\n",
    "    dateAfter = (dataMeans < 10.0)[::-1].idxmin()\n",
    "    return dateAfter if afterPandemic else np.nan\n",
    "    \n",
    "endOfPandemic = pd.DataFrame(transformed_cases.groupby('country').apply(lambda x: afterPandemic(x.droplevel(0))),columns=['endDate'])"
   ]
  },
  {
   "cell_type": "code",
   "execution_count": 37,
   "metadata": {},
   "outputs": [],
   "source": [
    "endOfPandemic.dropna().to_csv('data/end_pandemic.csv',)"
   ]
  },
  {
   "cell_type": "markdown",
   "metadata": {},
   "source": [
    "## Load Patient Information\n",
    "#### Download\n",
    "~100mb download (be ... patient!)"
   ]
  },
  {
   "cell_type": "code",
   "execution_count": 38,
   "metadata": {},
   "outputs": [
    {
     "name": "stdout",
     "output_type": "stream",
     "text": [
      "Already downloaded CSV\n"
     ]
    }
   ],
   "source": [
    "def download_file(url, local_filename):\n",
    "    \"\"\"From https://stackoverflow.com/questions/16694907/\"\"\"\n",
    "    with requests.get(url, stream=True) as r:\n",
    "        r.raise_for_status()\n",
    "        with open(local_filename, 'wb') as f:\n",
    "            for chunk in r.iter_content(chunk_size=8192): \n",
    "                if chunk: # filter out keep-alive new chunks\n",
    "                    f.write(chunk)\n",
    "    return local_filename\n",
    "\n",
    "\n",
    "URL = \"https://raw.githubusercontent.com/beoutbreakprepared/nCoV2019/master/latest_data/linelist.csv\"\n",
    "LINELIST_PATH = 'data/latestdata.csv'\n",
    "\n",
    "if not os.path.exists(LINELIST_PATH):\n",
    "    print('Downloading file, this will take a while ~100mb')\n",
    "    try:\n",
    "        download_file(URL, LINELIST_PATH)\n",
    "        clear_output(wait=True)\n",
    "        print('Done downloading.')\n",
    "    except:\n",
    "        print('Something went wrong. Try again.')\n",
    "else:\n",
    "    print('Already downloaded CSV')"
   ]
  },
  {
   "cell_type": "code",
   "execution_count": 39,
   "metadata": {},
   "outputs": [],
   "source": [
    "# Load the patient CSV\n",
    "patients = pd.read_csv(\n",
    "    'data/linelist.csv',\n",
    "    parse_dates=False,\n",
    "    usecols=[\n",
    "        'date_confirmation',\n",
    "        'date_onset_symptoms'],\n",
    "    low_memory=False)\n",
    "\n",
    "patients.columns = ['Onset', 'Confirmed']\n",
    "\n",
    "# There's an errant reversed date\n",
    "patients = patients.replace('01.31.2020', '31.01.2020')\n",
    "\n",
    "# Only keep if both values are present\n",
    "patients = patients.dropna()\n",
    "\n",
    "# Must have strings that look like individual dates\n",
    "# \"2020.03.09\" is 10 chars long\n",
    "is_ten_char = lambda x: x.str.len().eq(10)\n",
    "patients = patients[is_ten_char(patients.Confirmed) & \n",
    "                    is_ten_char(patients.Onset)]\n",
    "\n",
    "# Convert both to datetimes\n",
    "patients.Confirmed = pd.to_datetime(\n",
    "    patients.Confirmed, format='%d.%m.%Y')\n",
    "patients.Onset = pd.to_datetime(\n",
    "    patients.Onset, format='%d.%m.%Y')\n",
    "\n",
    "# Only keep records where confirmed > onset\n",
    "patients = patients[patients.Confirmed >= patients.Onset]"
   ]
  },
  {
   "cell_type": "code",
   "execution_count": 40,
   "metadata": {},
   "outputs": [
    {
     "data": {
      "image/png": "[encoded data removed]",
      "text/plain": [
       "<Figure size 432x432 with 1 Axes>"
      ]
     },
     "metadata": {
      "image/png": {
       "height": 403,
       "width": 395
      },
      "needs_background": "light"
     },
     "output_type": "display_data"
    }
   ],
   "source": [
    "ax = patients.plot.scatter(\n",
    "    title='Onset vs. Confirmed Dates - COVID19',\n",
    "    x='Onset',\n",
    "    y='Confirmed',\n",
    "    alpha=.1,\n",
    "    lw=0,\n",
    "    s=10,\n",
    "    figsize=(6,6))\n",
    "\n",
    "formatter = mdates.DateFormatter('%m/%d')\n",
    "locator = mdates.WeekdayLocator(interval=2)\n",
    "\n",
    "for axis in [ax.xaxis, ax.yaxis]:\n",
    "    axis.set_major_formatter(formatter)\n",
    "    axis.set_major_locator(locator)"
   ]
  },
  {
   "cell_type": "markdown",
   "metadata": {},
   "source": [
    "## Construction of the delay distribution"
   ]
  },
  {
   "cell_type": "code",
   "execution_count": 41,
   "metadata": {},
   "outputs": [
    {
     "data": {
      "image/png": "[encoded data removed]",
      "text/plain": [
       "<Figure size 648x216 with 2 Axes>"
      ]
     },
     "metadata": {
      "image/png": {
       "height": 233,
       "width": 543
      },
      "needs_background": "light"
     },
     "output_type": "display_data"
    }
   ],
   "source": [
    "# Calculate the delta in days between onset and confirmation\n",
    "delay = (patients.Confirmed - patients.Onset).dt.days\n",
    "\n",
    "# Convert samples to an empirical distribution\n",
    "pdelay = delay.value_counts().sort_index()\n",
    "new_range = np.arange(0, pdelay.index.max()+1)\n",
    "pdelay = pdelay.reindex(new_range, fill_value=0)\n",
    "pdelay /= pdelay.sum()\n",
    "\n",
    "# New version\n",
    "# K = 21 # BOUND FOR THE pdelay\n",
    "# pdelay = delay.value_counts().sort_index()\n",
    "# new_range = np.arange(0, pdelay.index.max()+1)\n",
    "# pdelay = pdelay.reindex(new_range, fill_value=0)\n",
    "# pdelay = pdelay[:K]\n",
    "# pdelay /= pdelay.sum()\n",
    "\n",
    "# Show our work\n",
    "fig, axes = plt.subplots(ncols=2, figsize=(9,3))\n",
    "pdelay.plot(title='P(Delay)', ax=axes[0])\n",
    "pdelay.cumsum().plot(title='P(Delay <= x)', ax=axes[1])\n",
    "for ax in axes:\n",
    "    ax.set_xlabel('days')"
   ]
  },
  {
   "cell_type": "code",
   "execution_count": 42,
   "metadata": {},
   "outputs": [],
   "source": [
    "pdelay_df = pd.DataFrame(pdelay, columns=['pdelay'])\n",
    "pdelay_df.index.name = 'index'\n",
    "pdelay_df.to_csv('data/pdelay.csv')"
   ]
  },
  {
   "cell_type": "markdown",
   "metadata": {},
   "source": [
    "## Onset data"
   ]
  },
  {
   "cell_type": "code",
   "execution_count": 43,
   "metadata": {},
   "outputs": [],
   "source": [
    "# Maps pd.Series to pd.Series indexed by dates_considered\n",
    "def confirmed_to_onset(confirmed, pdelay):\n",
    "    assert not confirmed.isna().any()\n",
    "    # First, we take a convolution with pdelay to distribute the cases confirmed at a certain time\n",
    "    # to the appropriate date of onset; Note that we flip it to get inverse chronological\n",
    "    convolved = np.convolve(confirmed[::-1].values, pdelay)\n",
    "    # then we flip to in order to get chronological\n",
    "    data = convolved[::-1]\n",
    "    first_greater_one = np.flatnonzero(data>=1.0)[0] # First index where the data is >= 1.0\n",
    "    data = data[first_greater_one:] \n",
    "    last_date = confirmed.index[-1]\n",
    "    index = pd.date_range(end=last_date,periods=len(data))\n",
    "    # Since covolution increases the size of the array, we clip the data in order to to fit the index\n",
    "    return pd.Series(data,index=index, name='Onset')"
   ]
  },
  {
   "cell_type": "code",
   "execution_count": 44,
   "metadata": {},
   "outputs": [],
   "source": [
    "country = \"Spain\"\n",
    "data = transformed_cases.loc[country]['cases']\n",
    "onset = confirmed_to_onset(data, pdelay)"
   ]
  },
  {
   "cell_type": "code",
   "execution_count": 45,
   "metadata": {},
   "outputs": [],
   "source": [
    "# Adding pd.DataFrame layer to the result of confirmed_to_onset\n",
    "def process(country, data):\n",
    "    onset = confirmed_to_onset(data['cases'].droplevel(0), pdelay)\n",
    "    newindex = pd.MultiIndex.from_tuples([(country,date) for date in onset.index],names=['country','date'])\n",
    "    return pd.DataFrame(data=onset.values,index=newindex,columns=['Onset'])\n",
    "\n",
    "countries_onset = pd.concat([process(country,data) for country, data in transformed_cases.groupby('country')])"
   ]
  },
  {
   "cell_type": "code",
   "execution_count": 46,
   "metadata": {},
   "outputs": [],
   "source": [
    "countries_onset.to_csv('data/onset.csv')"
   ]
  },
  {
   "cell_type": "code",
   "execution_count": 47,
   "metadata": {},
   "outputs": [],
   "source": [
    "def adjust_onset_for_right_censorship(onset, pdelay):\n",
    "    cumulative_pdelay = pdelay.cumsum()\n",
    "    # Calculate the additional ones needed so shapes match\n",
    "    ones_needed = np.max([len(onset) - len(cumulative_pdelay),0])\n",
    "    padding_shape = (0, ones_needed)\n",
    "    # Add ones and flip back\n",
    "    cumulative_pdelay = np.pad(\n",
    "        cumulative_pdelay,\n",
    "        padding_shape,\n",
    "        constant_values=1)\n",
    "    cumulative_pdelay = np.flip(cumulative_pdelay[:onset.size])\n",
    "    # Adjusts observed onset values to expected terminal onset values\n",
    "    adjusted = onset / cumulative_pdelay\n",
    "    \n",
    "    return adjusted, cumulative_pdelay"
   ]
  },
  {
   "cell_type": "code",
   "execution_count": 48,
   "metadata": {},
   "outputs": [],
   "source": [
    "adjusted, cumulative_pdelay = adjust_onset_for_right_censorship(onset, pdelay)"
   ]
  },
  {
   "cell_type": "code",
   "execution_count": 49,
   "metadata": {},
   "outputs": [
    {
     "data": {
      "image/png": "[encoded data removed]",
      "text/plain": [
       "<Figure size 360x216 with 1 Axes>"
      ]
     },
     "metadata": {
      "image/png": {
       "height": 244,
       "width": 322
      },
      "needs_background": "light"
     },
     "output_type": "display_data"
    }
   ],
   "source": [
    "fig, ax = plt.subplots(figsize=(5,3))\n",
    "\n",
    "confirmed = countries.loc[country]\n",
    "\n",
    "confirmed.plot(\n",
    "    ax=ax,\n",
    "    label='Confirmed',\n",
    "    title=country,\n",
    "    c='k',\n",
    "    alpha=.25,\n",
    "    lw=1,\n",
    "    logy=True)\n",
    "\n",
    "onset.plot(\n",
    "    ax=ax,\n",
    "    label='Onset',\n",
    "    c='k',\n",
    "    lw=1,\n",
    "    logy=True)\n",
    "\n",
    "adjusted.plot(\n",
    "    ax=ax,\n",
    "    label='Adjusted Onset',\n",
    "    c='k',\n",
    "    linestyle='--',\n",
    "    lw=1,\n",
    "    logy=True)\n",
    "\n",
    "ax.legend();"
   ]
  },
  {
   "cell_type": "code",
   "execution_count": null,
   "metadata": {},
   "outputs": [],
   "source": []
  },
  {
   "cell_type": "markdown",
   "metadata": {},
   "source": [
    "## Pandas playground"
   ]
  },
  {
   "cell_type": "code",
   "execution_count": 34,
   "metadata": {},
   "outputs": [],
   "source": [
    "foo_spain = eu_countries.loc['Spain'].tail(40)"
   ]
  },
  {
   "cell_type": "code",
   "execution_count": 35,
   "metadata": {},
   "outputs": [
    {
     "data": {
      "text/html": [
       "<div>\n",
       "<style scoped>\n",
       "    .dataframe tbody tr th:only-of-type {\n",
       "        vertical-align: middle;\n",
       "    }\n",
       "\n",
       "    .dataframe tbody tr th {\n",
       "        vertical-align: top;\n",
       "    }\n",
       "\n",
       "    .dataframe thead th {\n",
       "        text-align: right;\n",
       "    }\n",
       "</style>\n",
       "<table border=\"1\" class=\"dataframe\">\n",
       "  <thead>\n",
       "    <tr style=\"text-align: right;\">\n",
       "      <th></th>\n",
       "      <th>cases</th>\n",
       "    </tr>\n",
       "    <tr>\n",
       "      <th>date</th>\n",
       "      <th></th>\n",
       "    </tr>\n",
       "  </thead>\n",
       "  <tbody>\n",
       "    <tr>\n",
       "      <th>2020-07-17</th>\n",
       "      <td>1400</td>\n",
       "    </tr>\n",
       "    <tr>\n",
       "      <th>2020-07-18</th>\n",
       "      <td>0</td>\n",
       "    </tr>\n",
       "    <tr>\n",
       "      <th>2020-07-19</th>\n",
       "      <td>0</td>\n",
       "    </tr>\n",
       "    <tr>\n",
       "      <th>2020-07-20</th>\n",
       "      <td>4581</td>\n",
       "    </tr>\n",
       "    <tr>\n",
       "      <th>2020-07-21</th>\n",
       "      <td>1358</td>\n",
       "    </tr>\n",
       "    <tr>\n",
       "      <th>2020-07-22</th>\n",
       "      <td>1357</td>\n",
       "    </tr>\n",
       "    <tr>\n",
       "      <th>2020-07-23</th>\n",
       "      <td>2615</td>\n",
       "    </tr>\n",
       "    <tr>\n",
       "      <th>2020-07-24</th>\n",
       "      <td>2255</td>\n",
       "    </tr>\n",
       "    <tr>\n",
       "      <th>2020-07-25</th>\n",
       "      <td>0</td>\n",
       "    </tr>\n",
       "    <tr>\n",
       "      <th>2020-07-26</th>\n",
       "      <td>0</td>\n",
       "    </tr>\n",
       "  </tbody>\n",
       "</table>\n",
       "</div>"
      ],
      "text/plain": [
       "            cases\n",
       "date             \n",
       "2020-07-17   1400\n",
       "2020-07-18      0\n",
       "2020-07-19      0\n",
       "2020-07-20   4581\n",
       "2020-07-21   1358\n",
       "2020-07-22   1357\n",
       "2020-07-23   2615\n",
       "2020-07-24   2255\n",
       "2020-07-25      0\n",
       "2020-07-26      0"
      ]
     },
     "execution_count": 35,
     "metadata": {},
     "output_type": "execute_result"
    }
   ],
   "source": [
    "foo_spain.tail(10)"
   ]
  },
  {
   "cell_type": "code",
   "execution_count": 24,
   "metadata": {},
   "outputs": [],
   "source": [
    "bar = foo_spain.loc[(foo_spain.index.day_name() == 'Monday') & (foo_spain['cases'].shift(1) == 0) & (foo_spain['cases'].shift(2) == 0)]"
   ]
  },
  {
   "cell_type": "code",
   "execution_count": 25,
   "metadata": {},
   "outputs": [
    {
     "data": {
      "text/html": [
       "<div>\n",
       "<style scoped>\n",
       "    .dataframe tbody tr th:only-of-type {\n",
       "        vertical-align: middle;\n",
       "    }\n",
       "\n",
       "    .dataframe tbody tr th {\n",
       "        vertical-align: top;\n",
       "    }\n",
       "\n",
       "    .dataframe thead th {\n",
       "        text-align: right;\n",
       "    }\n",
       "</style>\n",
       "<table border=\"1\" class=\"dataframe\">\n",
       "  <thead>\n",
       "    <tr style=\"text-align: right;\">\n",
       "      <th></th>\n",
       "      <th>cases</th>\n",
       "    </tr>\n",
       "    <tr>\n",
       "      <th>date</th>\n",
       "      <th></th>\n",
       "    </tr>\n",
       "  </thead>\n",
       "  <tbody>\n",
       "    <tr>\n",
       "      <th>2020-07-06</th>\n",
       "      <td>1244</td>\n",
       "    </tr>\n",
       "    <tr>\n",
       "      <th>2020-07-13</th>\n",
       "      <td>2045</td>\n",
       "    </tr>\n",
       "    <tr>\n",
       "      <th>2020-07-20</th>\n",
       "      <td>4581</td>\n",
       "    </tr>\n",
       "  </tbody>\n",
       "</table>\n",
       "</div>"
      ],
      "text/plain": [
       "            cases\n",
       "date             \n",
       "2020-07-06   1244\n",
       "2020-07-13   2045\n",
       "2020-07-20   4581"
      ]
     },
     "execution_count": 25,
     "metadata": {},
     "output_type": "execute_result"
    }
   ],
   "source": [
    "bar"
   ]
  },
  {
   "cell_type": "code",
   "execution_count": 28,
   "metadata": {},
   "outputs": [],
   "source": [
    "baz = pd.concat([bar.shift(-2, freq='D') // 3, bar.shift(-1, freq='D') // 3, bar // 3]).sort_index()"
   ]
  },
  {
   "cell_type": "code",
   "execution_count": 29,
   "metadata": {},
   "outputs": [
    {
     "data": {
      "text/html": [
       "<div>\n",
       "<style scoped>\n",
       "    .dataframe tbody tr th:only-of-type {\n",
       "        vertical-align: middle;\n",
       "    }\n",
       "\n",
       "    .dataframe tbody tr th {\n",
       "        vertical-align: top;\n",
       "    }\n",
       "\n",
       "    .dataframe thead th {\n",
       "        text-align: right;\n",
       "    }\n",
       "</style>\n",
       "<table border=\"1\" class=\"dataframe\">\n",
       "  <thead>\n",
       "    <tr style=\"text-align: right;\">\n",
       "      <th></th>\n",
       "      <th>cases</th>\n",
       "    </tr>\n",
       "    <tr>\n",
       "      <th>date</th>\n",
       "      <th></th>\n",
       "    </tr>\n",
       "  </thead>\n",
       "  <tbody>\n",
       "    <tr>\n",
       "      <th>2020-07-04</th>\n",
       "      <td>414</td>\n",
       "    </tr>\n",
       "    <tr>\n",
       "      <th>2020-07-05</th>\n",
       "      <td>414</td>\n",
       "    </tr>\n",
       "    <tr>\n",
       "      <th>2020-07-06</th>\n",
       "      <td>414</td>\n",
       "    </tr>\n",
       "    <tr>\n",
       "      <th>2020-07-11</th>\n",
       "      <td>681</td>\n",
       "    </tr>\n",
       "    <tr>\n",
       "      <th>2020-07-12</th>\n",
       "      <td>681</td>\n",
       "    </tr>\n",
       "    <tr>\n",
       "      <th>2020-07-13</th>\n",
       "      <td>681</td>\n",
       "    </tr>\n",
       "    <tr>\n",
       "      <th>2020-07-18</th>\n",
       "      <td>1527</td>\n",
       "    </tr>\n",
       "    <tr>\n",
       "      <th>2020-07-19</th>\n",
       "      <td>1527</td>\n",
       "    </tr>\n",
       "    <tr>\n",
       "      <th>2020-07-20</th>\n",
       "      <td>1527</td>\n",
       "    </tr>\n",
       "  </tbody>\n",
       "</table>\n",
       "</div>"
      ],
      "text/plain": [
       "            cases\n",
       "date             \n",
       "2020-07-04    414\n",
       "2020-07-05    414\n",
       "2020-07-06    414\n",
       "2020-07-11    681\n",
       "2020-07-12    681\n",
       "2020-07-13    681\n",
       "2020-07-18   1527\n",
       "2020-07-19   1527\n",
       "2020-07-20   1527"
      ]
     },
     "execution_count": 29,
     "metadata": {},
     "output_type": "execute_result"
    }
   ],
   "source": [
    "baz"
   ]
  },
  {
   "cell_type": "code",
   "execution_count": 30,
   "metadata": {},
   "outputs": [],
   "source": [
    "foo_spain.update(baz)"
   ]
  },
  {
   "cell_type": "code",
   "execution_count": 31,
   "metadata": {},
   "outputs": [
    {
     "data": {
      "text/html": [
       "<div>\n",
       "<style scoped>\n",
       "    .dataframe tbody tr th:only-of-type {\n",
       "        vertical-align: middle;\n",
       "    }\n",
       "\n",
       "    .dataframe tbody tr th {\n",
       "        vertical-align: top;\n",
       "    }\n",
       "\n",
       "    .dataframe thead th {\n",
       "        text-align: right;\n",
       "    }\n",
       "</style>\n",
       "<table border=\"1\" class=\"dataframe\">\n",
       "  <thead>\n",
       "    <tr style=\"text-align: right;\">\n",
       "      <th></th>\n",
       "      <th>cases</th>\n",
       "    </tr>\n",
       "    <tr>\n",
       "      <th>date</th>\n",
       "      <th></th>\n",
       "    </tr>\n",
       "  </thead>\n",
       "  <tbody>\n",
       "    <tr>\n",
       "      <th>2020-06-17</th>\n",
       "      <td>355.0</td>\n",
       "    </tr>\n",
       "    <tr>\n",
       "      <th>2020-06-18</th>\n",
       "      <td>585.0</td>\n",
       "    </tr>\n",
       "    <tr>\n",
       "      <th>2020-06-19</th>\n",
       "      <td>307.0</td>\n",
       "    </tr>\n",
       "    <tr>\n",
       "      <th>2020-06-20</th>\n",
       "      <td>363.0</td>\n",
       "    </tr>\n",
       "    <tr>\n",
       "      <th>2020-06-21</th>\n",
       "      <td>334.0</td>\n",
       "    </tr>\n",
       "    <tr>\n",
       "      <th>2020-06-22</th>\n",
       "      <td>232.0</td>\n",
       "    </tr>\n",
       "    <tr>\n",
       "      <th>2020-06-23</th>\n",
       "      <td>248.0</td>\n",
       "    </tr>\n",
       "    <tr>\n",
       "      <th>2020-06-24</th>\n",
       "      <td>334.0</td>\n",
       "    </tr>\n",
       "    <tr>\n",
       "      <th>2020-06-25</th>\n",
       "      <td>400.0</td>\n",
       "    </tr>\n",
       "    <tr>\n",
       "      <th>2020-06-26</th>\n",
       "      <td>419.0</td>\n",
       "    </tr>\n",
       "    <tr>\n",
       "      <th>2020-06-27</th>\n",
       "      <td>564.0</td>\n",
       "    </tr>\n",
       "    <tr>\n",
       "      <th>2020-06-28</th>\n",
       "      <td>301.0</td>\n",
       "    </tr>\n",
       "    <tr>\n",
       "      <th>2020-06-29</th>\n",
       "      <td>200.0</td>\n",
       "    </tr>\n",
       "    <tr>\n",
       "      <th>2020-06-30</th>\n",
       "      <td>301.0</td>\n",
       "    </tr>\n",
       "    <tr>\n",
       "      <th>2020-07-01</th>\n",
       "      <td>388.0</td>\n",
       "    </tr>\n",
       "    <tr>\n",
       "      <th>2020-07-02</th>\n",
       "      <td>444.0</td>\n",
       "    </tr>\n",
       "    <tr>\n",
       "      <th>2020-07-03</th>\n",
       "      <td>442.0</td>\n",
       "    </tr>\n",
       "    <tr>\n",
       "      <th>2020-07-04</th>\n",
       "      <td>414.0</td>\n",
       "    </tr>\n",
       "    <tr>\n",
       "      <th>2020-07-05</th>\n",
       "      <td>414.0</td>\n",
       "    </tr>\n",
       "    <tr>\n",
       "      <th>2020-07-06</th>\n",
       "      <td>414.0</td>\n",
       "    </tr>\n",
       "    <tr>\n",
       "      <th>2020-07-07</th>\n",
       "      <td>341.0</td>\n",
       "    </tr>\n",
       "    <tr>\n",
       "      <th>2020-07-08</th>\n",
       "      <td>383.0</td>\n",
       "    </tr>\n",
       "    <tr>\n",
       "      <th>2020-07-09</th>\n",
       "      <td>543.0</td>\n",
       "    </tr>\n",
       "    <tr>\n",
       "      <th>2020-07-10</th>\n",
       "      <td>852.0</td>\n",
       "    </tr>\n",
       "    <tr>\n",
       "      <th>2020-07-11</th>\n",
       "      <td>681.0</td>\n",
       "    </tr>\n",
       "    <tr>\n",
       "      <th>2020-07-12</th>\n",
       "      <td>681.0</td>\n",
       "    </tr>\n",
       "    <tr>\n",
       "      <th>2020-07-13</th>\n",
       "      <td>681.0</td>\n",
       "    </tr>\n",
       "    <tr>\n",
       "      <th>2020-07-14</th>\n",
       "      <td>666.0</td>\n",
       "    </tr>\n",
       "    <tr>\n",
       "      <th>2020-07-15</th>\n",
       "      <td>875.0</td>\n",
       "    </tr>\n",
       "    <tr>\n",
       "      <th>2020-07-16</th>\n",
       "      <td>1361.0</td>\n",
       "    </tr>\n",
       "    <tr>\n",
       "      <th>2020-07-17</th>\n",
       "      <td>1400.0</td>\n",
       "    </tr>\n",
       "    <tr>\n",
       "      <th>2020-07-18</th>\n",
       "      <td>1527.0</td>\n",
       "    </tr>\n",
       "    <tr>\n",
       "      <th>2020-07-19</th>\n",
       "      <td>1527.0</td>\n",
       "    </tr>\n",
       "    <tr>\n",
       "      <th>2020-07-20</th>\n",
       "      <td>1527.0</td>\n",
       "    </tr>\n",
       "    <tr>\n",
       "      <th>2020-07-21</th>\n",
       "      <td>1358.0</td>\n",
       "    </tr>\n",
       "    <tr>\n",
       "      <th>2020-07-22</th>\n",
       "      <td>1357.0</td>\n",
       "    </tr>\n",
       "    <tr>\n",
       "      <th>2020-07-23</th>\n",
       "      <td>2615.0</td>\n",
       "    </tr>\n",
       "    <tr>\n",
       "      <th>2020-07-24</th>\n",
       "      <td>2255.0</td>\n",
       "    </tr>\n",
       "    <tr>\n",
       "      <th>2020-07-25</th>\n",
       "      <td>0.0</td>\n",
       "    </tr>\n",
       "    <tr>\n",
       "      <th>2020-07-26</th>\n",
       "      <td>0.0</td>\n",
       "    </tr>\n",
       "  </tbody>\n",
       "</table>\n",
       "</div>"
      ],
      "text/plain": [
       "             cases\n",
       "date              \n",
       "2020-06-17   355.0\n",
       "2020-06-18   585.0\n",
       "2020-06-19   307.0\n",
       "2020-06-20   363.0\n",
       "2020-06-21   334.0\n",
       "2020-06-22   232.0\n",
       "2020-06-23   248.0\n",
       "2020-06-24   334.0\n",
       "2020-06-25   400.0\n",
       "2020-06-26   419.0\n",
       "2020-06-27   564.0\n",
       "2020-06-28   301.0\n",
       "2020-06-29   200.0\n",
       "2020-06-30   301.0\n",
       "2020-07-01   388.0\n",
       "2020-07-02   444.0\n",
       "2020-07-03   442.0\n",
       "2020-07-04   414.0\n",
       "2020-07-05   414.0\n",
       "2020-07-06   414.0\n",
       "2020-07-07   341.0\n",
       "2020-07-08   383.0\n",
       "2020-07-09   543.0\n",
       "2020-07-10   852.0\n",
       "2020-07-11   681.0\n",
       "2020-07-12   681.0\n",
       "2020-07-13   681.0\n",
       "2020-07-14   666.0\n",
       "2020-07-15   875.0\n",
       "2020-07-16  1361.0\n",
       "2020-07-17  1400.0\n",
       "2020-07-18  1527.0\n",
       "2020-07-19  1527.0\n",
       "2020-07-20  1527.0\n",
       "2020-07-21  1358.0\n",
       "2020-07-22  1357.0\n",
       "2020-07-23  2615.0\n",
       "2020-07-24  2255.0\n",
       "2020-07-25     0.0\n",
       "2020-07-26     0.0"
      ]
     },
     "execution_count": 31,
     "metadata": {},
     "output_type": "execute_result"
    }
   ],
   "source": [
    "foo_spain"
   ]
  },
  {
   "cell_type": "code",
   "execution_count": 43,
   "metadata": {},
   "outputs": [],
   "source": [
    "def correct_weekend_zeros(df):\n",
    "    # mondays where both proceeding Sat and Sun had 0 cases reported\n",
    "    mondays_after_zeros = df.loc[\n",
    "        (df.index.day_name() == 'Monday') & \n",
    "        (df['cases'].shift(1) == 0) & \n",
    "        (df['cases'].shift(2) == 0)\n",
    "    ]\n",
    "    print(f'Correcting weekends marked by these proceeding Mondays: {mondays_after_zeros.index.format()}')\n",
    "    spread = pd.concat([\n",
    "            mondays_after_zeros.shift(-2, freq='D') // 3,\n",
    "            mondays_after_zeros.shift(-1, freq='D') // 3, \n",
    "            mondays_after_zeros // 3\n",
    "    ]).sort_index()\n",
    "    corrected = df.copy().update(spread)\n",
    "    return corrected"
   ]
  },
  {
   "cell_type": "code",
   "execution_count": 44,
   "metadata": {},
   "outputs": [
    {
     "name": "stdout",
     "output_type": "stream",
     "text": [
      "Correcting weekends marked by these proceeding Mondays: ['2020-07-06', '2020-07-13', '2020-07-20']\n"
     ]
    }
   ],
   "source": [
    "correct_weekend_zeros(foo_spain)"
   ]
  },
  {
   "cell_type": "code",
   "execution_count": null,
   "metadata": {},
   "outputs": [],
   "source": []
  }
 ],
 "metadata": {
  "kernelspec": {
   "display_name": "Python 3",
   "language": "python",
   "name": "python3"
  },
  "language_info": {
   "codemirror_mode": {
    "name": "ipython",
    "version": 3
   },
   "file_extension": ".py",
   "mimetype": "text/x-python",
   "name": "python",
   "nbconvert_exporter": "python",
   "pygments_lexer": "ipython3",
   "version": "3.8.2"
  }
 },
 "nbformat": 4,
 "nbformat_minor": 4
}
